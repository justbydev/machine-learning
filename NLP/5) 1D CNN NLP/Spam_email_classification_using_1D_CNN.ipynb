{
  "nbformat": 4,
  "nbformat_minor": 0,
  "metadata": {
    "colab": {
      "name": "Untitled10.ipynb",
      "provenance": [],
      "authorship_tag": "ABX9TyObMsWt03+rluPI5RyQP+pD"
    },
    "kernelspec": {
      "name": "python3",
      "display_name": "Python 3"
    },
    "accelerator": "GPU"
  },
  "cells": [
    {
      "cell_type": "markdown",
      "metadata": {
        "id": "cfNXkHUIPBJQ"
      },
      "source": [
        "1D CNN 이용한 스펨 메일 분류<br>\r\n",
        "참고 자료: https://wikidocs.net/80787"
      ]
    },
    {
      "cell_type": "code",
      "metadata": {
        "colab": {
          "base_uri": "https://localhost:8080/"
        },
        "id": "miLi7RuGKGeG",
        "outputId": "57e006f0-0656-4146-dff4-29581aa78d6b"
      },
      "source": [
        "import nltk\r\n",
        "nltk.download('punkt')\r\n",
        "import urllib.request"
      ],
      "execution_count": 1,
      "outputs": [
        {
          "output_type": "stream",
          "text": [
            "[nltk_data] Downloading package punkt to /root/nltk_data...\n",
            "[nltk_data]   Unzipping tokenizers/punkt.zip.\n"
          ],
          "name": "stdout"
        }
      ]
    },
    {
      "cell_type": "code",
      "metadata": {
        "id": "KX41Z4HAKmJx"
      },
      "source": [
        "import numpy as np\r\n",
        "import pandas as pd"
      ],
      "execution_count": 2,
      "outputs": []
    },
    {
      "cell_type": "markdown",
      "metadata": {
        "id": "rMkKloN-Kofy"
      },
      "source": [
        "케라스에서 제공하는 스팸 메일 데이터 사용<br>\r\n",
        "https://www.kaggle.com/uciml/sms-spam-collection-dataset"
      ]
    },
    {
      "cell_type": "code",
      "metadata": {
        "id": "BlTUwzJgKqJL"
      },
      "source": [
        "urllib.request.urlretrieve(\"https://raw.githubusercontent.com/mohitgupta-omg/Kaggle-SMS-Spam-Collection-Dataset-/master/spam.csv\", filename=\"spam.csv\")\r\n",
        "data = pd.read_csv('spam.csv',encoding='latin1')"
      ],
      "execution_count": 3,
      "outputs": []
    },
    {
      "cell_type": "code",
      "metadata": {
        "colab": {
          "base_uri": "https://localhost:8080/",
          "height": 262
        },
        "id": "-qCn-tEyKuud",
        "outputId": "a4efbfe5-7b6c-468f-87a6-49171375bb37"
      },
      "source": [
        "data[:5]"
      ],
      "execution_count": 4,
      "outputs": [
        {
          "output_type": "execute_result",
          "data": {
            "text/html": [
              "<div>\n",
              "<style scoped>\n",
              "    .dataframe tbody tr th:only-of-type {\n",
              "        vertical-align: middle;\n",
              "    }\n",
              "\n",
              "    .dataframe tbody tr th {\n",
              "        vertical-align: top;\n",
              "    }\n",
              "\n",
              "    .dataframe thead th {\n",
              "        text-align: right;\n",
              "    }\n",
              "</style>\n",
              "<table border=\"1\" class=\"dataframe\">\n",
              "  <thead>\n",
              "    <tr style=\"text-align: right;\">\n",
              "      <th></th>\n",
              "      <th>v1</th>\n",
              "      <th>v2</th>\n",
              "      <th>Unnamed: 2</th>\n",
              "      <th>Unnamed: 3</th>\n",
              "      <th>Unnamed: 4</th>\n",
              "    </tr>\n",
              "  </thead>\n",
              "  <tbody>\n",
              "    <tr>\n",
              "      <th>0</th>\n",
              "      <td>ham</td>\n",
              "      <td>Go until jurong point, crazy.. Available only ...</td>\n",
              "      <td>NaN</td>\n",
              "      <td>NaN</td>\n",
              "      <td>NaN</td>\n",
              "    </tr>\n",
              "    <tr>\n",
              "      <th>1</th>\n",
              "      <td>ham</td>\n",
              "      <td>Ok lar... Joking wif u oni...</td>\n",
              "      <td>NaN</td>\n",
              "      <td>NaN</td>\n",
              "      <td>NaN</td>\n",
              "    </tr>\n",
              "    <tr>\n",
              "      <th>2</th>\n",
              "      <td>spam</td>\n",
              "      <td>Free entry in 2 a wkly comp to win FA Cup fina...</td>\n",
              "      <td>NaN</td>\n",
              "      <td>NaN</td>\n",
              "      <td>NaN</td>\n",
              "    </tr>\n",
              "    <tr>\n",
              "      <th>3</th>\n",
              "      <td>ham</td>\n",
              "      <td>U dun say so early hor... U c already then say...</td>\n",
              "      <td>NaN</td>\n",
              "      <td>NaN</td>\n",
              "      <td>NaN</td>\n",
              "    </tr>\n",
              "    <tr>\n",
              "      <th>4</th>\n",
              "      <td>ham</td>\n",
              "      <td>Nah I don't think he goes to usf, he lives aro...</td>\n",
              "      <td>NaN</td>\n",
              "      <td>NaN</td>\n",
              "      <td>NaN</td>\n",
              "    </tr>\n",
              "  </tbody>\n",
              "</table>\n",
              "</div>"
            ],
            "text/plain": [
              "     v1  ... Unnamed: 4\n",
              "0   ham  ...        NaN\n",
              "1   ham  ...        NaN\n",
              "2  spam  ...        NaN\n",
              "3   ham  ...        NaN\n",
              "4   ham  ...        NaN\n",
              "\n",
              "[5 rows x 5 columns]"
            ]
          },
          "metadata": {
            "tags": []
          },
          "execution_count": 4
        }
      ]
    },
    {
      "cell_type": "markdown",
      "metadata": {
        "id": "WuYlZMb0Kxdq"
      },
      "source": [
        "Unnamed2, Unnamed3, Unnaed4 제거"
      ]
    },
    {
      "cell_type": "code",
      "metadata": {
        "id": "Wim4QgXyKyw_"
      },
      "source": [
        "del data['Unnamed: 2']\r\n",
        "del data['Unnamed: 3']\r\n",
        "del data['Unnamed: 4']\r\n",
        "data['v1']=data['v1'].replace(['ham', 'spam'], [0, 1])"
      ],
      "execution_count": 5,
      "outputs": []
    },
    {
      "cell_type": "code",
      "metadata": {
        "colab": {
          "base_uri": "https://localhost:8080/",
          "height": 195
        },
        "id": "NvXv5ehTK1iG",
        "outputId": "2e3b8cc4-5bdd-469d-b07a-249fae6eced7"
      },
      "source": [
        "data[:5]"
      ],
      "execution_count": 6,
      "outputs": [
        {
          "output_type": "execute_result",
          "data": {
            "text/html": [
              "<div>\n",
              "<style scoped>\n",
              "    .dataframe tbody tr th:only-of-type {\n",
              "        vertical-align: middle;\n",
              "    }\n",
              "\n",
              "    .dataframe tbody tr th {\n",
              "        vertical-align: top;\n",
              "    }\n",
              "\n",
              "    .dataframe thead th {\n",
              "        text-align: right;\n",
              "    }\n",
              "</style>\n",
              "<table border=\"1\" class=\"dataframe\">\n",
              "  <thead>\n",
              "    <tr style=\"text-align: right;\">\n",
              "      <th></th>\n",
              "      <th>v1</th>\n",
              "      <th>v2</th>\n",
              "    </tr>\n",
              "  </thead>\n",
              "  <tbody>\n",
              "    <tr>\n",
              "      <th>0</th>\n",
              "      <td>0</td>\n",
              "      <td>Go until jurong point, crazy.. Available only ...</td>\n",
              "    </tr>\n",
              "    <tr>\n",
              "      <th>1</th>\n",
              "      <td>0</td>\n",
              "      <td>Ok lar... Joking wif u oni...</td>\n",
              "    </tr>\n",
              "    <tr>\n",
              "      <th>2</th>\n",
              "      <td>1</td>\n",
              "      <td>Free entry in 2 a wkly comp to win FA Cup fina...</td>\n",
              "    </tr>\n",
              "    <tr>\n",
              "      <th>3</th>\n",
              "      <td>0</td>\n",
              "      <td>U dun say so early hor... U c already then say...</td>\n",
              "    </tr>\n",
              "    <tr>\n",
              "      <th>4</th>\n",
              "      <td>0</td>\n",
              "      <td>Nah I don't think he goes to usf, he lives aro...</td>\n",
              "    </tr>\n",
              "  </tbody>\n",
              "</table>\n",
              "</div>"
            ],
            "text/plain": [
              "   v1                                                 v2\n",
              "0   0  Go until jurong point, crazy.. Available only ...\n",
              "1   0                      Ok lar... Joking wif u oni...\n",
              "2   1  Free entry in 2 a wkly comp to win FA Cup fina...\n",
              "3   0  U dun say so early hor... U c already then say...\n",
              "4   0  Nah I don't think he goes to usf, he lives aro..."
            ]
          },
          "metadata": {
            "tags": []
          },
          "execution_count": 6
        }
      ]
    },
    {
      "cell_type": "markdown",
      "metadata": {
        "id": "X7g85GMmK4H8"
      },
      "source": [
        "데이터 전처리<br><br>\r\n",
        "1) 대소문자 변경(정제 과정)"
      ]
    },
    {
      "cell_type": "code",
      "metadata": {
        "colab": {
          "base_uri": "https://localhost:8080/",
          "height": 303
        },
        "id": "rH1n3vaYK848",
        "outputId": "469beaf6-7e9e-4584-a478-c34ef368693d"
      },
      "source": [
        "for i in range(data.shape[0]):\r\n",
        "  data['v2'][i]=data['v2'][i].lower()\r\n",
        "data[:5]"
      ],
      "execution_count": 8,
      "outputs": [
        {
          "output_type": "stream",
          "text": [
            "/usr/local/lib/python3.6/dist-packages/ipykernel_launcher.py:2: SettingWithCopyWarning: \n",
            "A value is trying to be set on a copy of a slice from a DataFrame\n",
            "\n",
            "See the caveats in the documentation: https://pandas.pydata.org/pandas-docs/stable/user_guide/indexing.html#returning-a-view-versus-a-copy\n",
            "  \n"
          ],
          "name": "stderr"
        },
        {
          "output_type": "execute_result",
          "data": {
            "text/html": [
              "<div>\n",
              "<style scoped>\n",
              "    .dataframe tbody tr th:only-of-type {\n",
              "        vertical-align: middle;\n",
              "    }\n",
              "\n",
              "    .dataframe tbody tr th {\n",
              "        vertical-align: top;\n",
              "    }\n",
              "\n",
              "    .dataframe thead th {\n",
              "        text-align: right;\n",
              "    }\n",
              "</style>\n",
              "<table border=\"1\" class=\"dataframe\">\n",
              "  <thead>\n",
              "    <tr style=\"text-align: right;\">\n",
              "      <th></th>\n",
              "      <th>v1</th>\n",
              "      <th>v2</th>\n",
              "    </tr>\n",
              "  </thead>\n",
              "  <tbody>\n",
              "    <tr>\n",
              "      <th>0</th>\n",
              "      <td>0</td>\n",
              "      <td>go until jurong point, crazy.. available only ...</td>\n",
              "    </tr>\n",
              "    <tr>\n",
              "      <th>1</th>\n",
              "      <td>0</td>\n",
              "      <td>ok lar... joking wif u oni...</td>\n",
              "    </tr>\n",
              "    <tr>\n",
              "      <th>2</th>\n",
              "      <td>1</td>\n",
              "      <td>free entry in 2 a wkly comp to win fa cup fina...</td>\n",
              "    </tr>\n",
              "    <tr>\n",
              "      <th>3</th>\n",
              "      <td>0</td>\n",
              "      <td>u dun say so early hor... u c already then say...</td>\n",
              "    </tr>\n",
              "    <tr>\n",
              "      <th>4</th>\n",
              "      <td>0</td>\n",
              "      <td>nah i don't think he goes to usf, he lives aro...</td>\n",
              "    </tr>\n",
              "  </tbody>\n",
              "</table>\n",
              "</div>"
            ],
            "text/plain": [
              "   v1                                                 v2\n",
              "0   0  go until jurong point, crazy.. available only ...\n",
              "1   0                      ok lar... joking wif u oni...\n",
              "2   1  free entry in 2 a wkly comp to win fa cup fina...\n",
              "3   0  u dun say so early hor... u c already then say...\n",
              "4   0  nah i don't think he goes to usf, he lives aro..."
            ]
          },
          "metadata": {
            "tags": []
          },
          "execution_count": 8
        }
      ]
    },
    {
      "cell_type": "markdown",
      "metadata": {
        "id": "JZqw9dHXLEh6"
      },
      "source": [
        "2) 구두점 제거(정제 과정)"
      ]
    },
    {
      "cell_type": "code",
      "metadata": {
        "colab": {
          "base_uri": "https://localhost:8080/",
          "height": 303
        },
        "id": "Wp3xgxEVLDCj",
        "outputId": "d55a7ead-600d-45c9-a69e-adbe39ec513a"
      },
      "source": [
        "import re\r\n",
        "for i in range(data.shape[0]):\r\n",
        "  data['v2'][i]=re.sub('[-=+,#/\\?:^$.@*\\\"※~&%ㆍ!』\\\\‘|\\(\\)\\[\\]\\<\\>`\\'…》;]', '', data['v2'][i])\r\n",
        "data[:5]"
      ],
      "execution_count": 9,
      "outputs": [
        {
          "output_type": "stream",
          "text": [
            "/usr/local/lib/python3.6/dist-packages/ipykernel_launcher.py:3: SettingWithCopyWarning: \n",
            "A value is trying to be set on a copy of a slice from a DataFrame\n",
            "\n",
            "See the caveats in the documentation: https://pandas.pydata.org/pandas-docs/stable/user_guide/indexing.html#returning-a-view-versus-a-copy\n",
            "  This is separate from the ipykernel package so we can avoid doing imports until\n"
          ],
          "name": "stderr"
        },
        {
          "output_type": "execute_result",
          "data": {
            "text/html": [
              "<div>\n",
              "<style scoped>\n",
              "    .dataframe tbody tr th:only-of-type {\n",
              "        vertical-align: middle;\n",
              "    }\n",
              "\n",
              "    .dataframe tbody tr th {\n",
              "        vertical-align: top;\n",
              "    }\n",
              "\n",
              "    .dataframe thead th {\n",
              "        text-align: right;\n",
              "    }\n",
              "</style>\n",
              "<table border=\"1\" class=\"dataframe\">\n",
              "  <thead>\n",
              "    <tr style=\"text-align: right;\">\n",
              "      <th></th>\n",
              "      <th>v1</th>\n",
              "      <th>v2</th>\n",
              "    </tr>\n",
              "  </thead>\n",
              "  <tbody>\n",
              "    <tr>\n",
              "      <th>0</th>\n",
              "      <td>0</td>\n",
              "      <td>go until jurong point crazy available only in ...</td>\n",
              "    </tr>\n",
              "    <tr>\n",
              "      <th>1</th>\n",
              "      <td>0</td>\n",
              "      <td>ok lar joking wif u oni</td>\n",
              "    </tr>\n",
              "    <tr>\n",
              "      <th>2</th>\n",
              "      <td>1</td>\n",
              "      <td>free entry in 2 a wkly comp to win fa cup fina...</td>\n",
              "    </tr>\n",
              "    <tr>\n",
              "      <th>3</th>\n",
              "      <td>0</td>\n",
              "      <td>u dun say so early hor u c already then say</td>\n",
              "    </tr>\n",
              "    <tr>\n",
              "      <th>4</th>\n",
              "      <td>0</td>\n",
              "      <td>nah i dont think he goes to usf he lives aroun...</td>\n",
              "    </tr>\n",
              "  </tbody>\n",
              "</table>\n",
              "</div>"
            ],
            "text/plain": [
              "   v1                                                 v2\n",
              "0   0  go until jurong point crazy available only in ...\n",
              "1   0                            ok lar joking wif u oni\n",
              "2   1  free entry in 2 a wkly comp to win fa cup fina...\n",
              "3   0        u dun say so early hor u c already then say\n",
              "4   0  nah i dont think he goes to usf he lives aroun..."
            ]
          },
          "metadata": {
            "tags": []
          },
          "execution_count": 9
        }
      ]
    },
    {
      "cell_type": "markdown",
      "metadata": {
        "id": "NnVkqNSELJ7c"
      },
      "source": [
        "3) 길이가 2 이하인 단어 제거(정제 과정)"
      ]
    },
    {
      "cell_type": "code",
      "metadata": {
        "colab": {
          "base_uri": "https://localhost:8080/",
          "height": 303
        },
        "id": "d62GH-g-LM-u",
        "outputId": "e6c82b30-85d2-4355-dcac-4f860fb7c634"
      },
      "source": [
        "for i in range(data.shape[0]):\r\n",
        "  shortword = re.compile(r'\\W*\\b\\w{1,2}\\b')\r\n",
        "  data['v2'][i]=shortword.sub('', data['v2'][i])\r\n",
        "data[:5]"
      ],
      "execution_count": 10,
      "outputs": [
        {
          "output_type": "stream",
          "text": [
            "/usr/local/lib/python3.6/dist-packages/ipykernel_launcher.py:3: SettingWithCopyWarning: \n",
            "A value is trying to be set on a copy of a slice from a DataFrame\n",
            "\n",
            "See the caveats in the documentation: https://pandas.pydata.org/pandas-docs/stable/user_guide/indexing.html#returning-a-view-versus-a-copy\n",
            "  This is separate from the ipykernel package so we can avoid doing imports until\n"
          ],
          "name": "stderr"
        },
        {
          "output_type": "execute_result",
          "data": {
            "text/html": [
              "<div>\n",
              "<style scoped>\n",
              "    .dataframe tbody tr th:only-of-type {\n",
              "        vertical-align: middle;\n",
              "    }\n",
              "\n",
              "    .dataframe tbody tr th {\n",
              "        vertical-align: top;\n",
              "    }\n",
              "\n",
              "    .dataframe thead th {\n",
              "        text-align: right;\n",
              "    }\n",
              "</style>\n",
              "<table border=\"1\" class=\"dataframe\">\n",
              "  <thead>\n",
              "    <tr style=\"text-align: right;\">\n",
              "      <th></th>\n",
              "      <th>v1</th>\n",
              "      <th>v2</th>\n",
              "    </tr>\n",
              "  </thead>\n",
              "  <tbody>\n",
              "    <tr>\n",
              "      <th>0</th>\n",
              "      <td>0</td>\n",
              "      <td>until jurong point crazy available only bugis...</td>\n",
              "    </tr>\n",
              "    <tr>\n",
              "      <th>1</th>\n",
              "      <td>0</td>\n",
              "      <td>lar joking wif oni</td>\n",
              "    </tr>\n",
              "    <tr>\n",
              "      <th>2</th>\n",
              "      <td>1</td>\n",
              "      <td>free entry wkly comp win cup final tkts 21st m...</td>\n",
              "    </tr>\n",
              "    <tr>\n",
              "      <th>3</th>\n",
              "      <td>0</td>\n",
              "      <td>dun say early hor already then say</td>\n",
              "    </tr>\n",
              "    <tr>\n",
              "      <th>4</th>\n",
              "      <td>0</td>\n",
              "      <td>nah dont think goes usf lives around here though</td>\n",
              "    </tr>\n",
              "  </tbody>\n",
              "</table>\n",
              "</div>"
            ],
            "text/plain": [
              "   v1                                                 v2\n",
              "0   0   until jurong point crazy available only bugis...\n",
              "1   0                                 lar joking wif oni\n",
              "2   1  free entry wkly comp win cup final tkts 21st m...\n",
              "3   0                 dun say early hor already then say\n",
              "4   0   nah dont think goes usf lives around here though"
            ]
          },
          "metadata": {
            "tags": []
          },
          "execution_count": 10
        }
      ]
    },
    {
      "cell_type": "markdown",
      "metadata": {
        "id": "M1IaiI18LSlg"
      },
      "source": [
        "4) 단어 토큰화"
      ]
    },
    {
      "cell_type": "code",
      "metadata": {
        "colab": {
          "base_uri": "https://localhost:8080/",
          "height": 303
        },
        "id": "eYOfj1OoLUEz",
        "outputId": "b0960639-b506-4a7a-fc9d-2ba6af4a12b7"
      },
      "source": [
        "from nltk.tokenize import word_tokenize\r\n",
        "for i in range(data.shape[0]):\r\n",
        "  data['v2'][i]=word_tokenize(data['v2'][i])\r\n",
        "data[:5]"
      ],
      "execution_count": 11,
      "outputs": [
        {
          "output_type": "stream",
          "text": [
            "/usr/local/lib/python3.6/dist-packages/ipykernel_launcher.py:3: SettingWithCopyWarning: \n",
            "A value is trying to be set on a copy of a slice from a DataFrame\n",
            "\n",
            "See the caveats in the documentation: https://pandas.pydata.org/pandas-docs/stable/user_guide/indexing.html#returning-a-view-versus-a-copy\n",
            "  This is separate from the ipykernel package so we can avoid doing imports until\n"
          ],
          "name": "stderr"
        },
        {
          "output_type": "execute_result",
          "data": {
            "text/html": [
              "<div>\n",
              "<style scoped>\n",
              "    .dataframe tbody tr th:only-of-type {\n",
              "        vertical-align: middle;\n",
              "    }\n",
              "\n",
              "    .dataframe tbody tr th {\n",
              "        vertical-align: top;\n",
              "    }\n",
              "\n",
              "    .dataframe thead th {\n",
              "        text-align: right;\n",
              "    }\n",
              "</style>\n",
              "<table border=\"1\" class=\"dataframe\">\n",
              "  <thead>\n",
              "    <tr style=\"text-align: right;\">\n",
              "      <th></th>\n",
              "      <th>v1</th>\n",
              "      <th>v2</th>\n",
              "    </tr>\n",
              "  </thead>\n",
              "  <tbody>\n",
              "    <tr>\n",
              "      <th>0</th>\n",
              "      <td>0</td>\n",
              "      <td>[until, jurong, point, crazy, available, only,...</td>\n",
              "    </tr>\n",
              "    <tr>\n",
              "      <th>1</th>\n",
              "      <td>0</td>\n",
              "      <td>[lar, joking, wif, oni]</td>\n",
              "    </tr>\n",
              "    <tr>\n",
              "      <th>2</th>\n",
              "      <td>1</td>\n",
              "      <td>[free, entry, wkly, comp, win, cup, final, tkt...</td>\n",
              "    </tr>\n",
              "    <tr>\n",
              "      <th>3</th>\n",
              "      <td>0</td>\n",
              "      <td>[dun, say, early, hor, already, then, say]</td>\n",
              "    </tr>\n",
              "    <tr>\n",
              "      <th>4</th>\n",
              "      <td>0</td>\n",
              "      <td>[nah, dont, think, goes, usf, lives, around, h...</td>\n",
              "    </tr>\n",
              "  </tbody>\n",
              "</table>\n",
              "</div>"
            ],
            "text/plain": [
              "   v1                                                 v2\n",
              "0   0  [until, jurong, point, crazy, available, only,...\n",
              "1   0                            [lar, joking, wif, oni]\n",
              "2   1  [free, entry, wkly, comp, win, cup, final, tkt...\n",
              "3   0         [dun, say, early, hor, already, then, say]\n",
              "4   0  [nah, dont, think, goes, usf, lives, around, h..."
            ]
          },
          "metadata": {
            "tags": []
          },
          "execution_count": 11
        }
      ]
    },
    {
      "cell_type": "markdown",
      "metadata": {
        "id": "JpvSZiAJLZoy"
      },
      "source": [
        "5) 불용어(stopwords) 제거"
      ]
    },
    {
      "cell_type": "code",
      "metadata": {
        "colab": {
          "base_uri": "https://localhost:8080/"
        },
        "id": "ixOfw38VLcw4",
        "outputId": "53c79d98-476b-4566-ceac-0a8c86c54500"
      },
      "source": [
        "nltk.download('stopwords')"
      ],
      "execution_count": 12,
      "outputs": [
        {
          "output_type": "stream",
          "text": [
            "[nltk_data] Downloading package stopwords to /root/nltk_data...\n",
            "[nltk_data]   Unzipping corpora/stopwords.zip.\n"
          ],
          "name": "stdout"
        },
        {
          "output_type": "execute_result",
          "data": {
            "text/plain": [
              "True"
            ]
          },
          "metadata": {
            "tags": []
          },
          "execution_count": 12
        }
      ]
    },
    {
      "cell_type": "code",
      "metadata": {
        "colab": {
          "base_uri": "https://localhost:8080/",
          "height": 303
        },
        "id": "KatJviqvLkLA",
        "outputId": "b1892a38-dd9d-4290-b335-04aeb17c124a"
      },
      "source": [
        "from nltk.corpus import stopwords\r\n",
        "stop_words=stopwords.words('english')\r\n",
        "for i in range(data.shape[0]):\r\n",
        "  tmp=[]\r\n",
        "  for w in data['v2'][i]:\r\n",
        "    if w not in stop_words:\r\n",
        "      tmp.append(w)\r\n",
        "  data['v2'][i]=tmp\r\n",
        "data[:5]"
      ],
      "execution_count": 13,
      "outputs": [
        {
          "output_type": "stream",
          "text": [
            "/usr/local/lib/python3.6/dist-packages/ipykernel_launcher.py:8: SettingWithCopyWarning: \n",
            "A value is trying to be set on a copy of a slice from a DataFrame\n",
            "\n",
            "See the caveats in the documentation: https://pandas.pydata.org/pandas-docs/stable/user_guide/indexing.html#returning-a-view-versus-a-copy\n",
            "  \n"
          ],
          "name": "stderr"
        },
        {
          "output_type": "execute_result",
          "data": {
            "text/html": [
              "<div>\n",
              "<style scoped>\n",
              "    .dataframe tbody tr th:only-of-type {\n",
              "        vertical-align: middle;\n",
              "    }\n",
              "\n",
              "    .dataframe tbody tr th {\n",
              "        vertical-align: top;\n",
              "    }\n",
              "\n",
              "    .dataframe thead th {\n",
              "        text-align: right;\n",
              "    }\n",
              "</style>\n",
              "<table border=\"1\" class=\"dataframe\">\n",
              "  <thead>\n",
              "    <tr style=\"text-align: right;\">\n",
              "      <th></th>\n",
              "      <th>v1</th>\n",
              "      <th>v2</th>\n",
              "    </tr>\n",
              "  </thead>\n",
              "  <tbody>\n",
              "    <tr>\n",
              "      <th>0</th>\n",
              "      <td>0</td>\n",
              "      <td>[jurong, point, crazy, available, bugis, great...</td>\n",
              "    </tr>\n",
              "    <tr>\n",
              "      <th>1</th>\n",
              "      <td>0</td>\n",
              "      <td>[lar, joking, wif, oni]</td>\n",
              "    </tr>\n",
              "    <tr>\n",
              "      <th>2</th>\n",
              "      <td>1</td>\n",
              "      <td>[free, entry, wkly, comp, win, cup, final, tkt...</td>\n",
              "    </tr>\n",
              "    <tr>\n",
              "      <th>3</th>\n",
              "      <td>0</td>\n",
              "      <td>[dun, say, early, hor, already, say]</td>\n",
              "    </tr>\n",
              "    <tr>\n",
              "      <th>4</th>\n",
              "      <td>0</td>\n",
              "      <td>[nah, dont, think, goes, usf, lives, around, t...</td>\n",
              "    </tr>\n",
              "  </tbody>\n",
              "</table>\n",
              "</div>"
            ],
            "text/plain": [
              "   v1                                                 v2\n",
              "0   0  [jurong, point, crazy, available, bugis, great...\n",
              "1   0                            [lar, joking, wif, oni]\n",
              "2   1  [free, entry, wkly, comp, win, cup, final, tkt...\n",
              "3   0               [dun, say, early, hor, already, say]\n",
              "4   0  [nah, dont, think, goes, usf, lives, around, t..."
            ]
          },
          "metadata": {
            "tags": []
          },
          "execution_count": 13
        }
      ]
    },
    {
      "cell_type": "markdown",
      "metadata": {
        "id": "zG0ZIKchLnZX"
      },
      "source": [
        "6) 표제어 추출(lemmatazition) 과정"
      ]
    },
    {
      "cell_type": "code",
      "metadata": {
        "colab": {
          "base_uri": "https://localhost:8080/"
        },
        "id": "ryn9-AKBLpo1",
        "outputId": "7186a834-2800-4939-f46f-a7971a54d6de"
      },
      "source": [
        "nltk.download('wordnet')"
      ],
      "execution_count": 14,
      "outputs": [
        {
          "output_type": "stream",
          "text": [
            "[nltk_data] Downloading package wordnet to /root/nltk_data...\n",
            "[nltk_data]   Unzipping corpora/wordnet.zip.\n"
          ],
          "name": "stdout"
        },
        {
          "output_type": "execute_result",
          "data": {
            "text/plain": [
              "True"
            ]
          },
          "metadata": {
            "tags": []
          },
          "execution_count": 14
        }
      ]
    },
    {
      "cell_type": "code",
      "metadata": {
        "colab": {
          "base_uri": "https://localhost:8080/",
          "height": 303
        },
        "id": "XZaxmUFbLvX1",
        "outputId": "627b1989-8128-49df-8549-5c602421e7c3"
      },
      "source": [
        "from nltk.stem import WordNetLemmatizer\r\n",
        "lem=WordNetLemmatizer()\r\n",
        "for i in range(data.shape[0]):\r\n",
        "  tmp=\"\"\r\n",
        "  cnt=1\r\n",
        "  length=len(data['v2'][i])\r\n",
        "  for w in data['v2'][i]:\r\n",
        "    if cnt==length:\r\n",
        "      tmp=tmp+lem.lemmatize(w)\r\n",
        "    else:\r\n",
        "      tmp=tmp+lem.lemmatize(w)+\" \"\r\n",
        "    cnt+=1\r\n",
        "  data['v2'][i]=tmp\r\n",
        "data[:5]"
      ],
      "execution_count": 15,
      "outputs": [
        {
          "output_type": "stream",
          "text": [
            "/usr/local/lib/python3.6/dist-packages/ipykernel_launcher.py:13: SettingWithCopyWarning: \n",
            "A value is trying to be set on a copy of a slice from a DataFrame\n",
            "\n",
            "See the caveats in the documentation: https://pandas.pydata.org/pandas-docs/stable/user_guide/indexing.html#returning-a-view-versus-a-copy\n",
            "  del sys.path[0]\n"
          ],
          "name": "stderr"
        },
        {
          "output_type": "execute_result",
          "data": {
            "text/html": [
              "<div>\n",
              "<style scoped>\n",
              "    .dataframe tbody tr th:only-of-type {\n",
              "        vertical-align: middle;\n",
              "    }\n",
              "\n",
              "    .dataframe tbody tr th {\n",
              "        vertical-align: top;\n",
              "    }\n",
              "\n",
              "    .dataframe thead th {\n",
              "        text-align: right;\n",
              "    }\n",
              "</style>\n",
              "<table border=\"1\" class=\"dataframe\">\n",
              "  <thead>\n",
              "    <tr style=\"text-align: right;\">\n",
              "      <th></th>\n",
              "      <th>v1</th>\n",
              "      <th>v2</th>\n",
              "    </tr>\n",
              "  </thead>\n",
              "  <tbody>\n",
              "    <tr>\n",
              "      <th>0</th>\n",
              "      <td>0</td>\n",
              "      <td>jurong point crazy available bugis great world...</td>\n",
              "    </tr>\n",
              "    <tr>\n",
              "      <th>1</th>\n",
              "      <td>0</td>\n",
              "      <td>lar joking wif oni</td>\n",
              "    </tr>\n",
              "    <tr>\n",
              "      <th>2</th>\n",
              "      <td>1</td>\n",
              "      <td>free entry wkly comp win cup final tkts 21st m...</td>\n",
              "    </tr>\n",
              "    <tr>\n",
              "      <th>3</th>\n",
              "      <td>0</td>\n",
              "      <td>dun say early hor already say</td>\n",
              "    </tr>\n",
              "    <tr>\n",
              "      <th>4</th>\n",
              "      <td>0</td>\n",
              "      <td>nah dont think go usf life around though</td>\n",
              "    </tr>\n",
              "  </tbody>\n",
              "</table>\n",
              "</div>"
            ],
            "text/plain": [
              "   v1                                                 v2\n",
              "0   0  jurong point crazy available bugis great world...\n",
              "1   0                                 lar joking wif oni\n",
              "2   1  free entry wkly comp win cup final tkts 21st m...\n",
              "3   0                      dun say early hor already say\n",
              "4   0           nah dont think go usf life around though"
            ]
          },
          "metadata": {
            "tags": []
          },
          "execution_count": 15
        }
      ]
    },
    {
      "cell_type": "markdown",
      "metadata": {
        "id": "XWLTS0mdLypL"
      },
      "source": [
        "7) 정수 인코딩"
      ]
    },
    {
      "cell_type": "code",
      "metadata": {
        "colab": {
          "base_uri": "https://localhost:8080/"
        },
        "id": "f-gGDEf-L0To",
        "outputId": "68a34cab-2feb-49c5-8b7c-42d286a17f16"
      },
      "source": [
        "from tensorflow.keras.preprocessing.text import Tokenizer\r\n",
        "tokenizer=Tokenizer()\r\n",
        "tokenizer.fit_on_texts(data['v2']) #각 행에 토큰화를 수행, 빈도수 기준 단어 집합 생성\r\n",
        "encoded=tokenizer.texts_to_sequences(data['v2'])\r\n",
        "print(encoded[:5])"
      ],
      "execution_count": 16,
      "outputs": [
        {
          "output_type": "stream",
          "text": [
            "[[3875, 239, 541, 512, 1018, 47, 215, 2523, 1019, 7, 3876, 60], [205, 1165, 313, 1551], [5, 360, 574, 709, 129, 914, 513, 1552, 1895, 162, 1896, 14, 1553, 400, 360, 2524, 22, 2525, 263, 2526], [135, 43, 240, 2527, 68, 43], [758, 3, 31, 327, 710, 78, 111, 328]]\n"
          ],
          "name": "stdout"
        }
      ]
    },
    {
      "cell_type": "code",
      "metadata": {
        "id": "ac4mWnePL4Z6"
      },
      "source": [
        "word_to_index=tokenizer.word_index #단어별 인덱스 부여 확인\r\n",
        "cat_num=len(word_to_index)+1"
      ],
      "execution_count": 17,
      "outputs": []
    },
    {
      "cell_type": "markdown",
      "metadata": {
        "id": "sbW7T-c5MBAs"
      },
      "source": [
        "8) 패딩 수행"
      ]
    },
    {
      "cell_type": "code",
      "metadata": {
        "colab": {
          "base_uri": "https://localhost:8080/"
        },
        "id": "ED3JI30kMC-N",
        "outputId": "b8762696-2494-4b00-c2f9-44ba9b481f5d"
      },
      "source": [
        "X_data=encoded\r\n",
        "print(max(len(l) for l in X_data))"
      ],
      "execution_count": 18,
      "outputs": [
        {
          "output_type": "stream",
          "text": [
            "80\n"
          ],
          "name": "stdout"
        }
      ]
    },
    {
      "cell_type": "code",
      "metadata": {
        "id": "PFsKXr1zMNV_"
      },
      "source": [
        "from tensorflow.keras.preprocessing.sequence import pad_sequences\r\n",
        "max_len=80\r\n",
        "X_data=pad_sequences(X_data, maxlen=max_len)"
      ],
      "execution_count": 19,
      "outputs": []
    },
    {
      "cell_type": "markdown",
      "metadata": {
        "id": "oUv7j1_xMTn1"
      },
      "source": [
        "train data와 test data 분리"
      ]
    },
    {
      "cell_type": "code",
      "metadata": {
        "id": "Pl_lC74jMVln"
      },
      "source": [
        "y_data=data['v1']\r\n",
        "X_test = X_data[4400:]\r\n",
        "y_test = y_data[4400:]\r\n",
        "X_train = X_data[:4400]\r\n",
        "y_train = y_data[:4400]"
      ],
      "execution_count": 21,
      "outputs": []
    },
    {
      "cell_type": "markdown",
      "metadata": {
        "id": "XnZuqEyvMk-s"
      },
      "source": [
        "1D CNN으로 스팸 메일 분류하기"
      ]
    },
    {
      "cell_type": "code",
      "metadata": {
        "id": "yQGy-x12Mm7u"
      },
      "source": [
        "from tensorflow.keras.layers import Dense, Conv1D, GlobalMaxPooling1D, Embedding, Dropout, MaxPooling1D\r\n",
        "from tensorflow.keras.models import Sequential\r\n",
        "from tensorflow.keras.callbacks import EarlyStopping, ModelCheckpoint"
      ],
      "execution_count": 22,
      "outputs": []
    },
    {
      "cell_type": "markdown",
      "metadata": {
        "id": "bwtX0rDyMzWh"
      },
      "source": [
        "1D CNN 모델 구성(1)"
      ]
    },
    {
      "cell_type": "code",
      "metadata": {
        "id": "MPHISv9FM1fq"
      },
      "source": [
        "model=Sequential()\r\n",
        "model.add(Embedding(cat_num, 32))\r\n",
        "model.add(Conv1D(32, 5, strides=1, padding='valid', activation='relu'))\r\n",
        "model.add(GlobalMaxPooling1D())\r\n",
        "model.add(Dense(1, activation='sigmoid'))\r\n",
        "model.compile(optimizer='adam', loss='binary_crossentropy', metrics=['accuracy'])"
      ],
      "execution_count": 24,
      "outputs": []
    },
    {
      "cell_type": "markdown",
      "metadata": {
        "id": "SXtj1MEZNs60"
      },
      "source": [
        "EarlyStopping 구성<br>\r\n",
        "accuracy를 기준으로 어느 이상 전보다 성능 향상이 안되면 종료"
      ]
    },
    {
      "cell_type": "code",
      "metadata": {
        "id": "rAFu9jbjN0KB"
      },
      "source": [
        "es = EarlyStopping(monitor = 'val_loss', mode = 'min', verbose = 1, patience = 3)\r\n",
        "mc = ModelCheckpoint('best_model.h5', monitor = 'val_acc', mode = 'max', verbose = 1, save_best_only = True)"
      ],
      "execution_count": 25,
      "outputs": []
    },
    {
      "cell_type": "markdown",
      "metadata": {
        "id": "jklb64xYN9zV"
      },
      "source": [
        "모델 학습시키기"
      ]
    },
    {
      "cell_type": "code",
      "metadata": {
        "colab": {
          "base_uri": "https://localhost:8080/"
        },
        "id": "e8z3MB-jN3jj",
        "outputId": "d6926440-81a2-4394-fa8f-d3f1d710fbbe"
      },
      "source": [
        "history = model.fit(X_train, y_train, epochs = 20, batch_size=64, validation_split=0.2, callbacks=[es, mc])"
      ],
      "execution_count": 26,
      "outputs": [
        {
          "output_type": "stream",
          "text": [
            "Epoch 1/20\n",
            "55/55 [==============================] - 8s 9ms/step - loss: 0.5627 - accuracy: 0.8667 - val_loss: 0.4024 - val_accuracy: 0.8545\n",
            "WARNING:tensorflow:Can save best model only with val_acc available, skipping.\n",
            "Epoch 2/20\n",
            "55/55 [==============================] - 0s 6ms/step - loss: 0.3549 - accuracy: 0.8673 - val_loss: 0.2926 - val_accuracy: 0.8545\n",
            "WARNING:tensorflow:Can save best model only with val_acc available, skipping.\n",
            "Epoch 3/20\n",
            "55/55 [==============================] - 0s 6ms/step - loss: 0.2091 - accuracy: 0.9082 - val_loss: 0.1314 - val_accuracy: 0.9614\n",
            "WARNING:tensorflow:Can save best model only with val_acc available, skipping.\n",
            "Epoch 4/20\n",
            "55/55 [==============================] - 0s 6ms/step - loss: 0.0735 - accuracy: 0.9839 - val_loss: 0.0875 - val_accuracy: 0.9716\n",
            "WARNING:tensorflow:Can save best model only with val_acc available, skipping.\n",
            "Epoch 5/20\n",
            "55/55 [==============================] - 0s 6ms/step - loss: 0.0365 - accuracy: 0.9919 - val_loss: 0.0764 - val_accuracy: 0.9739\n",
            "WARNING:tensorflow:Can save best model only with val_acc available, skipping.\n",
            "Epoch 6/20\n",
            "55/55 [==============================] - 0s 6ms/step - loss: 0.0192 - accuracy: 0.9973 - val_loss: 0.0690 - val_accuracy: 0.9761\n",
            "WARNING:tensorflow:Can save best model only with val_acc available, skipping.\n",
            "Epoch 7/20\n",
            "55/55 [==============================] - 0s 6ms/step - loss: 0.0100 - accuracy: 0.9993 - val_loss: 0.0677 - val_accuracy: 0.9761\n",
            "WARNING:tensorflow:Can save best model only with val_acc available, skipping.\n",
            "Epoch 8/20\n",
            "55/55 [==============================] - 0s 6ms/step - loss: 0.0077 - accuracy: 0.9992 - val_loss: 0.0697 - val_accuracy: 0.9739\n",
            "WARNING:tensorflow:Can save best model only with val_acc available, skipping.\n",
            "Epoch 9/20\n",
            "55/55 [==============================] - 0s 6ms/step - loss: 0.0054 - accuracy: 0.9992 - val_loss: 0.0688 - val_accuracy: 0.9761\n",
            "WARNING:tensorflow:Can save best model only with val_acc available, skipping.\n",
            "Epoch 10/20\n",
            "55/55 [==============================] - 0s 6ms/step - loss: 0.0030 - accuracy: 0.9998 - val_loss: 0.0686 - val_accuracy: 0.9784\n",
            "WARNING:tensorflow:Can save best model only with val_acc available, skipping.\n",
            "Epoch 00010: early stopping\n"
          ],
          "name": "stdout"
        }
      ]
    },
    {
      "cell_type": "code",
      "metadata": {
        "colab": {
          "base_uri": "https://localhost:8080/"
        },
        "id": "Ep2J3Yf_OQ59",
        "outputId": "d870ac01-1f66-4b59-dc6f-470539de6ba0"
      },
      "source": [
        "print(\"\\n 테스트 정확도 : %.4f\" % (model.evaluate(X_test, y_test)[1]))"
      ],
      "execution_count": 27,
      "outputs": [
        {
          "output_type": "stream",
          "text": [
            "37/37 [==============================] - 0s 2ms/step - loss: 0.0598 - accuracy: 0.9787\n",
            "\n",
            " 테스트 정확도 : 0.9787\n"
          ],
          "name": "stdout"
        }
      ]
    },
    {
      "cell_type": "markdown",
      "metadata": {
        "id": "o4PvKlmMOcdi"
      },
      "source": [
        "1D CNN 모델 구성(2)"
      ]
    },
    {
      "cell_type": "code",
      "metadata": {
        "id": "QowcbMKZOeaJ"
      },
      "source": [
        "model2=Sequential()\r\n",
        "model2.add(Embedding(cat_num, 32))\r\n",
        "model2.add(Dropout(0.2))\r\n",
        "model2.add(Conv1D(32, 5, strides=1, padding='valid', activation='relu'))\r\n",
        "model2.add(GlobalMaxPooling1D())\r\n",
        "model2.add(Dense(64, activation='relu'))\r\n",
        "model2.add(Dropout(0.2))\r\n",
        "model2.add(Dense(1, activation='sigmoid'))\r\n",
        "model2.compile(optimizer='adam', loss='binary_crossentropy', metrics=['accuracy'])"
      ],
      "execution_count": 28,
      "outputs": []
    },
    {
      "cell_type": "markdown",
      "metadata": {
        "id": "hyF8kEOqOtbG"
      },
      "source": [
        "모델2 학습시키기"
      ]
    },
    {
      "cell_type": "code",
      "metadata": {
        "colab": {
          "base_uri": "https://localhost:8080/"
        },
        "id": "g52qXbSBOvCW",
        "outputId": "b427e617-de07-4f5c-c7a2-a82827683e77"
      },
      "source": [
        "history = model2.fit(X_train, y_train, epochs = 20, batch_size=64, validation_split=0.2, callbacks=[es, mc])"
      ],
      "execution_count": 29,
      "outputs": [
        {
          "output_type": "stream",
          "text": [
            "Epoch 1/20\n",
            "55/55 [==============================] - 1s 8ms/step - loss: 0.5931 - accuracy: 0.7843 - val_loss: 0.4129 - val_accuracy: 0.8545\n",
            "WARNING:tensorflow:Can save best model only with val_acc available, skipping.\n",
            "Epoch 2/20\n",
            "55/55 [==============================] - 0s 6ms/step - loss: 0.3937 - accuracy: 0.8632 - val_loss: 0.3398 - val_accuracy: 0.8545\n",
            "WARNING:tensorflow:Can save best model only with val_acc available, skipping.\n",
            "Epoch 3/20\n",
            "55/55 [==============================] - 0s 6ms/step - loss: 0.2456 - accuracy: 0.8976 - val_loss: 0.1098 - val_accuracy: 0.9614\n",
            "WARNING:tensorflow:Can save best model only with val_acc available, skipping.\n",
            "Epoch 4/20\n",
            "55/55 [==============================] - 0s 9ms/step - loss: 0.0451 - accuracy: 0.9873 - val_loss: 0.0818 - val_accuracy: 0.9705\n",
            "WARNING:tensorflow:Can save best model only with val_acc available, skipping.\n",
            "Epoch 5/20\n",
            "55/55 [==============================] - 0s 6ms/step - loss: 0.0193 - accuracy: 0.9949 - val_loss: 0.0749 - val_accuracy: 0.9761\n",
            "WARNING:tensorflow:Can save best model only with val_acc available, skipping.\n",
            "Epoch 6/20\n",
            "55/55 [==============================] - 0s 6ms/step - loss: 0.0122 - accuracy: 0.9976 - val_loss: 0.0728 - val_accuracy: 0.9784\n",
            "WARNING:tensorflow:Can save best model only with val_acc available, skipping.\n",
            "Epoch 7/20\n",
            "55/55 [==============================] - 0s 6ms/step - loss: 0.0078 - accuracy: 0.9988 - val_loss: 0.0764 - val_accuracy: 0.9750\n",
            "WARNING:tensorflow:Can save best model only with val_acc available, skipping.\n",
            "Epoch 8/20\n",
            "55/55 [==============================] - 0s 6ms/step - loss: 0.0045 - accuracy: 0.9987 - val_loss: 0.0760 - val_accuracy: 0.9784\n",
            "WARNING:tensorflow:Can save best model only with val_acc available, skipping.\n",
            "Epoch 9/20\n",
            "55/55 [==============================] - 0s 6ms/step - loss: 0.0020 - accuracy: 1.0000 - val_loss: 0.0783 - val_accuracy: 0.9784\n",
            "WARNING:tensorflow:Can save best model only with val_acc available, skipping.\n",
            "Epoch 00009: early stopping\n"
          ],
          "name": "stdout"
        }
      ]
    },
    {
      "cell_type": "code",
      "metadata": {
        "colab": {
          "base_uri": "https://localhost:8080/"
        },
        "id": "i3PRgpSHOyh1",
        "outputId": "5e38f2b8-c386-4d6c-a761-6c2e256893da"
      },
      "source": [
        "print(\"\\n 테스트 정확도 : %.4f\" % (model2.evaluate(X_test, y_test)[1]))"
      ],
      "execution_count": 30,
      "outputs": [
        {
          "output_type": "stream",
          "text": [
            "37/37 [==============================] - 0s 2ms/step - loss: 0.0668 - accuracy: 0.9812\n",
            "\n",
            " 테스트 정확도 : 0.9812\n"
          ],
          "name": "stdout"
        }
      ]
    }
  ]
}