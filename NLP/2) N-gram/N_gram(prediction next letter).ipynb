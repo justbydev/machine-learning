{
  "nbformat": 4,
  "nbformat_minor": 0,
  "metadata": {
    "colab": {
      "name": "N-gram.ipynb",
      "provenance": [],
      "authorship_tag": "ABX9TyP/8OsMGW1MTwXG+2dQ9R+P"
    },
    "kernelspec": {
      "name": "python3",
      "display_name": "Python 3"
    }
  },
  "cells": [
    {
      "cell_type": "markdown",
      "metadata": {
        "id": "1_6kBT0x8G6W"
      },
      "source": [
        "**간단한 N-gram 활용(3-gram 사용)**"
      ]
    },
    {
      "cell_type": "markdown",
      "metadata": {
        "id": "2GHkJ2vz8NOc"
      },
      "source": [
        "예시 5개 문장"
      ]
    },
    {
      "cell_type": "code",
      "metadata": {
        "id": "RZzcsxTl8F9Y"
      },
      "source": [
        "text=['How are you',\r\n",
        "      'How are you doing',\r\n",
        "      'How are they different',\r\n",
        "      'How are you feeling',\r\n",
        "      'How are they']"
      ],
      "execution_count": 1,
      "outputs": []
    },
    {
      "cell_type": "markdown",
      "metadata": {
        "id": "OmKOHqIlGob1"
      },
      "source": [
        "2-gram 형성"
      ]
    },
    {
      "cell_type": "code",
      "metadata": {
        "colab": {
          "base_uri": "https://localhost:8080/"
        },
        "id": "2cmjFJdYGpw7",
        "outputId": "9a2cf7df-8cf1-41f4-b5f2-db0e609cae0f"
      },
      "source": [
        "bow={}\r\n",
        "for sent in text: \r\n",
        "  words=sent.split()\r\n",
        "  ngram=list(zip(words, words[1:]))\r\n",
        "  for ng in ngram:\r\n",
        "    if ng in bow:\r\n",
        "      bow[ng]=bow[ng]+1\r\n",
        "    else:\r\n",
        "      bow[ng]=1\r\n",
        "two_gram_bow_sort=dict(sorted(bow.items(), key=lambda item:item[1], reverse=True))\r\n",
        "print(two_gram_bow_sort)"
      ],
      "execution_count": 2,
      "outputs": [
        {
          "output_type": "stream",
          "text": [
            "{('How', 'are'): 5, ('are', 'you'): 3, ('are', 'they'): 2, ('you', 'doing'): 1, ('they', 'different'): 1, ('you', 'feeling'): 1}\n"
          ],
          "name": "stdout"
        }
      ]
    },
    {
      "cell_type": "markdown",
      "metadata": {
        "id": "WTHr_sfuDVKm"
      },
      "source": [
        "3-gram 형성"
      ]
    },
    {
      "cell_type": "code",
      "metadata": {
        "colab": {
          "base_uri": "https://localhost:8080/"
        },
        "id": "DC6ZZlpy8mRW",
        "outputId": "ef93ee2f-be62-4f7d-991a-4b98df79573e"
      },
      "source": [
        "bow={}\r\n",
        "for sent in text: \r\n",
        "  words=sent.split()\r\n",
        "  ngram=list(zip(words, words[1:], words[2:]))\r\n",
        "  for ng in ngram:\r\n",
        "    if ng in bow:\r\n",
        "      bow[ng]=bow[ng]+1\r\n",
        "    else:\r\n",
        "      bow[ng]=1\r\n",
        "three_gram_bow_sort=dict(sorted(bow.items(), key=lambda item:item[1], reverse=True))\r\n",
        "print(three_gram_bow_sort)"
      ],
      "execution_count": 3,
      "outputs": [
        {
          "output_type": "stream",
          "text": [
            "{('How', 'are', 'you'): 3, ('How', 'are', 'they'): 2, ('are', 'you', 'doing'): 1, ('are', 'they', 'different'): 1, ('are', 'you', 'feeling'): 1}\n"
          ],
          "name": "stdout"
        }
      ]
    },
    {
      "cell_type": "markdown",
      "metadata": {
        "id": "UKBZRk9fGhqh"
      },
      "source": [
        "How are 다음 단어 3-gram 활용 예측"
      ]
    },
    {
      "cell_type": "code",
      "metadata": {
        "colab": {
          "base_uri": "https://localhost:8080/"
        },
        "id": "mhDjXJH8FMFK",
        "outputId": "f086b484-c1b9-4c9e-8ee0-a0e16f2ac8ee"
      },
      "source": [
        "How_are=two_gram_bow_sort[('How', 'are')]\r\n",
        "prediction=[]\r\n",
        "probability=[]\r\n",
        "for key in three_gram_bow_sort.keys():\r\n",
        "  if 'How' in key and 'are' in key:\r\n",
        "    prediction.append(key)\r\n",
        "    probability.append(three_gram_bow_sort[key]/How_are)\r\n",
        "print(prediction)\r\n",
        "print(probability)\r\n",
        "print('next letter of \"How are\" is '+prediction[0][2])"
      ],
      "execution_count": 4,
      "outputs": [
        {
          "output_type": "stream",
          "text": [
            "[('How', 'are', 'you'), ('How', 'are', 'they')]\n",
            "[0.6, 0.4]\n",
            "next letter of \"How are\" is you\n"
          ],
          "name": "stdout"
        }
      ]
    },
    {
      "cell_type": "markdown",
      "metadata": {
        "id": "0qRmwwkwIoY-"
      },
      "source": [
        "1. 이 예시는 아주 간단한 n-gram 이해를 위한 코드일 뿐입니다.<br>\r\n",
        "2. n-gram의 경우는 학습 코퍼스에 존재하지 않으면 예측이 불가하거나 이상한 값이 나오게 됩니다<br>\r\n",
        "3. 따라서, 학습 분야를 특정하는 경우나 방대한 데이터가 존재하면 정확도가 올라갈 것입니다.<br>\r\n",
        "4. 위와 같은 간단한 예시를 방대한 데이터와 효율적인 학습 알고리즘을 사용하여 만들어질 수 있는 것이 바로 검색엔진입니다.<br>\r\n",
        "5. 오늘날에는 확률 기반 언어 모델, n-gram 언어 모델보다 인공 신경망 모델을 주로 사용합니다."
      ]
    }
  ]
}