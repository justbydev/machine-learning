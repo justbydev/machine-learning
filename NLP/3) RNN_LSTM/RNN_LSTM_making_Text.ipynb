{
  "nbformat": 4,
  "nbformat_minor": 0,
  "metadata": {
    "colab": {
      "name": "RNN_LSTM_making_Text.ipynb",
      "provenance": [],
      "authorship_tag": "ABX9TyNwmzLLAMN1vzNjQaPuM38M"
    },
    "kernelspec": {
      "name": "python3",
      "display_name": "Python 3"
    },
    "accelerator": "GPU"
  },
  "cells": [
    {
      "cell_type": "markdown",
      "metadata": {
        "id": "PjmXSTjrnEeT"
      },
      "source": [
        "RNN, LSTM 활용 텍스트 생성하기<br>\r\n",
        "참고자료: https://wikidocs.net/45101"
      ]
    },
    {
      "cell_type": "markdown",
      "metadata": {
        "id": "ko2dUCianlZM"
      },
      "source": [
        "사용할 데이터는 뉴욕 타임즈 기사의 제목입니다. 아래의 링크에서 ArticlesApril2018.csv 데이터를 다운로드 합니다.<br>\r\n",
        "\r\n",
        "파일 다운로드 링크 : https://www.kaggle.com/aashita/nyt-comments"
      ]
    },
    {
      "cell_type": "code",
      "metadata": {
        "colab": {
          "resources": {
            "http://localhost:8080/nbextensions/google.colab/files.js": {
              "data": "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",
              "ok": true,
              "headers": [
                [
                  "content-type",
                  "application/javascript"
                ]
              ],
              "status": 200,
              "status_text": ""
            }
          },
          "base_uri": "https://localhost:8080/",
          "height": 93
        },
        "id": "JuknQmzym_MT",
        "outputId": "6da46126-4c34-4f73-abd5-9d335273fee3"
      },
      "source": [
        "from google.colab import files\r\n",
        "myfile=files.upload()"
      ],
      "execution_count": 1,
      "outputs": [
        {
          "output_type": "display_data",
          "data": {
            "text/html": [
              "\n",
              "     <input type=\"file\" id=\"files-bf017a6a-6da7-45f8-a257-434bdecc00b5\" name=\"files[]\" multiple disabled\n",
              "        style=\"border:none\" />\n",
              "     <output id=\"result-bf017a6a-6da7-45f8-a257-434bdecc00b5\">\n",
              "      Upload widget is only available when the cell has been executed in the\n",
              "      current browser session. Please rerun this cell to enable.\n",
              "      </output>\n",
              "      <script src=\"/nbextensions/google.colab/files.js\"></script> "
            ],
            "text/plain": [
              "<IPython.core.display.HTML object>"
            ]
          },
          "metadata": {
            "tags": []
          }
        },
        {
          "output_type": "stream",
          "text": [
            "Saving ArticlesApril2018.csv to ArticlesApril2018 (2).csv\n"
          ],
          "name": "stdout"
        }
      ]
    },
    {
      "cell_type": "code",
      "metadata": {
        "id": "1VJ466pApKlU"
      },
      "source": [
        "import io\r\n",
        "import pandas as pd\r\n",
        "import numpy as np"
      ],
      "execution_count": 2,
      "outputs": []
    },
    {
      "cell_type": "code",
      "metadata": {
        "id": "ceJaco-UpOq0"
      },
      "source": [
        "data=pd.read_csv(io.BytesIO(myfile['ArticlesApril2018.csv']))"
      ],
      "execution_count": 3,
      "outputs": []
    },
    {
      "cell_type": "code",
      "metadata": {
        "colab": {
          "base_uri": "https://localhost:8080/",
          "height": 1000
        },
        "id": "3-5iFf_kpb4g",
        "outputId": "da06cf1a-3e5f-4e90-e6a0-fa08f613a449"
      },
      "source": [
        "data"
      ],
      "execution_count": 4,
      "outputs": [
        {
          "output_type": "execute_result",
          "data": {
            "text/html": [
              "<div>\n",
              "<style scoped>\n",
              "    .dataframe tbody tr th:only-of-type {\n",
              "        vertical-align: middle;\n",
              "    }\n",
              "\n",
              "    .dataframe tbody tr th {\n",
              "        vertical-align: top;\n",
              "    }\n",
              "\n",
              "    .dataframe thead th {\n",
              "        text-align: right;\n",
              "    }\n",
              "</style>\n",
              "<table border=\"1\" class=\"dataframe\">\n",
              "  <thead>\n",
              "    <tr style=\"text-align: right;\">\n",
              "      <th></th>\n",
              "      <th>articleID</th>\n",
              "      <th>articleWordCount</th>\n",
              "      <th>byline</th>\n",
              "      <th>documentType</th>\n",
              "      <th>headline</th>\n",
              "      <th>keywords</th>\n",
              "      <th>multimedia</th>\n",
              "      <th>newDesk</th>\n",
              "      <th>printPage</th>\n",
              "      <th>pubDate</th>\n",
              "      <th>sectionName</th>\n",
              "      <th>snippet</th>\n",
              "      <th>source</th>\n",
              "      <th>typeOfMaterial</th>\n",
              "      <th>webURL</th>\n",
              "    </tr>\n",
              "  </thead>\n",
              "  <tbody>\n",
              "    <tr>\n",
              "      <th>0</th>\n",
              "      <td>5adf6684068401528a2aa69b</td>\n",
              "      <td>781</td>\n",
              "      <td>By JOHN BRANCH</td>\n",
              "      <td>article</td>\n",
              "      <td>Former N.F.L. Cheerleaders’ Settlement Offer: ...</td>\n",
              "      <td>['Workplace Hazards and Violations', 'Football...</td>\n",
              "      <td>68</td>\n",
              "      <td>Sports</td>\n",
              "      <td>0</td>\n",
              "      <td>2018-04-24 17:16:49</td>\n",
              "      <td>Pro Football</td>\n",
              "      <td>“I understand that they could meet with us, pa...</td>\n",
              "      <td>The New York Times</td>\n",
              "      <td>News</td>\n",
              "      <td>https://www.nytimes.com/2018/04/24/sports/foot...</td>\n",
              "    </tr>\n",
              "    <tr>\n",
              "      <th>1</th>\n",
              "      <td>5adf653f068401528a2aa697</td>\n",
              "      <td>656</td>\n",
              "      <td>By LISA FRIEDMAN</td>\n",
              "      <td>article</td>\n",
              "      <td>E.P.A. to Unveil a New Rule. Its Effect: Less ...</td>\n",
              "      <td>['Environmental Protection Agency', 'Pruitt, S...</td>\n",
              "      <td>68</td>\n",
              "      <td>Climate</td>\n",
              "      <td>0</td>\n",
              "      <td>2018-04-24 17:11:21</td>\n",
              "      <td>Unknown</td>\n",
              "      <td>The agency plans to publish a new regulation T...</td>\n",
              "      <td>The New York Times</td>\n",
              "      <td>News</td>\n",
              "      <td>https://www.nytimes.com/2018/04/24/climate/epa...</td>\n",
              "    </tr>\n",
              "    <tr>\n",
              "      <th>2</th>\n",
              "      <td>5adf4626068401528a2aa628</td>\n",
              "      <td>2427</td>\n",
              "      <td>By PETE WELLS</td>\n",
              "      <td>article</td>\n",
              "      <td>The New Noma, Explained</td>\n",
              "      <td>['Restaurants', 'Noma (Copenhagen, Restaurant)...</td>\n",
              "      <td>66</td>\n",
              "      <td>Dining</td>\n",
              "      <td>0</td>\n",
              "      <td>2018-04-24 14:58:44</td>\n",
              "      <td>Unknown</td>\n",
              "      <td>What’s it like to eat at the second incarnatio...</td>\n",
              "      <td>The New York Times</td>\n",
              "      <td>News</td>\n",
              "      <td>https://www.nytimes.com/2018/04/24/dining/noma...</td>\n",
              "    </tr>\n",
              "    <tr>\n",
              "      <th>3</th>\n",
              "      <td>5adf40d2068401528a2aa619</td>\n",
              "      <td>626</td>\n",
              "      <td>By JULIE HIRSCHFELD DAVIS and PETER BAKER</td>\n",
              "      <td>article</td>\n",
              "      <td>Unknown</td>\n",
              "      <td>['Macron, Emmanuel (1977- )', 'Trump, Donald J...</td>\n",
              "      <td>68</td>\n",
              "      <td>Washington</td>\n",
              "      <td>0</td>\n",
              "      <td>2018-04-24 14:35:57</td>\n",
              "      <td>Europe</td>\n",
              "      <td>President Trump welcomed President Emmanuel Ma...</td>\n",
              "      <td>The New York Times</td>\n",
              "      <td>News</td>\n",
              "      <td>https://www.nytimes.com/2018/04/24/world/europ...</td>\n",
              "    </tr>\n",
              "    <tr>\n",
              "      <th>4</th>\n",
              "      <td>5adf3d64068401528a2aa60f</td>\n",
              "      <td>815</td>\n",
              "      <td>By IAN AUSTEN and DAN BILEFSKY</td>\n",
              "      <td>article</td>\n",
              "      <td>Unknown</td>\n",
              "      <td>['Toronto, Ontario, Attack (April, 2018)', 'Mu...</td>\n",
              "      <td>68</td>\n",
              "      <td>Foreign</td>\n",
              "      <td>0</td>\n",
              "      <td>2018-04-24 14:21:21</td>\n",
              "      <td>Canada</td>\n",
              "      <td>Alek Minassian, 25, a resident of Toronto’s Ri...</td>\n",
              "      <td>The New York Times</td>\n",
              "      <td>News</td>\n",
              "      <td>https://www.nytimes.com/2018/04/24/world/canad...</td>\n",
              "    </tr>\n",
              "    <tr>\n",
              "      <th>...</th>\n",
              "      <td>...</td>\n",
              "      <td>...</td>\n",
              "      <td>...</td>\n",
              "      <td>...</td>\n",
              "      <td>...</td>\n",
              "      <td>...</td>\n",
              "      <td>...</td>\n",
              "      <td>...</td>\n",
              "      <td>...</td>\n",
              "      <td>...</td>\n",
              "      <td>...</td>\n",
              "      <td>...</td>\n",
              "      <td>...</td>\n",
              "      <td>...</td>\n",
              "      <td>...</td>\n",
              "    </tr>\n",
              "    <tr>\n",
              "      <th>1319</th>\n",
              "      <td>5ae82c93068401528a2ab969</td>\n",
              "      <td>1004</td>\n",
              "      <td>By CLAIRE CAIN MILLER</td>\n",
              "      <td>article</td>\n",
              "      <td>This Common Question Reinforces the Gender Pay...</td>\n",
              "      <td>['Discrimination', 'Wages and Salaries', 'Labo...</td>\n",
              "      <td>68</td>\n",
              "      <td>Upshot</td>\n",
              "      <td>3</td>\n",
              "      <td>2018-05-01 09:00:01</td>\n",
              "      <td>Unknown</td>\n",
              "      <td>Several states and cities have ordered employe...</td>\n",
              "      <td>The New York Times</td>\n",
              "      <td>News</td>\n",
              "      <td>https://www.nytimes.com/2018/05/01/upshot/how-...</td>\n",
              "    </tr>\n",
              "    <tr>\n",
              "      <th>1320</th>\n",
              "      <td>5ae82c95068401528a2ab96b</td>\n",
              "      <td>1043</td>\n",
              "      <td>By TRACY J. GATES</td>\n",
              "      <td>article</td>\n",
              "      <td>Anna, Llama and Me</td>\n",
              "      <td>['Friendship', 'Dewdney, Anna', 'Writing and W...</td>\n",
              "      <td>65</td>\n",
              "      <td>Well</td>\n",
              "      <td>0</td>\n",
              "      <td>2018-05-01 09:00:02</td>\n",
              "      <td>Family</td>\n",
              "      <td>The beginning, middle and end of a picture boo...</td>\n",
              "      <td>The New York Times</td>\n",
              "      <td>News</td>\n",
              "      <td>https://www.nytimes.com/2018/05/01/well/family...</td>\n",
              "    </tr>\n",
              "    <tr>\n",
              "      <th>1321</th>\n",
              "      <td>5ae82c9d068401528a2ab96d</td>\n",
              "      <td>659</td>\n",
              "      <td>Interview by AUDIE CORNISH</td>\n",
              "      <td>article</td>\n",
              "      <td>Gen. Michael Hayden Has One Regret: Russia</td>\n",
              "      <td>['Classified Information and State Secrets', '...</td>\n",
              "      <td>66</td>\n",
              "      <td>Magazine</td>\n",
              "      <td>70</td>\n",
              "      <td>2018-05-01 09:00:06</td>\n",
              "      <td>Unknown</td>\n",
              "      <td>The former N.S.A. and C.I.A. chief on Trump, S...</td>\n",
              "      <td>The New York Times</td>\n",
              "      <td>News</td>\n",
              "      <td>https://www.nytimes.com/2018/05/01/magazine/ge...</td>\n",
              "    </tr>\n",
              "    <tr>\n",
              "      <th>1322</th>\n",
              "      <td>5ae82c9f068401528a2ab96f</td>\n",
              "      <td>1155</td>\n",
              "      <td>By JASON ROBERT BROWN</td>\n",
              "      <td>article</td>\n",
              "      <td>There Is Nothin’ Like a Tune</td>\n",
              "      <td>['Books and Literature', 'Purdum, Todd S', 'Th...</td>\n",
              "      <td>68</td>\n",
              "      <td>BookReview</td>\n",
              "      <td>17</td>\n",
              "      <td>2018-05-01 09:00:07</td>\n",
              "      <td>Book Review</td>\n",
              "      <td>In “Something Wonderful,” Todd S. Purdum analy...</td>\n",
              "      <td>The New York Times</td>\n",
              "      <td>Review</td>\n",
              "      <td>https://www.nytimes.com/2018/05/01/books/revie...</td>\n",
              "    </tr>\n",
              "    <tr>\n",
              "      <th>1323</th>\n",
              "      <td>5ae82ca3068401528a2ab97a</td>\n",
              "      <td>2055</td>\n",
              "      <td>By MICHAEL PAULSON</td>\n",
              "      <td>article</td>\n",
              "      <td>Unknown</td>\n",
              "      <td>['Theater', 'Tony Awards (Theater Awards)', 'A...</td>\n",
              "      <td>68</td>\n",
              "      <td>Culture</td>\n",
              "      <td>0</td>\n",
              "      <td>2018-05-01 09:00:09</td>\n",
              "      <td>Unknown</td>\n",
              "      <td>A pair of two-part productions, “Harry Potter ...</td>\n",
              "      <td>The New York Times</td>\n",
              "      <td>News</td>\n",
              "      <td>https://www.nytimes.com/2018/05/01/theater/ton...</td>\n",
              "    </tr>\n",
              "  </tbody>\n",
              "</table>\n",
              "<p>1324 rows × 15 columns</p>\n",
              "</div>"
            ],
            "text/plain": [
              "                     articleID  ...                                             webURL\n",
              "0     5adf6684068401528a2aa69b  ...  https://www.nytimes.com/2018/04/24/sports/foot...\n",
              "1     5adf653f068401528a2aa697  ...  https://www.nytimes.com/2018/04/24/climate/epa...\n",
              "2     5adf4626068401528a2aa628  ...  https://www.nytimes.com/2018/04/24/dining/noma...\n",
              "3     5adf40d2068401528a2aa619  ...  https://www.nytimes.com/2018/04/24/world/europ...\n",
              "4     5adf3d64068401528a2aa60f  ...  https://www.nytimes.com/2018/04/24/world/canad...\n",
              "...                        ...  ...                                                ...\n",
              "1319  5ae82c93068401528a2ab969  ...  https://www.nytimes.com/2018/05/01/upshot/how-...\n",
              "1320  5ae82c95068401528a2ab96b  ...  https://www.nytimes.com/2018/05/01/well/family...\n",
              "1321  5ae82c9d068401528a2ab96d  ...  https://www.nytimes.com/2018/05/01/magazine/ge...\n",
              "1322  5ae82c9f068401528a2ab96f  ...  https://www.nytimes.com/2018/05/01/books/revie...\n",
              "1323  5ae82ca3068401528a2ab97a  ...  https://www.nytimes.com/2018/05/01/theater/ton...\n",
              "\n",
              "[1324 rows x 15 columns]"
            ]
          },
          "metadata": {
            "tags": []
          },
          "execution_count": 4
        }
      ]
    },
    {
      "cell_type": "code",
      "metadata": {
        "colab": {
          "base_uri": "https://localhost:8080/"
        },
        "id": "qEH0q9Chp1UZ",
        "outputId": "b68ae0ba-e68a-4f11-b804-b06ae0d0654f"
      },
      "source": [
        "print(data.columns)"
      ],
      "execution_count": 5,
      "outputs": [
        {
          "output_type": "stream",
          "text": [
            "Index(['articleID', 'articleWordCount', 'byline', 'documentType', 'headline',\n",
            "       'keywords', 'multimedia', 'newDesk', 'printPage', 'pubDate',\n",
            "       'sectionName', 'snippet', 'source', 'typeOfMaterial', 'webURL'],\n",
            "      dtype='object')\n"
          ],
          "name": "stdout"
        }
      ]
    },
    {
      "cell_type": "markdown",
      "metadata": {
        "id": "wyOxzzEzp3nK"
      },
      "source": [
        "headline을 사용, Unknown 데이터 제거"
      ]
    },
    {
      "cell_type": "code",
      "metadata": {
        "colab": {
          "base_uri": "https://localhost:8080/"
        },
        "id": "dTue3tBlqCHn",
        "outputId": "ab81be0e-2f70-4fc6-ab84-fabd04978a19"
      },
      "source": [
        "headline=[]\r\n",
        "headline.extend(list(data.headline.values))\r\n",
        "headline[:5]"
      ],
      "execution_count": 6,
      "outputs": [
        {
          "output_type": "execute_result",
          "data": {
            "text/plain": [
              "['Former N.F.L. Cheerleaders’ Settlement Offer: $1 and a Meeting With Goodell',\n",
              " 'E.P.A. to Unveil a New Rule. Its Effect: Less Science in Policymaking.',\n",
              " 'The New Noma, Explained',\n",
              " 'Unknown',\n",
              " 'Unknown']"
            ]
          },
          "metadata": {
            "tags": []
          },
          "execution_count": 6
        }
      ]
    },
    {
      "cell_type": "code",
      "metadata": {
        "colab": {
          "base_uri": "https://localhost:8080/"
        },
        "id": "ZfgglQVDqgIy",
        "outputId": "d6f85d2b-537b-4e2c-b62d-987e99cdf815"
      },
      "source": [
        "headline=[n for n in headline if n!=\"Unknown\"]\r\n",
        "headline[:5]"
      ],
      "execution_count": 7,
      "outputs": [
        {
          "output_type": "execute_result",
          "data": {
            "text/plain": [
              "['Former N.F.L. Cheerleaders’ Settlement Offer: $1 and a Meeting With Goodell',\n",
              " 'E.P.A. to Unveil a New Rule. Its Effect: Less Science in Policymaking.',\n",
              " 'The New Noma, Explained',\n",
              " 'How a Bag of Texas Dirt  Became a Times Tradition',\n",
              " 'Is School a Place for Self-Expression?']"
            ]
          },
          "metadata": {
            "tags": []
          },
          "execution_count": 7
        }
      ]
    },
    {
      "cell_type": "markdown",
      "metadata": {
        "id": "xAVq56_tqp-b"
      },
      "source": [
        "데이터 전처리(1)-구두점 제거"
      ]
    },
    {
      "cell_type": "code",
      "metadata": {
        "id": "iKgPuHx8qvIw"
      },
      "source": [
        "def delete_punctuation(sentence):\r\n",
        "  return ''.join(letter for letter in sentence if letter not in string.punctuation)\r\n",
        "#하나의 문장을 들어오고 for n in sentence에서 알파벳 하나 하나에 대해서 체크"
      ],
      "execution_count": 8,
      "outputs": []
    },
    {
      "cell_type": "code",
      "metadata": {
        "colab": {
          "base_uri": "https://localhost:8080/"
        },
        "id": "ynppidyMsEFO",
        "outputId": "468384b0-a386-4d2e-8154-450a212a39c4"
      },
      "source": [
        "import string\r\n",
        "headline=[delete_punctuation(n) for n in headline]\r\n",
        "headline[:5]"
      ],
      "execution_count": 9,
      "outputs": [
        {
          "output_type": "execute_result",
          "data": {
            "text/plain": [
              "['Former NFL Cheerleaders’ Settlement Offer 1 and a Meeting With Goodell',\n",
              " 'EPA to Unveil a New Rule Its Effect Less Science in Policymaking',\n",
              " 'The New Noma Explained',\n",
              " 'How a Bag of Texas Dirt  Became a Times Tradition',\n",
              " 'Is School a Place for SelfExpression']"
            ]
          },
          "metadata": {
            "tags": []
          },
          "execution_count": 9
        }
      ]
    },
    {
      "cell_type": "markdown",
      "metadata": {
        "id": "nNMaJWtntFqc"
      },
      "source": [
        "데이터 전처리(2)-소문자로 변경"
      ]
    },
    {
      "cell_type": "code",
      "metadata": {
        "id": "mF1aF09DtH6q"
      },
      "source": [
        "def change_lower(sentence):\r\n",
        "  return sentence.lower()"
      ],
      "execution_count": 10,
      "outputs": []
    },
    {
      "cell_type": "code",
      "metadata": {
        "colab": {
          "base_uri": "https://localhost:8080/"
        },
        "id": "U57TrrYUtNTP",
        "outputId": "7ed14563-e500-49ae-af48-e984e7064570"
      },
      "source": [
        "headline=[change_lower(n) for n in headline]\r\n",
        "headline[:5]"
      ],
      "execution_count": 11,
      "outputs": [
        {
          "output_type": "execute_result",
          "data": {
            "text/plain": [
              "['former nfl cheerleaders’ settlement offer 1 and a meeting with goodell',\n",
              " 'epa to unveil a new rule its effect less science in policymaking',\n",
              " 'the new noma explained',\n",
              " 'how a bag of texas dirt  became a times tradition',\n",
              " 'is school a place for selfexpression']"
            ]
          },
          "metadata": {
            "tags": []
          },
          "execution_count": 11
        }
      ]
    },
    {
      "cell_type": "markdown",
      "metadata": {
        "id": "VhZTmPcRugb9"
      },
      "source": [
        "데이터 정수 인코딩"
      ]
    },
    {
      "cell_type": "code",
      "metadata": {
        "id": "zbol30xiujLA"
      },
      "source": [
        "from tensorflow.keras.preprocessing.text import Tokenizer\r\n",
        "from tensorflow.keras.preprocessing.sequence import pad_sequences"
      ],
      "execution_count": 12,
      "outputs": []
    },
    {
      "cell_type": "code",
      "metadata": {
        "id": "8IP-XlfGvDlL"
      },
      "source": [
        "tokenizer=Tokenizer()\r\n",
        "tokenizer.fit_on_texts(headline)\r\n",
        "vocab_size=len(tokenizer.word_index)+1"
      ],
      "execution_count": 13,
      "outputs": []
    },
    {
      "cell_type": "markdown",
      "metadata": {
        "id": "DTS4TjmQvkOR"
      },
      "source": [
        "다음 단어 예측을 하여 텍스트를 생성하기 때문에 각 문장을 여러 줄로 분해<br>\r\n",
        "예시)<br>\r\n",
        "나는 말을 타고 달린다<br>\r\n",
        "[나는 말을]<br>\r\n",
        "[나는 말을 타고]<br>\r\n",
        "[나는 말을 타고 달린다]<br>\r\n",
        "또한, 이렇게 분해된 텍스트는 정수 인코딩하여 저장"
      ]
    },
    {
      "cell_type": "code",
      "metadata": {
        "colab": {
          "base_uri": "https://localhost:8080/"
        },
        "id": "nYzBIPdFwkfy",
        "outputId": "c291aed1-d659-4180-877e-ddc4e31081e5"
      },
      "source": [
        "encoded=tokenizer.texts_to_sequences(headline)\r\n",
        "print(encoded[:5])"
      ],
      "execution_count": 14,
      "outputs": [
        {
          "output_type": "stream",
          "text": [
            "[[95, 263, 1100, 1101, 572, 50, 7, 2, 365, 10, 1102], [96, 3, 1103, 2, 14, 573, 85, 1104, 366, 367, 5, 1105], [1, 14, 1106, 1107], [16, 2, 574, 4, 210, 368, 1108, 2, 369, 575], [9, 162, 2, 130, 6, 1109]]\n"
          ],
          "name": "stdout"
        }
      ]
    },
    {
      "cell_type": "code",
      "metadata": {
        "colab": {
          "base_uri": "https://localhost:8080/"
        },
        "id": "6VW4mKq2v6j5",
        "outputId": "bc1988a7-67e8-4b15-b1a6-914334c2fd09"
      },
      "source": [
        "sequences=[]\r\n",
        "for line in encoded:\r\n",
        "  for i in range(1, len(line)):\r\n",
        "    sequences.append(line[:i+1])\r\n",
        "sequences[:12]"
      ],
      "execution_count": 15,
      "outputs": [
        {
          "output_type": "execute_result",
          "data": {
            "text/plain": [
              "[[95, 263],\n",
              " [95, 263, 1100],\n",
              " [95, 263, 1100, 1101],\n",
              " [95, 263, 1100, 1101, 572],\n",
              " [95, 263, 1100, 1101, 572, 50],\n",
              " [95, 263, 1100, 1101, 572, 50, 7],\n",
              " [95, 263, 1100, 1101, 572, 50, 7, 2],\n",
              " [95, 263, 1100, 1101, 572, 50, 7, 2, 365],\n",
              " [95, 263, 1100, 1101, 572, 50, 7, 2, 365, 10],\n",
              " [95, 263, 1100, 1101, 572, 50, 7, 2, 365, 10, 1102],\n",
              " [96, 3],\n",
              " [96, 3, 1103]]"
            ]
          },
          "metadata": {
            "tags": []
          },
          "execution_count": 15
        }
      ]
    },
    {
      "cell_type": "markdown",
      "metadata": {
        "id": "DANC56Dy-GrD"
      },
      "source": [
        "데이터 패딩화"
      ]
    },
    {
      "cell_type": "code",
      "metadata": {
        "colab": {
          "base_uri": "https://localhost:8080/"
        },
        "id": "ZJdZ24im-HyS",
        "outputId": "30780578-d4d7-4620-f38f-5a90bf29dd93"
      },
      "source": [
        "max_len=max(len(l) for l in sequences)\r\n",
        "print(max_len)"
      ],
      "execution_count": 16,
      "outputs": [
        {
          "output_type": "stream",
          "text": [
            "24\n"
          ],
          "name": "stdout"
        }
      ]
    },
    {
      "cell_type": "code",
      "metadata": {
        "colab": {
          "base_uri": "https://localhost:8080/"
        },
        "id": "7P9Q3F5N-WbQ",
        "outputId": "d774aa4b-b04d-487e-e0ca-a3757a084433"
      },
      "source": [
        "sequences=pad_sequences(sequences, maxlen=max_len)\r\n",
        "print(sequences[:3])"
      ],
      "execution_count": 17,
      "outputs": [
        {
          "output_type": "stream",
          "text": [
            "[[   0    0    0    0    0    0    0    0    0    0    0    0    0    0\n",
            "     0    0    0    0    0    0    0    0   95  263]\n",
            " [   0    0    0    0    0    0    0    0    0    0    0    0    0    0\n",
            "     0    0    0    0    0    0    0   95  263 1100]\n",
            " [   0    0    0    0    0    0    0    0    0    0    0    0    0    0\n",
            "     0    0    0    0    0    0   95  263 1100 1101]]\n"
          ],
          "name": "stdout"
        }
      ]
    },
    {
      "cell_type": "markdown",
      "metadata": {
        "id": "qrZptz2z-u_4"
      },
      "source": [
        "데이터 레이블 분리<br>\r\n",
        "다음 단어 예측 학습이기 때문에\r\n",
        "sequences의 각 데이터에 대해서 가장 오른쪽 데이터가 데이터 레이블이 된다"
      ]
    },
    {
      "cell_type": "code",
      "metadata": {
        "colab": {
          "base_uri": "https://localhost:8080/"
        },
        "id": "kwMeJ_O6-4_e",
        "outputId": "cbca8bbb-2087-4f7c-e7d5-0fc4b50242a6"
      },
      "source": [
        "sequences=np.array(sequences)\r\n",
        "sequences.shape"
      ],
      "execution_count": 18,
      "outputs": [
        {
          "output_type": "execute_result",
          "data": {
            "text/plain": [
              "(7809, 24)"
            ]
          },
          "metadata": {
            "tags": []
          },
          "execution_count": 18
        }
      ]
    },
    {
      "cell_type": "code",
      "metadata": {
        "colab": {
          "base_uri": "https://localhost:8080/"
        },
        "id": "X1a9UAZQ_Fr3",
        "outputId": "c31fc5ff-84a0-4812-f44b-5288b1de558c"
      },
      "source": [
        "sequences[0]"
      ],
      "execution_count": 19,
      "outputs": [
        {
          "output_type": "execute_result",
          "data": {
            "text/plain": [
              "array([  0,   0,   0,   0,   0,   0,   0,   0,   0,   0,   0,   0,   0,\n",
              "         0,   0,   0,   0,   0,   0,   0,   0,   0,  95, 263], dtype=int32)"
            ]
          },
          "metadata": {
            "tags": []
          },
          "execution_count": 19
        }
      ]
    },
    {
      "cell_type": "code",
      "metadata": {
        "colab": {
          "base_uri": "https://localhost:8080/"
        },
        "id": "C2J6_vTe_Mfc",
        "outputId": "1bd3f705-3dea-44c5-f9af-994d033f7432"
      },
      "source": [
        "X_data=sequences[:, :max_len-1]\r\n",
        "Y_data=sequences[:, max_len-1]\r\n",
        "print(X_data[:3])\r\n",
        "print(Y_data[:3])"
      ],
      "execution_count": 20,
      "outputs": [
        {
          "output_type": "stream",
          "text": [
            "[[   0    0    0    0    0    0    0    0    0    0    0    0    0    0\n",
            "     0    0    0    0    0    0    0    0   95]\n",
            " [   0    0    0    0    0    0    0    0    0    0    0    0    0    0\n",
            "     0    0    0    0    0    0    0   95  263]\n",
            " [   0    0    0    0    0    0    0    0    0    0    0    0    0    0\n",
            "     0    0    0    0    0    0   95  263 1100]]\n",
            "[ 263 1100 1101]\n"
          ],
          "name": "stdout"
        }
      ]
    },
    {
      "cell_type": "markdown",
      "metadata": {
        "id": "elhLtfzG_4c1"
      },
      "source": [
        "X_data의 경우, 단어이기 때문에, 학습시 Embedding layer를 사용하기 때문에 one-hot encoding 하지 않는다<br>\r\n",
        "Y_data의 경우, 마지막에 softmax를 통해서 오차를 비교하기 때문에 one-hot encoding을 실행한다."
      ]
    },
    {
      "cell_type": "code",
      "metadata": {
        "id": "hBf28JhBAHod"
      },
      "source": [
        "from tensorflow.keras.utils import to_categorical\r\n",
        "Y_data=to_categorical(Y_data, vocab_size)"
      ],
      "execution_count": 21,
      "outputs": []
    },
    {
      "cell_type": "code",
      "metadata": {
        "colab": {
          "base_uri": "https://localhost:8080/"
        },
        "id": "HgWIl3xkAUWT",
        "outputId": "8199a9f8-ccdf-487f-af46-94c2edaa43ce"
      },
      "source": [
        "Y_data[:3]"
      ],
      "execution_count": 22,
      "outputs": [
        {
          "output_type": "execute_result",
          "data": {
            "text/plain": [
              "array([[0., 0., 0., ..., 0., 0., 0.],\n",
              "       [0., 0., 0., ..., 0., 0., 0.],\n",
              "       [0., 0., 0., ..., 0., 0., 0.]], dtype=float32)"
            ]
          },
          "metadata": {
            "tags": []
          },
          "execution_count": 22
        }
      ]
    },
    {
      "cell_type": "markdown",
      "metadata": {
        "id": "o-aVhx87AY6v"
      },
      "source": [
        "RNN 응용 LSTM 학습 모델 구성"
      ]
    },
    {
      "cell_type": "code",
      "metadata": {
        "id": "_1_JzWrwAcqz"
      },
      "source": [
        "from tensorflow.keras.models import Sequential\r\n",
        "from tensorflow.keras.layers import Embedding, Dense, SimpleRNN, LSTM"
      ],
      "execution_count": 23,
      "outputs": []
    },
    {
      "cell_type": "code",
      "metadata": {
        "id": "IWxRL177E4tL"
      },
      "source": [
        "model=Sequential()\r\n",
        "model.add(Embedding(vocab_size, 128, input_length=max_len-1))\r\n",
        "model.add(LSTM(128))\r\n",
        "model.add(Dense(vocab_size, activation='softmax'))\r\n",
        "model.compile(loss='categorical_crossentropy', optimizer='adam', metrics=['accuracy'])"
      ],
      "execution_count": 24,
      "outputs": []
    },
    {
      "cell_type": "markdown",
      "metadata": {
        "id": "hmdi_ZjkFT_v"
      },
      "source": [
        "모델 학습"
      ]
    },
    {
      "cell_type": "code",
      "metadata": {
        "colab": {
          "base_uri": "https://localhost:8080/"
        },
        "id": "5w2hSrhKFTah",
        "outputId": "29cbc859-6b91-41e3-d28c-3e14513f5dd8"
      },
      "source": [
        "model.fit(X_data, Y_data, epochs=200, verbose=2)"
      ],
      "execution_count": 25,
      "outputs": [
        {
          "output_type": "stream",
          "text": [
            "Epoch 1/200\n",
            "245/245 - 5s - loss: 7.6732 - accuracy: 0.0257\n",
            "Epoch 2/200\n",
            "245/245 - 2s - loss: 7.0801 - accuracy: 0.0347\n",
            "Epoch 3/200\n",
            "245/245 - 2s - loss: 6.8758 - accuracy: 0.0464\n",
            "Epoch 4/200\n",
            "245/245 - 2s - loss: 6.7051 - accuracy: 0.0478\n",
            "Epoch 5/200\n",
            "245/245 - 2s - loss: 6.5117 - accuracy: 0.0507\n",
            "Epoch 6/200\n",
            "245/245 - 2s - loss: 6.2790 - accuracy: 0.0589\n",
            "Epoch 7/200\n",
            "245/245 - 2s - loss: 6.0266 - accuracy: 0.0695\n",
            "Epoch 8/200\n",
            "245/245 - 2s - loss: 5.7736 - accuracy: 0.0793\n",
            "Epoch 9/200\n",
            "245/245 - 2s - loss: 5.5207 - accuracy: 0.0923\n",
            "Epoch 10/200\n",
            "245/245 - 2s - loss: 5.2707 - accuracy: 0.1033\n",
            "Epoch 11/200\n",
            "245/245 - 2s - loss: 5.0323 - accuracy: 0.1146\n",
            "Epoch 12/200\n",
            "245/245 - 2s - loss: 4.7934 - accuracy: 0.1357\n",
            "Epoch 13/200\n",
            "245/245 - 2s - loss: 4.5684 - accuracy: 0.1575\n",
            "Epoch 14/200\n",
            "245/245 - 2s - loss: 4.3396 - accuracy: 0.1900\n",
            "Epoch 15/200\n",
            "245/245 - 2s - loss: 4.1147 - accuracy: 0.2269\n",
            "Epoch 16/200\n",
            "245/245 - 2s - loss: 3.8911 - accuracy: 0.2706\n",
            "Epoch 17/200\n",
            "245/245 - 2s - loss: 3.6679 - accuracy: 0.3139\n",
            "Epoch 18/200\n",
            "245/245 - 2s - loss: 3.4495 - accuracy: 0.3625\n",
            "Epoch 19/200\n",
            "245/245 - 2s - loss: 3.2326 - accuracy: 0.4170\n",
            "Epoch 20/200\n",
            "245/245 - 2s - loss: 3.0155 - accuracy: 0.4601\n",
            "Epoch 21/200\n",
            "245/245 - 2s - loss: 2.8071 - accuracy: 0.5127\n",
            "Epoch 22/200\n",
            "245/245 - 2s - loss: 2.6058 - accuracy: 0.5532\n",
            "Epoch 23/200\n",
            "245/245 - 2s - loss: 2.4108 - accuracy: 0.6002\n",
            "Epoch 24/200\n",
            "245/245 - 2s - loss: 2.2247 - accuracy: 0.6394\n",
            "Epoch 25/200\n",
            "245/245 - 2s - loss: 2.0584 - accuracy: 0.6708\n",
            "Epoch 26/200\n",
            "245/245 - 2s - loss: 1.8907 - accuracy: 0.7030\n",
            "Epoch 27/200\n",
            "245/245 - 2s - loss: 1.7412 - accuracy: 0.7326\n",
            "Epoch 28/200\n",
            "245/245 - 2s - loss: 1.6013 - accuracy: 0.7534\n",
            "Epoch 29/200\n",
            "245/245 - 2s - loss: 1.4727 - accuracy: 0.7778\n",
            "Epoch 30/200\n",
            "245/245 - 2s - loss: 1.3536 - accuracy: 0.7956\n",
            "Epoch 31/200\n",
            "245/245 - 2s - loss: 1.2461 - accuracy: 0.8093\n",
            "Epoch 32/200\n",
            "245/245 - 2s - loss: 1.1584 - accuracy: 0.8265\n",
            "Epoch 33/200\n",
            "245/245 - 2s - loss: 1.0566 - accuracy: 0.8393\n",
            "Epoch 34/200\n",
            "245/245 - 2s - loss: 0.9743 - accuracy: 0.8506\n",
            "Epoch 35/200\n",
            "245/245 - 2s - loss: 0.9003 - accuracy: 0.8627\n",
            "Epoch 36/200\n",
            "245/245 - 2s - loss: 0.8333 - accuracy: 0.8719\n",
            "Epoch 37/200\n",
            "245/245 - 2s - loss: 0.7747 - accuracy: 0.8787\n",
            "Epoch 38/200\n",
            "245/245 - 2s - loss: 0.7188 - accuracy: 0.8837\n",
            "Epoch 39/200\n",
            "245/245 - 2s - loss: 0.6682 - accuracy: 0.8894\n",
            "Epoch 40/200\n",
            "245/245 - 2s - loss: 0.6227 - accuracy: 0.8946\n",
            "Epoch 41/200\n",
            "245/245 - 2s - loss: 0.5838 - accuracy: 0.8990\n",
            "Epoch 42/200\n",
            "245/245 - 2s - loss: 0.5516 - accuracy: 0.9017\n",
            "Epoch 43/200\n",
            "245/245 - 2s - loss: 0.5153 - accuracy: 0.9041\n",
            "Epoch 44/200\n",
            "245/245 - 2s - loss: 0.4860 - accuracy: 0.9092\n",
            "Epoch 45/200\n",
            "245/245 - 2s - loss: 0.4615 - accuracy: 0.9087\n",
            "Epoch 46/200\n",
            "245/245 - 2s - loss: 0.4388 - accuracy: 0.9136\n",
            "Epoch 47/200\n",
            "245/245 - 2s - loss: 0.4226 - accuracy: 0.9124\n",
            "Epoch 48/200\n",
            "245/245 - 2s - loss: 0.4010 - accuracy: 0.9147\n",
            "Epoch 49/200\n",
            "245/245 - 2s - loss: 0.3836 - accuracy: 0.9160\n",
            "Epoch 50/200\n",
            "245/245 - 2s - loss: 0.3701 - accuracy: 0.9139\n",
            "Epoch 51/200\n",
            "245/245 - 2s - loss: 0.3582 - accuracy: 0.9164\n",
            "Epoch 52/200\n",
            "245/245 - 2s - loss: 0.3460 - accuracy: 0.9171\n",
            "Epoch 53/200\n",
            "245/245 - 2s - loss: 0.3370 - accuracy: 0.9154\n",
            "Epoch 54/200\n",
            "245/245 - 2s - loss: 0.3294 - accuracy: 0.9166\n",
            "Epoch 55/200\n",
            "245/245 - 2s - loss: 0.3188 - accuracy: 0.9168\n",
            "Epoch 56/200\n",
            "245/245 - 2s - loss: 0.3132 - accuracy: 0.9165\n",
            "Epoch 57/200\n",
            "245/245 - 2s - loss: 0.3058 - accuracy: 0.9165\n",
            "Epoch 58/200\n",
            "245/245 - 2s - loss: 0.3047 - accuracy: 0.9182\n",
            "Epoch 59/200\n",
            "245/245 - 2s - loss: 0.2971 - accuracy: 0.9170\n",
            "Epoch 60/200\n",
            "245/245 - 2s - loss: 0.2903 - accuracy: 0.9178\n",
            "Epoch 61/200\n",
            "245/245 - 2s - loss: 0.2866 - accuracy: 0.9175\n",
            "Epoch 62/200\n",
            "245/245 - 2s - loss: 0.2817 - accuracy: 0.9170\n",
            "Epoch 63/200\n",
            "245/245 - 2s - loss: 0.2783 - accuracy: 0.9183\n",
            "Epoch 64/200\n",
            "245/245 - 2s - loss: 0.2757 - accuracy: 0.9189\n",
            "Epoch 65/200\n",
            "245/245 - 2s - loss: 0.2736 - accuracy: 0.9174\n",
            "Epoch 66/200\n",
            "245/245 - 2s - loss: 0.2716 - accuracy: 0.9169\n",
            "Epoch 67/200\n",
            "245/245 - 2s - loss: 0.2685 - accuracy: 0.9177\n",
            "Epoch 68/200\n",
            "245/245 - 2s - loss: 0.2658 - accuracy: 0.9180\n",
            "Epoch 69/200\n",
            "245/245 - 2s - loss: 0.2643 - accuracy: 0.9175\n",
            "Epoch 70/200\n",
            "245/245 - 2s - loss: 0.2624 - accuracy: 0.9184\n",
            "Epoch 71/200\n",
            "245/245 - 2s - loss: 0.2622 - accuracy: 0.9166\n",
            "Epoch 72/200\n",
            "245/245 - 2s - loss: 0.2598 - accuracy: 0.9183\n",
            "Epoch 73/200\n",
            "245/245 - 2s - loss: 0.2589 - accuracy: 0.9184\n",
            "Epoch 74/200\n",
            "245/245 - 2s - loss: 0.2573 - accuracy: 0.9179\n",
            "Epoch 75/200\n",
            "245/245 - 2s - loss: 0.2562 - accuracy: 0.9180\n",
            "Epoch 76/200\n",
            "245/245 - 2s - loss: 0.2565 - accuracy: 0.9165\n",
            "Epoch 77/200\n",
            "245/245 - 2s - loss: 0.2550 - accuracy: 0.9182\n",
            "Epoch 78/200\n",
            "245/245 - 2s - loss: 0.2551 - accuracy: 0.9182\n",
            "Epoch 79/200\n",
            "245/245 - 2s - loss: 0.2531 - accuracy: 0.9175\n",
            "Epoch 80/200\n",
            "245/245 - 2s - loss: 0.2526 - accuracy: 0.9168\n",
            "Epoch 81/200\n",
            "245/245 - 2s - loss: 0.2513 - accuracy: 0.9168\n",
            "Epoch 82/200\n",
            "245/245 - 2s - loss: 0.2503 - accuracy: 0.9186\n",
            "Epoch 83/200\n",
            "245/245 - 2s - loss: 0.2503 - accuracy: 0.9177\n",
            "Epoch 84/200\n",
            "245/245 - 2s - loss: 0.2494 - accuracy: 0.9171\n",
            "Epoch 85/200\n",
            "245/245 - 2s - loss: 0.2499 - accuracy: 0.9187\n",
            "Epoch 86/200\n",
            "245/245 - 2s - loss: 0.2477 - accuracy: 0.9180\n",
            "Epoch 87/200\n",
            "245/245 - 2s - loss: 0.2473 - accuracy: 0.9175\n",
            "Epoch 88/200\n",
            "245/245 - 2s - loss: 0.2485 - accuracy: 0.9175\n",
            "Epoch 89/200\n",
            "245/245 - 2s - loss: 0.2468 - accuracy: 0.9179\n",
            "Epoch 90/200\n",
            "245/245 - 2s - loss: 0.2459 - accuracy: 0.9174\n",
            "Epoch 91/200\n",
            "245/245 - 2s - loss: 0.2462 - accuracy: 0.9178\n",
            "Epoch 92/200\n",
            "245/245 - 2s - loss: 0.2449 - accuracy: 0.9175\n",
            "Epoch 93/200\n",
            "245/245 - 2s - loss: 0.2452 - accuracy: 0.9187\n",
            "Epoch 94/200\n",
            "245/245 - 2s - loss: 0.2453 - accuracy: 0.9180\n",
            "Epoch 95/200\n",
            "245/245 - 2s - loss: 0.2445 - accuracy: 0.9197\n",
            "Epoch 96/200\n",
            "245/245 - 2s - loss: 0.2444 - accuracy: 0.9168\n",
            "Epoch 97/200\n",
            "245/245 - 2s - loss: 0.2445 - accuracy: 0.9161\n",
            "Epoch 98/200\n",
            "245/245 - 2s - loss: 0.2431 - accuracy: 0.9182\n",
            "Epoch 99/200\n",
            "245/245 - 2s - loss: 0.2431 - accuracy: 0.9174\n",
            "Epoch 100/200\n",
            "245/245 - 2s - loss: 0.2425 - accuracy: 0.9178\n",
            "Epoch 101/200\n",
            "245/245 - 2s - loss: 0.2426 - accuracy: 0.9175\n",
            "Epoch 102/200\n",
            "245/245 - 2s - loss: 0.2424 - accuracy: 0.9168\n",
            "Epoch 103/200\n",
            "245/245 - 2s - loss: 0.2423 - accuracy: 0.9170\n",
            "Epoch 104/200\n",
            "245/245 - 2s - loss: 0.2420 - accuracy: 0.9188\n",
            "Epoch 105/200\n",
            "245/245 - 2s - loss: 0.2418 - accuracy: 0.9189\n",
            "Epoch 106/200\n",
            "245/245 - 2s - loss: 0.2424 - accuracy: 0.9170\n",
            "Epoch 107/200\n",
            "245/245 - 2s - loss: 0.2421 - accuracy: 0.9200\n",
            "Epoch 108/200\n",
            "245/245 - 2s - loss: 0.2447 - accuracy: 0.9166\n",
            "Epoch 109/200\n",
            "245/245 - 2s - loss: 0.2434 - accuracy: 0.9171\n",
            "Epoch 110/200\n",
            "245/245 - 2s - loss: 0.2427 - accuracy: 0.9169\n",
            "Epoch 111/200\n",
            "245/245 - 2s - loss: 0.2410 - accuracy: 0.9187\n",
            "Epoch 112/200\n",
            "245/245 - 2s - loss: 0.2405 - accuracy: 0.9192\n",
            "Epoch 113/200\n",
            "245/245 - 2s - loss: 0.2403 - accuracy: 0.9187\n",
            "Epoch 114/200\n",
            "245/245 - 2s - loss: 0.2405 - accuracy: 0.9178\n",
            "Epoch 115/200\n",
            "245/245 - 2s - loss: 0.2403 - accuracy: 0.9179\n",
            "Epoch 116/200\n",
            "245/245 - 2s - loss: 0.2407 - accuracy: 0.9184\n",
            "Epoch 117/200\n",
            "245/245 - 2s - loss: 0.2404 - accuracy: 0.9174\n",
            "Epoch 118/200\n",
            "245/245 - 2s - loss: 0.2400 - accuracy: 0.9188\n",
            "Epoch 119/200\n",
            "245/245 - 2s - loss: 0.2416 - accuracy: 0.9183\n",
            "Epoch 120/200\n",
            "245/245 - 2s - loss: 0.2401 - accuracy: 0.9192\n",
            "Epoch 121/200\n",
            "245/245 - 2s - loss: 0.2404 - accuracy: 0.9175\n",
            "Epoch 122/200\n",
            "245/245 - 2s - loss: 0.2399 - accuracy: 0.9179\n",
            "Epoch 123/200\n",
            "245/245 - 2s - loss: 0.2397 - accuracy: 0.9186\n",
            "Epoch 124/200\n",
            "245/245 - 2s - loss: 0.2389 - accuracy: 0.9178\n",
            "Epoch 125/200\n",
            "245/245 - 2s - loss: 0.2388 - accuracy: 0.9191\n",
            "Epoch 126/200\n",
            "245/245 - 2s - loss: 0.2395 - accuracy: 0.9175\n",
            "Epoch 127/200\n",
            "245/245 - 2s - loss: 0.2383 - accuracy: 0.9175\n",
            "Epoch 128/200\n",
            "245/245 - 2s - loss: 0.2382 - accuracy: 0.9196\n",
            "Epoch 129/200\n",
            "245/245 - 2s - loss: 0.2383 - accuracy: 0.9177\n",
            "Epoch 130/200\n",
            "245/245 - 2s - loss: 0.2386 - accuracy: 0.9178\n",
            "Epoch 131/200\n",
            "245/245 - 2s - loss: 0.2423 - accuracy: 0.9174\n",
            "Epoch 132/200\n",
            "245/245 - 2s - loss: 0.2409 - accuracy: 0.9175\n",
            "Epoch 133/200\n",
            "245/245 - 2s - loss: 0.2399 - accuracy: 0.9174\n",
            "Epoch 134/200\n",
            "245/245 - 2s - loss: 0.2393 - accuracy: 0.9177\n",
            "Epoch 135/200\n",
            "245/245 - 2s - loss: 0.2384 - accuracy: 0.9189\n",
            "Epoch 136/200\n",
            "245/245 - 2s - loss: 0.2379 - accuracy: 0.9187\n",
            "Epoch 137/200\n",
            "245/245 - 2s - loss: 0.2379 - accuracy: 0.9183\n",
            "Epoch 138/200\n",
            "245/245 - 2s - loss: 0.2380 - accuracy: 0.9182\n",
            "Epoch 139/200\n",
            "245/245 - 2s - loss: 0.2375 - accuracy: 0.9183\n",
            "Epoch 140/200\n",
            "245/245 - 2s - loss: 0.2378 - accuracy: 0.9180\n",
            "Epoch 141/200\n",
            "245/245 - 2s - loss: 0.2379 - accuracy: 0.9179\n",
            "Epoch 142/200\n",
            "245/245 - 2s - loss: 0.2377 - accuracy: 0.9170\n",
            "Epoch 143/200\n",
            "245/245 - 2s - loss: 0.2381 - accuracy: 0.9192\n",
            "Epoch 144/200\n",
            "245/245 - 2s - loss: 0.2378 - accuracy: 0.9184\n",
            "Epoch 145/200\n",
            "245/245 - 2s - loss: 0.2375 - accuracy: 0.9188\n",
            "Epoch 146/200\n",
            "245/245 - 2s - loss: 0.2406 - accuracy: 0.9166\n",
            "Epoch 147/200\n",
            "245/245 - 2s - loss: 0.2398 - accuracy: 0.9169\n",
            "Epoch 148/200\n",
            "245/245 - 2s - loss: 0.2408 - accuracy: 0.9163\n",
            "Epoch 149/200\n",
            "245/245 - 2s - loss: 0.2382 - accuracy: 0.9171\n",
            "Epoch 150/200\n",
            "245/245 - 2s - loss: 0.2375 - accuracy: 0.9180\n",
            "Epoch 151/200\n",
            "245/245 - 2s - loss: 0.2370 - accuracy: 0.9171\n",
            "Epoch 152/200\n",
            "245/245 - 2s - loss: 0.2373 - accuracy: 0.9177\n",
            "Epoch 153/200\n",
            "245/245 - 2s - loss: 0.2365 - accuracy: 0.9189\n",
            "Epoch 154/200\n",
            "245/245 - 2s - loss: 0.2367 - accuracy: 0.9183\n",
            "Epoch 155/200\n",
            "245/245 - 2s - loss: 0.2366 - accuracy: 0.9191\n",
            "Epoch 156/200\n",
            "245/245 - 2s - loss: 0.2366 - accuracy: 0.9183\n",
            "Epoch 157/200\n",
            "245/245 - 2s - loss: 0.2366 - accuracy: 0.9189\n",
            "Epoch 158/200\n",
            "245/245 - 2s - loss: 0.2366 - accuracy: 0.9180\n",
            "Epoch 159/200\n",
            "245/245 - 2s - loss: 0.2365 - accuracy: 0.9186\n",
            "Epoch 160/200\n",
            "245/245 - 2s - loss: 0.2371 - accuracy: 0.9179\n",
            "Epoch 161/200\n",
            "245/245 - 2s - loss: 0.2369 - accuracy: 0.9183\n",
            "Epoch 162/200\n",
            "245/245 - 2s - loss: 0.2363 - accuracy: 0.9189\n",
            "Epoch 163/200\n",
            "245/245 - 2s - loss: 0.2366 - accuracy: 0.9177\n",
            "Epoch 164/200\n",
            "245/245 - 2s - loss: 0.2367 - accuracy: 0.9177\n",
            "Epoch 165/200\n",
            "245/245 - 2s - loss: 0.2368 - accuracy: 0.9160\n",
            "Epoch 166/200\n",
            "245/245 - 2s - loss: 0.2364 - accuracy: 0.9173\n",
            "Epoch 167/200\n",
            "245/245 - 2s - loss: 0.2365 - accuracy: 0.9174\n",
            "Epoch 168/200\n",
            "245/245 - 2s - loss: 0.2368 - accuracy: 0.9182\n",
            "Epoch 169/200\n",
            "245/245 - 2s - loss: 0.2367 - accuracy: 0.9192\n",
            "Epoch 170/200\n",
            "245/245 - 2s - loss: 0.2359 - accuracy: 0.9177\n",
            "Epoch 171/200\n",
            "245/245 - 2s - loss: 0.2362 - accuracy: 0.9182\n",
            "Epoch 172/200\n",
            "245/245 - 2s - loss: 0.2363 - accuracy: 0.9188\n",
            "Epoch 173/200\n",
            "245/245 - 2s - loss: 0.2360 - accuracy: 0.9184\n",
            "Epoch 174/200\n",
            "245/245 - 2s - loss: 0.2358 - accuracy: 0.9193\n",
            "Epoch 175/200\n",
            "245/245 - 2s - loss: 0.2359 - accuracy: 0.9180\n",
            "Epoch 176/200\n",
            "245/245 - 2s - loss: 0.2354 - accuracy: 0.9184\n",
            "Epoch 177/200\n",
            "245/245 - 2s - loss: 0.2361 - accuracy: 0.9186\n",
            "Epoch 178/200\n",
            "245/245 - 2s - loss: 0.2360 - accuracy: 0.9191\n",
            "Epoch 179/200\n",
            "245/245 - 2s - loss: 0.2360 - accuracy: 0.9178\n",
            "Epoch 180/200\n",
            "245/245 - 2s - loss: 0.2378 - accuracy: 0.9188\n",
            "Epoch 181/200\n",
            "245/245 - 2s - loss: 0.2397 - accuracy: 0.9179\n",
            "Epoch 182/200\n",
            "245/245 - 2s - loss: 0.2378 - accuracy: 0.9179\n",
            "Epoch 183/200\n",
            "245/245 - 2s - loss: 0.2368 - accuracy: 0.9175\n",
            "Epoch 184/200\n",
            "245/245 - 2s - loss: 0.2361 - accuracy: 0.9191\n",
            "Epoch 185/200\n",
            "245/245 - 2s - loss: 0.2358 - accuracy: 0.9180\n",
            "Epoch 186/200\n",
            "245/245 - 2s - loss: 0.2357 - accuracy: 0.9188\n",
            "Epoch 187/200\n",
            "245/245 - 2s - loss: 0.2355 - accuracy: 0.9179\n",
            "Epoch 188/200\n",
            "245/245 - 2s - loss: 0.2356 - accuracy: 0.9182\n",
            "Epoch 189/200\n",
            "245/245 - 2s - loss: 0.2354 - accuracy: 0.9184\n",
            "Epoch 190/200\n",
            "245/245 - 2s - loss: 0.2355 - accuracy: 0.9184\n",
            "Epoch 191/200\n",
            "245/245 - 2s - loss: 0.2353 - accuracy: 0.9178\n",
            "Epoch 192/200\n",
            "245/245 - 2s - loss: 0.2355 - accuracy: 0.9178\n",
            "Epoch 193/200\n",
            "245/245 - 2s - loss: 0.2357 - accuracy: 0.9173\n",
            "Epoch 194/200\n",
            "245/245 - 2s - loss: 0.2354 - accuracy: 0.9193\n",
            "Epoch 195/200\n",
            "245/245 - 2s - loss: 0.2358 - accuracy: 0.9182\n",
            "Epoch 196/200\n",
            "245/245 - 2s - loss: 0.2355 - accuracy: 0.9195\n",
            "Epoch 197/200\n",
            "245/245 - 2s - loss: 0.2359 - accuracy: 0.9177\n",
            "Epoch 198/200\n",
            "245/245 - 2s - loss: 0.2358 - accuracy: 0.9187\n",
            "Epoch 199/200\n",
            "245/245 - 2s - loss: 0.2352 - accuracy: 0.9193\n",
            "Epoch 200/200\n",
            "245/245 - 2s - loss: 0.2353 - accuracy: 0.9180\n"
          ],
          "name": "stdout"
        },
        {
          "output_type": "execute_result",
          "data": {
            "text/plain": [
              "<tensorflow.python.keras.callbacks.History at 0x7f462c0bf278>"
            ]
          },
          "metadata": {
            "tags": []
          },
          "execution_count": 25
        }
      ]
    },
    {
      "cell_type": "markdown",
      "metadata": {
        "id": "Il75QLLJKKPt"
      },
      "source": [
        "학습된 모델을 바탕으로 문장 생성<br>\r\n",
        "가령 10개의 단어로 된 문장을 만든다고 한다면 첫번째 단어만 주어지고 학습된 모델이 뒤에 붙을 단어들을 알려주어 문장을 완성하는 방법 "
      ]
    },
    {
      "cell_type": "code",
      "metadata": {
        "id": "CD8dsCpHKYSN"
      },
      "source": [
        "def sentence_generation(current_word, letter_num): # 모델, 토크나이저, 현재 단어, 반복할 횟수\r\n",
        "    init_word = current_word # 처음 들어온 단어도 마지막에 같이 출력하기위해 저장\r\n",
        "    sentence = ''\r\n",
        "    for _ in range(letter_num): # n번 반복\r\n",
        "        encoded = tokenizer.texts_to_sequences([current_word])[0] # 현재 단어에 대한 정수 인코딩\r\n",
        "        encoded = pad_sequences([encoded], maxlen=max_len) # 데이터에 대한 패딩\r\n",
        "        result = model.predict_classes(encoded, verbose=0)\r\n",
        "    # 입력한 X(현재 단어)에 대해서 Y를 예측하고 Y(예측한 단어)를 result에 저장.\r\n",
        "        for word, index in tokenizer.word_index.items(): \r\n",
        "            if index == result: # 만약 예측한 단어와 인덱스와 동일한 단어가 있다면\r\n",
        "                break # 해당 단어가 예측 단어이므로 break\r\n",
        "        current_word = current_word + ' '  + word # 현재 단어 + ' ' + 예측 단어를 현재 단어로 변경\r\n",
        "        sentence = sentence + ' ' + word # 예측 단어를 문장에 저장\r\n",
        "    # for문이므로 이 행동을 다시 반복\r\n",
        "    sentence = init_word + sentence\r\n",
        "    return sentence"
      ],
      "execution_count": 26,
      "outputs": []
    },
    {
      "cell_type": "code",
      "metadata": {
        "colab": {
          "base_uri": "https://localhost:8080/"
        },
        "id": "PyX8NT1zK4q0",
        "outputId": "f0dc8240-3de4-45cf-93e1-ea35839050e5"
      },
      "source": [
        "print(sentence_generation('he', 10))"
      ],
      "execution_count": 27,
      "outputs": [
        {
          "output_type": "stream",
          "text": [
            "WARNING:tensorflow:Model was constructed with shape (None, 23) for input KerasTensor(type_spec=TensorSpec(shape=(None, 23), dtype=tf.float32, name='embedding_input'), name='embedding_input', description=\"created by layer 'embedding_input'\"), but it was called on an input with incompatible shape (None, 24).\n"
          ],
          "name": "stdout"
        },
        {
          "output_type": "stream",
          "text": [
            "/usr/local/lib/python3.6/dist-packages/tensorflow/python/keras/engine/sequential.py:450: UserWarning: `model.predict_classes()` is deprecated and will be removed after 2021-01-01. Please use instead:* `np.argmax(model.predict(x), axis=-1)`,   if your model does multi-class classification   (e.g. if it uses a `softmax` last-layer activation).* `(model.predict(x) > 0.5).astype(\"int32\")`,   if your model does binary classification   (e.g. if it uses a `sigmoid` last-layer activation).\n",
            "  warnings.warn('`model.predict_classes()` is deprecated and '\n"
          ],
          "name": "stderr"
        },
        {
          "output_type": "stream",
          "text": [
            "he inhaled mustard agent in iraq but the navy denied him\n"
          ],
          "name": "stdout"
        }
      ]
    }
  ]
}