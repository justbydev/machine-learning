{
  "nbformat": 4,
  "nbformat_minor": 0,
  "metadata": {
    "colab": {
      "name": "Untitled9.ipynb",
      "provenance": [],
      "authorship_tag": "ABX9TyN7hMdHWmvOgcxkrTgtXB+5"
    },
    "kernelspec": {
      "name": "python3",
      "display_name": "Python 3"
    },
    "accelerator": "GPU"
  },
  "cells": [
    {
      "cell_type": "markdown",
      "metadata": {
        "id": "Iv7ygmOXzgdF"
      },
      "source": [
        "**다중 클래스 로지스틱 회귀 문제(소프트맥스 회귀)**"
      ]
    },
    {
      "cell_type": "code",
      "metadata": {
        "id": "hFxQBjjOy5YO"
      },
      "source": [
        "import numpy as np\r\n",
        "import tensorflow as tf\r\n",
        "from tensorflow.keras.models import Sequential\r\n",
        "from tensorflow.keras.layers import Dense\r\n",
        "from tensorflow.keras import optimizers\r\n",
        "from tensorflow.keras.utils import to_categorical"
      ],
      "execution_count": 1,
      "outputs": []
    },
    {
      "cell_type": "markdown",
      "metadata": {
        "id": "4jqX6-gFzKv8"
      },
      "source": [
        "**Data 구성<br>**\r\n",
        "label이 0=sunny, 1=cloudy, 2=rainy, 3=snowy<br>\r\n",
        "x input [temparature, percentage of rain of snow, sunset]"
      ]
    },
    {
      "cell_type": "code",
      "metadata": {
        "id": "lLtzXSYHzWgt"
      },
      "source": [
        "data=np.array([[6, 2, 8, 0],\r\n",
        "               [8, 1, 7, 0],\r\n",
        "               [7, 2, 9, 0],\r\n",
        "               [5, 3, 3, 1],\r\n",
        "               [4, 2, 3, 1],\r\n",
        "               [4, 1, 2, 1],\r\n",
        "               [5, 8, 3, 2],\r\n",
        "               [4, 7, 2, 2],\r\n",
        "               [8, 9, 3, 2],\r\n",
        "               [1, 8, 3, 3],\r\n",
        "               [0, 7, 2, 3],\r\n",
        "               [2, 9, 1, 3]])\r\n",
        "x=data[:, :3]\r\n",
        "y=data[:, 3:4]"
      ],
      "execution_count": 2,
      "outputs": []
    },
    {
      "cell_type": "markdown",
      "metadata": {
        "id": "_sjh2o5_zwb6"
      },
      "source": [
        "one-hot encoding"
      ]
    },
    {
      "cell_type": "code",
      "metadata": {
        "id": "JzzRVem5zx8H"
      },
      "source": [
        "y=to_categorical(y)"
      ],
      "execution_count": 3,
      "outputs": []
    },
    {
      "cell_type": "code",
      "metadata": {
        "id": "zFDHCzYL0tO1"
      },
      "source": [
        ""
      ],
      "execution_count": 3,
      "outputs": []
    },
    {
      "cell_type": "markdown",
      "metadata": {
        "id": "6BFfofKTzefy"
      },
      "source": [
        "softmax regression model"
      ]
    },
    {
      "cell_type": "code",
      "metadata": {
        "id": "NFbG_s5xzsOS"
      },
      "source": [
        "model=Sequential()\r\n",
        "model.add(Dense(4, input_dim=3, activation='softmax'))\r\n",
        "model.compile(loss='categorical_crossentropy', optimizer=optimizers.SGD(lr=0.01), metrics=['accuracy'])"
      ],
      "execution_count": 4,
      "outputs": []
    },
    {
      "cell_type": "markdown",
      "metadata": {
        "id": "Vou1vDAK0Hf7"
      },
      "source": [
        "model 학습"
      ]
    },
    {
      "cell_type": "code",
      "metadata": {
        "colab": {
          "base_uri": "https://localhost:8080/"
        },
        "id": "38UVm8FYzvna",
        "outputId": "add30080-44d4-42f0-fa3d-ca61272e7944"
      },
      "source": [
        "model.fit(x, y, batch_size=1, epochs=50, shuffle=False)"
      ],
      "execution_count": 5,
      "outputs": [
        {
          "output_type": "stream",
          "text": [
            "Epoch 1/50\n",
            "12/12 [==============================] - 1s 2ms/step - loss: 4.9971 - accuracy: 0.0000e+00\n",
            "Epoch 2/50\n",
            "12/12 [==============================] - 0s 2ms/step - loss: 1.9271 - accuracy: 0.2115\n",
            "Epoch 3/50\n",
            "12/12 [==============================] - 0s 2ms/step - loss: 1.0249 - accuracy: 0.4491\n",
            "Epoch 4/50\n",
            "12/12 [==============================] - 0s 2ms/step - loss: 0.8364 - accuracy: 0.7141\n",
            "Epoch 5/50\n",
            "12/12 [==============================] - 0s 2ms/step - loss: 0.7280 - accuracy: 0.7416\n",
            "Epoch 6/50\n",
            "12/12 [==============================] - 0s 2ms/step - loss: 0.6564 - accuracy: 0.7544\n",
            "Epoch 7/50\n",
            "12/12 [==============================] - 0s 2ms/step - loss: 0.6053 - accuracy: 0.7544\n",
            "Epoch 8/50\n",
            "12/12 [==============================] - 0s 2ms/step - loss: 0.5661 - accuracy: 0.7544\n",
            "Epoch 9/50\n",
            "12/12 [==============================] - 0s 2ms/step - loss: 0.5345 - accuracy: 0.7544\n",
            "Epoch 10/50\n",
            "12/12 [==============================] - 0s 2ms/step - loss: 0.5080 - accuracy: 0.7544\n",
            "Epoch 11/50\n",
            "12/12 [==============================] - 0s 2ms/step - loss: 0.4854 - accuracy: 0.8959\n",
            "Epoch 12/50\n",
            "12/12 [==============================] - 0s 2ms/step - loss: 0.4656 - accuracy: 1.0000\n",
            "Epoch 13/50\n",
            "12/12 [==============================] - 0s 2ms/step - loss: 0.4481 - accuracy: 1.0000\n",
            "Epoch 14/50\n",
            "12/12 [==============================] - 0s 2ms/step - loss: 0.4324 - accuracy: 1.0000\n",
            "Epoch 15/50\n",
            "12/12 [==============================] - 0s 2ms/step - loss: 0.4182 - accuracy: 1.0000\n",
            "Epoch 16/50\n",
            "12/12 [==============================] - 0s 2ms/step - loss: 0.4053 - accuracy: 1.0000\n",
            "Epoch 17/50\n",
            "12/12 [==============================] - 0s 2ms/step - loss: 0.3934 - accuracy: 1.0000\n",
            "Epoch 18/50\n",
            "12/12 [==============================] - 0s 2ms/step - loss: 0.3824 - accuracy: 1.0000\n",
            "Epoch 19/50\n",
            "12/12 [==============================] - 0s 2ms/step - loss: 0.3721 - accuracy: 1.0000\n",
            "Epoch 20/50\n",
            "12/12 [==============================] - 0s 2ms/step - loss: 0.3626 - accuracy: 1.0000\n",
            "Epoch 21/50\n",
            "12/12 [==============================] - 0s 2ms/step - loss: 0.3536 - accuracy: 1.0000\n",
            "Epoch 22/50\n",
            "12/12 [==============================] - 0s 2ms/step - loss: 0.3452 - accuracy: 1.0000\n",
            "Epoch 23/50\n",
            "12/12 [==============================] - 0s 2ms/step - loss: 0.3372 - accuracy: 1.0000\n",
            "Epoch 24/50\n",
            "12/12 [==============================] - 0s 2ms/step - loss: 0.3296 - accuracy: 1.0000\n",
            "Epoch 25/50\n",
            "12/12 [==============================] - 0s 2ms/step - loss: 0.3224 - accuracy: 1.0000\n",
            "Epoch 26/50\n",
            "12/12 [==============================] - 0s 2ms/step - loss: 0.3156 - accuracy: 1.0000\n",
            "Epoch 27/50\n",
            "12/12 [==============================] - 0s 2ms/step - loss: 0.3091 - accuracy: 1.0000\n",
            "Epoch 28/50\n",
            "12/12 [==============================] - 0s 2ms/step - loss: 0.3029 - accuracy: 1.0000\n",
            "Epoch 29/50\n",
            "12/12 [==============================] - 0s 2ms/step - loss: 0.2970 - accuracy: 1.0000\n",
            "Epoch 30/50\n",
            "12/12 [==============================] - 0s 1ms/step - loss: 0.2913 - accuracy: 1.0000\n",
            "Epoch 31/50\n",
            "12/12 [==============================] - 0s 2ms/step - loss: 0.2858 - accuracy: 1.0000\n",
            "Epoch 32/50\n",
            "12/12 [==============================] - 0s 2ms/step - loss: 0.2806 - accuracy: 1.0000\n",
            "Epoch 33/50\n",
            "12/12 [==============================] - 0s 2ms/step - loss: 0.2755 - accuracy: 1.0000\n",
            "Epoch 34/50\n",
            "12/12 [==============================] - 0s 2ms/step - loss: 0.2707 - accuracy: 1.0000\n",
            "Epoch 35/50\n",
            "12/12 [==============================] - 0s 2ms/step - loss: 0.2660 - accuracy: 1.0000\n",
            "Epoch 36/50\n",
            "12/12 [==============================] - 0s 2ms/step - loss: 0.2615 - accuracy: 1.0000\n",
            "Epoch 37/50\n",
            "12/12 [==============================] - 0s 2ms/step - loss: 0.2571 - accuracy: 1.0000\n",
            "Epoch 38/50\n",
            "12/12 [==============================] - 0s 2ms/step - loss: 0.2529 - accuracy: 1.0000\n",
            "Epoch 39/50\n",
            "12/12 [==============================] - 0s 2ms/step - loss: 0.2488 - accuracy: 1.0000\n",
            "Epoch 40/50\n",
            "12/12 [==============================] - 0s 2ms/step - loss: 0.2449 - accuracy: 1.0000\n",
            "Epoch 41/50\n",
            "12/12 [==============================] - 0s 2ms/step - loss: 0.2411 - accuracy: 1.0000\n",
            "Epoch 42/50\n",
            "12/12 [==============================] - 0s 2ms/step - loss: 0.2374 - accuracy: 1.0000\n",
            "Epoch 43/50\n",
            "12/12 [==============================] - 0s 2ms/step - loss: 0.2338 - accuracy: 1.0000\n",
            "Epoch 44/50\n",
            "12/12 [==============================] - 0s 2ms/step - loss: 0.2304 - accuracy: 1.0000\n",
            "Epoch 45/50\n",
            "12/12 [==============================] - 0s 2ms/step - loss: 0.2270 - accuracy: 1.0000\n",
            "Epoch 46/50\n",
            "12/12 [==============================] - 0s 2ms/step - loss: 0.2237 - accuracy: 1.0000\n",
            "Epoch 47/50\n",
            "12/12 [==============================] - 0s 2ms/step - loss: 0.2206 - accuracy: 1.0000\n",
            "Epoch 48/50\n",
            "12/12 [==============================] - 0s 2ms/step - loss: 0.2175 - accuracy: 1.0000\n",
            "Epoch 49/50\n",
            "12/12 [==============================] - 0s 2ms/step - loss: 0.2145 - accuracy: 1.0000\n",
            "Epoch 50/50\n",
            "12/12 [==============================] - 0s 2ms/step - loss: 0.2116 - accuracy: 1.0000\n"
          ],
          "name": "stdout"
        },
        {
          "output_type": "execute_result",
          "data": {
            "text/plain": [
              "<tensorflow.python.keras.callbacks.History at 0x7f0d6c011dd8>"
            ]
          },
          "metadata": {
            "tags": []
          },
          "execution_count": 5
        }
      ]
    },
    {
      "cell_type": "markdown",
      "metadata": {
        "id": "9SCCnKy-1CsS"
      },
      "source": [
        "model 체크<br>\r\n",
        "input: [6, 9, 3]<br>\r\n",
        "expected output: 2"
      ]
    },
    {
      "cell_type": "code",
      "metadata": {
        "colab": {
          "base_uri": "https://localhost:8080/"
        },
        "id": "e2bgpsXk1EVx",
        "outputId": "5d328622-4433-4ff7-87f1-729eeb8731e8"
      },
      "source": [
        "print(model.predict([[6, 9, 3]]))"
      ],
      "execution_count": 6,
      "outputs": [
        {
          "output_type": "stream",
          "text": [
            "[[3.0156216e-04 4.6829715e-02 9.0564567e-01 4.7223099e-02]]\n"
          ],
          "name": "stdout"
        }
      ]
    },
    {
      "cell_type": "code",
      "metadata": {
        "colab": {
          "base_uri": "https://localhost:8080/"
        },
        "id": "38MS4_m91b-g",
        "outputId": "2033ffef-53bf-4830-ccec-b7dc5ffa839c"
      },
      "source": [
        "print(tf.argmax(model.predict([[6, 9, 3]])[0]))"
      ],
      "execution_count": 7,
      "outputs": [
        {
          "output_type": "stream",
          "text": [
            "tf.Tensor(2, shape=(), dtype=int64)\n"
          ],
          "name": "stdout"
        }
      ]
    }
  ]
}