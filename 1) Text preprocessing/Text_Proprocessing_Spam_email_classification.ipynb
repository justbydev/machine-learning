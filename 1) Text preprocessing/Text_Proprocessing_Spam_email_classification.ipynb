{
  "nbformat": 4,
  "nbformat_minor": 0,
  "metadata": {
    "colab": {
      "name": "Text_Proprocessing.ipynb",
      "provenance": [],
      "authorship_tag": "ABX9TyPo+fc+LWa2g9jq8H50vcRP"
    },
    "kernelspec": {
      "name": "python3",
      "display_name": "Python 3"
    },
    "accelerator": "GPU"
  },
  "cells": [
    {
      "cell_type": "code",
      "metadata": {
        "colab": {
          "base_uri": "https://localhost:8080/"
        },
        "id": "uWGp8osqYnQN",
        "outputId": "a3ce81df-f3cb-4dfa-c78a-1f5e430d7135"
      },
      "source": [
        "import nltk\r\n",
        "nltk.download('punkt')\r\n",
        "import urllib.request"
      ],
      "execution_count": 1,
      "outputs": [
        {
          "output_type": "stream",
          "text": [
            "[nltk_data] Downloading package punkt to /root/nltk_data...\n",
            "[nltk_data]   Package punkt is already up-to-date!\n"
          ],
          "name": "stdout"
        }
      ]
    },
    {
      "cell_type": "code",
      "metadata": {
        "id": "g9WThBizpzlI"
      },
      "source": [
        "import numpy as np\r\n",
        "import pandas as pd"
      ],
      "execution_count": 2,
      "outputs": []
    },
    {
      "cell_type": "markdown",
      "metadata": {
        "id": "FVhA37Hop_ri"
      },
      "source": [
        "케라스에서 제공하는 스팸 메일 데이터 사용<br>\r\n",
        "https://www.kaggle.com/uciml/sms-spam-collection-dataset"
      ]
    },
    {
      "cell_type": "code",
      "metadata": {
        "id": "KRHc72-HpuZn"
      },
      "source": [
        "urllib.request.urlretrieve(\"https://raw.githubusercontent.com/mohitgupta-omg/Kaggle-SMS-Spam-Collection-Dataset-/master/spam.csv\", filename=\"spam.csv\")\r\n",
        "data = pd.read_csv('spam.csv',encoding='latin1')"
      ],
      "execution_count": 3,
      "outputs": []
    },
    {
      "cell_type": "code",
      "metadata": {
        "colab": {
          "base_uri": "https://localhost:8080/",
          "height": 402
        },
        "id": "QNU5RLzep24B",
        "outputId": "bbf1b95a-c1c9-4e01-ce46-982ba78560f1"
      },
      "source": [
        "data"
      ],
      "execution_count": 4,
      "outputs": [
        {
          "output_type": "execute_result",
          "data": {
            "text/html": [
              "<div>\n",
              "<style scoped>\n",
              "    .dataframe tbody tr th:only-of-type {\n",
              "        vertical-align: middle;\n",
              "    }\n",
              "\n",
              "    .dataframe tbody tr th {\n",
              "        vertical-align: top;\n",
              "    }\n",
              "\n",
              "    .dataframe thead th {\n",
              "        text-align: right;\n",
              "    }\n",
              "</style>\n",
              "<table border=\"1\" class=\"dataframe\">\n",
              "  <thead>\n",
              "    <tr style=\"text-align: right;\">\n",
              "      <th></th>\n",
              "      <th>v1</th>\n",
              "      <th>v2</th>\n",
              "      <th>Unnamed: 2</th>\n",
              "      <th>Unnamed: 3</th>\n",
              "      <th>Unnamed: 4</th>\n",
              "    </tr>\n",
              "  </thead>\n",
              "  <tbody>\n",
              "    <tr>\n",
              "      <th>0</th>\n",
              "      <td>ham</td>\n",
              "      <td>Go until jurong point, crazy.. Available only ...</td>\n",
              "      <td>NaN</td>\n",
              "      <td>NaN</td>\n",
              "      <td>NaN</td>\n",
              "    </tr>\n",
              "    <tr>\n",
              "      <th>1</th>\n",
              "      <td>ham</td>\n",
              "      <td>Ok lar... Joking wif u oni...</td>\n",
              "      <td>NaN</td>\n",
              "      <td>NaN</td>\n",
              "      <td>NaN</td>\n",
              "    </tr>\n",
              "    <tr>\n",
              "      <th>2</th>\n",
              "      <td>spam</td>\n",
              "      <td>Free entry in 2 a wkly comp to win FA Cup fina...</td>\n",
              "      <td>NaN</td>\n",
              "      <td>NaN</td>\n",
              "      <td>NaN</td>\n",
              "    </tr>\n",
              "    <tr>\n",
              "      <th>3</th>\n",
              "      <td>ham</td>\n",
              "      <td>U dun say so early hor... U c already then say...</td>\n",
              "      <td>NaN</td>\n",
              "      <td>NaN</td>\n",
              "      <td>NaN</td>\n",
              "    </tr>\n",
              "    <tr>\n",
              "      <th>4</th>\n",
              "      <td>ham</td>\n",
              "      <td>Nah I don't think he goes to usf, he lives aro...</td>\n",
              "      <td>NaN</td>\n",
              "      <td>NaN</td>\n",
              "      <td>NaN</td>\n",
              "    </tr>\n",
              "    <tr>\n",
              "      <th>...</th>\n",
              "      <td>...</td>\n",
              "      <td>...</td>\n",
              "      <td>...</td>\n",
              "      <td>...</td>\n",
              "      <td>...</td>\n",
              "    </tr>\n",
              "    <tr>\n",
              "      <th>5567</th>\n",
              "      <td>spam</td>\n",
              "      <td>This is the 2nd time we have tried 2 contact u...</td>\n",
              "      <td>NaN</td>\n",
              "      <td>NaN</td>\n",
              "      <td>NaN</td>\n",
              "    </tr>\n",
              "    <tr>\n",
              "      <th>5568</th>\n",
              "      <td>ham</td>\n",
              "      <td>Will Ì_ b going to esplanade fr home?</td>\n",
              "      <td>NaN</td>\n",
              "      <td>NaN</td>\n",
              "      <td>NaN</td>\n",
              "    </tr>\n",
              "    <tr>\n",
              "      <th>5569</th>\n",
              "      <td>ham</td>\n",
              "      <td>Pity, * was in mood for that. So...any other s...</td>\n",
              "      <td>NaN</td>\n",
              "      <td>NaN</td>\n",
              "      <td>NaN</td>\n",
              "    </tr>\n",
              "    <tr>\n",
              "      <th>5570</th>\n",
              "      <td>ham</td>\n",
              "      <td>The guy did some bitching but I acted like i'd...</td>\n",
              "      <td>NaN</td>\n",
              "      <td>NaN</td>\n",
              "      <td>NaN</td>\n",
              "    </tr>\n",
              "    <tr>\n",
              "      <th>5571</th>\n",
              "      <td>ham</td>\n",
              "      <td>Rofl. Its true to its name</td>\n",
              "      <td>NaN</td>\n",
              "      <td>NaN</td>\n",
              "      <td>NaN</td>\n",
              "    </tr>\n",
              "  </tbody>\n",
              "</table>\n",
              "<p>5572 rows × 5 columns</p>\n",
              "</div>"
            ],
            "text/plain": [
              "        v1  ... Unnamed: 4\n",
              "0      ham  ...        NaN\n",
              "1      ham  ...        NaN\n",
              "2     spam  ...        NaN\n",
              "3      ham  ...        NaN\n",
              "4      ham  ...        NaN\n",
              "...    ...  ...        ...\n",
              "5567  spam  ...        NaN\n",
              "5568   ham  ...        NaN\n",
              "5569   ham  ...        NaN\n",
              "5570   ham  ...        NaN\n",
              "5571   ham  ...        NaN\n",
              "\n",
              "[5572 rows x 5 columns]"
            ]
          },
          "metadata": {
            "tags": []
          },
          "execution_count": 4
        }
      ]
    },
    {
      "cell_type": "markdown",
      "metadata": {
        "id": "pxOm3sWNqhSf"
      },
      "source": [
        "Unnamed2, Unnamed3, Unnaed4 제거"
      ]
    },
    {
      "cell_type": "code",
      "metadata": {
        "id": "EGC6X-9FqgoC"
      },
      "source": [
        "del data['Unnamed: 2']\r\n",
        "del data['Unnamed: 3']\r\n",
        "del data['Unnamed: 4']\r\n",
        "data['v1']=data['v1'].replace(['ham', 'spam'], [0, 1])"
      ],
      "execution_count": 5,
      "outputs": []
    },
    {
      "cell_type": "code",
      "metadata": {
        "colab": {
          "base_uri": "https://localhost:8080/",
          "height": 402
        },
        "id": "AkD5h21gq0-k",
        "outputId": "516b23f2-b30c-40ef-8eb6-8d78fb50369d"
      },
      "source": [
        "data"
      ],
      "execution_count": 6,
      "outputs": [
        {
          "output_type": "execute_result",
          "data": {
            "text/html": [
              "<div>\n",
              "<style scoped>\n",
              "    .dataframe tbody tr th:only-of-type {\n",
              "        vertical-align: middle;\n",
              "    }\n",
              "\n",
              "    .dataframe tbody tr th {\n",
              "        vertical-align: top;\n",
              "    }\n",
              "\n",
              "    .dataframe thead th {\n",
              "        text-align: right;\n",
              "    }\n",
              "</style>\n",
              "<table border=\"1\" class=\"dataframe\">\n",
              "  <thead>\n",
              "    <tr style=\"text-align: right;\">\n",
              "      <th></th>\n",
              "      <th>v1</th>\n",
              "      <th>v2</th>\n",
              "    </tr>\n",
              "  </thead>\n",
              "  <tbody>\n",
              "    <tr>\n",
              "      <th>0</th>\n",
              "      <td>0</td>\n",
              "      <td>Go until jurong point, crazy.. Available only ...</td>\n",
              "    </tr>\n",
              "    <tr>\n",
              "      <th>1</th>\n",
              "      <td>0</td>\n",
              "      <td>Ok lar... Joking wif u oni...</td>\n",
              "    </tr>\n",
              "    <tr>\n",
              "      <th>2</th>\n",
              "      <td>1</td>\n",
              "      <td>Free entry in 2 a wkly comp to win FA Cup fina...</td>\n",
              "    </tr>\n",
              "    <tr>\n",
              "      <th>3</th>\n",
              "      <td>0</td>\n",
              "      <td>U dun say so early hor... U c already then say...</td>\n",
              "    </tr>\n",
              "    <tr>\n",
              "      <th>4</th>\n",
              "      <td>0</td>\n",
              "      <td>Nah I don't think he goes to usf, he lives aro...</td>\n",
              "    </tr>\n",
              "    <tr>\n",
              "      <th>...</th>\n",
              "      <td>...</td>\n",
              "      <td>...</td>\n",
              "    </tr>\n",
              "    <tr>\n",
              "      <th>5567</th>\n",
              "      <td>1</td>\n",
              "      <td>This is the 2nd time we have tried 2 contact u...</td>\n",
              "    </tr>\n",
              "    <tr>\n",
              "      <th>5568</th>\n",
              "      <td>0</td>\n",
              "      <td>Will Ì_ b going to esplanade fr home?</td>\n",
              "    </tr>\n",
              "    <tr>\n",
              "      <th>5569</th>\n",
              "      <td>0</td>\n",
              "      <td>Pity, * was in mood for that. So...any other s...</td>\n",
              "    </tr>\n",
              "    <tr>\n",
              "      <th>5570</th>\n",
              "      <td>0</td>\n",
              "      <td>The guy did some bitching but I acted like i'd...</td>\n",
              "    </tr>\n",
              "    <tr>\n",
              "      <th>5571</th>\n",
              "      <td>0</td>\n",
              "      <td>Rofl. Its true to its name</td>\n",
              "    </tr>\n",
              "  </tbody>\n",
              "</table>\n",
              "<p>5572 rows × 2 columns</p>\n",
              "</div>"
            ],
            "text/plain": [
              "      v1                                                 v2\n",
              "0      0  Go until jurong point, crazy.. Available only ...\n",
              "1      0                      Ok lar... Joking wif u oni...\n",
              "2      1  Free entry in 2 a wkly comp to win FA Cup fina...\n",
              "3      0  U dun say so early hor... U c already then say...\n",
              "4      0  Nah I don't think he goes to usf, he lives aro...\n",
              "...   ..                                                ...\n",
              "5567   1  This is the 2nd time we have tried 2 contact u...\n",
              "5568   0              Will Ì_ b going to esplanade fr home?\n",
              "5569   0  Pity, * was in mood for that. So...any other s...\n",
              "5570   0  The guy did some bitching but I acted like i'd...\n",
              "5571   0                         Rofl. Its true to its name\n",
              "\n",
              "[5572 rows x 2 columns]"
            ]
          },
          "metadata": {
            "tags": []
          },
          "execution_count": 6
        }
      ]
    },
    {
      "cell_type": "markdown",
      "metadata": {
        "id": "GwDTCePts8uZ"
      },
      "source": [
        "데이터 전처리"
      ]
    },
    {
      "cell_type": "markdown",
      "metadata": {
        "id": "oErAUPbCtdGz"
      },
      "source": [
        "1) 대소문자 변경(정제 과정)"
      ]
    },
    {
      "cell_type": "code",
      "metadata": {
        "colab": {
          "base_uri": "https://localhost:8080/",
          "height": 490
        },
        "id": "hvNenu93tcUV",
        "outputId": "59dea5e4-04e1-4807-a406-2a30ee014226"
      },
      "source": [
        "for i in range(data.shape[0]):\r\n",
        "  data['v2'][i]=data['v2'][i].lower()\r\n",
        "data"
      ],
      "execution_count": 7,
      "outputs": [
        {
          "output_type": "stream",
          "text": [
            "/usr/local/lib/python3.6/dist-packages/ipykernel_launcher.py:2: SettingWithCopyWarning: \n",
            "A value is trying to be set on a copy of a slice from a DataFrame\n",
            "\n",
            "See the caveats in the documentation: https://pandas.pydata.org/pandas-docs/stable/user_guide/indexing.html#returning-a-view-versus-a-copy\n",
            "  \n"
          ],
          "name": "stderr"
        },
        {
          "output_type": "execute_result",
          "data": {
            "text/html": [
              "<div>\n",
              "<style scoped>\n",
              "    .dataframe tbody tr th:only-of-type {\n",
              "        vertical-align: middle;\n",
              "    }\n",
              "\n",
              "    .dataframe tbody tr th {\n",
              "        vertical-align: top;\n",
              "    }\n",
              "\n",
              "    .dataframe thead th {\n",
              "        text-align: right;\n",
              "    }\n",
              "</style>\n",
              "<table border=\"1\" class=\"dataframe\">\n",
              "  <thead>\n",
              "    <tr style=\"text-align: right;\">\n",
              "      <th></th>\n",
              "      <th>v1</th>\n",
              "      <th>v2</th>\n",
              "    </tr>\n",
              "  </thead>\n",
              "  <tbody>\n",
              "    <tr>\n",
              "      <th>0</th>\n",
              "      <td>0</td>\n",
              "      <td>go until jurong point, crazy.. available only ...</td>\n",
              "    </tr>\n",
              "    <tr>\n",
              "      <th>1</th>\n",
              "      <td>0</td>\n",
              "      <td>ok lar... joking wif u oni...</td>\n",
              "    </tr>\n",
              "    <tr>\n",
              "      <th>2</th>\n",
              "      <td>1</td>\n",
              "      <td>free entry in 2 a wkly comp to win fa cup fina...</td>\n",
              "    </tr>\n",
              "    <tr>\n",
              "      <th>3</th>\n",
              "      <td>0</td>\n",
              "      <td>u dun say so early hor... u c already then say...</td>\n",
              "    </tr>\n",
              "    <tr>\n",
              "      <th>4</th>\n",
              "      <td>0</td>\n",
              "      <td>nah i don't think he goes to usf, he lives aro...</td>\n",
              "    </tr>\n",
              "    <tr>\n",
              "      <th>...</th>\n",
              "      <td>...</td>\n",
              "      <td>...</td>\n",
              "    </tr>\n",
              "    <tr>\n",
              "      <th>5567</th>\n",
              "      <td>1</td>\n",
              "      <td>this is the 2nd time we have tried 2 contact u...</td>\n",
              "    </tr>\n",
              "    <tr>\n",
              "      <th>5568</th>\n",
              "      <td>0</td>\n",
              "      <td>will ì_ b going to esplanade fr home?</td>\n",
              "    </tr>\n",
              "    <tr>\n",
              "      <th>5569</th>\n",
              "      <td>0</td>\n",
              "      <td>pity, * was in mood for that. so...any other s...</td>\n",
              "    </tr>\n",
              "    <tr>\n",
              "      <th>5570</th>\n",
              "      <td>0</td>\n",
              "      <td>the guy did some bitching but i acted like i'd...</td>\n",
              "    </tr>\n",
              "    <tr>\n",
              "      <th>5571</th>\n",
              "      <td>0</td>\n",
              "      <td>rofl. its true to its name</td>\n",
              "    </tr>\n",
              "  </tbody>\n",
              "</table>\n",
              "<p>5572 rows × 2 columns</p>\n",
              "</div>"
            ],
            "text/plain": [
              "      v1                                                 v2\n",
              "0      0  go until jurong point, crazy.. available only ...\n",
              "1      0                      ok lar... joking wif u oni...\n",
              "2      1  free entry in 2 a wkly comp to win fa cup fina...\n",
              "3      0  u dun say so early hor... u c already then say...\n",
              "4      0  nah i don't think he goes to usf, he lives aro...\n",
              "...   ..                                                ...\n",
              "5567   1  this is the 2nd time we have tried 2 contact u...\n",
              "5568   0              will ì_ b going to esplanade fr home?\n",
              "5569   0  pity, * was in mood for that. so...any other s...\n",
              "5570   0  the guy did some bitching but i acted like i'd...\n",
              "5571   0                         rofl. its true to its name\n",
              "\n",
              "[5572 rows x 2 columns]"
            ]
          },
          "metadata": {
            "tags": []
          },
          "execution_count": 7
        }
      ]
    },
    {
      "cell_type": "markdown",
      "metadata": {
        "id": "fprOz7XByIxp"
      },
      "source": [
        "2) 구두점 제거(정제 과정)"
      ]
    },
    {
      "cell_type": "code",
      "metadata": {
        "colab": {
          "base_uri": "https://localhost:8080/",
          "height": 490
        },
        "id": "ESFh76l_yJ-v",
        "outputId": "db805498-2d15-4c71-bf50-e56ab3ee33da"
      },
      "source": [
        "import re\r\n",
        "for i in range(data.shape[0]):\r\n",
        "  data['v2'][i]=re.sub('[-=+,#/\\?:^$.@*\\\"※~&%ㆍ!』\\\\‘|\\(\\)\\[\\]\\<\\>`\\'…》;]', '', data['v2'][i])\r\n",
        "data"
      ],
      "execution_count": 8,
      "outputs": [
        {
          "output_type": "stream",
          "text": [
            "/usr/local/lib/python3.6/dist-packages/ipykernel_launcher.py:3: SettingWithCopyWarning: \n",
            "A value is trying to be set on a copy of a slice from a DataFrame\n",
            "\n",
            "See the caveats in the documentation: https://pandas.pydata.org/pandas-docs/stable/user_guide/indexing.html#returning-a-view-versus-a-copy\n",
            "  This is separate from the ipykernel package so we can avoid doing imports until\n"
          ],
          "name": "stderr"
        },
        {
          "output_type": "execute_result",
          "data": {
            "text/html": [
              "<div>\n",
              "<style scoped>\n",
              "    .dataframe tbody tr th:only-of-type {\n",
              "        vertical-align: middle;\n",
              "    }\n",
              "\n",
              "    .dataframe tbody tr th {\n",
              "        vertical-align: top;\n",
              "    }\n",
              "\n",
              "    .dataframe thead th {\n",
              "        text-align: right;\n",
              "    }\n",
              "</style>\n",
              "<table border=\"1\" class=\"dataframe\">\n",
              "  <thead>\n",
              "    <tr style=\"text-align: right;\">\n",
              "      <th></th>\n",
              "      <th>v1</th>\n",
              "      <th>v2</th>\n",
              "    </tr>\n",
              "  </thead>\n",
              "  <tbody>\n",
              "    <tr>\n",
              "      <th>0</th>\n",
              "      <td>0</td>\n",
              "      <td>go until jurong point crazy available only in ...</td>\n",
              "    </tr>\n",
              "    <tr>\n",
              "      <th>1</th>\n",
              "      <td>0</td>\n",
              "      <td>ok lar joking wif u oni</td>\n",
              "    </tr>\n",
              "    <tr>\n",
              "      <th>2</th>\n",
              "      <td>1</td>\n",
              "      <td>free entry in 2 a wkly comp to win fa cup fina...</td>\n",
              "    </tr>\n",
              "    <tr>\n",
              "      <th>3</th>\n",
              "      <td>0</td>\n",
              "      <td>u dun say so early hor u c already then say</td>\n",
              "    </tr>\n",
              "    <tr>\n",
              "      <th>4</th>\n",
              "      <td>0</td>\n",
              "      <td>nah i dont think he goes to usf he lives aroun...</td>\n",
              "    </tr>\n",
              "    <tr>\n",
              "      <th>...</th>\n",
              "      <td>...</td>\n",
              "      <td>...</td>\n",
              "    </tr>\n",
              "    <tr>\n",
              "      <th>5567</th>\n",
              "      <td>1</td>\n",
              "      <td>this is the 2nd time we have tried 2 contact u...</td>\n",
              "    </tr>\n",
              "    <tr>\n",
              "      <th>5568</th>\n",
              "      <td>0</td>\n",
              "      <td>will ì_ b going to esplanade fr home</td>\n",
              "    </tr>\n",
              "    <tr>\n",
              "      <th>5569</th>\n",
              "      <td>0</td>\n",
              "      <td>pity  was in mood for that soany other suggest...</td>\n",
              "    </tr>\n",
              "    <tr>\n",
              "      <th>5570</th>\n",
              "      <td>0</td>\n",
              "      <td>the guy did some bitching but i acted like id ...</td>\n",
              "    </tr>\n",
              "    <tr>\n",
              "      <th>5571</th>\n",
              "      <td>0</td>\n",
              "      <td>rofl its true to its name</td>\n",
              "    </tr>\n",
              "  </tbody>\n",
              "</table>\n",
              "<p>5572 rows × 2 columns</p>\n",
              "</div>"
            ],
            "text/plain": [
              "      v1                                                 v2\n",
              "0      0  go until jurong point crazy available only in ...\n",
              "1      0                            ok lar joking wif u oni\n",
              "2      1  free entry in 2 a wkly comp to win fa cup fina...\n",
              "3      0        u dun say so early hor u c already then say\n",
              "4      0  nah i dont think he goes to usf he lives aroun...\n",
              "...   ..                                                ...\n",
              "5567   1  this is the 2nd time we have tried 2 contact u...\n",
              "5568   0               will ì_ b going to esplanade fr home\n",
              "5569   0  pity  was in mood for that soany other suggest...\n",
              "5570   0  the guy did some bitching but i acted like id ...\n",
              "5571   0                          rofl its true to its name\n",
              "\n",
              "[5572 rows x 2 columns]"
            ]
          },
          "metadata": {
            "tags": []
          },
          "execution_count": 8
        }
      ]
    },
    {
      "cell_type": "markdown",
      "metadata": {
        "id": "vHIEtrkd-qG0"
      },
      "source": [
        "3) 길이가 2 이하인 단어 제거(정제 과정)"
      ]
    },
    {
      "cell_type": "code",
      "metadata": {
        "colab": {
          "base_uri": "https://localhost:8080/",
          "height": 490
        },
        "id": "kEzeI248-tRH",
        "outputId": "257b5096-3506-4e46-809c-829da9dfcfae"
      },
      "source": [
        "#import re\r\n",
        "for i in range(data.shape[0]):\r\n",
        "  shortword = re.compile(r'\\W*\\b\\w{1,2}\\b')\r\n",
        "  data['v2'][i]=shortword.sub('', data['v2'][i])\r\n",
        "data"
      ],
      "execution_count": 9,
      "outputs": [
        {
          "output_type": "stream",
          "text": [
            "/usr/local/lib/python3.6/dist-packages/ipykernel_launcher.py:4: SettingWithCopyWarning: \n",
            "A value is trying to be set on a copy of a slice from a DataFrame\n",
            "\n",
            "See the caveats in the documentation: https://pandas.pydata.org/pandas-docs/stable/user_guide/indexing.html#returning-a-view-versus-a-copy\n",
            "  after removing the cwd from sys.path.\n"
          ],
          "name": "stderr"
        },
        {
          "output_type": "execute_result",
          "data": {
            "text/html": [
              "<div>\n",
              "<style scoped>\n",
              "    .dataframe tbody tr th:only-of-type {\n",
              "        vertical-align: middle;\n",
              "    }\n",
              "\n",
              "    .dataframe tbody tr th {\n",
              "        vertical-align: top;\n",
              "    }\n",
              "\n",
              "    .dataframe thead th {\n",
              "        text-align: right;\n",
              "    }\n",
              "</style>\n",
              "<table border=\"1\" class=\"dataframe\">\n",
              "  <thead>\n",
              "    <tr style=\"text-align: right;\">\n",
              "      <th></th>\n",
              "      <th>v1</th>\n",
              "      <th>v2</th>\n",
              "    </tr>\n",
              "  </thead>\n",
              "  <tbody>\n",
              "    <tr>\n",
              "      <th>0</th>\n",
              "      <td>0</td>\n",
              "      <td>until jurong point crazy available only bugis...</td>\n",
              "    </tr>\n",
              "    <tr>\n",
              "      <th>1</th>\n",
              "      <td>0</td>\n",
              "      <td>lar joking wif oni</td>\n",
              "    </tr>\n",
              "    <tr>\n",
              "      <th>2</th>\n",
              "      <td>1</td>\n",
              "      <td>free entry wkly comp win cup final tkts 21st m...</td>\n",
              "    </tr>\n",
              "    <tr>\n",
              "      <th>3</th>\n",
              "      <td>0</td>\n",
              "      <td>dun say early hor already then say</td>\n",
              "    </tr>\n",
              "    <tr>\n",
              "      <th>4</th>\n",
              "      <td>0</td>\n",
              "      <td>nah dont think goes usf lives around here though</td>\n",
              "    </tr>\n",
              "    <tr>\n",
              "      <th>...</th>\n",
              "      <td>...</td>\n",
              "      <td>...</td>\n",
              "    </tr>\n",
              "    <tr>\n",
              "      <th>5567</th>\n",
              "      <td>1</td>\n",
              "      <td>this the 2nd time have tried contact have won ...</td>\n",
              "    </tr>\n",
              "    <tr>\n",
              "      <th>5568</th>\n",
              "      <td>0</td>\n",
              "      <td>will going esplanade home</td>\n",
              "    </tr>\n",
              "    <tr>\n",
              "      <th>5569</th>\n",
              "      <td>0</td>\n",
              "      <td>pity  was mood for that soany other suggestions</td>\n",
              "    </tr>\n",
              "    <tr>\n",
              "      <th>5570</th>\n",
              "      <td>0</td>\n",
              "      <td>the guy did some bitching but acted like inter...</td>\n",
              "    </tr>\n",
              "    <tr>\n",
              "      <th>5571</th>\n",
              "      <td>0</td>\n",
              "      <td>rofl its true its name</td>\n",
              "    </tr>\n",
              "  </tbody>\n",
              "</table>\n",
              "<p>5572 rows × 2 columns</p>\n",
              "</div>"
            ],
            "text/plain": [
              "      v1                                                 v2\n",
              "0      0   until jurong point crazy available only bugis...\n",
              "1      0                                 lar joking wif oni\n",
              "2      1  free entry wkly comp win cup final tkts 21st m...\n",
              "3      0                 dun say early hor already then say\n",
              "4      0   nah dont think goes usf lives around here though\n",
              "...   ..                                                ...\n",
              "5567   1  this the 2nd time have tried contact have won ...\n",
              "5568   0                          will going esplanade home\n",
              "5569   0    pity  was mood for that soany other suggestions\n",
              "5570   0  the guy did some bitching but acted like inter...\n",
              "5571   0                             rofl its true its name\n",
              "\n",
              "[5572 rows x 2 columns]"
            ]
          },
          "metadata": {
            "tags": []
          },
          "execution_count": 9
        }
      ]
    },
    {
      "cell_type": "markdown",
      "metadata": {
        "id": "ME2xXcqFvyRQ"
      },
      "source": [
        "4) 단어 토큰화"
      ]
    },
    {
      "cell_type": "code",
      "metadata": {
        "colab": {
          "base_uri": "https://localhost:8080/",
          "height": 490
        },
        "id": "P8YklLtds70V",
        "outputId": "f2ce480f-e7d1-448f-8f69-7e68d88f73ad"
      },
      "source": [
        "from nltk.tokenize import word_tokenize\r\n",
        "for i in range(data.shape[0]):\r\n",
        "  data['v2'][i]=word_tokenize(data['v2'][i])\r\n",
        "data"
      ],
      "execution_count": 10,
      "outputs": [
        {
          "output_type": "stream",
          "text": [
            "/usr/local/lib/python3.6/dist-packages/ipykernel_launcher.py:3: SettingWithCopyWarning: \n",
            "A value is trying to be set on a copy of a slice from a DataFrame\n",
            "\n",
            "See the caveats in the documentation: https://pandas.pydata.org/pandas-docs/stable/user_guide/indexing.html#returning-a-view-versus-a-copy\n",
            "  This is separate from the ipykernel package so we can avoid doing imports until\n"
          ],
          "name": "stderr"
        },
        {
          "output_type": "execute_result",
          "data": {
            "text/html": [
              "<div>\n",
              "<style scoped>\n",
              "    .dataframe tbody tr th:only-of-type {\n",
              "        vertical-align: middle;\n",
              "    }\n",
              "\n",
              "    .dataframe tbody tr th {\n",
              "        vertical-align: top;\n",
              "    }\n",
              "\n",
              "    .dataframe thead th {\n",
              "        text-align: right;\n",
              "    }\n",
              "</style>\n",
              "<table border=\"1\" class=\"dataframe\">\n",
              "  <thead>\n",
              "    <tr style=\"text-align: right;\">\n",
              "      <th></th>\n",
              "      <th>v1</th>\n",
              "      <th>v2</th>\n",
              "    </tr>\n",
              "  </thead>\n",
              "  <tbody>\n",
              "    <tr>\n",
              "      <th>0</th>\n",
              "      <td>0</td>\n",
              "      <td>[until, jurong, point, crazy, available, only,...</td>\n",
              "    </tr>\n",
              "    <tr>\n",
              "      <th>1</th>\n",
              "      <td>0</td>\n",
              "      <td>[lar, joking, wif, oni]</td>\n",
              "    </tr>\n",
              "    <tr>\n",
              "      <th>2</th>\n",
              "      <td>1</td>\n",
              "      <td>[free, entry, wkly, comp, win, cup, final, tkt...</td>\n",
              "    </tr>\n",
              "    <tr>\n",
              "      <th>3</th>\n",
              "      <td>0</td>\n",
              "      <td>[dun, say, early, hor, already, then, say]</td>\n",
              "    </tr>\n",
              "    <tr>\n",
              "      <th>4</th>\n",
              "      <td>0</td>\n",
              "      <td>[nah, dont, think, goes, usf, lives, around, h...</td>\n",
              "    </tr>\n",
              "    <tr>\n",
              "      <th>...</th>\n",
              "      <td>...</td>\n",
              "      <td>...</td>\n",
              "    </tr>\n",
              "    <tr>\n",
              "      <th>5567</th>\n",
              "      <td>1</td>\n",
              "      <td>[this, the, 2nd, time, have, tried, contact, h...</td>\n",
              "    </tr>\n",
              "    <tr>\n",
              "      <th>5568</th>\n",
              "      <td>0</td>\n",
              "      <td>[will, going, esplanade, home]</td>\n",
              "    </tr>\n",
              "    <tr>\n",
              "      <th>5569</th>\n",
              "      <td>0</td>\n",
              "      <td>[pity, was, mood, for, that, soany, other, sug...</td>\n",
              "    </tr>\n",
              "    <tr>\n",
              "      <th>5570</th>\n",
              "      <td>0</td>\n",
              "      <td>[the, guy, did, some, bitching, but, acted, li...</td>\n",
              "    </tr>\n",
              "    <tr>\n",
              "      <th>5571</th>\n",
              "      <td>0</td>\n",
              "      <td>[rofl, its, true, its, name]</td>\n",
              "    </tr>\n",
              "  </tbody>\n",
              "</table>\n",
              "<p>5572 rows × 2 columns</p>\n",
              "</div>"
            ],
            "text/plain": [
              "      v1                                                 v2\n",
              "0      0  [until, jurong, point, crazy, available, only,...\n",
              "1      0                            [lar, joking, wif, oni]\n",
              "2      1  [free, entry, wkly, comp, win, cup, final, tkt...\n",
              "3      0         [dun, say, early, hor, already, then, say]\n",
              "4      0  [nah, dont, think, goes, usf, lives, around, h...\n",
              "...   ..                                                ...\n",
              "5567   1  [this, the, 2nd, time, have, tried, contact, h...\n",
              "5568   0                     [will, going, esplanade, home]\n",
              "5569   0  [pity, was, mood, for, that, soany, other, sug...\n",
              "5570   0  [the, guy, did, some, bitching, but, acted, li...\n",
              "5571   0                       [rofl, its, true, its, name]\n",
              "\n",
              "[5572 rows x 2 columns]"
            ]
          },
          "metadata": {
            "tags": []
          },
          "execution_count": 10
        }
      ]
    },
    {
      "cell_type": "markdown",
      "metadata": {
        "id": "1HL32Foaw060"
      },
      "source": [
        "5) 불용어(stopwords) 제거"
      ]
    },
    {
      "cell_type": "code",
      "metadata": {
        "colab": {
          "base_uri": "https://localhost:8080/"
        },
        "id": "PUVD-hRr3cTq",
        "outputId": "d8eceb9b-3d8d-4915-fead-c930cf638050"
      },
      "source": [
        "import nltk\r\n",
        "nltk.download('stopwords')"
      ],
      "execution_count": 11,
      "outputs": [
        {
          "output_type": "stream",
          "text": [
            "[nltk_data] Downloading package stopwords to /root/nltk_data...\n",
            "[nltk_data]   Package stopwords is already up-to-date!\n"
          ],
          "name": "stdout"
        },
        {
          "output_type": "execute_result",
          "data": {
            "text/plain": [
              "True"
            ]
          },
          "metadata": {
            "tags": []
          },
          "execution_count": 11
        }
      ]
    },
    {
      "cell_type": "code",
      "metadata": {
        "colab": {
          "base_uri": "https://localhost:8080/",
          "height": 490
        },
        "id": "-dkcsW3hw7Sp",
        "outputId": "113fcaf5-8ceb-45c7-b0ac-f4495a89087e"
      },
      "source": [
        "from nltk.corpus import stopwords\r\n",
        "stop_words=stopwords.words('english')\r\n",
        "for i in range(data.shape[0]):\r\n",
        "  tmp=[]\r\n",
        "  for w in data['v2'][i]:\r\n",
        "    if w not in stop_words:\r\n",
        "      tmp.append(w)\r\n",
        "  data['v2'][i]=tmp\r\n",
        "data"
      ],
      "execution_count": 12,
      "outputs": [
        {
          "output_type": "stream",
          "text": [
            "/usr/local/lib/python3.6/dist-packages/ipykernel_launcher.py:8: SettingWithCopyWarning: \n",
            "A value is trying to be set on a copy of a slice from a DataFrame\n",
            "\n",
            "See the caveats in the documentation: https://pandas.pydata.org/pandas-docs/stable/user_guide/indexing.html#returning-a-view-versus-a-copy\n",
            "  \n"
          ],
          "name": "stderr"
        },
        {
          "output_type": "execute_result",
          "data": {
            "text/html": [
              "<div>\n",
              "<style scoped>\n",
              "    .dataframe tbody tr th:only-of-type {\n",
              "        vertical-align: middle;\n",
              "    }\n",
              "\n",
              "    .dataframe tbody tr th {\n",
              "        vertical-align: top;\n",
              "    }\n",
              "\n",
              "    .dataframe thead th {\n",
              "        text-align: right;\n",
              "    }\n",
              "</style>\n",
              "<table border=\"1\" class=\"dataframe\">\n",
              "  <thead>\n",
              "    <tr style=\"text-align: right;\">\n",
              "      <th></th>\n",
              "      <th>v1</th>\n",
              "      <th>v2</th>\n",
              "    </tr>\n",
              "  </thead>\n",
              "  <tbody>\n",
              "    <tr>\n",
              "      <th>0</th>\n",
              "      <td>0</td>\n",
              "      <td>[jurong, point, crazy, available, bugis, great...</td>\n",
              "    </tr>\n",
              "    <tr>\n",
              "      <th>1</th>\n",
              "      <td>0</td>\n",
              "      <td>[lar, joking, wif, oni]</td>\n",
              "    </tr>\n",
              "    <tr>\n",
              "      <th>2</th>\n",
              "      <td>1</td>\n",
              "      <td>[free, entry, wkly, comp, win, cup, final, tkt...</td>\n",
              "    </tr>\n",
              "    <tr>\n",
              "      <th>3</th>\n",
              "      <td>0</td>\n",
              "      <td>[dun, say, early, hor, already, say]</td>\n",
              "    </tr>\n",
              "    <tr>\n",
              "      <th>4</th>\n",
              "      <td>0</td>\n",
              "      <td>[nah, dont, think, goes, usf, lives, around, t...</td>\n",
              "    </tr>\n",
              "    <tr>\n",
              "      <th>...</th>\n",
              "      <td>...</td>\n",
              "      <td>...</td>\n",
              "    </tr>\n",
              "    <tr>\n",
              "      <th>5567</th>\n",
              "      <td>1</td>\n",
              "      <td>[2nd, time, tried, contact, the£750, pound, pr...</td>\n",
              "    </tr>\n",
              "    <tr>\n",
              "      <th>5568</th>\n",
              "      <td>0</td>\n",
              "      <td>[going, esplanade, home]</td>\n",
              "    </tr>\n",
              "    <tr>\n",
              "      <th>5569</th>\n",
              "      <td>0</td>\n",
              "      <td>[pity, mood, soany, suggestions]</td>\n",
              "    </tr>\n",
              "    <tr>\n",
              "      <th>5570</th>\n",
              "      <td>0</td>\n",
              "      <td>[guy, bitching, acted, like, interested, buyin...</td>\n",
              "    </tr>\n",
              "    <tr>\n",
              "      <th>5571</th>\n",
              "      <td>0</td>\n",
              "      <td>[rofl, true, name]</td>\n",
              "    </tr>\n",
              "  </tbody>\n",
              "</table>\n",
              "<p>5572 rows × 2 columns</p>\n",
              "</div>"
            ],
            "text/plain": [
              "      v1                                                 v2\n",
              "0      0  [jurong, point, crazy, available, bugis, great...\n",
              "1      0                            [lar, joking, wif, oni]\n",
              "2      1  [free, entry, wkly, comp, win, cup, final, tkt...\n",
              "3      0               [dun, say, early, hor, already, say]\n",
              "4      0  [nah, dont, think, goes, usf, lives, around, t...\n",
              "...   ..                                                ...\n",
              "5567   1  [2nd, time, tried, contact, the£750, pound, pr...\n",
              "5568   0                           [going, esplanade, home]\n",
              "5569   0                   [pity, mood, soany, suggestions]\n",
              "5570   0  [guy, bitching, acted, like, interested, buyin...\n",
              "5571   0                                 [rofl, true, name]\n",
              "\n",
              "[5572 rows x 2 columns]"
            ]
          },
          "metadata": {
            "tags": []
          },
          "execution_count": 12
        }
      ]
    },
    {
      "cell_type": "markdown",
      "metadata": {
        "id": "tROaETVp3kno"
      },
      "source": [
        "6) 표제어 추출(lemmatazition) 과정"
      ]
    },
    {
      "cell_type": "code",
      "metadata": {
        "colab": {
          "base_uri": "https://localhost:8080/"
        },
        "id": "ws8G3DSs943H",
        "outputId": "0458ee85-5ec2-4d3c-9fec-daaf58bdd042"
      },
      "source": [
        "nltk.download('wordnet')"
      ],
      "execution_count": 13,
      "outputs": [
        {
          "output_type": "stream",
          "text": [
            "[nltk_data] Downloading package wordnet to /root/nltk_data...\n",
            "[nltk_data]   Package wordnet is already up-to-date!\n"
          ],
          "name": "stdout"
        },
        {
          "output_type": "execute_result",
          "data": {
            "text/plain": [
              "True"
            ]
          },
          "metadata": {
            "tags": []
          },
          "execution_count": 13
        }
      ]
    },
    {
      "cell_type": "code",
      "metadata": {
        "colab": {
          "base_uri": "https://localhost:8080/",
          "height": 490
        },
        "id": "26Z9dxHr3rs0",
        "outputId": "498e7e08-4cb0-408c-8b1f-21cf06710f1e"
      },
      "source": [
        "from nltk.stem import WordNetLemmatizer\r\n",
        "lem=WordNetLemmatizer()\r\n",
        "for i in range(data.shape[0]):\r\n",
        "  tmp=\"\"\r\n",
        "  cnt=1\r\n",
        "  length=len(data['v2'][i])\r\n",
        "  for w in data['v2'][i]:\r\n",
        "    if cnt==length:\r\n",
        "      tmp=tmp+lem.lemmatize(w)\r\n",
        "    else:\r\n",
        "      tmp=tmp+lem.lemmatize(w)+\" \"\r\n",
        "    cnt+=1\r\n",
        "  data['v2'][i]=tmp\r\n",
        "data"
      ],
      "execution_count": 14,
      "outputs": [
        {
          "output_type": "stream",
          "text": [
            "/usr/local/lib/python3.6/dist-packages/ipykernel_launcher.py:13: SettingWithCopyWarning: \n",
            "A value is trying to be set on a copy of a slice from a DataFrame\n",
            "\n",
            "See the caveats in the documentation: https://pandas.pydata.org/pandas-docs/stable/user_guide/indexing.html#returning-a-view-versus-a-copy\n",
            "  del sys.path[0]\n"
          ],
          "name": "stderr"
        },
        {
          "output_type": "execute_result",
          "data": {
            "text/html": [
              "<div>\n",
              "<style scoped>\n",
              "    .dataframe tbody tr th:only-of-type {\n",
              "        vertical-align: middle;\n",
              "    }\n",
              "\n",
              "    .dataframe tbody tr th {\n",
              "        vertical-align: top;\n",
              "    }\n",
              "\n",
              "    .dataframe thead th {\n",
              "        text-align: right;\n",
              "    }\n",
              "</style>\n",
              "<table border=\"1\" class=\"dataframe\">\n",
              "  <thead>\n",
              "    <tr style=\"text-align: right;\">\n",
              "      <th></th>\n",
              "      <th>v1</th>\n",
              "      <th>v2</th>\n",
              "    </tr>\n",
              "  </thead>\n",
              "  <tbody>\n",
              "    <tr>\n",
              "      <th>0</th>\n",
              "      <td>0</td>\n",
              "      <td>jurong point crazy available bugis great world...</td>\n",
              "    </tr>\n",
              "    <tr>\n",
              "      <th>1</th>\n",
              "      <td>0</td>\n",
              "      <td>lar joking wif oni</td>\n",
              "    </tr>\n",
              "    <tr>\n",
              "      <th>2</th>\n",
              "      <td>1</td>\n",
              "      <td>free entry wkly comp win cup final tkts 21st m...</td>\n",
              "    </tr>\n",
              "    <tr>\n",
              "      <th>3</th>\n",
              "      <td>0</td>\n",
              "      <td>dun say early hor already say</td>\n",
              "    </tr>\n",
              "    <tr>\n",
              "      <th>4</th>\n",
              "      <td>0</td>\n",
              "      <td>nah dont think go usf life around though</td>\n",
              "    </tr>\n",
              "    <tr>\n",
              "      <th>...</th>\n",
              "      <td>...</td>\n",
              "      <td>...</td>\n",
              "    </tr>\n",
              "    <tr>\n",
              "      <th>5567</th>\n",
              "      <td>1</td>\n",
              "      <td>2nd time tried contact the£750 pound prize cla...</td>\n",
              "    </tr>\n",
              "    <tr>\n",
              "      <th>5568</th>\n",
              "      <td>0</td>\n",
              "      <td>going esplanade home</td>\n",
              "    </tr>\n",
              "    <tr>\n",
              "      <th>5569</th>\n",
              "      <td>0</td>\n",
              "      <td>pity mood soany suggestion</td>\n",
              "    </tr>\n",
              "    <tr>\n",
              "      <th>5570</th>\n",
              "      <td>0</td>\n",
              "      <td>guy bitching acted like interested buying some...</td>\n",
              "    </tr>\n",
              "    <tr>\n",
              "      <th>5571</th>\n",
              "      <td>0</td>\n",
              "      <td>rofl true name</td>\n",
              "    </tr>\n",
              "  </tbody>\n",
              "</table>\n",
              "<p>5572 rows × 2 columns</p>\n",
              "</div>"
            ],
            "text/plain": [
              "      v1                                                 v2\n",
              "0      0  jurong point crazy available bugis great world...\n",
              "1      0                                 lar joking wif oni\n",
              "2      1  free entry wkly comp win cup final tkts 21st m...\n",
              "3      0                      dun say early hor already say\n",
              "4      0           nah dont think go usf life around though\n",
              "...   ..                                                ...\n",
              "5567   1  2nd time tried contact the£750 pound prize cla...\n",
              "5568   0                               going esplanade home\n",
              "5569   0                         pity mood soany suggestion\n",
              "5570   0  guy bitching acted like interested buying some...\n",
              "5571   0                                     rofl true name\n",
              "\n",
              "[5572 rows x 2 columns]"
            ]
          },
          "metadata": {
            "tags": []
          },
          "execution_count": 14
        }
      ]
    },
    {
      "cell_type": "markdown",
      "metadata": {
        "id": "42LrzDvy3LMW"
      },
      "source": [
        "7) 정수 인코딩"
      ]
    },
    {
      "cell_type": "code",
      "metadata": {
        "colab": {
          "base_uri": "https://localhost:8080/"
        },
        "id": "vDGcEoRkthFa",
        "outputId": "ae90e86a-bc09-451a-fe3f-d61459f19c41"
      },
      "source": [
        "from tensorflow.keras.preprocessing.text import Tokenizer\r\n",
        "tokenizer=Tokenizer()\r\n",
        "tokenizer.fit_on_texts(data['v2']) #각 행에 토큰화를 수행, 빈도수 기준 단어 집합 생성\r\n",
        "encoded=tokenizer.texts_to_sequences(data['v2'])\r\n",
        "print(encoded[:5])"
      ],
      "execution_count": 15,
      "outputs": [
        {
          "output_type": "stream",
          "text": [
            "[[3875, 239, 541, 512, 1018, 47, 215, 2523, 1019, 7, 3876, 60], [205, 1165, 313, 1551], [5, 360, 574, 709, 129, 914, 513, 1552, 1895, 162, 1896, 14, 1553, 400, 360, 2524, 22, 2525, 263, 2526], [135, 43, 240, 2527, 68, 43], [758, 3, 31, 327, 710, 78, 111, 328]]\n"
          ],
          "name": "stdout"
        }
      ]
    },
    {
      "cell_type": "code",
      "metadata": {
        "colab": {
          "base_uri": "https://localhost:8080/"
        },
        "id": "CKFZ31aNQ2jp",
        "outputId": "d7cba173-c912-43c9-877f-175484a2265d"
      },
      "source": [
        "word_to_index=tokenizer.word_index #단어별 인덱스 부여 확인\r\n",
        "print(word_to_index)\r\n",
        "cat_num=len(word_to_index)+1"
      ],
      "execution_count": 16,
      "outputs": [
        {
          "output_type": "stream",
          "text": [
            "{'call': 1, 'get': 2, 'dont': 3, 'ltgt': 4, 'free': 5, 'know': 6, 'got': 7, 'come': 8, 'like': 9, 'day': 10, 'ill': 11, 'good': 12, 'time': 13, 'text': 14, 'want': 15, 'love': 16, 'send': 17, 'need': 18, 'one': 19, 'going': 20, 'today': 21, 'txt': 22, 'home': 23, 'lor': 24, 'see': 25, 'sorry': 26, 'still': 27, 'back': 28, 'mobile': 29, 'stop': 30, 'think': 31, 'reply': 32, 'take': 33, 'tell': 34, 'phone': 35, 'new': 36, 'week': 37, 'later': 38, 'well': 39, 'please': 40, 'make': 41, 'cant': 42, 'say': 43, 'night': 44, 'thing': 45, 'much': 46, 'great': 47, 'hey': 48, 'dear': 49, 'pls': 50, 'number': 51, 'claim': 52, 'happy': 53, 'friend': 54, 'work': 55, 'hope': 56, 'give': 57, 'message': 58, 'way': 59, 'wat': 60, 'na': 61, 'prize': 62, 'right': 63, 'thats': 64, 'msg': 65, 'wan': 66, 'let': 67, 'already': 68, 'tomorrow': 69, 'ask': 70, 'said': 71, 'yes': 72, 'really': 73, 'yeah': 74, 'babe': 75, 'min': 76, 'amp': 77, 'life': 78, 'meet': 79, 'didnt': 80, 'morning': 81, 'last': 82, 'miss': 83, 'service': 84, 'would': 85, 'co': 86, 'thanks': 87, 'year': 88, 'ive': 89, 'find': 90, 'feel': 91, 'lol': 92, 'anything': 93, 'tone': 94, 'every': 95, 'sure': 96, 'pick': 97, 'also': 98, 'contact': 99, 'keep': 100, 'care': 101, 'nokia': 102, 'something': 103, 'sent': 104, 'buy': 105, 'urgent': 106, 'place': 107, 'next': 108, 'first': 109, 'guy': 110, 'around': 111, 'tonight': 112, 'show': 113, 'went': 114, 'customer': 115, 'could': 116, 'someone': 117, 'wish': 118, 'gon': 119, 'soon': 120, 'wait': 121, 'many': 122, 'even': 123, 'per': 124, 'cash': 125, 'nice': 126, 'money': 127, 'sleep': 128, 'win': 129, 'word': 130, 'help': 131, 'always': 132, 'late': 133, 'chat': 134, 'dun': 135, 'leave': 136, 'wont': 137, 'waiting': 138, 'youre': 139, 'gud': 140, 'told': 141, 'hour': 142, 'end': 143, 'people': 144, 'lot': 145, 'minute': 146, 'name': 147, 'getting': 148, 'hello': 149, 'girl': 150, 'yet': 151, 'thk': 152, 'coming': 153, 'done': 154, 'smile': 155, 'try': 156, 'thought': 157, 'haha': 158, 'talk': 159, 'class': 160, 'person': 161, 'may': 162, 'live': 163, 'havent': 164, 'fine': 165, 'finish': 166, 'lunch': 167, 'man': 168, 'job': 169, 'mean': 170, 'offer': 171, 'line': 172, 'stuff': 173, 'use': 174, 'car': 175, 'hows': 176, 'bit': 177, 'best': 178, 'heart': 179, 'month': 180, 'yup': 181, 'trying': 182, 'never': 183, 'special': 184, 'meeting': 185, 'plan': 186, 'sm': 187, 'long': 188, 'better': 189, 'account': 190, 'dat': 191, 'start': 192, 'chance': 193, 'cool': 194, 'ready': 195, 'problem': 196, 'god': 197, 'mind': 198, 'latest': 199, 'weekend': 200, 'room': 201, 'guess': 202, 'draw': 203, 'enjoy': 204, 'lar': 205, 'eat': 206, 'look': 207, 'half': 208, 'check': 209, 'nothing': 210, '1st': 211, 'another': 212, 'big': 213, 'game': 214, 'world': 215, 'camera': 216, 'cost': 217, 'play': 218, 'real': 219, 'birthday': 220, 'guaranteed': 221, 'house': 222, 'boy': 223, 'voucher': 224, 'shit': 225, 'dinner': 226, 'sweet': 227, 'sir': 228, 'liao': 229, 'jus': 230, 'box': 231, 'kiss': 232, 'ever': 233, 'watching': 234, 'luv': 235, 'watch': 236, 'might': 237, 'quite': 238, 'point': 239, 'early': 240, 'speak': 241, 'aight': 242, 'landline': 243, 'whats': 244, 'called': 245, 'probably': 246, 'fun': 247, 'xxx': 248, 'he': 249, 'part': 250, 'awarded': 251, 'hear': 252, 'bed': 253, '150ppm': 254, 'rate': 255, 'video': 256, 'baby': 257, 'two': 258, 'actually': 259, 'den': 260, 'princess': 261, 'pic': 262, 'apply': 263, 'network': 264, 'remember': 265, 'pay': 266, 'bus': 267, 'maybe': 268, 'forgot': 269, 'worry': 270, 'question': 271, 'easy': 272, 'reach': 273, 'thanx': 274, 'shopping': 275, 'dunno': 276, 'orange': 277, 'bad': 278, 'code': 279, 'left': 280, '2nd': 281, 'dis': 282, 'hurt': 283, 'holiday': 284, 'little': 285, 'put': 286, 'fuck': 287, 'dad': 288, 'selected': 289, 'enough': 290, 'there': 291, 'looking': 292, 'school': 293, 'award': 294, 'working': 295, 'leh': 296, 'face': 297, 'everything': 298, 'made': 299, 'sat': 300, 'tc': 301, 'shall': 302, 'shes': 303, 'mate': 304, 'thank': 305, 'afternoon': 306, 'without': 307, 'xmas': 308, 'tmr': 309, 'evening': 310, 'asked': 311, 'movie': 312, 'wif': 313, 'pound': 314, 'since': 315, 'came': 316, 'anyway': 317, 'must': 318, 'join': 319, 'sexy': 320, 'dream': 321, 'missing': 322, 'sound': 323, 'collect': 324, 'detail': 325, 'town': 326, 'go': 327, 'though': 328, 'update': 329, 'ringtone': 330, 'lesson': 331, 'wanted': 332, 'run': 333, 'abt': 334, 'okay': 335, 'answer': 336, 'mail': 337, 'able': 338, 'hav': 339, 'important': 340, 'wake': 341, 'bring': 342, 'gift': 343, 'collection': 344, 'mob': 345, 'price': 346, 'test': 347, 'juz': 348, 'til': 349, 'stay': 350, '500': 351, 'true': 352, 'charge': 353, 'plz': 354, 'book': 355, 'office': 356, 'change': 357, 'away': 358, 'plus': 359, 'entry': 360, 'doesnt': 361, 'till': 362, 'pain': 363, 'hair': 364, 'wen': 365, 'else': 366, 'weekly': 367, 'wot': 368, 'dude': 369, 'attempt': 370, 'valid': 371, 'colour': 372, 'credit': 373, 'alright': 374, 'saw': 375, 'yesterday': 376, 'double': 377, 'trip': 378, 'making': 379, 'food': 380, 'top': 381, 'haf': 382, 'ltdecimalgt': 383, 'oso': 384, 'music': 385, '150p': 386, 'bored': 387, 'lei': 388, 'date': 389, 'tried': 390, 'delivery': 391, 'driving': 392, 'missed': 393, 'hot': 394, 'friendship': 395, 'drink': 396, 'sch': 397, 'wife': 398, 'online': 399, 'receive': 400, 'brother': 401, 'ard': 402, 'mom': 403, 'second': 404, 'bonus': 405, 'address': 406, 'order': 407, 'story': 408, 'nite': 409, 'wid': 410, 'full': 411, 'head': 412, 'tot': 413, 'sae': 414, 'lose': 415, 'family': 416, 'together': 417, 'feeling': 418, 'goin': 419, '8007': 420, 'sad': 421, 'set': 422, 'close': 423, 'smiling': 424, 'old': 425, 'believe': 426, 'smoke': 427, 'noe': 428, 'happen': 429, 'walk': 430, 'club': 431, 'calling': 432, 'post': 433, 'huh': 434, 'beautiful': 435, 'saying': 436, 'drive': 437, 'await': 438, 'aft': 439, 'took': 440, 'finished': 441, 'cause': 442, 'busy': 443, 'private': 444, 'match': 445, 'leaving': 446, 'hand': 447, 'gr8': 448, 'awesome': 449, 'shop': 450, 'coz': 451, 'ring': 452, '86688': 453, 'okie': 454, 'eve': 455, 'land': 456, 'thinking': 457, 'mum': 458, 'email': 459, 'rite': 460, 'drop': 461, 'caller': 462, 'forget': 463, 'congrats': 464, 'started': 465, 'statement': 466, 'taking': 467, 'everyone': 468, 'content': 469, 'break': 470, 'company': 471, 'wil': 472, 'angry': 473, '750': 474, 'unsubscribe': 475, 'card': 476, 'sister': 477, 'reason': 478, 'simple': 479, 'tscs': 480, 'neva': 481, 'pub': 482, 'treat': 483, '100': 484, 'news': 485, 'tho': 486, 'tomo': 487, 'lucky': 488, 'search': 489, 'isnt': 490, '12hrs': 491, 'expires': 492, 'age': 493, 'open': 494, 'fancy': 495, 'bank': 496, 'si': 497, 'touch': 498, 'found': 499, 'sleeping': 500, 'choose': 501, 'valentine': 502, 'poly': 503, 'either': 504, 'mine': 505, 'whatever': 506, 'knw': 507, 'anyone': 508, 'parent': 509, 'alone': 510, 'auction': 511, 'available': 512, 'final': 513, 'winner': 514, 'pobox': 515, 'smth': 516, 'saturday': 517, 'decided': 518, '08000930705': 519, 'song': 520, 'ticket': 521, 'prob': 522, 'happened': 523, 'uncle': 524, 'unredeemed': 525, 'identifier': 526, 'player': 527, 'type': 528, 'hard': 529, 'frnd': 530, 'boytoy': 531, 'exam': 532, 'secret': 533, 'anytime': 534, 'far': 535, 'mobileupd8': 536, 'dating': 537, 'kind': 538, 'sun': 539, 'party': 540, 'crazy': 541, 'wonderful': 542, 'camcorder': 543, 'used': 544, 'gone': 545, 'hit': 546, 'bday': 547, 'operator': 548, 'friday': 549, 'ltd': 550, 'wit': 551, 'carlos': 552, 'finally': 553, 'college': 554, 'oredi': 555, 'congratulation': 556, 'read': 557, 'light': 558, '150pmsg': 559, '08000839402': 560, 'project': 561, 'fucking': 562, 'visit': 563, 'nope': 564, 'outside': 565, 'fri': 566, 'pretty': 567, 'sea': 568, 'fast': 569, 'drug': 570, 'wonder': 571, 'lovely': 572, 'loving': 573, 'wkly': 574, 'hungry': 575, 'seeing': 576, 'telling': 577, 'whole': 578, 'frnds': 579, 'quiz': 580, 'youll': 581, 'youve': 582, 'log': 583, 'course': 584, 'mrng': 585, 'darlin': 586, 'goodmorning': 587, '10p': 588, 'case': 589, 'meant': 590, 'hold': 591, 'unlimited': 592, 'fone': 593, 'jay': 594, 'bout': 595, 'ten': 596, 'welcome': 597, 'cum': 598, 'term': 599, 'listen': 600, 'snow': 601, 'gal': 602, 'wrong': 603, 'almost': 604, 'etc': 605, 'move': 606, 'cut': 607, 'hee': 608, 'ta': 609, 'download': 610, '0800': 611, 'computer': 612, 'mah': 613, 'felt': 614, 'invited': 615, 'joy': 616, 'march': 617, 'side': 618, 'tel': 619, '87066': 620, 'dnt': 621, 'single': 622, 'bslvyl': 623, 'lost': 624, 'reading': 625, 'txts': 626, 'moment': 627, 'motorola': 628, 'talking': 629, 'couple': 630, 'rock': 631, 'as': 632, 'savamob': 633, 'sub': 634, 'within': 635, '2003': 636, '800': 637, 'yar': 638, 'happiness': 639, 'area': 640, 'paper': 641, 'opt': 642, 'sex': 643, 'mayb': 644, 'wats': 645, 'least': 646, 'earlier': 647, 'film': 648, 'chennai': 649, 'enter': 650, 'gas': 651, 'wasnt': 652, 'freemsg': 653, 'valued': 654, 'promise': 655, 'national': 656, 'hospital': 657, 'wow': 658, 'correct': 659, 'pas': 660, 'complimentary': 661, 'guaranteed£1000': 662, 'load': 663, 'shower': 664, 'askd': 665, 'sending': 666, 'direct': 667, 'tired': 668, 'ni8': 669, 'hell': 670, 'semester': 671, 'laptop': 672, 'blue': 673, 'swing': 674, 'die': 675, 'christmas': 676, 'via': 677, '1000': 678, '150': 679, 'figure': 680, 'ago': 681, 'currently': 682, 'chikku': 683, 'seen': 684, 'rental': 685, 'supposed': 686, 'park': 687, 'gym': 688, 'kid': 689, 'darren': 690, 'an': 691, 'sell': 692, 'eye': 693, 'store': 694, 'picking': 695, 'ugh': 696, 'extra': 697, 'sort': 698, 'knew': 699, 'photo': 700, 'support': 701, 'information': 702, 'surprise': 703, 'grin': 704, 'luck': 705, 'difficult': 706, 'john': 707, 'father': 708, 'comp': 709, 'usf': 710, 'request': 711, 'link': 712, 'comin': 713, 'confirm': 714, 'abiola': 715, 'crave': 716, 'checking': 717, 'save': 718, 'loan': 719, 'page': 720, 'entered': 721, 'dogging': 722, 'txting': 723, 'wine': 724, 'safe': 725, 'muz': 726, 'bath': 727, 'worth': 728, 'wed': 729, 'orchard': 730, 'kate': 731, 'bill': 732, 'lover': 733, 'wana': 734, 'sim': 735, 'somebody': 736, 'return': 737, 'small': 738, 'discount': 739, 'slow': 740, 'india': 741, 'hmm': 742, 'asking': 743, 'le': 744, 'lady': 745, 'door': 746, 'train': 747, 'laugh': 748, 'idea': 749, 'whenever': 750, 'truth': 751, 'heard': 752, 'frm': 753, 'fantasy': 754, 'fact': 755, 'loved': 756, 'slowly': 757, 'nah': 758, 'callertune': 759, 'press': 760, 'copy': 761, 'reward': 762, 'info': 763, 'wap': 764, 'england': 765, 'turn': 766, 'catch': 767, 'child': 768, 'oops': 769, 'reached': 770, 'joke': 771, 'situation': 772, 'short': 773, 'rply': 774, 'representative': 775, 'gave': 776, 'men': 777, 'del': 778, 'uk': 779, 'lovable': 780, 'spend': 781, 'bathe': 782, 'bcoz': 783, 'teach': 784, 'road': 785, 'kick': 786, 'admirer': 787, 'deep': 788, 'hmv': 789, 'stupid': 790, 'somewhere': 791, 'immediately': 792, 'met': 793, 'woke': 794, 'yep': 795, 'voice': 796, 'ldn': 797, 'booked': 798, 'ure': 799, 'different': 800, 'remove': 801, 'monday': 802, 'water': 803, 'rent': 804, 'opinion': 805, 'ipod': 806, 'member': 807, 'hoping': 808, 'across': 809, 'warm': 810, 'cheap': 811, 'study': 812, 'gap': 813, 'fantastic': 814, 'glad': 815, 'wishing': 816, 'summer': 817, 'gettin': 818, 'understand': 819, 'poor': 820, 'asap': 821, 'otherwise': 822, 'ntt': 823, '10pmin': 824, 'doctor': 825, 'who': 826, 'energy': 827, 'write': 828, 'doin': 829, 'med': 830, 'empty': 831, 'std': 832, 'seriously': 833, 'worried': 834, 'sick': 835, 'cheer': 836, 'decide': 837, 'forever': 838, 'rain': 839, 'bos': 840, 'specially': 841, 'flight': 842, 'ending': 843, 'buying': 844, 'sunshine': 845, 'sony': 846, 'lazy': 847, 'lect': 848, 'completely': 849, 'hmmm': 850, 'staying': 851, 'especially': 852, 'studying': 853, 'trust': 854, 'using': 855, 'deal': 856, 'mrt': 857, 'disturb': 858, 'unless': 859, 'rose': 860, 'sport': 861, 'accept': 862, 'normal': 863, 'rest': 864, '11mths': 865, 'merry': 866, 'pete': 867, 'access': 868, 'round': 869, 'urself': 870, 'bluetooth': 871, 'reference': 872, 'brings': 873, 'mistake': 874, 'kinda': 875, 'result': 876, 'optout': 877, 'style': 878, 'meh': 879, 'near': 880, 'silent': 881, 'noon': 882, 'forwarded': 883, 'starting': 884, 'seems': 885, 'add': 886, 'no1': 887, 'wwwgetzedcouk': 888, 'aint': 889, 'bid': 890, 'charity': 891, 'fall': 892, 'tampa': 893, 'user': 894, 'sale': 895, 'gay': 896, 'nyt': 897, 'hiya': 898, 'convey': 899, 'won£2000': 900, 'nobody': 901, 'mode': 902, 'wondering': 903, 'others': 904, 'frens': 905, 'tht': 906, 'reaching': 907, '2nite': 908, 'excuse': 909, 'thinkin': 910, 'sitting': 911, 'flag': 912, 'colleague': 913, 'cup': 914, 'entitled': 915, 'anymore': 916, 'sunday': 917, '87077': 918, 'mark': 919, 'pizza': 920, 'quick': 921, 'replying': 922, 'roommate': 923, 'letter': 924, 'youd': 925, 'nigeria': 926, 'ice': 927, 'cinema': 928, 'stand': 929, 'spent': 930, 'trouble': 931, 'planning': 932, 'ave': 933, 'apartment': 934, 'inc': 935, 'paying': 936, '2004': 937, 'bak': 938, 'dvd': 939, 'pray': 940, 'sometimes': 941, 'goto': 942, 'wheres': 943, 'freephone': 944, 'however': 945, 'dead': 946, 'slept': 947, 'file': 948, 'sign': 949, 'street': 950, 'ufind': 951, 'rreveal': 952, 'specialcall': 953, 'goodnight': 954, 'lem': 955, '2day': 956, 'power': 957, 'record': 958, 'woman': 959, 'fixed': 960, 'wiv': 961, 'weed': 962, 'hgsuite3422lands': 963, 'picture': 964, 'facebook': 965, 'none': 966, 'yahoo': 967, 'aha': 968, '3030': 969, 'giving': 970, 'din': 971, 'fat': 972, 'finger': 973, 'self': 974, 'hotel': 975, 'workin': 976, 'daddy': 977, 'present': 978, 'indian': 979, 'future': 980, 'longer': 981, '25p': 982, 'tuesday': 983, 'student': 984, 'cash£2000': 985, 'tonite': 986, 'library': 987, 'theyre': 988, 'space': 989, 'slave': 990, 'omg': 991, 'bag': 992, 'moon': 993, 'polys': 994, 'yr': 995, 'training': 996, 'possible': 997, 'registered': 998, 'medical': 999, 'digital': 1000, 'awaiting': 1001, 'cancel': 1002, 'cute': 1003, 'complete': 1004, 'picked': 1005, 'dog': 1006, 'fill': 1007, 'south': 1008, 'list': 1009, 'btnationalrate': 1010, 'wednesday': 1011, 'mon': 1012, 'mood': 1013, 'sofa': 1014, 'tear': 1015, 'issue': 1016, 'police': 1017, 'bugis': 1018, 'cine': 1019, 'darling': 1020, 'click': 1021, 'team': 1022, 'suck': 1023, 'eating': 1024, 'charged': 1025, 'learn': 1026, 'ahead': 1027, 'kept': 1028, 'liked': 1029, 'wun': 1030, 'following': 1031, 'pleasure': 1032, '530': 1033, 'password': 1034, 'changed': 1035, 'location': 1036, 'cuz': 1037, 'umma': 1038, 'eatin': 1039, 'bother': 1040, 'country': 1041, 'shirt': 1042, 'menu': 1043, 'waste': 1044, 'hop': 1045, 'experience': 1046, 'towards': 1047, 'net': 1048, 'buck': 1049, 'connection': 1050, 'past': 1051, 'system': 1052, 'appreciate': 1053, 'battery': 1054, 'flirt': 1055, 'uve': 1056, 'showing': 1057, 'horny': 1058, 'naked': 1059, 'quality': 1060, 'usual': 1061, 'sense': 1062, 'loyalty': 1063, 'coffee': 1064, 'high': 1065, 'imagine': 1066, 'key': 1067, 'arent': 1068, 'yoga': 1069, 'rcvd': 1070, 'interested': 1071, 'insurance': 1072, 'cashbalance': 1073, 'maximize': 1074, 'cashin': 1075, 'forward': 1076, 'mei': 1077, 'happening': 1078, 'sigh': 1079, 'with£2000': 1080, 'lift': 1081, 'dollar': 1082, 'tough': 1083, 'thru': 1084, 'notice': 1085, 'tenerife': 1086, 'sec': 1087, 'depends': 1088, 'character': 1089, 'mp3': 1090, 'claim£150': 1091, '85023': 1092, 'malaria': 1093, 'married': 1094, 'rather': 1095, 'omw': 1096, 'hurry': 1097, 'weight': 1098, 'clean': 1099, 'izzit': 1100, 'spree': 1101, 'custcare': 1102, 'imma': 1103, 'shuhui': 1104, 'weather': 1105, 'alex': 1106, 'paid': 1107, 'funny': 1108, 'login': 1109, 'awake': 1110, 'bedroom': 1111, 'king': 1112, 'torch': 1113, 'bold': 1114, 'sit': 1115, 'holla': 1116, 'yest': 1117, 'lttimegt': 1118, '36504': 1119, 'hai': 1120, 'bird': 1121, 'mid': 1122, 'midnight': 1123, 'january': 1124, '08712460324': 1125, 'sk38xh': 1126, 'recently': 1127, 'heavy': 1128, 'miracle': 1129, 'flower': 1130, 'win£100': 1131, 'regard': 1132, 'onto': 1133, 'station': 1134, 'doc': 1135, 'honey': 1136, 'cell': 1137, 'shd': 1138, '20p': 1139, '1327': 1140, 'croydon': 1141, 'cr9': 1142, '5wb': 1143, 'walking': 1144, 'share': 1145, 'arrive': 1146, 'excellent': 1147, 'instead': 1148, 'buzz': 1149, 'inside': 1150, 'sight': 1151, 'holding': 1152, 'thnk': 1153, 'holiday£5000': 1154, 'costa': 1155, 'sol': 1156, 'role': 1157, 'pix': 1158, 'worse': 1159, 'murdered': 1160, 'murderer': 1161, 'happens': 1162, 'cover': 1163, 'planned': 1164, 'joking': 1165, 'melle': 1166, 'naughty': 1167, 'egg': 1168, 'tea': 1169, 'timing': 1170, 'texting': 1171, 'inch': 1172, 'tyler': 1173, 'usually': 1174, 'fyi': 1175, '150pm': 1176, 'pleased': 1177, 'review': 1178, 'coin': 1179, 'cash£5000': 1180, 'simply': 1181, 'receive£1000': 1182, 'directly': 1183, '08712300220': 1184, 'standard': 1185, 'app': 1186, 'replied': 1187, 'local': 1188, 'begin': 1189, 'become': 1190, 'arrange': 1191, 'inviting': 1192, '62468': 1193, 'spoke': 1194, 'joined': 1195, 'personal': 1196, 'balance': 1197, 'straight': 1198, 'partner': 1199, 'died': 1200, 'argument': 1201, 'kallis': 1202, 'fix': 1203, 'tncs': 1204, 'cal': 1205, 'handset': 1206, 'dint': 1207, 'ended': 1208, 'sunny': 1209, 'leaf': 1210, 'cry': 1211, 'definitely': 1212, 'track': 1213, 'report': 1214, 'yijue': 1215, 'num': 1216, 'fault': 1217, 'ish': 1218, 'cold': 1219, 'posted': 1220, 'air': 1221, 'willing': 1222, 'guide': 1223, 'relax': 1224, 'pilate': 1225, 'putting': 1226, 'dai': 1227, 'fullonsmscom': 1228, 'shell': 1229, 'wnt': 1230, 'vry': 1231, 'vary': 1232, 'askin': 1233, 'group': 1234, 'ttyl': 1235, 'decision': 1236, 'moan': 1237, '8th': 1238, 'activate': 1239, 'condition': 1240, 'tat': 1241, '40gb': 1242, 'pin': 1243, 'adult': 1244, 'campus': 1245, 'l8r': 1246, 'lead': 1247, 'aiyo': 1248, 'barely': 1249, 'scream': 1250, 'marriage': 1251, 'announcement': 1252, 'daily': 1253, 'vodafone': 1254, 'receive£350': 1255, 'holder': 1256, 'evng': 1257, 'envelope': 1258, 'fetch': 1259, 'wer': 1260, 'aftr': 1261, 'running': 1262, 'exactly': 1263, 'yay': 1264, 'advance': 1265, 'damn': 1266, 'pobox84': 1267, 'w45wq': 1268, 'norm150ptone': 1269, 'model': 1270, 'boo': 1271, 'teasing': 1272, 'zed': 1273, 'surely': 1274, 'five': 1275, 'version': 1276, 'matter': 1277, 'sup': 1278, 'murder': 1279, 'due': 1280, 'ate': 1281, 'wherever': 1282, 'expensive': 1283, 'our': 1284, 'ull': 1285, 'brand': 1286, 'won£800': 1287, 'nxt': 1288, 'contract': 1289, 'setting': 1290, 'loverboy': 1291, 'serious': 1292, 'fight': 1293, 'sipix': 1294, 'receipt': 1295, 'black': 1296, 'aiyah': 1297, 'httpwwwurawinnercom': 1298, 'howz': 1299, 'raining': 1300, 'choice': 1301, 'arm': 1302, 'tour': 1303, 'alrite': 1304, 'super': 1305, 'marry': 1306, '08707509020': 1307, 'meaning': 1308, 'lmao': 1309, '4th': 1310, 'nature': 1311, 'keeping': 1312, '0870': 1313, 'internet': 1314, 'screaming': 1315, '86021': 1316, 'london': 1317, 'title': 1318, 'lookin': 1319, 'arcade': 1320, 'created': 1321, 'exciting': 1322, 'hate': 1323, '09050090044': 1324, 'toclaim': 1325, 'pobox334': 1326, 'stockport': 1327, 'costå£150pm': 1328, 'max10mins': 1329, 'moral': 1330, 'theatre': 1331, 'ahmad': 1332, 'official': 1333, 'foot': 1334, 'vikky': 1335, 'sed': 1336, 'checked': 1337, 'added': 1338, 'pussy': 1339, 'budget': 1340, 'plenty': 1341, 'behind': 1342, 'amazing': 1343, 'hr': 1344, 'cancer': 1345, 'feb': 1346, 'hug': 1347, 'tariff': 1348, 'tick': 1349, 'searching': 1350, 'blessing': 1351, 'wet': 1352, 'stock': 1353, 'subscription': 1354, 'hopefully': 1355, 'weak': 1356, 'ride': 1357, 'red': 1358, 'plane': 1359, 'urgnt': 1360, 'appointment': 1361, 'boston': 1362, 'truly': 1363, 'scared': 1364, 'cabin': 1365, 'informed': 1366, 'voda': 1367, 'quoting': 1368, 'hasnt': 1369, 'shouldnt': 1370, 'interview': 1371, 'discus': 1372, 'transaction': 1373, 'star': 1374, 'sam': 1375, 'website': 1376, 'childish': 1377, 'ray': 1378, 'anybody': 1379, 'throw': 1380, 'meal': 1381, 'selection': 1382, 'enemy': 1383, 'win£200': 1384, 'december': 1385, 'surfing': 1386, 'basically': 1387, 'sonyericsson': 1388, 'geeee': 1389, 'didt': 1390, 'body': 1391, 'lick': 1392, 'intro': 1393, 'current': 1394, 'yan': 1395, 'jiu': 1396, 'competition': 1397, 'logo': 1398, 'pobox36504w45wq': 1399, 'contacted': 1400, 'hostel': 1401, 'amt': 1402, 'respond': 1403, 'donåõt': 1404, 'flat': 1405, 'fighting': 1406, 'some1': 1407, 'village': 1408, 'stylish': 1409, 'unsub': 1410, 'quote': 1411, 'english': 1412, '2mrw': 1413, 'jazz': 1414, 'yogasana': 1415, 'win£250': 1416, '1x150pwk': 1417, 'stopped': 1418, 'somethin': 1419, 'euro2004': 1420, '80062': 1421, 'thursday': 1422, 'cartoon': 1423, 'listening': 1424, 'gentle': 1425, 'earth': 1426, 'belly': 1427, 'law': 1428, 'purchase': 1429, 'alert': 1430, 'dey': 1431, 'twice': 1432, 'clock': 1433, 'realy': 1434, 'ti': 1435, 'row': 1436, 'sing': 1437, 'couldnt': 1438, 'living': 1439, 'polyphonic': 1440, 'piece': 1441, 'wwwcomuknet': 1442, 'mother': 1443, 'playing': 1444, 'cd': 1445, 'travel': 1446, 'white': 1447, 'cheaper': 1448, 'pissed': 1449, 'iam': 1450, 'wear': 1451, 'holiday£10000': 1452, 'score': 1453, '08718720201': 1454, 'bowl': 1455, 'site': 1456, 'boring': 1457, 'videophones': 1458, 'videochat': 1459, 'java': 1460, 'dload': 1461, 'noline': 1462, 'rentl': 1463, 'dropped': 1464, 'yun': 1465, 'jesus': 1466, 'kerala': 1467, 'asleep': 1468, 'fool': 1469, '3rd': 1470, 'april': 1471, 'bitch': 1472, 'revealed': 1473, 'xchat': 1474, 'frndship': 1475, 'subscriber': 1476, 'interesting': 1477, 'uni': 1478, 'italian': 1479, 'pack': 1480, 'horrible': 1481, 'island': 1482, 'strong': 1483, '150ptone': 1484, 'chinese': 1485, 'cbe': 1486, 'broke': 1487, 'original': 1488, 'arrested': 1489, 'linerental': 1490, 'cafe': 1491, 'vote': 1492, 'gee': 1493, 'totally': 1494, 'rem': 1495, 'bought': 1496, 'google': 1497, 'vomit': 1498, 'centre': 1499, 'except': 1500, 'airport': 1501, '250': 1502, 'eerie': 1503, 'waking': 1504, 'ran': 1505, 'hook': 1506, 'bin': 1507, 'social': 1508, 'selling': 1509, 'bun': 1510, 'beer': 1511, 'season': 1512, 'nvm': 1513, 'obviously': 1514, 'lie': 1515, 'boost': 1516, 'affair': 1517, 'art': 1518, 'inclusive': 1519, 'ip4': 1520, '5we': 1521, 'armand': 1522, 'looked': 1523, 'expecting': 1524, 'hill': 1525, 'minuts': 1526, 'latr': 1527, 'caken': 1528, 'unable': 1529, 'remind': 1530, 'whether': 1531, 'ringtones': 1532, 'spook': 1533, 'sky': 1534, 'random': 1535, 'deliver': 1536, 'amount': 1537, 'advice': 1538, 'ignore': 1539, 'note': 1540, 'thurs': 1541, 'wouldnt': 1542, 'relation': 1543, 'lik': 1544, 'asks': 1545, '3510i': 1546, '300': 1547, 'mths': 1548, 'step': 1549, 'common': 1550, 'oni': 1551, 'tkts': 1552, '87121': 1553, 'oru': 1554, 'six': 1555, '87575': 1556, 'thatåõs': 1557, 'str': 1558, 'sooner': 1559, 'gram': 1560, 'embarassed': 1561, 'seemed': 1562, 'series': 1563, 'valuable': 1564, 'wah': 1565, 'machan': 1566, 'sheet': 1567, 'becoz': 1568, 'fml': 1569, 'hols': 1570, 'legal': 1571, 'nyc': 1572, 'considering': 1573, 'research': 1574, 'won£1000': 1575, '786': 1576, 'awarded£2000': 1577, 'kkhow': 1578, 'ansr': 1579, '82277£150': 1580, 'sptyrone': 1581, 'laid': 1582, 'largest': 1583, 'ec2a': 1584, 'befor': 1585, 'activity': 1586, 'biggest': 1587, 'netcollex': 1588, 'qatar': 1589, 'deleted': 1590, 'window': 1591, 'module': 1592, 'escape': 1593, 'bloody': 1594, 'anyways': 1595, 'mummy': 1596, '0808': 1597, '145': 1598, '4742': 1599, '9am11pm': 1600, 'radio': 1601, 'settled': 1602, 'shoot': 1603, '2optout': 1604, 'career': 1605, 'followed': 1606, 'cross': 1607, 'penny': 1608, 'closer': 1609, 'theory': 1610, 'argue': 1611, 'wwwldewcom1win150ppmx3age16': 1612, 'bcums': 1613, 'affection': 1614, 'kettoda': 1615, 'manda': 1616, 'expect': 1617, 'mmm': 1618, 'bay': 1619, 'passed': 1620, 'cam': 1621, 'accidentally': 1622, 'def': 1623, 'hanging': 1624, 'belovd': 1625, 'afraid': 1626, '08002986906': 1627, 'cake': 1628, 'cud': 1629, 'ppl': 1630, 'waitin': 1631, '83600': 1632, 'wtf': 1633, 'roww1j6hl': 1634, '87131': 1635, 'cream': 1636, 'goal': 1637, 'our£250': 1638, 'esplanade': 1639, 'source': 1640, 'fifteen': 1641, '3mins': 1642, 'wc1n3xx': 1643, 'gorgeous': 1644, 'tenant': 1645, 'refused': 1646, 'intelligent': 1647, 'bye': 1648, 'receiving': 1649, '5000': 1650, 'cw25wx': 1651, 'dry': 1652, 'center': 1653, 'bringing': 1654, 'jada': 1655, 'kusruthi': 1656, 'spl': 1657, 'matured': 1658, 'player£500': 1659, '83355': 1660, 'mono': 1661, 'cha': 1662, 'rude': 1663, 'passionate': 1664, 'age16': 1665, 'losing': 1666, 'confidence': 1667, 'bloke': 1668, 'btw': 1669, 'three': 1670, 'essential': 1671, 'lab': 1672, '2000': 1673, 'bite': 1674, 'quit': 1675, '08715705022': 1676, 'grand': 1677, '542': 1678, 'pie': 1679, 'often': 1680, 'aunty': 1681, 'bud': 1682, 'effect': 1683, 'temple': 1684, 'church': 1685, 'bet': 1686, 'hella': 1687, 'prepare': 1688, 'seem': 1689, 'lonely': 1690, 'explain': 1691, 'map': 1692, 'weird': 1693, 'drivin': 1694, 'height': 1695, '10am7pm': 1696, 'assume': 1697, 'txtauction': 1698, 'faster': 1699, 'weve': 1700, 'spoken': 1701, 'city': 1702, 'meetin': 1703, 'apparently': 1704, 'perfect': 1705, 'enjoyed': 1706, 'dictionary': 1707, 'm263uz£300': 1708, 'appt': 1709, 'either£500': 1710, 'our£100': 1711, 'ache': 1712, '3qxj9': 1713, '9ae': 1714, 'profit': 1715, 'brain': 1716, 'green': 1717, 'reveal': 1718, 'cust': 1719, 'sura': 1720, 'ibiza': 1721, 'ppm': 1722, 'meanwhile': 1723, 'suite': 1724, 'careful': 1725, 'vip': 1726, 'supply': 1727, 'wall': 1728, 'saved': 1729, 'played': 1730, 'wanting': 1731, 'derek': 1732, 'pig': 1733, 'addicted': 1734, 'attend': 1735, 'diet': 1736, 'acc': 1737, 'fever': 1738, 'gravity': 1739, 'carefully': 1740, 'leaves': 1741, 'salary': 1742, 'talent': 1743, 'sore': 1744, 'aunt': 1745, '150pmin': 1746, 'throat': 1747, 'lecture': 1748, 'raise': 1749, 'june': 1750, 'bathing': 1751, 'vijay': 1752, 'dem': 1753, 'draw£100': 1754, 'aiyar': 1755, 'wearing': 1756, 'rally': 1757, 'shame': 1758, 'credited': 1759, 'understanding': 1760, 'delivered': 1761, 'mite': 1762, 'easier': 1763, 'txtin': 1764, '4info': 1765, '08712405020': 1766, 'exact': 1767, 'thts': 1768, 'favour': 1769, 'lion': 1770, 'wwwringtonescouk': 1771, '3gbp': 1772, 'idiot': 1773, 'february': 1774, 'rush': 1775, '6hrs': 1776, 'blackberry': 1777, 'pple': 1778, 'moji': 1779, 'bear': 1780, '4get': 1781, 'urn': 1782, 'tuition': 1783, '150pmsgrcvdhgsuite3422landsroww1j6hl': 1784, 'aiya': 1785, 'bright': 1786, 'pod': 1787, '020603': 1788, '7th': 1789, '6th': 1790, '5th': 1791, 'personality': 1792, 'tablet': 1793, 'purity': 1794, 'messageits': 1795, 'sha': 1796, 'total': 1797, 'along': 1798, 'shortly': 1799, 'forum': 1800, 'ron': 1801, '7250i': 1802, 'roww1jhl': 1803, 'yuo': 1804, 'tihs': 1805, 'bishan': 1806, 'preferably': 1807, 'idk': 1808, 'laughing': 1809, 'brought': 1810, 'surprised': 1811, 'jst': 1812, 'moby': 1813, 'action': 1814, 'remain': 1815, 'ordered': 1816, 'queen': 1817, 'fren': 1818, '60pmin': 1819, 'connect': 1820, 'bahamas': 1821, 'atlanta': 1822, 'takin': 1823, 'answering': 1824, 'jess': 1825, 'dirty': 1826, 'package': 1827, 'upto': 1828, '08001950382': 1829, 'godi': 1830, 'youclean': 1831, 'bloodsend': 1832, 'itplspls': 1833, 'skype': 1834, 'push': 1835, 'master': 1836, 'cleaning': 1837, 'what': 1838, 'cat': 1839, 'hip': 1840, 'havnt': 1841, '87239': 1842, 'rule': 1843, 'freefone': 1844, 'natural': 1845, 'infernal': 1846, 'yer': 1847, '84199': 1848, 'eng': 1849, 'box39822': 1850, 'w111wx£150': 1851, 'mad': 1852, 'kidz': 1853, 'ntwk': 1854, '630': 1855, 'leg': 1856, 'freak': 1857, '8552': 1858, 'wkend': 1859, 'football': 1860, 'happend': 1861, 'sugar': 1862, 'roger': 1863, 'solve': 1864, 'cooking': 1865, 'brilliant': 1866, 'greeting': 1867, 'released': 1868, 'bx420': 1869, 'spending': 1870, 'whens': 1871, 'sept': 1872, 'housemaid': 1873, 'public': 1874, 'govtinstituitions': 1875, 'closedincluding': 1876, 'dare': 1877, 'handle': 1878, 'porn': 1879, 'celebrate': 1880, '730': 1881, 'abi': 1882, 'grl': 1883, '09061221066': 1884, 'fromm': 1885, 'wylie': 1886, 'basic': 1887, 'outta': 1888, 'inform': 1889, 'blank': 1890, 'texted': 1891, 'taunton': 1892, 'loss': 1893, 'santa': 1894, '21st': 1895, '2005': 1896, 'minnaminunginte': 1897, 'nurungu': 1898, 'vettam': 1899, 'membership': 1900, 'spell': 1901, 'scotland': 1902, 'slice': 1903, 'frying': 1904, 'clear': 1905, 'caught': 1906, 'fear': 1907, 'xuhui': 1908, 'invite': 1909, 'yummy': 1910, 'burn': 1911, 'callsmessagesmissed': 1912, 'fair': 1913, 'realized': 1914, 'the': 1915, 'lturlgt': 1916, '09061209465': 1917, 'suprman': 1918, 'matrix3': 1919, 'starwars3': 1920, 'bx420ip45we': 1921, 'burger': 1922, 'dresser': 1923, 'advise': 1924, 'recent': 1925, 'with£1500': 1926, 'gentleman': 1927, 'dignity': 1928, 'respect': 1929, 'sum1': 1930, 'lido': 1931, 'collected': 1932, 'mix': 1933, 'verify': 1934, 'four': 1935, 'ham': 1936, 'vava': 1937, 'loud': 1938, 'k52': 1939, 'sentence': 1940, 'anythin': 1941, 'needed': 1942, '45239': 1943, 'apologise': 1944, 'hardcore': 1945, 'dot': 1946, 'female': 1947, 'birla': 1948, 'soft': 1949, 'floor': 1950, 'spanish': 1951, 'mall': 1952, 'maneesha': 1953, 'satisfied': 1954, 'toll': 1955, 'unique': 1956, 'suggest': 1957, 'successfully': 1958, 'atm': 1959, 'register': 1960, 'repair': 1961, 'romantic': 1962, '89545': 1963, 'www4tcbiz': 1964, '08718726270150gbpmtmsg18': 1965, 'teacher': 1966, 'loses': 1967, 'tomarrow': 1968, 'avent': 1969, 'touched': 1970, 'slipper': 1971, 'bat': 1972, 'inning': 1973, 'dearly': 1974, '125gift': 1975, 'ranjith': 1976, '5min': 1977, 'shipping': 1978, 'parked': 1979, 'mini': 1980, 'flash': 1981, 'jealous': 1982, 'chart': 1983, 'sorting': 1984, 'genuine': 1985, 'infowww100percentrealcom': 1986, 'handed': 1987, 'celebration': 1988, 'gautham': 1989, 'buzy': 1990, 'tmobile': 1991, 'upgrade': 1992, '0845': 1993, 'tease': 1994, 'scary': 1995, 'hide': 1996, 'themob': 1997, 'newest': 1998, 'gossip': 1999, 'fit': 2000, 'garage': 2001, 'dayu': 2002, 'dear1': 2003, 'best1': 2004, 'clos1': 2005, 'lvblefrnd': 2006, 'jstfrnd': 2007, 'cutefrnd': 2008, 'lifpartnr': 2009, 'swtheart': 2010, 'bstfrnd': 2011, 'smart': 2012, 'm26': 2013, '3uz': 2014, 'pongal': 2015, 'gona': 2016, 'germany': 2017, 'supervisor': 2018, 'lifetime': 2019, 'sleepingand': 2020, 'favourite': 2021, 'cleared': 2022, 'slap': 2023, 'alcohol': 2024, 'remembered': 2025, 'now': 2026, 'bar': 2027, 'ptbo': 2028, '6months': 2029, '4mths': 2030, 'mobilesdirect': 2031, '08000938767': 2032, 'or2stoptxt': 2033, 'shut': 2034, 'period': 2035, 'business': 2036, 'quickly': 2037, 'chechi': 2038, 'tree': 2039, 'skip': 2040, 'blah': 2041, 'irritating': 2042, 'aathiwhere': 2043, 'bmw': 2044, 'urgentlyits': 2045, 'urgentbut': 2046, 'shortage': 2047, 'lacsthere': 2048, 'arng': 2049, 'lacsthats': 2050, 'iouri': 2051, 'yeshe': 2052, 'oic': 2053, 'purpose£500£75000': 2054, 'homeowner': 2055, 'previously': 2056, '1956669': 2057, 'oreo': 2058, 'ear': 2059, 'july': 2060, 'railway': 2061, 'doggy': 2062, 'fave': 2063, 'position': 2064, 'dave': 2065, 'transfered': 2066, '9ja': 2067, 'wise': 2068, 'aathilove': 2069, 'boye': 2070, 'fightng': 2071, 'dificult': 2072, 'fish': 2073, '123': 2074, 'the£1450': 2075, 'tcsstop': 2076, 'fee': 2077, 'prabhaim': 2078, 'sorydarealyfrm': 2079, 'sory': 2080, 'ibhltd': 2081, 'ldnw15h': 2082, '150pmtmsgrcvd18': 2083, 'no': 2084, 'booking': 2085, 'behave': 2086, 'elsewhere': 2087, 'box95qu': 2088, '08717898035£300': 2089, 'todaysundaysunday': 2090, 'holidayso': 2091, 'ummmmmaah': 2092, 'tirupur': 2093, 'cock': 2094, 'generally': 2095, 'blood': 2096, 'milk': 2097, 'likely': 2098, 'american': 2099, 'callin': 2100, 'dick': 2101, 'snake': 2102, 'headache': 2103, '80878': 2104, 'exhausted': 2105, 'tsunami': 2106, 'swimming': 2107, '2morow': 2108, 'nichols': 2109, '83222': 2110, 'beauty': 2111, 'leona': 2112, 'market': 2113, 'pop': 2114, 'postcode': 2115, 'your£350': 2116, 'seven': 2117, 'thanksgiving': 2118, 'lay': 2119, 'you': 2120, 'peace': 2121, '89555': 2122, 'textoperator': 2123, 'building': 2124, 'stress': 2125, 'maxå': 2126, 'spring': 2127, 'shouted': 2128, 'shorter': 2129, 'subscribed': 2130, 'realize': 2131, 'gim': 2132, 'lip': 2133, 'spare': 2134, 'paris': 2135, 'ma': 2136, '88039': 2137, 'skilgme': 2138, 'anywhere': 2139, 'opening': 2140, 'diff': 2141, 'community': 2142, 'subpoly': 2143, 'bein': 2144, 'jan': 2145, 'even£1000': 2146, 'hint': 2147, 'responding': 2148, '08702840625comuk': 2149, '220cm2': 2150, 'alfie': 2151, 'm8s': 2152, 'nokias': 2153, '08701417012': 2154, 'hahahause': 2155, 'recd': 2156, 'successful': 2157, '2morrow': 2158, '434': 2159, 'sk3': 2160, '8wp': 2161, 'xavier': 2162, 'stomach': 2163, 'spk': 2164, 'returned': 2165, 'virgin': 2166, 'cuddle': 2167, 'nap': 2168, 'shesil': 2169, 'liverpool': 2170, 'reminder': 2171, 'mac': 2172, 'failed': 2173, 'wifehow': 2174, 'opportunity': 2175, 'outstanding': 2176, 'taylor': 2177, 'greet': 2178, 'male': 2179, 'msging': 2180, '88600': 2181, '11414': 2182, 'tcrw1': 2183, 'magical': 2184, 'welp': 2185, 'valid12hrs': 2186, 'chicken': 2187, 'potential': 2188, '09063458130': 2189, 'polyph': 2190, 'fuckin': 2191, 'butt': 2192, 'yetunde': 2193, 'helen': 2194, 'terrible': 2195, 'fan': 2196, 'exe': 2197, 'prey': 2198, 'foreign': 2199, 'stamp': 2200, 'speechless': 2201, 'roast': 2202, 'concentrate': 2203, 'chatting': 2204, 'walked': 2205, 'euro': 2206, 'drunk': 2207, '84025': 2208, 'technical': 2209, 'juicy': 2210, 'dearer': 2211, 'evn': 2212, 'alwys': 2213, '09061790121': 2214, 'wind': 2215, 'math': 2216, 'speed': 2217, 'okok': 2218, 'okthenwhats': 2219, 'catching': 2220, 'error': 2221, 'hgsuite3422landsroww1j6hl': 2222, 'bigger': 2223, 'jordan': 2224, 'pocketbabecouk': 2225, 'voicemail': 2226, 'natuition': 2227, 'walmart': 2228, 'kkim': 2229, '87021': 2230, 'apps': 2231, 'rofl': 2232, 'anti': 2233, 'various': 2234, 'morn': 2235, 'havin': 2236, 'hun': 2237, 'rang': 2238, 'executive': 2239, '2moro': 2240, 'jane': 2241, 'express': 2242, 'fran': 2243, 'knackered': 2244, 'software': 2245, 'whenevr': 2246, 'among': 2247, 'chill': 2248, 'chillin': 2249, 'saucy': 2250, 'chain': 2251, 'suntec': 2252, 'messenger': 2253, '3cover': 2254, 'screen': 2255, '4press': 2256, '5gently': 2257, 'tom': 2258, 'upload': 2259, 'shot': 2260, 'storming': 2261, 'phne': 2262, 'margaret': 2263, 'girlfrnd': 2264, 'grahmbell': 2265, 'invnted': 2266, 'telphone': 2267, 'moralone': 2268, 'popped': 2269, 'unsold': 2270, 'shld': 2271, 'beware': 2272, 'caring': 2273, 'option': 2274, 'goodnite': 2275, 'arsenal': 2276, 'painful': 2277, 'everybody': 2278, 'sen': 2279, 'missin': 2280, 'guilty': 2281, 'cardiff': 2282, 'addie': 2283, 'monkey': 2284, 'certainly': 2285, 'stupidits': 2286, 'claire': 2287, 'twelve': 2288, 'aah': 2289, '09066362231': 2290, '07xxxxxxxxx': 2291, 'hubby': 2292, 'blake': 2293, 'lotr': 2294, '80488': 2295, 'karaoke': 2296, 'eight': 2297, 'ese': 2298, 'prospect': 2299, 'buff': 2300, 'gang': 2301, 'finishing': 2302, 'brothas': 2303, 'chasing': 2304, 'lt3': 2305, 'force': 2306, 'blame': 2307, 'freezing': 2308, 'winning': 2309, '6pm': 2310, '82242': 2311, 'fly': 2312, 'event': 2313, 'monthly': 2314, 'maintain': 2315, 'cramp': 2316, 'nan': 2317, '81303': 2318, 'dislike': 2319, '121': 2320, 'standing': 2321, 'james': 2322, 'chosen': 2323, 'cruise': 2324, '18only': 2325, 'iåõm': 2326, 'follow': 2327, 'stuck': 2328, 'regarding': 2329, 'adore': 2330, 'arun': 2331, 'philosophy': 2332, 'received': 2333, 'husband': 2334, 'norm': 2335, 'toa': 2336, 'payoh': 2337, 'payment': 2338, 'fathima': 2339, 'mmmm': 2340, 'pull': 2341, 'nearly': 2342, 'beyond': 2343, '18yrs': 2344, 'abta': 2345, '80182': 2346, '08452810073': 2347, 'table': 2348, 'ikea': 2349, 'kadeem': 2350, 'carry': 2351, 'avatar': 2352, 'constantly': 2353, 'lousy': 2354, 'honeybee': 2355, 'sweetest': 2356, 'laughed': 2357, 'waitu': 2358, 'crack': 2359, 'gmgngegn': 2360, 'boat': 2361, 'proof': 2362, 'provided': 2363, 'downloads': 2364, 'major': 2365, 'birth': 2366, 'responsibility': 2367, 'onwards': 2368, 'including': 2369, 'calicut': 2370, 'box97n7qp': 2371, 'giv': 2372, 'normally': 2373, 'rich': 2374, 'yor': 2375, 'jason': 2376, 'argh': 2377, 'diamond': 2378, 'tessypls': 2379, 'favor': 2380, 'nimyapls': 2381, 'shijas': 2382, 'china': 2383, 'morphine': 2384, 'prefer': 2385, 'mile': 2386, 'rajipls': 2387, 'nimya': 2388, 'shelf': 2389, 'distance': 2390, 'charged£450': 2391, 'temp': 2392, 'display': 2393, 'soup': 2394, 'management': 2395, 'include': 2396, 'regular': 2397, 'lounge': 2398, '88066': 2399, 'journey': 2400, 'cornwall': 2401, 'the£2000': 2402, 'iscoming': 2403, '80082': 2404, 'halloween': 2405, 'logopic': 2406, 'measure': 2407, 'thm': 2408, 'instantly': 2409, 'drinking': 2410, 'impossible': 2411, 'messageno': 2412, 'responcewhat': 2413, 'vodka': 2414, 'thangam': 2415, 'okey': 2416, 'kill': 2417, '1his': 2418, '2police': 2419, 'questioned': 2420, '3wife': 2421, 'siri': 2422, '4cook': 2423, '5gardener': 2424, 'vegetable': 2425, '6housemaid': 2426, '7children': 2427, '8neighbour': 2428, 'settle': 2429, 'bloo': 2430, 'citizen': 2431, 'lock': 2432, '09066612661': 2433, 'maga': 2434, 'medicine': 2435, 'incident': 2436, 'violence': 2437, 'erm': 2438, 'instruction': 2439, 'death': 2440, 'usualiam': 2441, '1030': 2442, 'reality': 2443, 'wks': 2444, 'booty': 2445, 'remains': 2446, 'bro': 2447, 'bros': 2448, 'response': 2449, 'pout': 2450, 'stomp': 2451, '2stoptxt': 2452, 'officeunderstand': 2453, 'process': 2454, 'landline£5000': 2455, 'luxury': 2456, 'ben': 2457, 'middle': 2458, 'dark': 2459, 'enuff': 2460, 'strike': 2461, 'moved': 2462, 'seat': 2463, '50p': 2464, 'dress': 2465, 'collecting': 2466, 'flaked': 2467, 'gary': 2468, 'history': 2469, 'bell': 2470, 'understood': 2471, 'bottom': 2472, 'crab': 2473, 'footprint': 2474, 'blow': 2475, 'knowing': 2476, 'kano': 2477, 'count': 2478, 'challenge': 2479, 'randomly': 2480, 'tape': 2481, 'auto': 2482, '450': 2483, 'its': 2484, 'deliveredtomorrow': 2485, 'smoking': 2486, 'in2': 2487, 'billed': 2488, 'th': 2489, 'callback': 2490, 'value': 2491, 'wedding': 2492, 'accident': 2493, 'wisdom': 2494, 'cannt': 2495, 'symbol': 2496, 'prolly': 2497, 'confirmed': 2498, '200': 2499, 'dubsack': 2500, 'macho': 2501, 'audition': 2502, 'difference': 2503, 'fell': 2504, 'forevr': 2505, 'eaten': 2506, 'stone': 2507, 'possession': 2508, 'concert': 2509, 'born': 2510, 'university': 2511, 'california': 2512, 'tog': 2513, 'haiz': 2514, 'previous': 2515, 'captain': 2516, 'dsnt': 2517, 'sometime': 2518, 'comedy': 2519, 'allah': 2520, 'warner': 2521, 'bottle': 2522, 'buffet': 2523, 'questionstd': 2524, 'ratetcs': 2525, '08452810075over18s': 2526, 'hor': 2527, 'rcv': 2528, 'aid': 2529, 'receivea£900': 2530, '09061701461': 2531, 'kl341': 2532, '08002986030': 2533, '20000': 2534, 'csh11': 2535, '150pday': 2536, '6days': 2537, 'tsandcs': 2538, 'our£100000': 2539, 'jackpot': 2540, '81010': 2541, 'wwwdbuknet': 2542, 'lccltd': 2543, '4403ldnw1a7rw18': 2544, 'sarcastic': 2545, '8am': 2546, 'mmmmmm': 2547, 'sucker': 2548, 'eighth': 2549, 'sptv': 2550, 'detroit': 2551, 'hockey': 2552, 'odi': 2553, 'killing': 2554, '09066364589': 2555, 'dedicated': 2556, 'dedicate': 2557, 'eurodisinc': 2558, 'trav': 2559, 'acoentry41£1000': 2560, '186å£150morefrmmob': 2561, 'shracomorsglsuplt10': 2562, 'ls1': 2563, '3aj': 2564, 'divorce': 2565, 'kkwhere': 2566, 'shy': 2567, 'earn': 2568, 'jacket': 2569, 'nitros': 2570, 'ela': 2571, 'pours': 2572, '169': 2573, '6031': 2574, '10am9pm': 2575, '85069': 2576, 'usher': 2577, 'britney': 2578, 'for': 2579, 'noun': 2580, 'gent': 2581, '09064012160': 2582, 'puttin': 2583, 'goodo': 2584, 'tortilla': 2585, '07742676969': 2586, '08719180248': 2587, '350': 2588, 'ì': 2589, 'll': 2590, 'sum': 2591, 'algarve': 2592, '69888': 2593, '31pmsg150p': 2594, 'msn': 2595, 'pouch': 2596, 'swt': 2597, 'occupy': 2598, 'staff': 2599, 'randy': 2600, '08700621170150p': 2601, 'flowing': 2602, 'plaza': 2603, 'everywhere': 2604, 'mouth': 2605, '0871277810810': 2606, 'won£900': 2607, 'avoid': 2608, 'beloved': 2609, 'formclark': 2610, 'utter': 2611, 'august': 2612, 'completed': 2613, 'wishin': 2614, 'hamster': 2615, 'refilled': 2616, 'inr': 2617, 'keralacircle': 2618, 'prepaid': 2619, 'ericsson': 2620, 'bruv': 2621, 'rewarding': 2622, 'heading': 2623, 'ahsen': 2624, 'installing': 2625, 'todayfrom': 2626, 'horo': 2627, 'conduct': 2628, 'yeshere': 2629, 'printed': 2630, 'upstairs': 2631, '447801259231': 2632, '09058094597': 2633, 'shining': 2634, 'signing': 2635, 'although': 2636, 'commercial': 2637, 'drpd': 2638, 'deeraj': 2639, 'deepak': 2640, 'doinghow': 2641, '2wks': 2642, 'lag': 2643, 'necessarily': 2644, 'headin': 2645, 'jolt': 2646, 'suzy': 2647, '69698': 2648, '150pwk': 2649, 'tool': 2650, 'jenny': 2651, 'resend': 2652, '021': 2653, 'grave': 2654, 'tomocant': 2655, 'shocking': 2656, 'crash': 2657, 'taxi': 2658, 'actor': 2659, 'blind': 2660, 'thread': 2661, 'funky': 2662, '82468': 2663, 'tahan': 2664, 'anot': 2665, 'bristol': 2666, 'dahow': 2667, '0844': 2668, '861': 2669, 'prepayment': 2670, 'violated': 2671, 'privacy': 2672, 'paperwork': 2673, 'over£1000': 2674, 'custcare08718720201': 2675, 'caroline': 2676, 'bless': 2677, 'stranger': 2678, 'gudnitetcpractice': 2679, 'misbehaved': 2680, 'unemployed': 2681, 'status': 2682, 'alive': 2683, 'breathe': 2684, 'cuddling': 2685, 'agree': 2686, 'recognise': 2687, 'ovulation': 2688, 'call2optoutn9dx': 2689, 'grace': 2690, 'field': 2691, 'administrator': 2692, 'shipped': 2693, 'loxahatchee': 2694, 'burning': 2695, 'slightly': 2696, 'wld': 2697, 'messagesome': 2698, 'sendername': 2699, 'sentdate': 2700, 'box334sk38ch': 2701, 'whatsup': 2702, '80086': 2703, 'wwwtxttowincouk': 2704, 'name1': 2705, 'name2': 2706, 'mobno': 2707, 'adam': 2708, '07123456789': 2709, 'txtno': 2710, 'ad': 2711, 'speaking': 2712, 'expression': 2713, '3650': 2714, '09066382422': 2715, '300603': 2716, 'bcm4284': 2717, 'applebees': 2718, 'greatbhaji': 2719, 'cricketer': 2720, 'sachin': 2721, 'worldvery': 2722, 'improve': 2723, 'truffle': 2724, 'amy': 2725, 'coping': 2726, '0207': 2727, '153': 2728, '26th': 2729, 'language': 2730, '09061743806': 2731, 'box326': 2732, 'screamed': 2733, 'removed': 2734, 'broken': 2735, 'infront': 2736, 'tension': 2737, 'taste': 2738, 'www07781482378com': 2739, 'trade': 2740, 'sorryin': 2741, '7ish': 2742, '09050002311': 2743, 'b4280703': 2744, '08718727868': 2745, 'hyde': 2746, 'anthony': 2747, 'scrounge': 2748, 'forgiven': 2749, 'slide': 2750, 'renewal': 2751, 'transport': 2752, 'definite': 2753, 'ebay': 2754, 'pickle': 2755, 'taco': 2756, '020903': 2757, '24hrs': 2758, 'channel': 2759, '08718738001': 2760, 'web': 2761, 'develop': 2762, 'ability': 2763, 'recovery': 2764, 'cali': 2765, 'cutting': 2766, 'reminding': 2767, 'owns': 2768, 'faggy': 2769, 'demand': 2770, 'loose': 2771, 'pan': 2772, 'perhaps': 2773, 'brownie': 2774, 'geeeee': 2775, 'jen': 2776, 'oooh': 2777, 'call09050000327': 2778, 'dancing': 2779, 'hardly': 2780, 'wwwtxt2shopcom': 2781, '08712402050': 2782, '10ppm': 2783, 'promo': 2784, '0825': 2785, 'soiree': 2786, 'ques': 2787, 'suit': 2788, 'hundred': 2789, 'reaction': 2790, 'useful': 2791, 'officially': 2792, 'textbuddy': 2793, 'gaytextbuddycom': 2794, '89693': 2795, '4882': 2796, '09064019014': 2797, 'httpwwwetlpcoukexpressoffer': 2798, 'sweetheart': 2799, 'wee': 2800, 'taken': 2801, 'jolly': 2802, '40533': 2803, '311004': 2804, 'rstm': 2805, 'sw7': 2806, '3': 2807, 'panic': 2808, 'wesley': 2809, 'dealer': 2810, 'impatient': 2811, 'river': 2812, 'premium': 2813, 'yelling': 2814, 'hex': 2815, 'sue': 2816, 'cochin': 2817, 'farm': 2818, 'poop': 2819, 'gpu': 2820, 'deari': 2821, 'aeronautics': 2822, 'professor': 2823, 'calld': 2824, 'aeroplane': 2825, 'hurried': 2826, 'dorm': 2827, 'won£1250': 2828, '09071512433': 2829, '050703': 2830, 'tcsbcm4235wc1n3xx': 2831, 'callcost': 2832, 'mobilesvary': 2833, 'cooky': 2834, 'half8th': 2835, 'offerthe': 2836, 'nokia6650': 2837, '81151': 2838, '4tctxt': 2839, '150pmtmsg': 2840, 'attached': 2841, '930': 2842, 'helpline': 2843, '08706091795': 2844, 'gist': 2845, 'thousand': 2846, 'premier': 2847, 'confused': 2848, 'grandma': 2849, 'tscs087147403231winawkage16£150perwksub': 2850, 'closed': 2851, 'begging': 2852, '0578': 2853, 'pole': 2854, '08718727870': 2855, 'thot': 2856, 'nic': 2857, '8077': 2858, 'guaranteed£200': 2859, 'cashto': 2860, '08000407165': 2861, 'getstop': 2862, '88222': 2863, 'php': 2864, 'imp': 2865, 'bec': 2866, 'costume': 2867, 'borrow': 2868, 'galileo': 2869, 'oktake': 2870, 'loveme': 2871, 'xxxx': 2872, 'sip': 2873, 'cappuccino': 2874, 'mojibiola': 2875, '09065174042': 2876, '07821230901': 2877, 'hol': 2878, 'havenåõt': 2879, 'skyped': 2880, 'given': 2881, 'ultimatum': 2882, 'countin': 2883, 'aburo': 2884, '08002888812': 2885, 'inconsiderate': 2886, 'nag': 2887, 'recession': 2888, 'hence': 2889, 'soo': 2890, '09066350750': 2891, '10000': 2892, 'kkwhen': 2893, 'warning': 2894, 'nowi': 2895, 'shoe': 2896, 'discreet': 2897, 'spoon': 2898, 'named': 2899, 'genius': 2900, 'lotta': 2901, 'lately': 2902, 'mystery': 2903, 'approx': 2904, 'consider': 2905, 'peaceful': 2906, '41685': 2907, '071104': 2908, '10k£500': 2909, 'cash£100': 2910, '09064011000': 2911, 'cr01327bt': 2912, 'fixedline': 2913, 'castor': 2914, '09058094565': 2915, 'downloaded': 2916, 'oil': 2917, 'permission': 2918, 'usb': 2919, 'gibbs': 2920, 'unbelievable': 2921, 'superb': 2922, 'agent': 2923, 'several': 2924, 'smell': 2925, 'worst': 2926, 'charles': 2927, '08709222922': 2928, '15pmin': 2929, '78pmin': 2930, 'peak': 2931, 'chip': 2932, 'yck': 2933, 'holiday£1000': 2934, 'jean': 2935, 'bleh': 2936, 'ton': 2937, 'application': 2938, 'filthy': 2939, 'simpler': 2940, '09050001808': 2941, 'm95': 2942, 'necklace': 2943, 'racing': 2944, 'rice': 2945, 'crap': 2946, 'borin': 2947, 'weakness': 2948, 'chocolate': 2949, 'dayshe': 2950, 'reckon': 2951, 'ubi': 2952, 'tech': 2953, 'blessed': 2954, 'quiet': 2955, 'anniversary': 2956, 'image': 2957, 'secretly': 2958, 'datebox1282essexcm61xn': 2959, 'pattern': 2960, 'plm': 2961, 'sheffield': 2962, 'nanny': 2963, 'zoe': 2964, 'million': 2965, 'filling': 2966, 'blanket': 2967, 'sufficient': 2968, 'thx': 2969, 'edison': 2970, 'rightly': 2971, 'viva': 2972, 'ls15hb': 2973, 'because': 2974, 'educational': 2975, 'here': 2976, 'flirting': 2977, 'kickoff': 2978, 'thesis': 2979, 'sends': 2980, 'deciding': 2981, 'eastenders': 2982, 'compare': 2983, 'violet': 2984, 'tulip': 2985, 'lily': 2986, 'wkent150p16': 2987, 'prepared': 2988, 'dentist': 2989, '09058091854': 2990, 'box385': 2991, '6wu': 2992, '09050003091': 2993, 'c52': 2994, 'breath': 2995, 'heri': 2996, 'craziest': 2997, 'herlove': 2998, 'singing': 2999, 'curry': 3000, 'lotwill': 3001, '09061221061': 3002, '28days': 3003, 'box177': 3004, 'm221bp': 3005, '2yr': 3006, 'warranty': 3007, '150ppm£399': 3008, 'tomorro': 3009, 'fret': 3010, 'strip': 3011, 'cliff': 3012, 'depressed': 3013, 'durban': 3014, 'speedchat': 3015, '08000776320': 3016, 'survey': 3017, 'difficulty': 3018, 'sar': 3019, 'tank': 3020, '4fil': 3021, 'neighbor': 3022, 'silently': 3023, 'wrc': 3024, 'lucozade': 3025, '61200': 3026, 'lucozadecoukwrc': 3027, 'itcould': 3028, 'toot': 3029, 'annoying': 3030, 'makin': 3031, '2go': 3032, 'neft': 3033, 'beneficiary': 3034, 'worth£500': 3035, 'wwwldewcomsubs161win150ppmx3': 3036, 'appreciated': 3037, 'apart': 3038, 'creepy': 3039, '08719181513': 3040, 'finewhen': 3041, 'nok': 3042, 'invest': 3043, '1hr': 3044, 'delay': 3045, '84128': 3046, 'wwwtextcompcom': 3047, 'purse': 3048, 'europe': 3049, 'flip': 3050, 'weirdest': 3051, 'hunny': 3052, 'callså£1minmoremobsemspobox45po139wa': 3053, 'tee': 3054, 'dough': 3055, 'control': 3056, 'profile': 3057, 'jerry': 3058, 'irritates': 3059, 'fails': 3060, 'drinkin': 3061, '5pm': 3062, 'birthdate': 3063, 'nydc': 3064, 'ola': 3065, 'garbage': 3066, 'item': 3067, 'jamster': 3068, 'gold': 3069, '16only': 3070, 'lionm': 3071, 'lionp': 3072, 'jokin': 3073, 'potter': 3074, 'phoenix': 3075, 'harry': 3076, 'reader': 3077, 'canada': 3078, 'goodnoon': 3079, 'patty': 3080, 'interest': 3081, 'free2day': 3082, 'george': 3083, 'jordantxt': 3084, '89080': 3085, 'celeb4': 3086, '0870241182716£3wk': 3087, 'tmrw': 3088, 'soul': 3089, 'ned': 3090, 'hurting': 3091, 'main': 3092, 'sweetie': 3093, 'buyer': 3094, 'whn': 3095, 'dance': 3096, '0870k': 3097, '08718730666': 3098, 'juan': 3099, 'call2optoutlf56': 3100, 'tlk': 3101, 'ideal': 3102, 'front': 3103, 'reserve': 3104, 'tirunelvali': 3105, 'kidding': 3106, 'stretch': 3107, 'sinco': 3108, 'payee': 3109, 'icicibankcom': 3110, 'fraud': 3111, 'disclose': 3112, 'kaiez': 3113, 'practicing': 3114, 'beneath': 3115, 'pale': 3116, 'silver': 3117, 'silence': 3118, 'wwwldewcom': 3119, 'revision': 3120, 'exeter': 3121, 'whose': 3122, 'coat': 3123, 'tues': 3124, 'restaurant': 3125, 'textpod': 3126, 'ipod£250': 3127, 'wwwtextpodnet': 3128, 'function': 3129, 'desperate': 3130, 'practical': 3131, 'costing': 3132, 'lyfu': 3133, 'lyf': 3134, 'lucy': 3135, 'callså£1minmobsmorelkpobox177hp51fl': 3136, 'musthu': 3137, 'jsco': 3138, 'dawhats': 3139, 'testing': 3140, 'nit': 3141, 'format': 3142, 'sarcasm': 3143, 'unfortunately': 3144, 'konw': 3145, 'waht': 3146, 'rael': 3147, 'gving': 3148, 'exmpel': 3149, 'jsut': 3150, 'evrey': 3151, 'splleing': 3152, 'wrnog': 3153, 'sitll': 3154, 'raed': 3155, 'wihtuot': 3156, 'ayn': 3157, 'mitsake': 3158, 'sleepsweet': 3159, 'degree': 3160, 'joining': 3161, 'finance': 3162, 'filled': 3163, 'jia': 3164, 'sux': 3165, 'kegger': 3166, 'rhythm': 3167, 'adventure': 3168, 'wifi': 3169, 'noi': 3170, 'rumour': 3171, '7250': 3172, 'boyfriend': 3173, 'driver': 3174, 'dime': 3175, 'transfer': 3176, 'falling': 3177, 'smeone': 3178, 'fire': 3179, 'flame': 3180, 'propose': 3181, 'kthen': 3182, 'dippeditinadew': 3183, 'lovingly': 3184, 'itwhichturnedinto': 3185, 'gifted': 3186, 'tomeandsaidthis': 3187, 'pro': 3188, 'batch': 3189, 'flaky': 3190, 'sooooo': 3191, 'tooo': 3192, '09058094599': 3193, 'confuses': 3194, 'wating': 3195, 'british': 3196, 'sw73ss': 3197, 'adoring': 3198, 'dracula': 3199, 'ghost': 3200, 'addamsfa': 3201, 'munsters': 3202, 'exorcist': 3203, 'twilight': 3204, 'constant': 3205, 'cared': 3206, 'allow': 3207, 'msg150p': 3208, '2rcv': 3209, 'hlp': 3210, '08712317606': 3211, 'switch': 3212, 'bagi': 3213, '80608': 3214, 'wwwmovietriviatv': 3215, '08712405022': 3216, 'partnership': 3217, 'mostly': 3218, 'shjas': 3219, 'ringtoneget': 3220, 'freesend': 3221, '816183': 3222, 'weekstop': 3223, 'sms08718727870': 3224, 'poker': 3225, 'messy': 3226, 'traffic': 3227, 'slip': 3228, 'wkg': 3229, 'gotten': 3230, 'unknown': 3231, 'album': 3232, '09094646899': 3233, 'bcm1896wc1n3xx': 3234, '2007': 3235, 'stick': 3236, 'indeed': 3237, 'maangalyam': 3238, 'alaipayuthe': 3239, 'easter': 3240, 'telephone': 3241, 'callfreefone': 3242, '08081560665': 3243, 'ofå£2000': 3244, '07786200117': 3245, 'calm': 3246, 'up4': 3247, 'becomes': 3248, 'habit': 3249, 'schedule': 3250, 'forgets': 3251, 'mandan': 3252, '07734396839': 3253, 'ibh': 3254, 'nokia6600': 3255, 'txtauctiontxt': 3256, 'wordstart': 3257, 'no81151': 3258, 'now4t': 3259, 'invader': 3260, 'orig': 3261, 'console': 3262, 'o2coukgames': 3263, 'transfr': 3264, 'didnåõt': 3265, 'foley': 3266, 'wwwwin82050couk': 3267, 'desparate': 3268, '3100': 3269, 'combine': 3270, 'sian': 3271, 'g696ga': 3272, 'joanna': 3273, 'replacement': 3274, 'telly': 3275, '12mths': 3276, 'btooth': 3277, 'delete': 3278, 'laundry': 3279, 'underwear': 3280, 'waheed': 3281, 'knee': 3282, 'avoiding': 3283, '0776xxxxxxx': 3284, '326': 3285, 'vday': 3286, 'therere': 3287, 'build': 3288, 'snowman': 3289, 'prescription': 3290, 'electricity': 3291, 'fujitsu': 3292, 'scold': 3293, 'accordingly': 3294, 'wud': 3295, '09066358152': 3296, 'claim£5000': 3297, 'prompt': 3298, 'disturbing': 3299, 'upset': 3300, 'kkwhy': 3301, 'woken': 3302, 'aka': 3303, 'delhi': 3304, 'held': 3305, 'length': 3306, 'fringe': 3307, 'distract': 3308, '61610': 3309, 'help08712400602450p': 3310, 'tones2youcouk': 3311, 'yeh': 3312, 'memory': 3313, 'mel': 3314, 'intention': 3315, '08006344447': 3316, 'aom': 3317, 'parco': 3318, 'hallaq': 3319, 'bck': 3320, 'color': 3321, 'gender': 3322, 'sleepwellamptake': 3323, 'mca': 3324, 'tming': 3325, 'vomiting': 3326, 'rub': 3327, 'clever': 3328, 'stamped': 3329, '113': 3330, 'bray': 3331, 'wicklow': 3332, 'eire': 3333, 'wwwidewcom': 3334, 'skillgame': 3335, '1winaweek': 3336, '150ppermesssubscription': 3337, 'xam': 3338, 'manage': 3339, 'shitload': 3340, 'mcat': 3341, 'sacrifice': 3342, 'beg': 3343, 'stayin': 3344, 'sorted': 3345, 'satisfy': 3346, 'cld': 3347, 'kindly': 3348, 'wale': 3349, 'killed': 3350, 'smashed': 3351, 'everybodys': 3352, 'tok': 3353, 'specific': 3354, 'affectionate': 3355, 'cousin': 3356, 'neck': 3357, 'continue': 3358, 'holy': 3359, 'billion': 3360, 'turning': 3361, 'ref': 3362, 'belive': 3363, 'slot': 3364, 'discussed': 3365, 'prem': 3366, '2morro': 3367, 'spoiled': 3368, 'complaint': 3369, 'lov': 3370, '300p': 3371, '01223585334': 3372, 'shagged': 3373, '2end': 3374, 'waited': 3375, 'huge': 3376, 'mids': 3377, 'upd8': 3378, 'annie': 3379, '21870000hi': 3380, 'mailbox': 3381, 'messaging': 3382, '09056242159': 3383, 'retrieve': 3384, 'hrishi': 3385, 'nothin': 3386, 'poem': 3387, 'thatll': 3388, 'quizwin£100': 3389, 'duchess': 3390, '82277unsub': 3391, 'stop£150': 3392, '008704050406': 3393, 'nahi': 3394, 'dan': 3395, 'aww': 3396, 'staring': 3397, 'unnecessarily': 3398, 'buddy': 3399, '08701417012150p': 3400, 'weigh': 3401, 'regret': 3402, 'gamestar': 3403, 'active': 3404, 'play£250k': 3405, 'scoring': 3406, 'nowsky': 3407, '88088': 3408, 'propsd': 3409, 'lttrs': 3410, 'threw': 3411, 'aproach': 3412, 'truck': 3413, 'speeding': 3414, 'girld': 3415, 'thy': 3416, 'lived': 3417, 'happily': 3418, '2gthr': 3419, 'evrydy': 3420, 'msgsd': 3421, 'paragon': 3422, 'bluff': 3423, 'sary': 3424, 'wwwfullonsmscom': 3425, 'wiskey': 3426, 'brandy': 3427, 'rum': 3428, 'gin': 3429, 'scotch': 3430, 'shampain': 3431, 'kudi': 3432, 'yarasu': 3433, 'dhina': 3434, 'vaazhthukkal': 3435, 'limit': 3436, 'dumb': 3437, 'dressed': 3438, 'kay': 3439, 'nasty': 3440, 'wasted': 3441, 'christ': 3442, 'science': 3443, 'answered': 3444, '8pm': 3445, 'wrote': 3446, 'swiss': 3447, 'director': 3448, 'crore': 3449, 'lane': 3450, 'politician': 3451, 'donno': 3452, 'properly': 3453, 'pongaldo': 3454, 'sry': 3455, 'furniture': 3456, 'shoving': 3457, 'strange': 3458, 'acl03530150pm': 3459, 'indyarockscom': 3460, 'resume': 3461, 'datoday': 3462, 'yunny': 3463, '83383': 3464, 'mmmmm': 3465, 'relative': 3466, 'risk': 3467, 'benefit': 3468, 'program': 3469, 'goodenvironment': 3470, 'terrific': 3471, 'superior': 3472, 'dock': 3473, 'picsfree1': 3474, 'ruin': 3475, 'department': 3476, 'conform': 3477, 'toshiba': 3478, 'wrk': 3479, 'madam': 3480, 'knock': 3481, 'innocent': 3482, 'mental': 3483, 'hoped': 3484, '2marrow': 3485, 'hon': 3486, '900': 3487, 'treated': 3488, '9pm': 3489, 'fab': 3490, 'tiwary': 3491, 'bang': 3492, 'pap': 3493, 'secretary': 3494, 'amongst': 3495, '69696': 3496, '3lp£150msg': 3497, 'northampton': 3498, 'abj': 3499, 'serving': 3500, 'anna': 3501, 'nagar': 3502, 'petrol': 3503, 'evr': 3504, 'neither': 3505, 'snogs': 3506, 'west': 3507, 'fastest': 3508, 'growing': 3509, 'chase': 3510, 'steam': 3511, 'reg': 3512, 'canary': 3513, 'sleepy': 3514, 'mag': 3515, 'diwali': 3516, 'thgt': 3517, 'lower': 3518, 'gudk': 3519, 'exhaust': 3520, 'success': 3521, 'division': 3522, 'creep': 3523, 'lil': 3524, 'property': 3525, 'interflora': 3526, 'final£800': 3527, '09058099801': 3528, 'b4190604': 3529, '7876150ppm': 3530, 'nicenicehow': 3531, 'yellow': 3532, '88888': 3533, 'doubt': 3534, 'japanese': 3535, 'proverb': 3536, 'itu': 3537, 'itleave': 3538, 'freedom': 3539, 'twenty': 3540, 'painting': 3541, 'probs': 3542, 'low': 3543, 'swatch': 3544, 'ganesh': 3545, 'helloooo': 3546, 'welcomes': 3547, 'this': 3548, 'with': 3549, '2geva': 3550, 'wuld': 3551, 'solved': 3552, 'sake': 3553, 'bruce': 3554, 'chest': 3555, 'brief': 3556, 'hang': 3557, 'reboot': 3558, 'pt2': 3559, 'phoned': 3560, 'improved': 3561, 'msgs150p': 3562, 'salon': 3563, 'raj': 3564, 'usc': 3565, 'wave': 3566, 'clearing': 3567, 'range': 3568, 'how': 3569, 'smiled': 3570, 'admin': 3571, 'visionsmscom': 3572, 'andros': 3573, 'penis': 3574, 'vth': 3575, 'eveb': 3576, 'removal': 3577, '08708034412': 3578, 'cancelled': 3579, 'lookatme': 3580, 'agalla': 3581, 'cheers': 3582, 'xxxxx': 3583, 'otside': 3584, '830': 3585, 'size': 3586, '08712101358': 3587, 'itåõs': 3588, 'tight': 3589, 'everyday': 3590, 'curious': 3591, 'postcard': 3592, 'bread': 3593, 'mahal': 3594, 'redred': 3595, 'bloodblood': 3596, 'heartheart': 3597, '4some1': 3598, 'luvs': 3599, 'praying': 3600, 'ding': 3601, 'allowed': 3602, 'necessary': 3603, 'disaster': 3604, 'messaged': 3605, 'deus': 3606, 'tap': 3607, 'spile': 3608, 'broad': 3609, 'canal': 3610, 'engin': 3611, 'east': 3612, 'howard': 3613, 'cooked': 3614, 'cheat': 3615, 'block': 3616, 'ruining': 3617, 'muchi': 3618, 'easily': 3619, 'custom': 3620, 'sac': 3621, 'jiayin': 3622, 'pobox45w2tg150p': 3623, 'forgotten': 3624, 'reverse': 3625, 'cheating': 3626, 'mathematics': 3627, '2waxsto': 3628, 'minimum': 3629, 'elaine': 3630, 'drunken': 3631, 'mess': 3632, 'ia': 3633, 'cameravideo': 3634, 'desire': 3635, 'pending': 3636, 'bloomberg': 3637, '447797706009': 3638, 'httpcareers': 3639, 'bloombergcom': 3640, 'priscillas': 3641, 'kent': 3642, 'vale': 3643, 'wan2': 3644, 'meetgreet': 3645, 'westlife': 3646, '1unbreakable': 3647, '2untamed': 3648, '3unkempt': 3649, '83049': 3650, 'prince': 3651, 'granite': 3652, 'strongbuy': 3653, 'explosive': 3654, 'nasdaq': 3655, 'cdgt': 3656, 'base': 3657, 'placement': 3658, 'devouring': 3659, 'airtel': 3660, 'processed': 3661, '69669': 3662, 'cost£150': 3663, 'jaya': 3664, 'itlet': 3665, 'mumtaz': 3666, 'mumtazs': 3667, 'incredible': 3668, 'o2fwd': 3669, '18ptxt': 3670, 'ship': 3671, 'maturity': 3672, 'decimal': 3673, 'kavalan': 3674, 'causing': 3675, 'outage': 3676, 'lib': 3677, 'reschedule': 3678, 'despite': 3679, 'swoop': 3680, 'langport': 3681, 'senthil': 3682, 'vega': 3683, 'lou': 3684, 'båõday': 3685, 'vewy': 3686, 'networking': 3687, 'pool': 3688, '09065989182': 3689, 'disconnect': 3690, 'callcoz': 3691, 'terrorist': 3692, 'itz': 3693, 'confirmd': 3694, 'verified': 3695, 'cnn': 3696, 'ibn': 3697, 'hppnss': 3698, 'sorrow': 3699, 'goodfriend': 3700, 'stayed': 3701, 'mila': 3702, 'age23': 3703, 'blonde': 3704, 'mtalk': 3705, '6986618': 3706, '30pptxt': 3707, '5free£150': 3708, 'increment': 3709, 'help08718728876': 3710, 'ful': 3711, 'atlast': 3712, 'desert': 3713, 'funk': 3714, 'tones2u': 3715, 'section': 3716, 'funeral': 3717, 'entry£100': 3718, 'tnc': 3719, 'brah': 3720, 'protect': 3721, 'ethreats': 3722, 'sib': 3723, 'sensitive': 3724, 'passwordsatmsms': 3725, 'blu': 3726, 'ipad': 3727, 'cheese': 3728, 'pink': 3729, 'httptms': 3730, 'widelivecomindex': 3731, 'your£900': 3732, '09061702893': 3733, 'practice': 3734, 'melt': 3735, 'ground': 3736, 'eek': 3737, 'win£150': 3738, '09061743386': 3739, 'heater': 3740, 'call2optout674': 3741, 'eta': 3742, 'housewife': 3743, '08717507711': 3744, 'btnational': 3745, 'dial': 3746, 'ball': 3747, '09066364311': 3748, 'literally': 3749, 'kothi': 3750, 'prof': 3751, 'sem': 3752, 'actual': 3753, 'sathya': 3754, 'tip': 3755, 'dealing': 3756, 'reasonable': 3757, 'election': 3758, 'kappa': 3759, 'piss': 3760, 'guessing': 3761, 'teeth': 3762, 'royal': 3763, 'sticky': 3764, 'edward': 3765, 'indicate': 3766, 'repeat': 3767, 'calculation': 3768, 'blur': 3769, 'clothes': 3770, 'lush': 3771, 'day2find': 3772, 'greatest': 3773, 'courage': 3774, 'defeat': 3775, 'heartgn': 3776, 'fucked': 3777, '430': 3778, 'natalja': 3779, '25f': 3780, 'yes440': 3781, 'no440': 3782, 'wwwsmsacunat27081980': 3783, 'moving': 3784, 'sunlight': 3785, 'kit': 3786, 'jogging': 3787, 'mokka': 3788, '09061744553': 3789, 'polyh': 3790, 'bone': 3791, 'epsilon': 3792, 'mesages': 3793, 'lst': 3794, 'massive': 3795, 'fineabsolutly': 3796, 'wwwtcbiz': 3797, 'polo': 3798, '373': 3799, 'w1j': 3800, '6hl': 3801, 'academic': 3802, 'convinced': 3803, 'coast': 3804, 'suppose': 3805, 'explicit': 3806, '02073162414': 3807, '20pmin': 3808, 'clearly': 3809, 'gain': 3810, '89070': 3811, 'realise': 3812, 'mnths': 3813, '86888': 3814, 'subscribe6gbpmnth': 3815, '3hrs': 3816, 'stoptxtstop': 3817, 'managed': 3818, 'capital': 3819, 'acted': 3820, 'mi': 3821, 'prabha': 3822, '£400': 3823, 'loyal': 3824, 'receive£400': 3825, '09066380611': 3826, 'print': 3827, 'dokey': 3828, 'sleepin': 3829, 'minor': 3830, 'ni8swt': 3831, 'denis': 3832, 'woulda': 3833, 'miserable': 3834, 'shoppin': 3835, 'toopray': 3836, '08718726270': 3837, 'nuther': 3838, 'infection': 3839, 'henry': 3840, 'mountain': 3841, 'select': 3842, 'woot': 3843, 'cme': 3844, 'parking': 3845, 'sarasota': 3846, 'nat': 3847, 'cherish': 3848, 'wallpaper': 3849, 'dearslp': 3850, 'welltake': 3851, 'careswt': 3852, 'dreamsmuah': 3853, '4eva': 3854, 'garden': 3855, 'bulb': 3856, 'seed': 3857, 'worth£3350': 3858, 'scotsman': 3859, 'go2': 3860, 'notxtcouk': 3861, 'gastroenteritis': 3862, 'replace': 3863, 'reduce': 3864, 'limiting': 3865, 'illness': 3866, '09061213237': 3867, '177': 3868, 'm227xy': 3869, 'favorite': 3870, 'amused': 3871, 'suggestion': 3872, 'mega': 3873, 'shu': 3874, 'jurong': 3875, 'amore': 3876, 'chgs': 3877, 'send£150': 3878, 'patent': 3879, 'cried': 3880, 'breather': 3881, 'granted': 3882, 'fulfil': 3883, 'xxxmobilemovieclub': 3884, 'httpwap': 3885, 'xxxmobilemovieclubcomnqjkgighjjgcbl': 3886, 'kim': 3887, 'gota': 3888, 'macedonia': 3889, 'goalsteam': 3890, 'trywales': 3891, '4txtì¼120': 3892, 'poboxox36504w45wq': 3893, 'ffffffffff': 3894, 'forced': 3895, 'convincing': 3896, 'packing': 3897, 'ahhh': 3898, 'vaguely': 3899, 'apologetic': 3900, 'fallen': 3901, 'actin': 3902, 'spoilt': 3903, 'badly': 3904, 'fainting': 3905, 'housework': 3906, 'cuppa': 3907, 'charged£5month': 3908, 'watt': 3909, 'arabian': 3910, 'steed': 3911, '07732584351': 3912, 'rodger': 3913, 'endowed': 3914, 'hep': 3915, 'immunisation': 3916, 'stubborn': 3917, 'thinked': 3918, 'smarter': 3919, 'crashing': 3920, 'accomodations': 3921, 'cave': 3922, 'offered': 3923, 'embarassing': 3924, 'jersey': 3925, 'devil': 3926, 'wing': 3927, 'incorrect': 3928, 'mallika': 3929, 'sherawat': 3930, 'yesgauti': 3931, 'sehwag': 3932, 'seeker': 3933, 'barbie': 3934, 'ken': 3935, 'youhow': 3936, 'performed': 3937, 'operate': 3938, 'multis': 3939, 'factory': 3940, 'kanoil': 3941, 'casualty': 3942, 'stuff42moro': 3943, 'includes': 3944, 'telugu': 3945, 'moviewat': 3946, 'hairdresser': 3947, 'beforehand': 3948, 'am': 3949, '4the': 3950, 'signin': 3951, 'memorable': 3952, 'minecraft': 3953, 'server': 3954, 'grumpy': 3955, 'lying': 3956, 'plural': 3957, 'dinnermsg': 3958, 'openin': 3959, 'formal': 3960, 'weighthaha': 3961, '0871277810910pmin': 3962, 'eggpotato': 3963, 'ratio': 3964, 'hmmmy': 3965, '5903': 3966, '09064019788': 3967, 'box42wr29c': 3968, 'applespairsall': 3969, 'malarky': 3970, '7548': 3971, '4041': 3972, 'sao': 3973, 'predict': 3974, 'knowyetunde': 3975, 'involve': 3976, 'imposed': 3977, 'lucyxx': 3978, 'tmorrowpls': 3979, 'accomodate': 3980, 'gravel': 3981, 'yijuehotmailcom': 3982, 'svc': 3983, '69988': 3984, 'nver': 3985, 'persons': 3986, 'cozsomtimes': 3987, 'ummmawill': 3988, 'inour': 3989, 'sindu': 3990, 'nevering': 3991, 'typical': 3992, 'dirt': 3993, 'chore': 3994, 'exist': 3995, 'hail': 3996, 'mist': 3997, 'aaooooright': 3998, 'meare': 3999, 'annoncement': 4000, '07046744435': 4001, 'envy': 4002, 'parentsi': 4003, 'excited': 4004, 'bootydelious': 4005, '32f': 4006, 'yes434': 4007, 'no434': 4008, 'wwwsmsacubootydelious': 4009, 'bangbabes': 4010, 'bangb': 4011, 'internetservice': 4012, 'culture': 4013, '09061701939': 4014, 's89': 4015, 'missunderstding': 4016, 'bridge': 4017, 'lager': 4018, 'axis': 4019, 'surname': 4020, 'clue': 4021, 'goodfine': 4022, 'lifted': 4023, 'approach': 4024, 'greatbye': 4025, 'handsome': 4026, 'finding': 4027, '30th': 4028, 'wwwareyouuniquecouk': 4029, 'league': 4030, 'or': 4031, 'stool': 4032, '1pm': 4033, 'babyjontet': 4034, 'enc': 4035, 'alter': 4036, 'dogg': 4037, 'refund': 4038, 'kkgoodstudy': 4039, 'prediction': 4040, 'ubandu': 4041, 'diskyou': 4042, 'scenery': 4043, 'flyng': 4044, 'aries': 4045, 'elama': 4046, 'mudyadhu': 4047, 'strict': 4048, 'gandhipuram': 4049, 'rubber': 4050, 'recdthirtyeight': 4051, 'youwhen': 4052, 'hearing': 4053, 'pleassssssseeeeee': 4054, 'sportsx': 4055, 'baig': 4056, 'ups': 4057, '3days': 4058, 'usps': 4059, 'bribe': 4060, 'nipost': 4061, 'luton': 4062, '0125698789': 4063, 'sometme': 4064, 'club4mobilescom': 4065, '87070': 4066, 'club4': 4067, 'box1146': 4068, 'mk45': 4069, '2wt': 4070, 'evo': 4071, 'narcotic': 4072, 'objection': 4073, 'rob': 4074, 'mack': 4075, 'theater': 4076, 'ahold': 4077, 'cruisin': 4078, 'dearshall': 4079, 'tonitebusy': 4080, 'streetshall': 4081, 'tonitethings': 4082, 'okvarunnathu': 4083, 'edukkukayee': 4084, 'raksha': 4085, 'ollubut': 4086, '3680offer': 4087, '28thfebtcs': 4088, 'gurl': 4089, 'appropriate': 4090, 'diesel': 4091, 'fridge': 4092, 'womdarfull': 4093, 'rodds1': 4094, '21m': 4095, 'aberdeen': 4096, 'united': 4097, 'kingdom': 4098, 'httpimg': 4099, 'acwicmb3cktz8r74': 4100, 'remb': 4101, 'jos': 4102, 'bookshelf': 4103, '85222': 4104, 'nowtcs': 4105, 'winnersclub': 4106, 'gbp150week': 4107, 'waythis': 4108, 'uniquei': 4109, 'mylife': 4110, 'kkadvance': 4111, 'guild': 4112, 'kkapo': 4113, 'kgood': 4114, 'evaporated': 4115, 'stealing': 4116, 'employer': 4117, 'tadaaaaa': 4118, 'wined': 4119, 'dined': 4120, 'hiding': 4121, 'huiming': 4122, 'prestige': 4123, 'shag': 4124, 'dointerested': 4125, 'sextextukcom': 4126, 'xxuk': 4127, '69876': 4128, 'jeremiah': 4129, 'iphone': 4130, 'apeshit': 4131, 'safely': 4132, 'callingforgot': 4133, 'onam': 4134, 'sirjii': 4135, 'personmeet': 4136, 'insha': 4137, 'allahrakhesh': 4138, 'tata': 4139, 'aig': 4140, 'tisscotayseer': 4141, '08708800282': 4142, 'andrewsboy': 4143, 'chikkudb': 4144, 'audreys': 4145, 'dawn': 4146, 'refreshed': 4147, 'call2optoutf4q': 4148, 'rp176781': 4149, 'wwwregalportfoliocouk': 4150, '08717205546': 4151, 'uniform': 4152, 'spoil': 4153, 't91': 4154, 'gbp': 4155, '09057039994': 4156, 'lindsay': 4157, 'heron': 4158, 'payasam': 4159, 'rinu': 4160, 'taught': 4161, 'becaus': 4162, 'verifying': 4163, 'prabu': 4164, 'followin': 4165, 'wallet': 4166, '945': 4167, 'owl': 4168, 'kickboxing': 4169, 'lap': 4170, '730ish': 4171, 'performance': 4172, 'calculated': 4173, 'monthnot': 4174, 'salam': 4175, 'wahleykkumsharing': 4176, 'newsby': 4177, 'tayseertissco': 4178, 'joinedhope': 4179, 'fineinshah': 4180, 'allahmeet': 4181, 'sometimerakheshvisitor': 4182, 'hmmmkbut': 4183, '2814032': 4184, '3xå£150pw': 4185, 'stoner': 4186, 'disastrous': 4187, 'fav': 4188, 'busetop': 4189, 'iron': 4190, 'okies': 4191, 'wendy': 4192, '09064012103': 4193, 'yesfrom': 4194, '09111032124': 4195, 'pobox12n146tf150p': 4196, 'siva': 4197, '09058094455': 4198, '1childish': 4199, '2naughty': 4200, '3sentiment': 4201, '4rowdy': 4202, '5ful': 4203, 'attitude': 4204, '6romantic': 4205, '7shy': 4206, '8attractive': 4207, '9funny': 4208, 'urination': 4209, 'hillsborough': 4210, 'shoul': 4211, 'txtjourney': 4212, 'gdnow': 4213, 'werethe': 4214, 'monkeespeople': 4215, 'monkeyaround': 4216, 'howdy': 4217, 'blimey': 4218, 'exercise': 4219, 'concentration': 4220, 'hank': 4221, 'lotsly': 4222, 'kkwhat': 4223, 'transferacc': 4224, 'optimistic': 4225, 'consistently': 4226, 'practicum': 4227, '120': 4228, 'feelingwavering': 4229, 'individualtime': 4230, 'heal': 4231, 'upgrdcentre': 4232, '9153': 4233, 'oral': 4234, 'slippery': 4235, 'bike': 4236, 'okmail': 4237, 'enters': 4238, 'differ': 4239, 'differbe': 4240, '69888nyt': 4241, 'ahwhat': 4242, 'machiany': 4243, 'whenre': 4244, 'mcr': 4245, 'jaykwon': 4246, 'thuglyfe': 4247, 'falconerf': 4248, 'faded': 4249, 'glory': 4250, 'ralphs': 4251, 'reunion': 4252, 'nowcan': 4253, 'accenture': 4254, 'jackson': 4255, 'rec': 4256, 'reache': 4257, 'nuerologist': 4258, 'lolnice': 4259, 'westshore': 4260, 'significance': 4261, 'ammo': 4262, 'nojst': 4263, 'sno': 4264, 'boltblue': 4265, 'poly3': 4266, 'jamz': 4267, 'toxic': 4268, 'topped': 4269, 'httpwwwbubbletextcom': 4270, 'tgxxrz': 4271, 'problematic': 4272, 'unconscious': 4273, 'abnormally': 4274, '08718729755': 4275, 'recieve': 4276, 'teletext': 4277, 'doublefaggot': 4278, '07815296484': 4279, '41782': 4280, '181104': 4281, 'ban': 4282, 'button': 4283, 'wwwapplausestorecom': 4284, 'monthlysubscription50pmsg': 4285, 'max6month': 4286, 'tcsc': 4287, '2stop': 4288, 'famous': 4289, 'unconditionally': 4290, 'temper': 4291, 'oclock': 4292, 'bash': 4293, 'cooped': 4294, 'invitation': 4295, 'weddin': 4296, 'alibi': 4297, 'sink': 4298, 'pace': 4299, 'cage': 4300, 'surrounded': 4301, 'cuck': 4302, 'weeddeficient': 4303, 'acknowledgement': 4304, 'astoundingly': 4305, 'tactless': 4306, 'oath': 4307, 'magic': 4308, 'silly': 4309, 'mutation': 4310, 'sunscreen': 4311, 'thesedays': 4312, 'lunchyou': 4313, 'onlinewhy': 4314, 'bao': 4315, 'sugardad': 4316, 'ahgee': 4317, 'meim': 4318, 'ninish': 4319, 'icky': 4320, 'freek': 4321, 'ridden': 4322, 'missy': 4323, 'goggles': 4324, 'arguing': 4325, 'won£5000': 4326, '09050005321': 4327, 'arngd': 4328, 'walkin': 4329, 'unfortuntly': 4330, 'frnt': 4331, 'sayin': 4332, 'textand': 4333, '08002988890': 4334, 'exwife': 4335, 'jjc': 4336, 'tendency': 4337, 'meive': 4338, 'gotany': 4339, 'srsly': 4340, '07753741225': 4341, '08715203677': 4342, '42478': 4343, '241004': 4344, 'prix': 4345, 'nitz': 4346, 'blastin': 4347, 'occur': 4348, 'rajnikant': 4349, 'oceand': 4350, 'xclusiveclubsaisai': 4351, '285': 4352, 'speciale': 4353, 'zouk': 4354, 'parisfree': 4355, '0794674629107880867867': 4356, 'bridgwater': 4357, 'banter': 4358, 'bestrply': 4359, 'dependent': 4360, 'thanx4': 4361, 'cer': 4362, 'soonc': 4363, 'himthen': 4364, 'handsomes': 4365, 'shock': 4366, 'grow': 4367, 'dismay': 4368, 'concerned': 4369, 'tootsie': 4370, 'seventeen': 4371, 'apply2': 4372, 'biola': 4373, 'fetching': 4374, 'restock': 4375, 'brighten': 4376, 'allo': 4377, 'braved': 4378, 'triumphed': 4379, 'mean÷ham': 4380, 'uncomfortable': 4381, '08715203694': 4382, 'sonetimes': 4383, 'rough': 4384, 'cloud': 4385, 'wikipediacom': 4386, '88800': 4387, '89034': 4388, '08718711108': 4389, 'repent': 4390, 'kama': 4391, 'sutra': 4392, 'nange': 4393, 'bakra': 4394, 'kalstiyathen': 4395, 'teacoffee': 4396, 'carlosll': 4397, 'lakh': 4398, 'sun0819': 4399, 'just£150': 4400, '08452810071': 4401, 'ditto': 4402, 'wetherspoons': 4403, 'piggy': 4404, 'freaky': 4405, 'scrappy': 4406, 'sdryb8i': 4407, 'lapdancer': 4408, '1da': 4409, '150ppmsg': 4410, 'imprtant': 4411, 'tomorw': 4412, 'dearme': 4413, 'cherthalain': 4414, 'bfore': 4415, 'starti': 4416, 'accordinglyor': 4417, 'comingtmorow': 4418, 'engaged': 4419, '448712404000please': 4420, '08712404000': 4421, '1405': 4422, '1680': 4423, '1843': 4424, 'entrepreneur': 4425, 'alexs': 4426, 'corporation': 4427, 'prevent': 4428, 'dehydration': 4429, 'fluid': 4430, 'soso': 4431, 'smsd': 4432, 'trek': 4433, 'harri': 4434, 'ngage': 4435, 'deck': 4436, 'wwwcnupdatescomnewsletter': 4437, 'shitstorm': 4438, 'attributed': 4439, '08714712388': 4440, '449071512431': 4441, 'sth': 4442, 'spec': 4443, 'px3748': 4444, '08714712394': 4445, 'macha': 4446, 'upseti': 4447, 'mindsetbelieve': 4448, 'uslet': 4449, 'againcall': 4450, 'sfine': 4451, 'wondar': 4452, 'flim': 4453, 'jelly': 4454, 'stillmaybe': 4455, 'sameso': 4456, 'itor': 4457, 'admiti': 4458, 'madthen': 4459, 'correctionor': 4460, 'lifeand': 4461, 'worldmay': 4462, 'runninglets': 4463, 'scrumptious': 4464, 'dao': 4465, 'jide': 4466, 'visiting': 4467, 'alertfrom': 4468, 'jeri': 4469, 'stewartsize': 4470, '2kbsubject': 4471, 'lowcost': 4472, 'prescripiton': 4473, 'drvgsto': 4474, 'steak': 4475, 'convincingjust': 4476, 'neglect': 4477, 'itjust': 4478, 'opportunityall': 4479, 'fastpls': 4480, 'prayer': 4481, 'dearrakhesh': 4482, 'hadnt': 4483, 'realised': 4484, 'wahay': 4485, 'gaze': 4486, '82324': 4487, 'tattoo': 4488, 'caveboy': 4489, 'sorryi': 4490, 'faith': 4491, 'possiblehope': 4492, 'worklove': 4493, 'beautifulmay': 4494, 'christmasmerry': 4495, 'youcarlos': 4496, 'isare': 4497, 'vibrate': 4498, 'acting': 4499, '08704439680tscs': 4500, 'hungover': 4501, 'urgent£500': 4502, 'unclaimed': 4503, '09066368327': 4504, 'closingdate040902': 4505, 'claimcode': 4506, 'm39m51£150pmmorefrommobile2bremovedmobypobox734ls27yf': 4507, 'gua': 4508, 'faber': 4509, 'dramatic': 4510, 'hunting': 4511, 'drunkard': 4512, 'idc': 4513, 'weaseling': 4514, 'trash': 4515, 'punish': 4516, 'beerage': 4517, 'randomlly': 4518, 'spelling': 4519, '100psms': 4520, '087018728737': 4521, 'toppoly': 4522, 'tune': 4523, '81618': 4524, 'fondly': 4525, 'ywhere': 4526, 'dogbreath': 4527, 'sounding': 4528, 'weighed': 4529, 'woohoo': 4530, 'uncountable': 4531, '9996': 4532, '14thmarch': 4533, 'availa': 4534, 'petey': 4535, 'whereare': 4536, 'friendsare': 4537, 'thekingshead': 4538, 'canlove': 4539, 'few': 4540, 'rg21': 4541, '4jx': 4542, 'dled': 4543, 'smokin': 4544, 'boooo': 4545, 'ssnervous': 4546, 'yowifes': 4547, 'outbid': 4548, 'simonwatson5120': 4549, 'shinco': 4550, 'plyr': 4551, 'acsmsrewards': 4552, 'notification': 4553, 'youi': 4554, 'dobby': 4555, 'enjoyin': 4556, 'yourjob': 4557, 'hunnyhope': 4558, 'iåõllspeak': 4559, 'soonlots': 4560, 'starshine': 4561, 'smsservices': 4562, 'yourinclusive': 4563, 'turned': 4564, 'burial': 4565, 'roadsrvx': 4566, 'voucherstext': 4567, 'nowsavamobmember': 4568, 'comprehensive': 4569, 'prashanthettans': 4570, 'samantha': 4571, 'guitar': 4572, 'impress': 4573, 'doug': 4574, 'realizes': 4575, 'trauma': 4576, 'swear': 4577, 'officewhats': 4578, 'mattermsg': 4579, 'inner': 4580, 'tigress': 4581, 'babyhope': 4582, 'urfeeling': 4583, 'bettersn': 4584, 'probthat': 4585, 'overdose': 4586, 'lovejen': 4587, '83110': 4588, 'ana': 4589, 'sathy': 4590, 'rto': 4591, 'corvette': 4592, '09061104283': 4593, 'wwwsmsconet£150pm': 4594, 'bunker': 4595, '07808': 4596, 'xxxxxx': 4597, '08719899217': 4598, 'posh': 4599, 'chap': 4600, 'trial': 4601, 'prod': 4602, 'champneys': 4603, 'dob': 4604, '0721072': 4605, 'philosophical': 4606, 'hole': 4607, 'goodno': 4608, 'problembut': 4609, 'atleast': 4610, 'shakespeare': 4611, '09065171142stopsms08': 4612, 'httpdoit': 4613, 'mymoby': 4614, 'woul': 4615, 'curfew': 4616, 'gibe': 4617, 'getsleep': 4618, 'studdying': 4619, 'massage': 4620, 'yoyyooo': 4621, 'unsoldmike': 4622, 'hussey': 4623, 'faglord': 4624, 'nutter': 4625, 'cutter': 4626, 'ctter': 4627, 'cttergg': 4628, 'cttargg': 4629, 'ctargg': 4630, 'ctagg': 4631, 'thus': 4632, 'grateful': 4633, 'happier': 4634, 'experiment': 4635, 'invoice': 4636, 'tobacco': 4637, 'assumed': 4638, 'lastest': 4639, 'stereophonics': 4640, 'marley': 4641, 'dizzee': 4642, 'racal': 4643, 'libertine': 4644, 'stroke': 4645, 'nookii': 4646, 'bookmark': 4647, 'grinule': 4648, 'fudge': 4649, 'zahers': 4650, 'nauseous': 4651, 'dieting': 4652, 'ashleys': 4653, 'avalarr': 4654, 'hollalater': 4655, 'todaybut': 4656, 'websitenow': 4657, 'blogging': 4658, 'magicalsongsblogspotcom': 4659, 'chikkuil': 4660, 'kvb': 4661, 'over£1million': 4662, 'ppt150x3normal': 4663, 'box403': 4664, 'w1t1jy': 4665, 'fridayhope': 4666, 'alternativehope': 4667, 'ore': 4668, 'owo': 4669, 'fro': 4670, 'samus': 4671, 'shoulder': 4672, 'matthew': 4673, '09063440451': 4674, '4lux': 4675, 'ppm150': 4676, 'box334': 4677, 'vomitin': 4678, 'kkare': 4679, '09061749602': 4680, '528': 4681, 'hp20': 4682, '1yf': 4683, 'stuffed': 4684, 'writhing': 4685, 'paypal': 4686, 'voila': 4687, 'pocket': 4688, 'folk': 4689, '150psms': 4690, 'sorta': 4691, 'blown': 4692, 'sophas': 4693, 'secondary': 4694, 'applying': 4695, 'ogunrinde': 4696, 'lodging': 4697, 'chk': 4698, 'dict': 4699, 'shb': 4700, 'dobbys': 4701, 'retired': 4702, 'natwest': 4703, 'chad': 4704, 'gymnastics': 4705, 'christian': 4706, 'backa': 4707, 'token': 4708, 'youthats': 4709, 'likingbe': 4710, 'seeno': 4711, 'thatdont': 4712, 'aptitude': 4713, '215': 4714, 'horse': 4715, 'wrongly': 4716, 'boggy': 4717, 'biatch': 4718, 'hesitate': 4719, 'notebook': 4720, 'eightish': 4721, 'carpark': 4722, 'ahthe': 4723, 'tomorrowcall': 4724, '67441233': 4725, 'ireneere': 4726, 'bus822656166382': 4727, 'cresubi': 4728, 'park6ph': 4729, '5wkg': 4730, 'daysì': 4731, 'relaxing': 4732, '7am': 4733, '5ish': 4734, 'stripe': 4735, 'skirt': 4736, 'escalator': 4737, 'beth': 4738, 'charlie': 4739, 'nobut': 4740, 'syllabus': 4741, 'panasonic': 4742, 'bluetoothhdset': 4743, 'doublemins': 4744, 'doubletxt': 4745, '730pm': 4746, 'poyyarikaturkolathupalayamunjalur': 4747, 'posterode': 4748, 'heroi': 4749, 'apt': 4750, 'opportunitypls': 4751, 'ltemailgt': 4752, 'meat': 4753, 'supreme': 4754, 'toldshe': 4755, 'dearregret': 4756, 'cudnt': 4757, 'calldrove': 4758, 'ctla': 4759, 'homeleft': 4760, 'carente': 4761, 'ishtamayoohappy': 4762, 'bakrid': 4763, 'knowwait': 4764, 'glorious': 4765, 'coaxing': 4766, 'fond': 4767, 'souveniers': 4768, 'cougarpen': 4769, '09065394514': 4770, 'scratch': 4771, 'shitin': 4772, 'defo': 4773, 'hardest': 4774, 'lekdog': 4775, 'atten': 4776, 'iåõd': 4777, '09058097218': 4778, 'doesnåõt': 4779, 'data': 4780, 'analysis': 4781, 'belligerent': 4782, 'rudi': 4783, 'snoringthey': 4784, 'ink': 4785, '515': 4786, 'howre': 4787, 'throwing': 4788, 'processnetworking': 4789, 'daysso': 4790, 'finalise': 4791, 'visitneed': 4792, 'wwwflirtpartyus': 4793, 'replys150': 4794, 'lul': 4795, 'nurse': 4796, 'obese': 4797, 'oyea': 4798, 'ami': 4799, 'parchi': 4800, 'kicchu': 4801, 'kaaj': 4802, 'korte': 4803, 'iccha': 4804, 'korche': 4805, 'tul': 4806, 'sculpture': 4807, 'surya': 4808, 'pokkiri': 4809, 'attractioni': 4810, 'meshe': 4811, 'thoughtsi': 4812, 'hershe': 4813, 'dreamlove': 4814, 'namemy': 4815, 'hermy': 4816, 'herwill': 4817, 'sorrowsi': 4818, 'proove': 4819, 'planeti': 4820, 'praise': 4821, 'makiing': 4822, 'sambarlife': 4823, 'thenwill': 4824, 'needle': 4825, 'meetitz': 4826, '4few': 4827, 'conected': 4828, 'spatula': 4829, 'complexity': 4830, 'freely': 4831, 'tax': 4832, 'outrageous': 4833, 'ryder': 4834, 'unsoldnow': 4835, 'elvis': 4836, 'presley': 4837, 'postal': 4838, 'addressull': 4839, 'alrightokay': 4840, 'wrking': 4841, 'sittin': 4842, 'hen': 4843, 'smoked': 4844, 'sfirst': 4845, 'timedhoni': 4846, 'teju': 4847, 'hourish': 4848, 'nothis': 4849, 'groundamla': 4850, 'convenience': 4851, 'evaluation': 4852, '449050000301': 4853, '09050000301': 4854, '80155': 4855, 'swap': 4856, 'chatter': 4857, 'chat80155': 4858, 'rcd': 4859, 'cheyyamoand': 4860, '80160': 4861, 'wwwtxt43com': 4862, 'currently£500': 4863, 'hmv1': 4864, 'correction': 4865, 'painhope': 4866, 'tau': 4867, 'piah': 4868, '1stchoicecouk': 4869, '08707808226': 4870, 'ohas': 4871, 'shade': 4872, 'copied': 4873, 'notified': 4874, 'marketing': 4875, '84122': 4876, '08450542832': 4877, 'sexual': 4878, '69911å£150p': 4879, 'sitter': 4880, 'kaitlyn': 4881, 'danger': 4882, 'peep': 4883, 'comment': 4884, 'veggie': 4885, 'computerless': 4886, 'balloon': 4887, 'passthey': 4888, 'ntswt': 4889, 'drms': 4890, 'melody': 4891, 'hme': 4892, 'velachery': 4893, 'flippin': 4894, 'breaking': 4895, 'cstore': 4896, 'hangin': 4897, 'alivebetter': 4898, 'lodge': 4899, 'worrying': 4900, 'popcorn': 4901, 'celeb': 4902, 'pics£3wk': 4903, '087016248': 4904, '08719181503': 4905, 'thin': 4906, 'faultal': 4907, 'faultfed': 4908, 'himso': 4909, 'thanxxx': 4910, 'semi': 4911, 'exp': 4912, '30apr': 4913, 'maaaan': 4914, 'guessin': 4915, 'ilol': 4916, 'personally': 4917, 'wuldnt': 4918, 'lunchtime': 4919, 'organise': 4920, 'passable': 4921, 'phd': 4922, '5years': 4923, 'prakesh': 4924, 'betta': 4925, 'aging': 4926, 'product': 4927, 'accommodation': 4928, 'global': 4929, 'wwwphb1com': 4930, 'ph08700435505150p': 4931, 'submitting': 4932, 'snatch': 4933, 'hellodrivby0quit': 4934, 'edrunk': 4935, 'iff': 4936, 'pthis': 4937, 'senrddnot': 4938, 'dancce': 4939, 'drum': 4940, 'basqihave': 4941, '2nhite': 4942, 'ro': 4943, 'xxxxxxx': 4944, 'relieved': 4945, 'westonzoyland': 4946, 'greatness': 4947, 'goin2bed': 4948, 'only1more': 4949, '2nitetell': 4950, 'every1': 4951, 'ava': 4952, 'goodtimeoli': 4953, 'melnite': 4954, 'ifink': 4955, 'sortedbut': 4956, 'everythin': 4957, 'monl8rsx': 4958, '08712402779': 4959, 'shun': 4960, 'bian': 4961, 'glass': 4962, 'exhibition': 4963, 'nino': 4964, 'chikkugoing': 4965, 'downstem': 4966, '08718730555': 4967, 'wahala': 4968, 'inperialmusic': 4969, 'listening2the': 4970, 'byåóleafcutter': 4971, 'johnåósounds': 4972, 'insect': 4973, 'molestedsomeone': 4974, 'plumbingremixed': 4975, 'evil': 4976, 'acid': 4977, 'didntgive': 4978, 'bellearlier': 4979, '09096102316': 4980, 'cheery': 4981, '80488biz': 4982, 'weirdo': 4983, 'stalk': 4984, 'heygreat': 4985, 'dealfarm': 4986, '9am': 4987, '95pax': 4988, 'deposit': 4989, 'jap': 4990, 'disappeared': 4991, 'certificate': 4992, 'publish': 4993, 'wheellock': 4994, 'destination': 4995, 'fifty': 4996, 'settling': 4997, 'happenin': 4998, 'cocksucker': 4999, 'ipads': 5000, 'worthless': 5001, 'novelty': 5002, 'tshirt': 5003, 'janx': 5004, 'designation': 5005, 'developer': 5006, 'videosound': 5007, 'videosounds2': 5008, 'logosmusicnews': 5009, 'jamstercouk': 5010, '09701213186': 5011, 'spirit': 5012, 'shattered': 5013, 'girlie': 5014, 'darker': 5015, 'styling': 5016, 'gray': 5017, 'remembr': 5018, 'listn': 5019, 'watevr': 5020, 'whileamp': 5021, '\\x89ûïharry': 5022, 'minus': 5023, 'paragraph': 5024, 'coveragd': 5025, 'vasai': 5026, 'retard': 5027, 'bathroom': 5028, 'now£500': 5029, 'sang': 5030, 'uptown': 5031, '80': 5032, 'icic': 5033, 'syria': 5034, 'heartsnot': 5035, 'gauge': 5036, 'mondaynxt': 5037, 'completing': 5038, 'surgical': 5039, 'emergency': 5040, 'unfolds': 5041, 'korean': 5042, 'leonas': 5043, 'fredericksburg': 5044, 'que': 5045, 'buen': 5046, 'tiempo': 5047, 'compass': 5048, 'worldgnun': 5049, 'way2smscom': 5050, 'baaaaabe': 5051, 'youuuuu': 5052, 'convince': 5053, 'witot': 5054, 'melike': 5055, 'becz': 5056, 'undrstndng': 5057, 'avoids': 5058, 'suffer': 5059, 'steamboat': 5060, 'forgive': 5061, 'bbq': 5062, '6ish': 5063, 'everyso': 5064, 'panicks': 5065, 'outhave': 5066, 'nick': 5067, 'auntie': 5068, 'huai': 5069, 'path': 5070, 'appear': 5071, 'paths': 5072, 'thirunelvali': 5073, 'evei': 5074, 'netno': 5075, 'availablei': 5076, 'tackle': 5077, 'tonght': 5078, 'ploughing': 5079, 'pile': 5080, 'ironing': 5081, 'chinky': 5082, 'geelater': 5083, 'aust': 5084, 'recharged': 5085, 'papa': 5086, 'detailed': 5087, 'loser': 5088, 'beta': 5089, 'kkany': 5090, 'noncomittal': 5091, 'snickering': 5092, 'chord': 5093, 'nofew': 5094, 'beforewent': 5095, 'win150ppmx3age16': 5096, 'boyf': 5097, 'interviw': 5098, 'worriedx': 5099, 'spreadsheet': 5100, 'determine': 5101, 'smokes': 5102, 'entire': 5103, 'dartboard': 5104, 'treble': 5105, 'recognises': 5106, 'wisheds': 5107, 'intrepid': 5108, 'duo': 5109, 'breeze': 5110, 'fresh': 5111, 'twittering': 5112, 'yagoing': 5113, 'ducking': 5114, 'chinchilla': 5115, 'headstart': 5116, '230ish': 5117, 'earlierwe': 5118, 'rummer': 5119, 'flying': 5120, 'optin': 5121, 'bbc': 5122, 'thanks2': 5123, 'rajini': 5124, 'matched': 5125, 'help08714742804': 5126, 'spy': 5127, '09099725823': 5128, 'offering': 5129, 'yalru': 5130, 'astne': 5131, 'innu': 5132, 'mundhe': 5133, 'ali': 5134, 'halla': 5135, 'bilo': 5136, 'marriageprogram': 5137, 'edhae': 5138, 'ovr': 5139, 'chikkuali': 5140, 'vargu': 5141, 'meow': 5142, 'meowd': 5143, 'prone': 5144, '07801543489': 5145, 'wordcollect': 5146, 'no83355': 5147, 'tcllc': 5148, 'nyusa': 5149, '150pmt': 5150, 'msgrcvd18': 5151, 'meetins': 5152, 'cumin': 5153, '09099726395': 5154, 'dose': 5155, 'incomm': 5156, 'waitshould': 5157, 'tiring': 5158, 'concentrating': 5159, 'browsin': 5160, 'compulsory': 5161, 'investigate': 5162, 'www80488biz': 5163, 'moneyas': 5164, 'youmoney': 5165, 'thinghow': 5166, 'vitamin': 5167, 'crucial': 5168, '2channel': 5169, 'leadership': 5170, 'skill': 5171, 'psychic': 5172, 'wquestion': 5173, 'hostbased': 5174, 'idp': 5175, 'linux': 5176, 'converter': 5177, 'sayy': 5178, 'peteis': 5179, 'leannewhat': 5180, 'disc': 5181, 'champ': 5182, 'glasgow': 5183, 'kall': 5184, 'bestcongrats': 5185, 'lovin': 5186, 'install': 5187, 'browse': 5188, 'artist': 5189, 'corect': 5190, 'speling': 5191, '10803': 5192, '08714719523': 5193, 'hicts': 5194, 'employee': 5195, 'nike': 5196, 'sooo': 5197, 'shouting': 5198, 'dang': 5199, 'earliest': 5200, 'nordstrom': 5201, 'conference': 5202, 'wwworangecoukow': 5203, 'bleak': 5204, 'shant': 5205, 'nearer': 5206, 'raiden': 5207, 'tote': 5208, 'pierre': 5209, 'cardin': 5210, 'establish': 5211, 'truro': 5212, 'ext': 5213, 'worryuse': 5214, 'cloth': 5215, 'packalso': 5216, 'sunroof': 5217, 'blanked': 5218, 'kalainar': 5219, 'officethenampet': 5220, 'nosy': 5221, 'reacting': 5222, 'freaked': 5223, 'satanic': 5224, 'imposter': 5225, 'meneed': 5226, 'priceso': 5227, 'itmay': 5228, 'destiny': 5229, 'companion': 5230, 'chef': 5231, 'listener': 5232, 'organizer': 5233, 'sympathetic': 5234, 'athletic': 5235, 'courageous': 5236, 'determined': 5237, 'dependable': 5238, 'psychologist': 5239, 'pest': 5240, 'exterminator': 5241, 'psychiatrist': 5242, 'healer': 5243, 'stylist': 5244, 'aaniye': 5245, 'pudunga': 5246, 'venaam': 5247, 'chez': 5248, 'jules': 5249, 'hhahhaahahah': 5250, 'nig': 5251, 'leonardo': 5252, 'dereks': 5253, '2years': 5254, 'strain': 5255, 'withdraw': 5256, 'anyhow': 5257, 'miller': 5258, 'spark': 5259, 'rawring': 5260, 'xoxo': 5261, 'somewhr': 5262, 'crush': 5263, 'honeymoon': 5264, 'outfit': 5265, '08719899230': 5266, 'cheque': 5267, 'olympics': 5268, 'leo': 5269, 'donewant': 5270, 'haul': 5271, 'wildlife': 5272, 'want2come': 5273, 'that2worzels': 5274, 'wizzle': 5275, 'shanghai': 5276, 'cya': 5277, '645': 5278, 'rtking': 5279, 'inforingtonekingcouk': 5280, '08701237397': 5281, 'redeemable': 5282, 'wwwringtonekingcouk': 5283, 'thnx': 5284, 'sef': 5285, 'anjie': 5286, 'fring': 5287, 'nte': 5288, 'worth£350': 5289, '02072069400': 5290, '526': 5291, 'animal': 5292, 'shiny': 5293, 'warming': 5294, 'french': 5295, 'fooled': 5296, '0anetworks': 5297, 'responsible': 5298, 'suppliers': 5299, 'comedycant': 5300, 'freemsgfeelin': 5301, 'lnly': 5302, 'pictxt': 5303, 'keen': 5304, 'dammit': 5305, 'wright': 5306, 'somewhat': 5307, 'laden': 5308, 'wrecked': 5309, 'spontaneously': 5310, 'goodevening': 5311, 'sif': 5312, 'rgent': 5313, 'daytime': 5314, 'busty': 5315, '09099726429': 5316, 'janinexx': 5317, 'spageddies': 5318, 'phasing': 5319, 'fourth': 5320, 'dimension': 5321, 'yesbut': 5322, 'meaningful': 5323, 'compromised': 5324, 'lmaonice': 5325, '09050001295': 5326, 'a21': 5327, 'mobsicom': 5328, '391784': 5329, 'dub': 5330, 'toughest': 5331, 'squatting': 5332, '0089my': 5333, 'digit': 5334, 'received£350': 5335, '09063442151': 5336, 'sonathaya': 5337, 'soladha': 5338, 'raping': 5339, 'weightloss': 5340, 'mushy': 5341, 'embarrassed': 5342, 'stash': 5343, 'priya': 5344, 'kilo': 5345, 'accidant': 5346, 'tookplace': 5347, 'ghodbandar': 5348, 'slovely': 5349, 'ahnow': 5350, 'wherebtw': 5351, 'nu': 5352, 'specialise': 5353, 'wad': 5354, 'desparately': 5355, 'stereo': 5356, 'classmate': 5357, 'firesare': 5358, 'prebook': 5359, 'trackmarque': 5360, 'infovipclub4u': 5361, 'missionary': 5362, 'entertaining': 5363, 'hugh': 5364, 'laurie': 5365, 'praps': 5366, 'jon': 5367, 'spain': 5368, 'dinero': 5369, 'åôrents': 5370, '12000pes': 5371, 'hunnywot': 5372, 'bedroomlove': 5373, 'complaining': 5374, 'mandy': 5375, 'sullivan': 5376, 'hotmix': 5377, 'fmyou': 5378, 'receive£500000': 5379, 'drawplease': 5380, '09041940223': 5381, '290305': 5382, 'transferred': 5383, 'finn': 5384, 'downon': 5385, 'theacusations': 5386, 'itxt': 5387, 'iwana': 5388, 'wotu': 5389, 'thewend': 5390, 'haventcn': 5391, 'agesring': 5392, 'nething': 5393, 'satlove': 5394, 'dine': 5395, 'conacted': 5396, 'youto': 5397, '09111030116': 5398, 'pobox12n146tf15': 5399, 'vtired': 5400, 'inspection': 5401, 'nursery': 5402, 'detailsi': 5403, 'youmy': 5404, 'itmail': 5405, 'panren': 5406, 'paru': 5407, 'chuckin': 5408, 'trainners': 5409, 'carryin': 5410, 'bac': 5411, 'gooddhanush': 5412, 'needing': 5413, 'chikkusimple': 5414, 'habbahw': 5415, 'dileepthank': 5416, 'muchand': 5417, 'supportvery': 5418, 'hereremember': 5419, 'venugopal': 5420, 'mentionedtomorrow': 5421, 'latei': 5422, 'theregoodnight': 5423, 'remembrs': 5424, 'everytime': 5425, '3230': 5426, 'textbook': 5427, 'algorithm': 5428, 'edition': 5429, '10k': 5430, '09064018838': 5431, 'cro1327': 5432, 'recharge': 5433, 'yessura': 5434, 'tvlol': 5435, '4ui': 5436, 'intend': 5437, 'iwasmarinethatåõs': 5438, 'itried2tell': 5439, 'urmomi': 5440, 'careabout': 5441, 'learned': 5442, 'fake': 5443, 'iraq': 5444, 'afghanistan': 5445, 'stable': 5446, 'honest': 5447, 'traveling': 5448, 'blessget': 5449, '1225': 5450, 'receive£50award': 5451, 'pai': 5452, 'seh': 5453, 'walsall': 5454, 'tue': 5455, 'terry': 5456, 'ccna': 5457, 'shrek': 5458, '3db': 5459, 'fellow': 5460, 'somethings': 5461, 'dying': 5462, 'lifting': 5463, 'teresa': 5464, 'dec': 5465, 'yould': 5466, 'bam': 5467, 'usmle': 5468, 'squishy': 5469, 'mwahs': 5470, 'hottest': 5471, 'prominent': 5472, 'cheek': 5473, 'september': 5474, 'hack': 5475, 'backdoor': 5476, 'fraction': 5477, 'neo69': 5478, '09050280520': 5479, 'subscribe': 5480, 'dp': 5481, 'bcm': 5482, '8027': 5483, '415': 5484, 'are': 5485, 'comingdown': 5486, 'dagood': 5487, 'murali': 5488, 'playerwhy': 5489, 'sts': 5490, 'engalnd': 5491, 'mia': 5492, 'elliot': 5493, 'kissing': 5494, '12price': 5495, 'xnet': 5496, 'mins100txtmth': 5497, '2optoutd3wv': 5498, 'wiproyou': 5499, 'matric': 5500, '850': 5501, '650': 5502, '08718726970': 5503, 'fedex': 5504, 'kyou': 5505, 'reception': 5506, 'consensus': 5507, 'entertain': 5508, 'tag': 5509, 'bra': 5510, 'strewn': 5511, 'pillow': 5512, 'expose': 5513, 'wicked': 5514, 'readyall': 5515, 'srt': 5516, 'ps3': 5517, 'jontin': 5518, 'prizeto': 5519, 'banned': 5520, 'pen': 5521, 'biro': 5522, '09058094594': 5523, 'unconsciously': 5524, 'unhappy': 5525, 'jog': 5526, '09061743811': 5527, 'lark': 5528, '09090900040': 5529, 'extreme': 5530, 'sic': 5531, '60p': 5532, '247mp': 5533, '0870753331018': 5534, 'videopic': 5535, 'fones': 5536, 'wild': 5537, '150prcvd': 5538, 'stop2stop': 5539, 'lim': 5540, 'parachute': 5541, 'placed': 5542, 'lambda': 5543, 'angel': 5544, 'snowball': 5545, 'ello': 5546, 'ofice': 5547, 'oficegot': 5548, 'duffer': 5549, 'grr': 5550, 'pharmacy': 5551, 'cook': 5552, '08715500022': 5553, 'rpl': 5554, 'cnl': 5555, 'fffff': 5556, 'lifebook': 5557, 'zhong': 5558, 'qing': 5559, 'act': 5560, 'hypertension': 5561, 'mineall': 5562, 'annoyin': 5563, '08702490080': 5564, 'vpod': 5565, 'nigro': 5566, 'scratching': 5567, 'anyplaces': 5568, 'priority': 5569, 'ecstasy': 5570, '09090204448': 5571, 'minded': 5572, 'evening£150': 5573, 'minapn': 5574, 'ls278bb': 5575, 'hittng': 5576, 'reflex': 5577, '1010': 5578, 'adewale': 5579, 'egbon': 5580, 'minstand': 5581, 'mary': 5582, 'deduct': 5583, 'wrks': 5584, 'asshole': 5585, 'grab': 5586, 'sliding': 5587, '09065394973': 5588, 'payback': 5589, 'tescos': 5590, 'feathery': 5591, 'bowa': 5592, 'infra': 5593, 'gep': 5594, '2006': 5595, 'fifa': 5596, 'shhhhh': 5597, 'related': 5598, 'arul': 5599, 'amk': 5600, '09061743810': 5601, 'santha': 5602, 'corrct': 5603, 'dane': 5604, 'basket': 5605, 'rupaul': 5606, 'practising': 5607, 'curtsey': 5608, 'converted': 5609, 'themobyo': 5610, 'yohere': 5611, 'ssindia': 5612, 'african': 5613, 'soil': 5614, 'outreach': 5615, '8lb': 5616, '7oz': 5617, 'brilliantly': 5618, 'forwarding': 5619, 'visitor': 5620, 'bend': 5621, 'thia': 5622, 'inlude': 5623, 'preview': 5624, 'ambrithmaduraimet': 5625, 'dha': 5626, 'marrgeremembr': 5627, 'kitty': 5628, 'shaved': 5629, 'anybodys': 5630, 'tactful': 5631, 'skillgame1winaweek': 5632, 'age16150ppermesssubscription': 5633, 'eggspert': 5634, 'potato': 5635, 'crammed': 5636, 'satsgettin': 5637, '447per': 5638, 'apologize': 5639, 'admit': 5640, 'pei': 5641, 'subtoitles': 5642, 'jot': 5643, 'storelike': 5644, 'cereal': 5645, 'gari': 5646, 'bold2': 5647, '09094100151': 5648, 'cast': 5649, 'gbp5month': 5650, 'box61m60': 5651, '1er': 5652, 'thkin': 5653, 'resubbing': 5654, 'shadow': 5655, 'breadstick': 5656, 'saeed': 5657, '09066362220': 5658, 'redim': 5659, 'blueu': 5660, 'purpleu': 5661, 'pinku': 5662, 'orangei': 5663, 'lyk': 5664, 'greeni': 5665, 'yelowi': 5666, 'blackim': 5667, 'browni': 5668, 'arranging': 5669, 'eldest': 5670, 'drugdealer': 5671, 'wither': 5672, 'eg23f': 5673, 'eg23g': 5674, 'wondarfull': 5675, 'messagestext': 5676, 'nowuse': 5677, 'web2mobile': 5678, 'txt250com': 5679, 'box139': 5680, 'la32wu': 5681, 'txtx': 5682, 'hunonbus': 5683, 'donyt': 5684, 'homebut': 5685, 'latelyxxx': 5686, '85233': 5687, 'freeringtonereply': 5688, 'ownyouve': 5689, 'stressed': 5690, 'skallis': 5691, 'soooo': 5692, 'provider': 5693, 'cutest': 5694, 'dice': 5695, 'help08700469649': 5696, 'box420': 5697, 'howda': 5698, 'mathe': 5699, 'samachara': 5700, 'audrie': 5701, 'autocorrect': 5702, 'simulate': 5703, 'readiness': 5704, 'andor': 5705, 'lara': 5706, 'attach': 5707, '087123002209am7pm': 5708, 'washob': 5709, 'nobbing': 5710, 'nickey': 5711, 'platt': 5712, 'ryan': 5713, 'spotty': 5714, 'province': 5715, 'sterling': 5716, 'problemfree': 5717, 'hall': 5718, 'hesitation': 5719, 'intha': 5720, 'ponnungale': 5721, 'ipaditan': 5722, 'rejected': 5723, 'noisy': 5724, 'needa': 5725, 'sfrom': 5726, 'manual': 5727, 'processits': 5728, 'reset': 5729, 'troubleshooting': 5730, 'b4u': 5731, '2703': 5732, 'marsms': 5733, 'wwwb4utelecom': 5734, '08717168528': 5735, 'strongly': 5736, 'creativity': 5737, 'stifled': 5738, 'requirement': 5739, 'strangersaw': 5740, 'heåõs': 5741, 'nowstill': 5742, 'mrur': 5743, '2getha': 5744, 'buffy': 5745, 'qlynnbv': 5746, 'help08700621170150p': 5747, '8830': 5748, 'nosh': 5749, 'waaaat': 5750, 'lololo': 5751, 'occupied': 5752, 'comei': 5753, 'document': 5754, 'submitted': 5755, 'stapati': 5756, 'cutie': 5757, 'honesty': 5758, 'specialisation': 5759, 'labor': 5760, 'shakara': 5761, 'beggar': 5762, 'dent': 5763, 'crickiting': 5764, 'can': 5765, 'imin': 5766, 'towndontmatter': 5767, 'urgoin': 5768, 'outl8r': 5769, 'yavnt': 5770, 'popping': 5771, 'ibuprofen': 5772, 'grown': 5773, 'chinatown': 5774, 'porridge': 5775, 'claypot': 5776, 'yam': 5777, 'fishhead': 5778, 'beehoon': 5779, 'jaklin': 5780, 'nearby': 5781, '449month': 5782, 'bundle': 5783, 'avble': 5784, 'call2optoutj': 5785, 'ooh': 5786, '4got': 5787, 'moseley': 5788, 'thankyou': 5789, 'pendingi': 5790, 'dayswill': 5791, 'thrurespect': 5792, 'homecheck': 5793, 'loveable': 5794, 'eternal': 5795, 'noble': 5796, 'truthful': 5797, 'intimate': 5798, 'enamous': 5799, 'valentines': 5800, 'textin': 5801, 'amigo': 5802, 'progress': 5803, 'werent': 5804, 'arty': 5805, 'collage': 5806, 'tryin': 5807, '2hrs': 5808, 'waliking': 5809, 'carton': 5810, '08714712379': 5811, 'mirror': 5812, 'k718': 5813, '09065069120': 5814, 'jod': 5815, 'keris': 5816, 'smidgin': 5817, 'collegexx': 5818, 'accordin': 5819, 'knocking': 5820, 'sicomo': 5821, 'nolistened2the': 5822, 'plaid': 5823, 'albumquite': 5824, 'gdthe': 5825, 'air1': 5826, 'hilariousalso': 5827, 'boughtåóbraindanceåóa': 5828, 'compofstuff': 5829, 'aphexåõs': 5830, 'abel': 5831, 'nelson': 5832, 'bb': 5833, 'unmits': 5834, 'newspaper': 5835, 'yummmm': 5836, 'puzzeles': 5837, '4goten': 5838, 'scammer': 5839, 'smartthough': 5840, 'msgsubscription': 5841, 'passion': 5842, '09099726481': 5843, 'dena': 5844, 'calls£1minmobsmorelkpobox177hp51fl': 5845, 'r836': 5846, '09065069154': 5847, 'threat': 5848, 'shifad': 5849, 'raised': 5850, 'reminds': 5851, '2godid': 5852, 'splashmobile': 5853, 'subscrition': 5854, 'dust': 5855, '88877free': 5856, '88877': 5857, '3pound': 5858, 'watchin': 5859, 'meaningless': 5860, 'alls': 5861, 'brdget': 5862, 'jones': 5863, 'inever': 5864, 'hmmbad': 5865, 'newshype': 5866, '700': 5867, 'studio': 5868, 'takenonly': 5869, 'bedrm900': 5870, 'velly': 5871, 'marking': 5872, '2stoptx': 5873, '08718738034': 5874, 'vai': 5875, 'hanger': 5876, 'arrow': 5877, '08718726971': 5878, 'tddnewsletteremc1couk': 5879, 'thedailydraw': 5880, 'dozen': 5881, 'prizeswith': 5882, 'significant': 5883, 'waqt': 5884, 'pehle': 5885, 'naseeb': 5886, 'zyada': 5887, 'kisi': 5888, 'kuch': 5889, 'miltazindgi': 5890, 'hum': 5891, 'sochte': 5892, 'zindgi': 5893, 'jeetey': 5894, 'stalking': 5895, 'reminded': 5896, 'varaya': 5897, 'elaya': 5898, '100603': 5899, '09066368753': 5900, '97n7qp': 5901, 'anand': 5902, 'beach': 5903, 'expected': 5904, 'deadwell': 5905, 'jez': 5906, 'todo': 5907, 'workand': 5908, 'whilltake': 5909, 'zogtorius': 5910, 'iåõve': 5911, 'financial': 5912, 'problemi': 5913, 'alian': 5914, 'freenokia': 5915, 'or2optouthv9d': 5916, 'posible': 5917, 'century': 5918, 'frwd': 5919, 'restriction': 5920, '08712402902': 5921, 'owned': 5922, 'possessive': 5923, 'nohe': 5924, 'clarification': 5925, 'coimbatore': 5926, 'expired': 5927, 'resub': 5928, 'monoc': 5929, 'polyc': 5930, 'stream': 5931, '0871212025016': 5932, 'category': 5933, 'ethnicity': 5934, 'census': 5935, 'transcribing': 5936, 'goodmate': 5937, 'asusual1': 5938, 'cheered': 5939, 'franyxxxxx': 5940, 'batt': 5941, 'becausethey': 5942, '09058098002': 5943, 'pobox1': 5944, 'w14rg': 5945, 'gained': 5946, 'pressure': 5947, 'doke': 5948, 'laying': 5949, 'neshanthtel': 5950, 'byatch': 5951, 'whassup': 5952, 'filthyguys': 5953, 'slo': 5954, 'slo4msgs': 5955, 'chiong': 5956, 'dialogue': 5957, 'reltnship': 5958, 'pose': 5959, 'comb': 5960, 'dryer': 5961, 'fps': 5962, 'computational': 5963, 'madamregret': 5964, 'disturbancemight': 5965, 'dlf': 5966, 'premaricakindly': 5967, 'informedrgdsrakheshkerala': 5968, 'gotto': 5969, '08702840625': 5970, 'comuk220cm2': 5971, 'err': 5972, 'kbut': 5973, 'hitteranyway': 5974, 'offline': 5975, 'anjolas': 5976, 'ithis': 5977, 'wwwasjesuscom': 5978, 'lac': 5979, 'deposited': 5980, 'taxless': 5981, 'suply': 5982, 'imf': 5983, 'blocked': 5984, 'corrupt': 5985, 'itna': 5986, 'karo': 5987, 'pura': 5988, 'padhegm': 5989, 'torrent': 5990, 'particularly': 5991, 'slowing': 5992, 'commit': 5993, '83370': 5994, 'wwwmusictrivianet': 5995, 'rightio': 5996, '1148': 5997, 'brum': 5998, 'scorable': 5999, 'paranoid': 6000, 'brin': 6001, 'kgive': 6002, 'complain': 6003, 'onlybettr': 6004, 'bsnl': 6005, 'offc': 6006, 'payed': 6007, 'suganya': 6008, 'dessert': 6009, 'abeg': 6010, 'sponsor': 6011, 'onum': 6012, 'candont': 6013, 'poet': 6014, 'imaginationmy': 6015, 'carso': 6016, 'famamus': 6017, 'jenne': 6018, 'easiest': 6019, 'barcelona': 6020, 'sppok': 6021, 'complementary': 6022, 'wa14': 6023, '2px': 6024, 'sender': 6025, 'kdo': 6026, 'daurgent': 6027, 'pansy': 6028, 'jungle': 6029, 'kanji': 6030, 'drinkpa': 6031, 'sr': 6032, 'drizzling': 6033, 'excused': 6034, 'drama': 6035, 'plsi': 6036, 'struggling': 6037, 'placeno': 6038, 'ego': 6039, 'necessity': 6040, 'gowait': 6041, 'reppurcussions': 6042, 'cosign': 6043, 'hvae': 6044, 'receive£900': 6045, '09061701444': 6046, 'hcl': 6047, 'requires': 6048, 'fresher': 6049, 'processexcellent': 6050, 'neededsalary': 6051, 'mssuman': 6052, 'telephonic': 6053, 'restuwud': 6054, 'reliant': 6055, 'fwiw': 6056, 'afford': 6057, 'kanowhr': 6058, 'sq825': 6059, 'arrival': 6060, 'citylink': 6061, 'prop': 6062, 'pleasant': 6063, '6230': 6064, 'pobox11414tcrw1': 6065, 'bognor': 6066, 'splendid': 6067, 'yesim': 6068, 'ktv': 6069, 'misplaced': 6070, 'begun': 6071, 'registration': 6072, 'permanent': 6073, 'residency': 6074, 'hmmmhow': 6075, 'predicting': 6076, 'accumulation': 6077, 'belongs': 6078, 'herwho': 6079, 'fated': 6080, 'shoranur': 6081, 'fuelled': 6082, 'concern': 6083, 'prior': 6084, 'grief': 6085, 'text82228': 6086, 'wwwtxt82228com': 6087, 'infotxt82228couk': 6088, 'honestly': 6089, 'promptly': 6090, 'burnt': 6091, 'snap': 6092, 'quizclub': 6093, '80122300pwk': 6094, 'sprwm': 6095, 'ph08704050406': 6096, 'gmw': 6097, 'connected': 6098, 'someplace': 6099, 'pressies': 6100, 'ultimately': 6101, 'tor': 6102, 'motive': 6103, 'tui': 6104, 'achieve': 6105, 'korli': 6106, 'rolled': 6107, 'newscaster': 6108, 'dabbles': 6109, 'flute': 6110, 'wheel': 6111, 'vid': 6112, 'keyword': 6113, 'the4th': 6114, 'october': 6115, '83435': 6116, 'elaborating': 6117, 'safety': 6118, 'aspect': 6119, 'tarot': 6120, '85555': 6121, 'msgs£150': 6122, 'oursso': 6123, 'youany': 6124, 'horniest': 6125, 'nytec2a3lpmsg150p': 6126, 'flow': 6127, 'developed': 6128, 'ovarian': 6129, 'cyst': 6130, 'shrink': 6131, 'onit': 6132, 'upping': 6133, 'timin': 6134, 'ape': 6135, 'ibm': 6136, 'gosh': 6137, 'spose': 6138, 'rimac': 6139, 'arestaurant': 6140, 'squid': 6141, 'dosomething': 6142, 'ucall': 6143, 'wrki': 6144, 'dabooks': 6145, 'nite2': 6146, 'eachother': 6147, 'luckily': 6148, 'starring': 6149, 'restocked': 6150, 'draw£250': 6151, 'wwwtklscom': 6152, 'stoptxtstopå£150week': 6153, 'smoothly': 6154, 'challenging': 6155, 'pple700': 6156, 'nightsexcellent': 6157, 'breakfast': 6158, 'hamper': 6159, 'cc100pmin': 6160, 'daal': 6161, '0870737910216yrs': 6162, 'only£150wk': 6163, 'unni': 6164, 'rechargerakhesh': 6165, 'lacking': 6166, 'particular': 6167, 'dramastorms': 6168, 'forfeit': 6169, 'digi': 6170, 'coupla': 6171, '077xxx': 6172, '09066362206': 6173, 'sundayish': 6174, 'prasad': 6175, 'rcbbattle': 6176, 'kochi': 6177, 'checkup': 6178, 'smear': 6179, 'gobi': 6180, 'pandy': 6181, 'technology': 6182, 'todayhe': 6183, 'olowoyey': 6184, 'uscedu': 6185, 'argentina': 6186, 'taxt': 6187, 'massagetiepos': 6188, 'lool': 6189, 'shaking': 6190, 'timeslil': 6191, 'busyi': 6192, 'scarcasim': 6193, 'naal': 6194, 'eruku': 6195, 'chikkuwat': 6196, '5wq': 6197, 'impressively': 6198, 'sensible': 6199, 'alsoor': 6200, 'danalla': 6201, 'obedient': 6202, 'combination': 6203, 'needy': 6204, 'playng': 6205, '1mcflyall': 6206, 'sara': 6207, 'jorgeshock': 6208, 'smithswitch': 6209, 'yupz': 6210, 'modelsony': 6211, 'ericson': 6212, 'der': 6213, 'luks': 6214, 'modl': 6215, 'cheesy': 6216, 'frosty': 6217, 'witin': 6218, '0870141701216': 6219, '4txt120p': 6220, '10th': 6221, '09050000555': 6222, 'ba128nnfwfly150ppm': 6223, 'nudist': 6224, 'themed': 6225, 'pump': 6226, 'signal': 6227, 'unusual': 6228, 'palm': 6229, 'printing': 6230, 'handing': 6231, '83021': 6232, 'stated': 6233, 'perpetual': 6234, 'pract': 6235, 'flung': 6236, 'justbeen': 6237, 'overa': 6238, 'mush': 6239, 'tunde': 6240, 'mission': 6241, '20m12aq': 6242, 'lux': 6243, 'eh74rr': 6244, 'avo': 6245, 'crashed': 6246, 'cuddled': 6247, 'chachi': 6248, 'tiz': 6249, 'kanagu': 6250, 'ringing': 6251, 'houseful': 6252, 'brat': 6253, 'pulling': 6254, 'nowonion': 6255, 'derp': 6256, 'abuser': 6257, 'lipo': 6258, 'netflix': 6259, 'clash': 6260, 'arr': 6261, 'oscar': 6262, 'rebtel': 6263, 'firefox': 6264, '69969': 6265, 'bcmsfwc1n3xx': 6266, 'impressed': 6267, 'footy': 6268, 'stadium': 6269, 'large': 6270, 'cocacola': 6271, 'teenager': 6272, 'teluguthts': 6273, 'replacing': 6274, 'mittelschmertz': 6275, 'paracetamol': 6276, 'salespee': 6277, 'arrived': 6278, 'cthen': 6279, 'conclusion': 6280, 'atyour': 6281, '\\x89ûªve': 6282, 'instant': 6283, '08715203028': 6284, '9th': 6285, 'min£50å£500': 6286, 'rugby': 6287, 'affidavit': 6288, 'twiggs': 6289, 'courtroom': 6290, 'freemsgfav': 6291, 'tonesreply': 6292, 'possessiveness': 6293, 'poured': 6294, 'golden': 6295, 'lasting': 6296, 'breathe1': 6297, 'crazyin': 6298, 'sleepingwith': 6299, 'finest': 6300, 'ymca': 6301, 'getzedcouk': 6302, 'pobox365o4w45wq': 6303, 'wtc': 6304, 'weiyi': 6305, 'åòits': 6306, '505060': 6307, 'godtaken': 6308, 'teethis': 6309, 'paining': 6310, 'romcapspam': 6311, 'presence': 6312, 'outgoing': 6313, 'maggi': 6314, 'mee': 6315, '08712103738': 6316, 'cough': 6317, 'com': 6318, 'bbdpooja': 6319, 'pimpleseven': 6320, 'blackand': 6321, 'sweatter': 6322, 'ambitious': 6323, 'miiiiiiissssssssss': 6324, 'tunji': 6325, 'misscall': 6326, 'frndz': 6327, '6missed': 6328, 'freemessage': 6329, 'jamsterget': 6330, 'frog': 6331, 'mad1': 6332, 'mad2': 6333, 'gbpweek': 6334, 'wipro': 6335, 'tall': 6336, 'robs': 6337, 'avenge': 6338, 'toss': 6339, 'gudni8': 6340, 'dancin': 6341, 'explicitly': 6342, 'nora': 6343, 'smith': 6344, 'gayle': 6345, 'crucify': 6346, 'butting': 6347, 'cedar': 6348, 'durham': 6349, 'reserved': 6350, '69855': 6351, 'stopbcm': 6352, 'printer': 6353, 'groovy': 6354, 'groovying': 6355, 'harishs': 6356, 'transfred': 6357, 'acnt': 6358, 'nowadayslot': 6359, 'showroomscity': 6360, 'shaping': 6361, 'attending': 6362, 'doinat': 6363, 'callon': 6364, 'kkyesterday': 6365, 'pdate': 6366, 'call2optoutyhl': 6367, 'configure': 6368, 'for\\x89ûªm': 6369, 'isn\\x89ûªt': 6370, 'anal': 6371, 'pear': 6372, 'oooooh': 6373, '09058094454': 6374, 'thatnow': 6375, 'resubmit': 6376, 'expiry': 6377, 'weåõve': 6378, 'mint': 6379, 'uxxxx': 6380, 'human': 6381, 'studyn': 6382, 'everyboy': 6383, 'xxxxxxxx': 6384, '532': 6385, '924': 6386, '863': 6387, '725': 6388, 'brilliant1thingi': 6389, 'answr': 6390, 'liquor': 6391, 'loko': 6392, 'lined': 6393, 'fireplace': 6394, 'icon': 6395, '08712400200': 6396, 'fifth': 6397, 'woozles': 6398, 'weasel': 6399, '08718723815': 6400, 'machine': 6401, 'ignorant': 6402, 'mys': 6403, 'down': 6404, 'fletcher': 6405, 'awarded£1500': 6406, '27603': 6407, '08714714011': 6408, 'teaching': 6409, 'cozy': 6410, 'nightnobody': 6411, 'buzzzz': 6412, 'vibrator': 6413, 'shake': 6414, 'trend': 6415, 'con': 6416, 'description': 6417, 'nuclear': 6418, 'fusion': 6419, 'iter': 6420, 'jet': 6421, 'nonenowhere': 6422, 'ikno': 6423, 'doesdiscountshitinnit': 6424, 'jabo': 6425, 'slower': 6426, 'maniac': 6427, 'hadya': 6428, 'sapna': 6429, 'manege': 6430, 'yday': 6431, 'hogidhechinnu': 6432, 'swalpa': 6433, 'agidhane': 6434, 'typelyk': 6435, 'footblcrckt': 6436, 'swell': 6437, 'tim': 6438, 'bollox': 6439, 'tol': 6440, 'ingredient': 6441, 'pocy': 6442, 'non': 6443, 'call2optout4qf2': 6444, 'senor': 6445, 'giggle': 6446, 'possibly': 6447, 'person2die': 6448, 'nvq': 6449, 'professional': 6450, 'tiger': 6451, 'wood': 6452, 'grinder': 6453, 'youkwhere': 6454, 'figuring': 6455, 'entirely': 6456, 'knowhe': 6457, 'disconnected': 6458, 'onluy': 6459, 'offcampus': 6460, 'riley': 6461, 'howve': 6462, 'lingo': 6463, '400minscall': 6464, 'call2optoutj5q': 6465, 'medont': 6466, '69200': 6467, 'chrgd50p': 6468, '2exit': 6469, 'approaching': 6470, 'sankranti': 6471, 'republic': 6472, 'shivratri': 6473, 'ugadi': 6474, 'independence': 6475, 'friendshipmotherfatherteacherschildrens': 6476, 'festival': 6477, 'dasara': 6478, 'rememberi': 6479, 'theseyours': 6480, 'lifeis': 6481, 'daywith': 6482, 'somewheresomeone': 6483, 'tosend': 6484, 'selflessness': 6485, 'initiate': 6486, 'tallent': 6487, 'wasting': 6488, 'portal': 6489, 'dont4get2text': 6490, 'lennon': 6491, 'bothering': 6492, 'shorethe': 6493, 'fox': 6494, 'frndsship': 6495, 'dwn': 6496, 'slaaaaave': 6497, 'summon': 6498, 'bill£3365': 6499, 'appendix': 6500, 'slob': 6501, 'she': 6502, 'gudnite': 6503, 'topicsorry': 6504, 'webpage': 6505, 'yeesh': 6506, 'unsubscribed': 6507, 'hunk': 6508, 'httpgotbabescouk': 6509, 'gopalettan': 6510, 'participate': 6511, 'kkfrom': 6512, 'abroad': 6513, 'xxsp': 6514, 'stopcost': 6515, '08712400603': 6516, 'goody': 6517, 'mat': 6518, 'satì': 6519, 'steal': 6520, 'isaiahd': 6521, 'expert': 6522, 'ssi': 6523, 'thinl': 6524, 'sachinjust': 6525, 'importantly': 6526, 'tightly': 6527, 'wnevr': 6528, 'fal': 6529, 'fals': 6530, 'yen': 6531, 'madodu': 6532, 'nav': 6533, 'pretsorginta': 6534, 'nammanna': 6535, 'pretsovru': 6536, 'alwa': 6537, 'lord': 6538, 'ringsreturn': 6539, 'nowreply': 6540, 'soundtrack': 6541, 'stdtxtrate': 6542, 'homelove': 6543, 'staffsciencenusedusgphyhcmkteachingpc1323': 6544, 'emigrated': 6545, 'hopeful': 6546, 'olol': 6547, 'stagwood': 6548, 'winterstone': 6549, 'victor': 6550, 'mofo': 6551, 'pathaya': 6552, 'enketa': 6553, 'maraikara': 6554, 'priest': 6555, 'intrude': 6556, 'walkabout': 6557, 'cashed': 6558, 'announced': 6559, 'blog': 6560, '28th': 6561, 'footie': 6562, 'phil': 6563, 'neville': 6564, 'abbey': 6565, 'returning': 6566, 'auctionpunj': 6567, 'str8': 6568, 'classic': 6569, 'nokia150p': 6570, 'poly200p': 6571, 'pre': 6572, 'sacked': 6573, 'clip': 6574, '35p': 6575, 'mmsto': 6576, '32323': 6577, 'barred': 6578, 'lifethis': 6579, 'twat': 6580, 'dungerees': 6581, 'decking': 6582, 'punch': 6583, 'mentionned': 6584, 'vat': 6585, 'onlydon': 6586, 'hogolo': 6587, 'kodstini': 6588, 'madstini': 6589, 'hogli': 6590, 'mutai': 6591, 'eerulli': 6592, 'kodthini': 6593, 'thasa': 6594, 'messed': 6595, 'upyeh': 6596, 'tex': 6597, 'mecause': 6598, 'werebored': 6599, 'okden': 6600, 'uin': 6601, 'satsoundåõs': 6602, 'likeyour': 6603, 'gr8fun': 6604, 'updat': 6605, 'countinlots': 6606, 'tagged': 6607, 'hdd': 6608, 'casing': 6609, 'opened': 6610, 'describe': 6611, '09053750005': 6612, '310303': 6613, '08718725756': 6614, '140ppm': 6615, 'asus': 6616, 'reformat': 6617, 'leu': 6618, 'plumber': 6619, 'wrench': 6620, 'httpwwwetlpcoukreward': 6621, 'bcum': 6622, 'appeal': 6623, 'thriller': 6624, 'elephant': 6625, 'shove': 6626, 'pookie': 6627, 'youdearwith': 6628, 'loverakhesh': 6629, 'nri': 6630, 'deserve': 6631, '88039skilgmetscs087147403231winawkage16å£150perwksub': 6632, 'diddy': 6633, 'toothpaste': 6634, 'oneta': 6635, 'poking': 6636, 'deam': 6637, 'coccooning': 6638, 'mu': 6639, 'yeahand': 6640, 'newquaysend': 6641, 'goneu': 6642, '1im': 6643, 'talkin': 6644, 'boutxx': 6645, 'windy': 6646, '09066358361': 6647, 'y87': 6648, 'knowthis': 6649, 'tirunelvai': 6650, 'dusk': 6651, 'puzzle': 6652, 'x29': 6653, '09065989180': 6654, 'stair': 6655, 'phews': 6656, 'thangamits': 6657, 'recycling': 6658, 'earning': 6659, 'toledo': 6660, 'tai': 6661, 'feng': 6662, 'reservation': 6663, 'swimsuit': 6664, 'squeeeeeze': 6665, 'frndshp': 6666, 'luvd': 6667, 'themp': 6668, 'volcano': 6669, 'erupt': 6670, 'arise': 6671, 'hurricane': 6672, 'sway': 6673, 'aroundn': 6674, 'lighter': 6675, '7pm': 6676, 'kkits': 6677, 'goodwhen': 6678, 'lasagna': 6679, 'chickened': 6680, 'woould': 6681, '08718726978': 6682, 'drove': 6683, 'shore': 6684, '7732584351': 6685, 'onedge': 6686, 'raviyog': 6687, 'peripheral': 6688, 'bhayandar': 6689, 'sunoco': 6690, 'musical': 6691, 'plate': 6692, 'leftover': 6693, 'starving': 6694, 'fatty': 6695, 'badrith': 6696, 'chennaii': 6697, 'usno': 6698, 'owe': 6699, 'checkin': 6700, 'numberso': 6701, 'ittb': 6702, 'armenia': 6703, 'swann': 6704, '09058097189': 6705, '330': 6706, '1120': 6707, '1205': 6708, 'justify': 6709, 'hunt': 6710, '5226': 6711, 'hava': 6712, '1131': 6713, 'rct': 6714, 'thnq': 6715, 'adrian': 6716, 'rgds': 6717, 'vatian': 6718, 'everyones': 6719, 'babysitting': 6720, 'itll': 6721, 'gonnamissu': 6722, 'buttheres': 6723, 'aboutas': 6724, 'merememberin': 6725, 'asthere': 6726, 'ofsi': 6727, 'breakin': 6728, 'yaxx': 6729, 'poortiyagi': 6730, 'odalebeku': 6731, 'hanumanji': 6732, '1hanuman': 6733, '2bajarangabali': 6734, '3maruti': 6735, '4pavanaputra': 6736, '5sankatmochan': 6737, '6ramaduth': 6738, '7mahaveer': 6739, 'janarige': 6740, 'ivatte': 6741, 'kalisidare': 6742, 'olage': 6743, 'ondu': 6744, 'keluviri': 6745, 'maretare': 6746, 'inde': 6747, 'dodda': 6748, 'problum': 6749, 'nalli': 6750, 'siguviri': 6751, 'idu': 6752, 'matra': 6753, 'neglet': 6754, 'ijust': 6755, 'talked': 6756, 'opps': 6757, 'tt': 6758, 'gei': 6759, 'tron': 6760, 'selfish': 6761, 'spiffing': 6762, 'workage': 6763, 'craving': 6764, 'supose': 6765, 'babysit': 6766, 'therexx': 6767, 'embassy': 6768, 'lightly': 6769, 'checkboxes': 6770, 'hundredhe': 6771, 'batsman': 6772, 'yettys': 6773, '09050000928': 6774, 'emailed': 6775, 'yifeng': 6776, 'theyll': 6777, 'slurp': 6778, '3miles': 6779, 'ing': 6780, 'brainless': 6781, 'dolld': 6782, 'vehicle': 6783, 'sariyag': 6784, 'madoke': 6785, 'barolla': 6786, '07090201529': 6787, 'postponed': 6788, 'stocked': 6789, 'tiime': 6790, 'afternon': 6791, 'resizing': 6792, '09066364349': 6793, 'box434sk38wp150ppm18': 6794, 'opposed': 6795, 'msgwe': 6796, 'shortcode': 6797, '83332please': 6798, '08081263000': 6799, 'refundedthis': 6800, 'somerset': 6801, 'overtime': 6802, 'nigpun': 6803, 'dismissial': 6804, 'screwd': 6805, '08712402972': 6806, 'bull': 6807, 'floating': 6808, '09058095201': 6809, 'heehee': 6810, 'arithmetic': 6811, 'percentage': 6812, 'chillaxin': 6813, 'da': 6814, 'iknow': 6815, 'wellda': 6816, 'peril': 6817, 'studentfinancial': 6818, 'crisisspk': 6819, 'monster': 6820, 'obey': 6821, 'uhhhhrmm': 6822, 'gbpsms': 6823, '600': 6824, '400': 6825, 'deltomorrow': 6826, '09066368470': 6827, '24m': 6828, '1month': 6829, 'smartcall': 6830, '68866': 6831, 'subscriptn3gbpwk': 6832, '08448714184': 6833, 'stoptxt': 6834, 'landlineonly': 6835, 'textsweekend': 6836, 'orno': 6837, 'fink': 6838, '09099726553': 6839, 'promised': 6840, 'carlie': 6841, 'callså£1minmobsmore': 6842, 'lkpobox177hp51fl': 6843, 'youphone': 6844, 'athome': 6845, 'youwanna': 6846, 'jack': 6847, 'sayask': 6848, 'helpful': 6849, 'pretend': 6850, 'hypotheticalhuagauahahuagahyuhagga': 6851, 'brainy': 6852, 'occasion': 6853, 'celebrated': 6854, 'reflection': 6855, 'affectionsamp': 6856, 'tradition': 6857, 'cantdo': 6858, 'anythingtomorrow': 6859, 'myparents': 6860, 'aretaking': 6861, 'outfor': 6862, 'katexxx': 6863, 'level': 6864, 'gate': 6865, '89105': 6866, 'lingerie': 6867, 'wwwbridalpetticoatdreamscouk': 6868, 'weddingfriend': 6869, 'board': 6870, 'overheating': 6871, 'reslove': 6872, 'inst': 6873, 'western': 6874, 'nowadays': 6875, 'notixiquating': 6876, 'laxinorficated': 6877, 'bambling': 6878, 'entropication': 6879, 'oblisingately': 6880, 'opted': 6881, 'masteriastering': 6882, 'amplikater': 6883, 'fidalfication': 6884, 'champlaxigating': 6885, 'atrocious': 6886, 'wotz': 6887, 'junna': 6888, 'knickers': 6889, '01223585236': 6890, 'nikiyu4net': 6891, 'a30': 6892, 'divert': 6893, 'wadebridgei': 6894, 'vill': 6895, 'orc': 6896, 'seeking': 6897, 'dayexcept': 6898, 'wherres': 6899, 'phone750': 6900, 'resolution': 6901, 'replybe': 6902, 'frankgood': 6903, 'logoff': 6904, 'parkin': 6905, 'asa': 6906, '09050000878': 6907, 'charming': 6908, 'mention': 6909, 'served': 6910, 'arnt': 6911, 'xxxxxxxxxxxxxx': 6912, 'dorothykiefercom': 6913, 'alle': 6914, 'moneeppolum': 6915, 'allalo': 6916, 'fundamental': 6917, '101mega': 6918, 'pixel': 6919, '3optical': 6920, '5digital': 6921, 'doom': 6922, 'peteynoiåõm': 6923, 'timehope': 6924, 'alritehave': 6925, 'amx': 6926, 'burgundy': 6927, 'captaining': 6928, 'amrita': 6929, 'bpo': 6930, 'nighters': 6931, 'persevered': 6932, 'regretted': 6933, 'wasnåõt': 6934, 'spouse': 6935, 'pmt': 6936, 'sumthin': 6937, '4give': 6938, 'shldxxxx': 6939, 'thatd': 6940, 'scenario': 6941, 'spunout': 6942, 'wrld': 6943, 'are£1000': 6944, '09071517866': 6945, '150ppmpobox10183bhamb64xe': 6946, '10am': 6947, 'pounded': 6948, 'broadband': 6949, 'installation': 6950, 'tensed': 6951, 'coughing': 6952, 'warned': 6953, 'sprint': 6954, 'gower': 6955, 'åômorrow': 6956, 'chik': 6957, 'filth': 6958, 'saristar': 6959, 'e14': 6960, '9yt': 6961, '08701752560': 6962, '450p': 6963, 'stop2': 6964, '420': 6965, '9061100010': 6966, 'wire3net': 6967, '1st4terms': 6968, 'mobcudb': 6969, 'alreadysabarish': 6970, '09050000460': 6971, 'j89': 6972, 'box245c2150pm': 6973, 'inpersonation': 6974, 'flea': 6975, 'banneduk': 6976, 'highest': 6977, 'maximum': 6978, 'ny': 6979, 'taj': 6980, 'lesser': 6981, 'known': 6982, 'shahjahans': 6983, 'shahjahan': 6984, 'arises': 6985, 'hari': 6986, 'okcome': 6987, 'hotel£200': 6988, '69101': 6989, 'wwwrtfsphostingcom': 6990, 'webadres': 6991, 'geting': 6992, 'passport': 6993, 'multiply': 6994, 'independently': 6995, 'showed': 6996, 'twin': 6997, 'strt': 6998, 'ltdhelpdesk': 6999, '02085076972': 7000, 'equally': 7001, 'uneventful': 7002, 'pesky': 7003, 'cyclist': 7004, 'wereare': 7005, 'nalla': 7006, 'adi': 7007, 'entey': 7008, 'nattil': 7009, 'kittum': 7010, 'hire': 7011, 'hitman': 7012, 'august£1000': 7013, '09066660100': 7014, '2309': 7015, 'cps': 7016, 'conserve': 7017, 'voted': 7018, 'epi': 7019, 'bare': 7020, 'bhaskar': 7021, 'individual': 7022, 'gong': 7023, 'kaypoh': 7024, 'basketball': 7025, 'outdoors': 7026, 'interfued': 7027, 'listed': 7028, 'apology': 7029, 'hustle': 7030, 'forth': 7031, 'harlem': 7032, 'workout': 7033, 'zac': 7034, 'hui': 7035, 'xin': 7036, 'versus': 7037, 'edge': 7038, 'underdtand': 7039, 'itboth': 7040, 'upnot': 7041, 'muchxxlove': 7042, 'locaxx': 7043, '07090298926': 7044, 'ref9307622': 7045, 'skateboarding': 7046, 'thrown': 7047, 'bandage': 7048, 'mytonecomenjoy': 7049, 'html': 7050, 'gbp450week': 7051, 'mfl': 7052, 'hectic': 7053, 'wamma': 7054, 'laidwant': 7055, 'doggin': 7056, 'nownyt': 7057, 'virtual': 7058, 'apnt': 7059, 'pant': 7060, 'waiti': 7061, 'go2sri': 7062, 'lanka': 7063, 'wordnot': 7064, 'merely': 7065, 'relationshipits': 7066, 'wherevr': 7067, 'gudnyt': 7068, 'plum': 7069, 'smack': 7070, '50': 7071, 'alot': 7072, 'formatting': 7073, 'attracts': 7074, 'promotion': 7075, '8714714': 7076, 'lancaster': 7077, 'neway': 7078, 'couldnåõt': 7079, 'soc': 7080, 'bsn': 7081, 'advising': 7082, 'lobby': 7083, 'showered': 7084, 'erything': 7085, 'lubly': 7086, 'rs5': 7087, '087147123779am7pm': 7088, 'sbut': 7089, 'luck2': 7090, 'specify': 7091, 'domain': 7092, 'nusstu': 7093, 'ohi': 7094, 'hahatake': 7095, 'bari': 7096, 'hudgi': 7097, 'yorge': 7098, 'pataistha': 7099, 'ertini': 7100, 'hasbroin': 7101, 'jump': 7102, 'hoop': 7103, 'lateso': 7104, 'morningtake': 7105, 'dreamsu': 7106, 'meummifyingbye': 7107, 'associate': 7108, 'rip': 7109, 'uterus': 7110, 'jacuzzi': 7111, 'x49': 7112, 'colourredtextcolourtxtstar': 7113, '2nights': 7114, 'wildest': 7115, 'splwat': 7116, 'whr': 7117, 'aldrine': 7118, 'rakhesh': 7119, 'rtm': 7120, 'herepls': 7121, 'callurgent': 7122, 'unhappiness': 7123, 'necesity': 7124, 'witout': 7125, 'hwd': 7126, 'colleg': 7127, 'watll': 7128, 'wth': 7129, 'espell': 7130, 'irritated': 7131, '4wrd': 7132, 'dearloving': 7133, 'wthout': 7134, 'takecare': 7135, 'univ': 7136, 'raja': 7137, 'burrito': 7138, 'stitch': 7139, 'trouser': 7140, '146tf150p': 7141, 'cheetos': 7142, 'synced': 7143, 'shangela': 7144, 'pass': 7145, '08704439680': 7146, 'againloving': 7147, 'poo': 7148, 'gloucesterroad': 7149, 'uup': 7150, 'ouch': 7151, 'forgiveness': 7152, 'glo': 7153, '09058095107': 7154, 's3xy': 7155, 'yesmum': 7156, 'wlcome': 7157, 'timi': 7158, 'fishrman': 7159, 'sack': 7160, 'strtd': 7161, 'throwin': 7162, '1stone': 7163, '08717895698': 7164, 'mobstorequiz10ppm': 7165, 'physic': 7166, 'arpraveesh': 7167, 'delicious': 7168, 'salad': 7169, 'whore': 7170, 'twinks': 7171, 'scallies': 7172, 'skin': 7173, 'jock': 7174, '08712466669': 7175, '08712460324nat': 7176, 'flood': 7177, 'bead': 7178, 'wishlist': 7179, 'nitro': 7180, 'comfort': 7181, 'sold': 7182, 'onionrs': 7183, 'petrolrs': 7184, 'beerrs': 7185, 'armands': 7186, 'creative': 7187, 'fakemy': 7188, 'reffering': 7189, 'uif': 7190, 'getiing': 7191, 'rsi': 7192, 'weirdy': 7193, '09061701851': 7194, 'k61': 7195, '12hours': 7196, 'restrict': 7197, 'audrey': 7198, 'godnot': 7199, 'chikkuk': 7200, 'vivek': 7201, '74355': 7202, 'outif': 7203, 'greece': 7204, 'recorded': 7205, 'someday': 7206, 'goodmorningmy': 7207, 'grandfather': 7208, 'expiredso': 7209, 'november': 7210, '09061104276': 7211, 'wwwsmsconet': 7212, 'costå£375max': 7213, 'yuou': 7214, 'spot': 7215, 'bunch': 7216, 'lotto': 7217, 'authorise': 7218, '645pm': 7219, 'honeydid': 7220, 'gimmi': 7221, 'gossx': 7222, 'painit': 7223, 'todaydo': 7224, 'ystrdayice': 7225, 'chile': 7226, 'subletting': 7227, 'febapril': 7228, 'ammaelife': 7229, 'steering': 7230, 'anythings': 7231, 'rounderso': 7232, 'required': 7233, 'truekdo': 7234, 'lambu': 7235, 'cometil': 7236, 'batchlor': 7237, 'zoom': 7238, 'nowsend': 7239, '62220cncl': 7240, 'stopcs': 7241, '08717890890å£150': 7242, 'åòharry': 7243, 'ringtonefrom': 7244, 'wmlid1b6a5ecef91ff937819firsttrue180430jul05': 7245, 'xafter': 7246, 'cst': 7247, 'chg£150': 7248, 'pure': 7249, 'hearted': 7250, 'hisher': 7251, 'smiley': 7252, 'gail': 7253, 'wrongtake': 7254, 'worryc': 7255, 'l8tr': 7256, 'hunlove': 7257, 'yaxxx': 7258, 'theoretically': 7259, 'hooked': 7260, 'formallypls': 7261, 'prayingwill': 7262, 'more': 7263, 'multimedia': 7264, 'senthilhsbc': 7265, 'vague': 7266, 'accounting': 7267, 'delayed': 7268, 'housing': 7269, 'agency': 7270, 'renting': 7271, 'nicky': 7272, 'gumbys': 7273, 'httpalto18coukwavewaveaspo44345': 7274, 'sized': 7275, 'tarpon': 7276, 'cab': 7277, 'availablethey': 7278, 'careumma': 7279, 'limited': 7280, 'call2optouthf8': 7281, '08719181259': 7282, '260305': 7283, 'deartake': 7284, 'radiator': 7285, 'proper': 7286, 'tongued': 7287, 'suddenly': 7288, 'flurry': 7289, 'freeringtone': 7290, 'real1': 7291, 'pushbutton': 7292, 'dontcha': 7293, 'babygoodbye': 7294, 'golddigger': 7295, 'webeburnin': 7296, 'for£3wk': 7297, 'perform': 7298, 'rebooting': 7299, 'nigh': 7300, 'nooooooo': 7301, 'cable': 7302, 'so': 7303, 'playin': 7304, 'guoyang': 7305, 'rahul': 7306, 'dengra': 7307, 'antelope': 7308, 'toplay': 7309, 'fieldof': 7310, 'selfindependence': 7311, 'contention': 7312, 'growrandom': 7313, 'gnarl': 7314, 'barkley': 7315, 'borderline': 7316, '545': 7317, 'nightnight': 7318, 'possibility': 7319, 'grooved': 7320, 'mising': 7321, 'secured': 7322, 'unsecured': 7323, '195': 7324, '6669': 7325, 'lanre': 7326, 'fakeyes': 7327, 'eckankar': 7328, '3000': 7329, 'dodgey': 7330, 'seing': 7331, 'faceasssssholeeee': 7332, 'ceri': 7333, 'rebel': 7334, 'dreamz': 7335, 'ringtoneking': 7336, '84484': 7337, 'nationwide': 7338, 'newport': 7339, 'juliana': 7340, 'nacho': 7341, 'dizzamn': 7342, 'suitemates': 7343, 'nimbomsons': 7344, 'continent': 7345, 'the£400': 7346, '087104711148': 7347, 'emerging': 7348, 'fiendmake': 7349, 'muchimpede': 7350, 'hesitant': 7351, 'deyi': 7352, '60400thousadi': 7353, 'sumthinxx': 7354, 'nose': 7355, 'essay': 7356, 'tram': 7357, 'vic': 7358, 'coherently': 7359, 'triple': 7360, 'echo': 7361, 'gran': 7362, 'onlyfound': 7363, 'afew': 7364, 'agocusoon': 7365, 'honi': 7366, 'valued£350': 7367, 'bx526': 7368, 'southern': 7369, 'rayan': 7370, 'macleran': 7371, 'olave': 7372, 'mandara': 7373, 'trishul': 7374, 'woo': 7375, 'hoo': 7376, 'panty': 7377, 'thout': 7378, 'flatter': 7379, 'pint': 7380, 'carlin': 7381, 'ciao': 7382, 'win£1000': 7383, 'worth£5000': 7384, 'x49your': 7385, 'starve': 7386, 'impression': 7387, 'motivate': 7388, 'darkness': 7389, 'timeyou': 7390, 'wknd': 7391, 'yalrigu': 7392, 'heltiniiyo': 7393, 'shared': 7394, 'meso': 7395, 'uttered': 7396, 'trusting': 7397, 'meok': 7398, 'chikkub': 7399, 'noice': 7400, 'esaplanade': 7401, 'accessible': 7402, '08709501522': 7403, '139': 7404, 'la3': 7405, '2wu': 7406, 'only£150week': 7407, 'occurs': 7408, 'enna': 7409, 'kalaachutaarama': 7410, 'coco': 7411, 'sporadically': 7412, '09064017305': 7413, 'pobox75ldns7': 7414, 'tbspersolvo': 7415, 'forå': 7416, 'kath': 7417, 'manchester': 7418, 'youåõre': 7419, 'burden': 7420, 'purpose': 7421, 'noworriesloanscom': 7422, '08717111821': 7423, 'harder': 7424, 'nbme': 7425, 'sickness': 7426, 'villa': 7427, 'gam': 7428, 'smash': 7429, 'religiously': 7430, 'hero': 7431, '07973788240': 7432, '08715203649': 7433, 'muhommad': 7434, 'fiting': 7435, 'hwkeep': 7436, 'unconvinced': 7437, 'elaborate': 7438, 'willpower': 7439, 'absence': 7440, 'answerin': 7441, 'åè10': 7442, 'evey': 7443, 'mnth': 7444, 'prin': 7445, '\\x89û': 7446, 'gsoh': 7447, 'spam': 7448, 'ladiesu': 7449, 'gigolo': 7450, 'oncall': 7451, 'mjzgroup': 7452, '087143423992stop': 7453, 'msgå£150rcvd': 7454, 'ashwini': 7455, '08707500020': 7456, 'tomorrowtoday': 7457, 'ukp2000': 7458, '09061790125': 7459, 'jokethet': 7460, 'skinny': 7461, 'lineyou': 7462, 'casting': 7463, '116': 7464, 'hlday': 7465, 'camp': 7466, 'amrca': 7467, 'serena': 7468, 'prescribed': 7469, 'meatball': 7470, 'approve': 7471, 'panalambut': 7472, 'spjanuary': 7473, 'fortune': 7474, 'allday': 7475, 'perf': 7476, 'outsider': 7477, 'receipts\\x89ûówell': 7478, '98321561': 7479, 'familiar': 7480, 'depression': 7481, 'infact': 7482, 'simpson': 7483, 'band': 7484, 'agreen': 7485, 'bblue': 7486, 'cred': 7487, 'canåõt': 7488, 'isnåõt': 7489, 'shite': 7490, 'kip': 7491, 'hont': 7492, 'amanda': 7493, 'renewing': 7494, 'upgrading': 7495, '3680': 7496, 'subject': 7497, 'perspective': 7498, 'sonot': 7499, 'conveying': 7500, 'debating': 7501, 'httpwwwwtlpcouktext': 7502, 'youso': 7503, 'florida': 7504, 'hidden': 7505, 'swhrt': 7506, 'deyhope': 7507, '2daylove': 7508, 'misstake': 7509, '0906346330': 7510, 'po19': 7511, '2ez': 7512, 'general': 7513, 'ifwhenhow': 7514, 'dayhas': 7515, 'valuemorning': 7516, 'hopeafternoon': 7517, 'faithevening': 7518, 'luvnight': 7519, 'restwish': 7520, 'todaygood': 7521, 'jetton': 7522, 'friendofafriend': 7523, 'cmon': 7524, 'lunsford': 7525, 'enjoying': 7526, '0796xxxxxx': 7527, 'day2': 7528, 'prizeawaiting': 7529, 'kfc': 7530, 'gravy': 7531, 'dahe': 7532, 'daalways': 7533, 'thisdon': 7534, 'messagepandy': 7535, '07008009200': 7536, 'attended': 7537, 'tuth': 7538, 'eviction': 7539, 'spiral': 7540, 'michael': 7541, 'riddance': 7542, 'suffers': 7543, 'raglan': 7544, 'cricket': 7545, 'closeby': 7546, 'daplease': 7547, 'skye': 7548, 'bookedthe': 7549, 'hut': 7550, 'drastic': 7551, '3750': 7552, 'garment': 7553, 'sez': 7554, 'arab': 7555, 'evry1': 7556, 'eshxxxxxxxxxxx': 7557, 'bimbo': 7558, 'ugos': 7559, '241': 7560, '3lions': 7561, 'portege': 7562, 'm100': 7563, 'semiobscure': 7564, 'gprs': 7565, 'loosu': 7566, 'careless': 7567, 'freaking': 7568, 'myspace': 7569, 'logged': 7570, 'method': 7571, 'jewelry': 7572, 'breaker': 7573, 'deluxe': 7574, 'feature': 7575, 'graphic': 7576, 'bbdeluxe': 7577, 'fumbling': 7578, 'weekday': 7579, 'nail': 7580, 'asia': 7581, 'stil': 7582, 'tobed': 7583, 'pimple': 7584, 'asthma': 7585, 'attack': 7586, 'spin': 7587, 'haiyoh': 7588, 'prsn': 7589, 'somtimes': 7590, 'bcozi': 7591, 'audiitions': 7592, 'relocate': 7593, 'pocked': 7594, 'motivating': 7595, 'sharing': 7596, 'brison': 7597, 'spelled': 7598, 'cap': 7599, 'bullshit': 7600, 'gwr': 7601, 'motherfucker': 7602, '1013': 7603, 'ig11': 7604, 'oja': 7605, '08712402578': 7606, 'thesmszonecom': 7607, 'anonymous': 7608, 'masked': 7609, 'messagesim': 7610, 'theredo': 7611, 'abuse': 7612, 'woodland': 7613, 'avenue': 7614, 'parish': 7615, 'magazine': 7616, 'billy': 7617, 'awww': 7618, 'useless': 7619, 'loo': 7620, 'helloed': 7621, 'swollen': 7622, 'gland': 7623, 'bcaz': 7624, 'stu': 7625, '2im': 7626, 'truble': 7627, 'evone': 7628, 'view': 7629, 'dual': 7630, 'hostile': 7631, 'haircut': 7632, 'breezy': 7633, '1appledayno': 7634, '1tulsi': 7635, 'leafdayno': 7636, '1lemondayno': 7637, '1cup': 7638, 'milkdayno': 7639, 'problms': 7640, 'litre': 7641, 'watrdayno': 7642, 'disease': 7643, 'snd': 7644, 'lavender': 7645, 'manky': 7646, 'scouse': 7647, 'stevelike': 7648, 'travelling': 7649, 'homewot': 7650, 'inmind': 7651, 'recreation': 7652, 'judgementali': 7653, 'hidid': 7654, 'waheeda': 7655, 'bot': 7656, 'deary': 7657, 'eventually': 7658, 'tolerance': 7659, '0789xxxxxxx': 7660, 'hellogorgeous': 7661, 'nitw': 7662, 'texd': 7663, 'hopeu': 7664, '4ward': 7665, 'cin': 7666, 'jaz': 7667, '09058091870': 7668, 'exorcism': 7669, 'emily': 7670, 'evry': 7671, 'emotion': 7672, 'wordsevry': 7673, 'prayrs': 7674, 'uothrwise': 7675, 'uso': 7676, 'ujhhhhhhh': 7677, 'sandiago': 7678, 'parantella': 7679, 'hugging': 7680, 'sweater': 7681, 'mango': 7682, 'involved': 7683, 'now£600': 7684, 'landmark': 7685, 'bob': 7686, 'barry': 7687, '83738': 7688, 'consent': 7689, 'form': 7690, 'tonexs': 7691, 'renewed': 7692, 'wwwclubzedcouk': 7693, 'billing': 7694, 'mathews': 7695, 'tait': 7696, 'anderson': 7697, 'haunt': 7698, 'promoting': 7699, 'crowd': 7700, '8000930705': 7701, 'snowboarding': 7702, 'goa': 7703, 'christmassy': 7704, 'recpt': 7705, 'baaaaaaaabe': 7706, 'ignoring': 7707, 'shola': 7708, 'sagamu': 7709, 'lautech': 7710, 'vital': 7711, 'completes': 7712, 'education': 7713, 'zealand': 7714, 'qet': 7715, 'browser': 7716, 'surf': 7717, 'wellyou': 7718, 'lifeyou': 7719, 'thati': 7720, 'conversation': 7721, 'usget': 7722, 'timeyour': 7723, 'sensesrespect': 7724, 'overemphasiseor': 7725, 'headset': 7726, 'adp': 7727, 'internal': 7728, 'extract': 7729, 'godyou': 7730, 'immed': 7731, 'skint': 7732, 'fancied': 7733, 'bevieswaz': 7734, 'othrs': 7735, 'watchng': 7736, 'planet': 7737, 'earthsofa': 7738, 'comfey': 7739, 'quitting': 7740, 'least5times': 7741, 'wudnt': 7742, 'ìïll': 7743, 'ima': 7744, 'frequently': 7745, 'messageit': 7746, 'cupboard': 7747, 'route': 7748, '2mro': 7749, 'floppy': 7750, 'snappy': 7751, 'grasp': 7752, 'flavour': 7753, 'laready': 7754, 'denying': 7755, 'dom': 7756, 'ffffuuuuuuu': 7757, 'julianaland': 7758, 'oblivious': 7759, 'upsetits': 7760, 'dehydrated': 7761, 'mapquest': 7762, 'dogwood': 7763, 'archive': 7764, 'ukmobiledate': 7765, '08719839835': 7766, 'mg': 7767, '89123': 7768, 'behalf': 7769, 'stunning': 7770, 'visa': 7771, 'gucci': 7772, 'babesozi': 7773, 'culdnt': 7774, 'talkbut': 7775, 'wannatell': 7776, 'wenwecan': 7777, 'smsing': 7778, 'efficient': 7779, '515pm': 7780, 'erutupalam': 7781, 'thandiyachu': 7782, 'invention': 7783, 'flyim': 7784, 'noits': 7785, 'lyric': 7786, 'nevr': 7787, 'unrecognized': 7788, 'somone': 7789, 'valuing': 7790, 'definitly': 7791, 'undrstnd': 7792, 'ger': 7793, 'toking': 7794, 'syd': 7795, 'lehhaha': 7796, 'khelate': 7797, 'kintu': 7798, 'opponenter': 7799, 'dhorte': 7800, 'lage': 7801, 'fried': 7802, 'looovvve': 7803, 'warwick': 7804, 'tmw': 7805, 'canceled': 7806, 'parade': 7807, 'player£400': 7808, 'proze': 7809, 'norcorp': 7810, 'ltdå£150mtmsgrcvd18': 7811, 'posting': 7812, 'chennaibecause': 7813, '7cfca1a': 7814, 'grumble': 7815, 'linear': 7816, 'algebra': 7817, 'decorating': 7818, 'wining': 7819, '946': 7820, 'roomate': 7821, 'graduated': 7822, 'adjustable': 7823, 'cooperative': 7824, 'allows': 7825, 'nottingham': 7826, '63miles': 7827, '40mph': 7828, 'mornin': 7829, 'thanku': 7830, 'guessed': 7831, '89938': 7832, 'string': 7833, 'rec£150ea': 7834, 'otbox': 7835, '731': 7836, 'la1': 7837, '7ws': 7838, 'itxx': 7839, 'beside': 7840, 'brisk': 7841, 'sexiest': 7842, 'dirtiest': 7843, 'steve': 7844, 'tellmiss': 7845, 'contribute': 7846, 'greatly': 7847, 'urgh': 7848, 'coach': 7849, 'duvet': 7850, 'predictive': 7851, 'chatim': 7852, 'w8in': 7853, '4utxt': 7854, 'url': 7855, '24th': 7856, 'beverage': 7857, 'vpist': 7858, 'surrender': 7859, 'symptoms': 7860, 'rdy': 7861, 'itnow': 7862, 'backwards': 7863, 'abstract': 7864, 'vikkyim': 7865, 'africa': 7866, 'avin': 7867, 'chitchat': 7868, 'logon': 7869, '8883': 7870, '4217': 7871, 'w1a': 7872, '6zf': 7873, '118pmsg': 7874, 'quiteamuzing': 7875, 'thatåõscool': 7876, 'won£1000call': 7877, '09071512432': 7878, '300603tcsbcm4235wc1n3xxcallcost150ppmmobilesvary': 7879, 'engagement': 7880, 'fixd': 7881, 'bthmm': 7882, 'njan': 7883, 'vilikkamt': 7884, 'sudn': 7885, 'chapter': 7886, 'chop': 7887, 'noooooooo': 7888, '09065171142stopsms08718727870150ppm': 7889, 'firsg': 7890, 'split': 7891, 'heat': 7892, 'applyed': 7893, 'sumfing': 7894, 'hiphop': 7895, 'oxygen': 7896, 'resort': 7897, 'roller': 7898, 'recorder': 7899, 'canname': 7900, 'australia': 7901, 'mquiz': 7902, '82277': 7903, 'showr': 7904, 'upon': 7905, 'ceiling': 7906, 'presnts': 7907, 'bcz': 7908, 'jeevithathile': 7909, 'irulinae': 7910, 'neekunna': 7911, 'prakasamanu': 7912, 'sneham': 7913, 'prakasam': 7914, 'ennal': 7915, 'mn': 7916, 'islove': 7917, 'blowing': 7918, '7634': 7919, '7684': 7920, 'firmware': 7921, 'vijaykanth': 7922, 'tvhe': 7923, 'anythiing': 7924, 'ripped': 7925, 'wwwclubmobycom': 7926, '08717509990': 7927, 'polytruepixringtonesgames': 7928, 'keypad': 7929, 'btwn': 7930, 'decade': 7931, 'goverment': 7932, 'expects': 7933, 'spice': 7934, 'prasanth': 7935, 'ettans': 7936, '08718738002': 7937, '48922': 7938, '211104': 7939, 'appy': 7940, 'fizz': 7941, 'contains': 7942, 'genus': 7943, 'robinson': 7944, 'nottel': 7945, 'out': 7946, 'soz': 7947, 'imat': 7948, 'msgsometext': 7949, '07099833605': 7950, 'ref9280114': 7951, 'chloe': 7952, '150ptext': 7953, 'wewa': 7954, '130': 7955, 'iriver': 7956, '255': 7957, '128': 7958, 'dajst': 7959, 'hmmmbut': 7960, 'surly': 7961, '07808726822': 7962, '08718729758': 7963, 'mmmmmmm': 7964, 'snuggle': 7965, 'contented': 7966, 'whisper': 7967, 'healthy': 7968, '2bold': 7969, 'givits': 7970, 'kanoanyway': 7971, 'scraped': 7972, 'barrel': 7973, 'misfit': 7974, 'clearer': 7975, 'peach': 7976, 'tasts': 7977, 'rayman': 7978, 'golf': 7979, 'activ8': 7980, 'termsapply': 7981, 'therell': 7982, 'shindig': 7983, 'minstexts': 7984, 'phonebook': 7985, 'keng': 7986, 'rocking': 7987, 'ash': 7988, 'xins': 7989, 'shijutta': 7990, 'kafter': 7991, 'offense': 7992, 'bbdthts': 7993, 'dvg': 7994, 'coldheard': 7995, 'vinobanagar': 7996, 'conditionand': 7997, 'ovulatewhen': 7998, '3wks': 7999, 'woah': 8000, 'realising': 8001, 'all': 8002, 'orh': 8003, 'darlinim': 8004, 'soonxxx': 8005, 'coolmob': 8006, 'frogaxel': 8007, 'akonlonely': 8008, 'eyeddont': 8009, 'cashbincouk': 8010, 'wwwcashbincouk': 8011, 'canteen': 8012, 'stressfull': 8013, 'continued': 8014, 'president': 8015, 'its©': 8016, '140': 8017, 'ardìä': 8018, '180': 8019, 'leastwhich©': 8020, 'bedrm': 8021, 'pleasured': 8022, 'hitechnical': 8023, 'supportproviding': 8024, 'assistance': 8025, '1172': 8026, 'watever': 8027, 'built': 8028, 'lonlines': 8029, 'lotz': 8030, 'gailxx': 8031, 'hii': 8032, 'complacent': 8033, 'mina': 8034, 'miwa': 8035, 'hsbc': 8036, '09066649731from': 8037, 'mth': 8038, 'opposite': 8039, 'heavily': 8040, 'doll': 8041, 'patrick': 8042, 'swayze': 8043, '09077818151': 8044, 'calls150ppm': 8045, '30': 8046, 'wwwsantacallingcom': 8047, 'quarter': 8048, 'nervous': 8049, 'fired': 8050, 'limping': 8051, '0784987': 8052, '08719180219': 8053, '060505': 8054, 'oga': 8055, 'poorly': 8056, 'punishment': 8057, 'brb': 8058, 'predicte': 8059, 'loosing': 8060, 'smaller': 8061, 'capacity': 8062, 'smsshsexnetun': 8063, 'fgkslpopw': 8064, 'fgkslpo': 8065, '0871277810710pmin': 8066, 'defer': 8067, 'admission': 8068, 'checkmate': 8069, 'chess': 8070, 'persian': 8071, 'phrase': 8072, 'shah': 8073, 'maat': 8074, 'rat': 8075, 'theme': 8076, 'pee': 8077, 'photoshop': 8078, 'manageable': 8079, '08715203652': 8080, '42810': 8081, '29100': 8082, 'inshah': 8083, 'ashley': 8084, 'sthis': 8085, 'increase': 8086, 'wifedont': 8087, 'iti': 8088, 'toolets': 8089, 'north': 8090, 'carolina': 8091, 'texas': 8092, 'gre': 8093, 'bomb': 8094, 'breathing': 8095, 'powerful': 8096, 'weapon': 8097, 'lovly': 8098, 'messagethanks': 8099, '150pmsgrcvd': 8100, 'customercare': 8101, 'playi': 8102, 'clas': 8103, 'lit': 8104, 'loooooool': 8105, 'couch': 8106, 'swashbuckling': 8107, '5terror': 8108, '6cruel': 8109, '7romantic': 8110, '8lovable': 8111, '9decent': 8112, 'joker': 8113, 'dip': 8114, 'gek1510': 8115, 'feelin': 8116, 'lyricalladie21f': 8117, 'yes910': 8118, 'no910': 8119, 'wwwsmsacuhmmross': 8120, 'happiest': 8121, 'crisis': 8122, 'whenwhere': 8123, 'antibiotic': 8124, 'abdomen': 8125, 'gynae': 8126, '6times': 8127, 'exposed': 8128, 'chastity': 8129, 'device': 8130, 'beating': 8131, 'us': 8132, 'gut': 8133, 'wrenching': 8134, 'tallahassee': 8135, 'taka': 8136, 'pobox202': 8137, 'nr31': 8138, '7zs': 8139, '450pw': 8140, 'stops': 8141, 'ritten': 8142, 'fold': 8143, '83118': 8144, 'colin': 8145, 'farrell': 8146, 'swat': 8147, 'popcornjust': 8148, 'msgticketkioskvalid': 8149, '4712': 8150, 'kiosk': 8151, 'mre': 8152, 'solihull': 8153, 'nh': 8154, 'mistakeu': 8155, 'bornplease': 8156, 'terminatedwe': 8157, 'inconvenience': 8158, 'yard': 8159, 'bergkamp': 8160, 'margin': 8161, 'itsnot': 8162, 'parentnot': 8163, 'unintentional': 8164, 'nonetheless': 8165, 'hooch': 8166, 'toaday': 8167, 'splat': 8168, 'grazed': 8169, 'confirmdeny': 8170, 'hearin': 8171, 'yah': 8172, 'torture': 8173, 'hopeing': 8174, 'sexychat': 8175, 'startedindia': 8176, 'kkcongratulation': 8177, 'court': 8178, 'chapel': 8179, 'frontierville': 8180, 'deer': 8181, 'maili': 8182, 'mailed': 8183, 'varma': 8184, 'membershiptake': 8185, 'careinsha': 8186, 'secure': 8187, 'farting': 8188, 'ortxt': 8189, 'trained': 8190, 'advisor': 8191, 'dialling': 8192, '402': 8193, 'stuffing': 8194, 'ahhhhjust': 8195, 'uphad': 8196, 'thoso': 8197, 'viveki': 8198, 'dado': 8199, 'dining': 8200, 'experiencehttpwwwvouch4mecometlpdiningasp': 8201, 'kaila': 8202, '09058094507': 8203, 'donate£250': 8204, 'unicef': 8205, 'asian': 8206, 'fund': 8207, 'donate': 8208, '864233£250': 8209, 'ho': 8210, 'collapsed': 8211, 'cumming': 8212, 'jade': 8213, 'paul': 8214, 'barmed': 8215, 'thinkthis': 8216, 'dangerous': 8217, 'goldviking': 8218, '29m': 8219, 'yes762': 8220, 'no762': 8221, 'wwwsmsacugoldviking': 8222, 'rushing': 8223, 'coulda': 8224, 'phony£350': 8225, '1230': 8226, 'okday': 8227, 'hmph': 8228, 'baller': 8229, 'punto': 8230, 'ayo': 8231, 'travelled': 8232, 'awarded£500': 8233, 'vouchers£125': 8234, 'freeentry£100': 8235, 'toyota': 8236, 'camry': 8237, 'olayiwolas': 8238, 'mileage': 8239, 'landing': 8240, 'clover': 8241, 'numberpls': 8242, 'idconvey': 8243, 'achanammarakheshqatar': 8244, 'rencontre': 8245, '08714712412': 8246, 'galsu': 8247, 'nìâte': 8248, 'puppy': 8249, 'noise': 8250, '150pmeg': 8251, '08715203685': 8252, 'code4xx26': 8253, '131004': 8254, 'crossing': 8255, 'deepest': 8256, 'darkest': 8257, '09094646631': 8258, 'inconvenient': 8259, 'vldo': 8260, 'adsense': 8261, 'approved': 8262, 'dudette': 8263, 'perumbavoor': 8264, 'stage': 8265, 'clarify': 8266, 'preponed': 8267, 'natalie': 8268, '20f': 8269, 'yes165': 8270, 'no165': 8271, 'wwwsmsacunatalie2k9': 8272, 'younger': 8273, '08701213186': 8274, 'liver': 8275, 'hmmmstill': 8276, 'opener': 8277, 'watched': 8278, 'loneliness': 8279, 'skyving': 8280, 'onwords': 8281, 'mtnl': 8282, 'mumbai': 8283, '83039': 8284, '62735å£450': 8285, 'accommodationvouchers': 8286, 'mustprovide': 8287, '15541': 8288, 'rajitha': 8289, 'ranju': 8290, 'tscs08714740323': 8291, '1winawk': 8292, 'age16£150perweeksub': 8293, 'either£1000': 8294, 'cash£200': 8295, '09066361921': 8296, 'disagreeable': 8297, 'afterwards': 8298, 'uawakefeellikw': 8299, 'shitjustfound': 8300, 'aletter': 8301, 'thatmum': 8302, 'gotmarried': 8303, '4thnovbehind': 8304, 'ourbacks': 8305, 'fuckinniceselfish': 8306, 'rearrange': 8307, 'dormitory': 8308, 'astronomer': 8309, 'starer': 8310, 'recount': 8311, 'motherinlaw': 8312, 'hitler': 8313, 'eleven': 8314, 'worm': 8315, 'suffering': 8316, 'dysentry': 8317, 'andre': 8318, 'virgil': 8319, 'lorgoin': 8320, 'gokila': 8321, 'shanilrakhesh': 8322, 'herethanksi': 8323, 'exchanged': 8324, 'uncut': 8325, 'stuffleaving': 8326, 'dino': 8327, 'kkthis': 8328, 'kotees': 8329, 'themobhit': 8330, 'panther': 8331, 'sugababes': 8332, 'zebra': 8333, 'animation': 8334, 'badass': 8335, 'hoody': 8336, 'wallpaperall': 8337, 'resent': 8338, 'query': 8339, 'customersqueriesnetvisionukcom': 8340, 'hassling': 8341, 'andres': 8342, 'haughaighgtujhyguj': 8343, 'fassyole': 8344, 'blacko': 8345, 'londn': 8346, '08715205273': 8347, 'vco': 8348, 'humanity': 8349, 'reassurance': 8350, 'aslamalaikkuminsha': 8351, 'tohar': 8352, 'beeen': 8353, 'muht': 8354, 'albi': 8355, 'mufti': 8356, 'mahfuuzmeaning': 8357, '078': 8358, 'not': 8359, 'enufcredeit': 8360, 'tocallshall': 8361, 'ileave': 8362, 'okors': 8363, 'ibored': 8364, 'adding': 8365, 'zero': 8366, 'saving': 8367, 'goigng': 8368, 'perfume': 8369, 'sday': 8370, 'joinedso': 8371, 'grocer': 8372, 'frankie': 8373, 'benny': 8374, 'changing': 8375, 'diaper': 8376, 'owed': 8377, 'unlike': 8378, 'patient': 8379, 'turkey': 8380, 'dawhere': 8381, 'unintentionally': 8382, 'wenever': 8383, 'familymay': 8384, 'stability': 8385, 'tranquility': 8386, 'vibrant': 8387, 'colourful': 8388, 'bawling': 8389, 'failure': 8390, 'failing': 8391, 'velusamy': 8392, 'facility': 8393, 'karnan': 8394, 'bluray': 8395, 'salt': 8396, 'wound': 8397, 'logging': 8398, 'geoenvironmental': 8399, 'implication': 8400, 'gently': 8401, 'fuuuuck': 8402, 'salmon': 8403, 'uploaded': 8404, 'wrkin': 8405, 'ree': 8406, 'compensation': 8407, 'awkward': 8408, 'splash': 8409, 'musta': 8410, 'overdid': 8411, 'wwwtelediscountcouk': 8412, 'hiwhat': 8413, 'foned': 8414, 'chuck': 8415, 'nightswe': 8416, 'port': 8417, 'liaotoo': 8418, 'juswoke': 8419, 'boatin': 8420, 'spinout': 8421, 'remet': 8422, '08715203656': 8423, '42049': 8424, '261004': 8425, 'uworld': 8426, 'qbank': 8427, 'assessment': 8428, 'someonone': 8429, '09064015307': 8430, 'tke': 8431, 'temales': 8432, 'vidnot': 8433, 'finishd': 8434, 'dull': 8435, 'anyones': 8436, 'treadmill': 8437, 'craigslist': 8438, 'absolutely': 8439, 'drmstake': 8440, 'swan': 8441, 'teethif': 8442, 'asapok': 8443, 'hellohow': 8444, 'doingwhat': 8445, '2when': 8446, 'lamp': 8447, 'latebut': 8448, 'kwish': 8449, 'foward': 8450, '09061790126': 8451, 'misundrstud': 8452, '2u2': 8453, 'gene': 8454, 'wwwldewcom1win150ppmx3age16subscription': 8455, 'resuming': 8456, 'reapply': 8457, 'treatin': 8458, 'treacle': 8459, 'mumhas': 8460, 'beendropping': 8461, 'theplace': 8462, 'adress': 8463, 'moneyi': 8464, 'oyster': 8465, 'sashimi': 8466, 'rumbling': 8467, 'marandratha': 8468, 'topic': 8469, 'correctly': 8470, 'sirsalam': 8471, 'alaikkumpride': 8472, 'shopwe': 8473, 'qatarrakhesh': 8474, 'indianpls': 8475, 'numberrespectful': 8476, 'galcan': 8477, 'boyy': 8478, 'galno': 8479, 'heaven': 8480, 'princegn': 8481, 'pisces': 8482, 'aquarius': 8483, '2yrs': 8484, 'steyn': 8485, 'wicket': 8486, 'sterm': 8487, 'resolved': 8488, 'jam': 8489, 'hannaford': 8490, 'wheat': 8491, 'chex': 8492, 'pride': 8493, 'grownup': 8494, 'stuffwhy': 8495, 'jerk': 8496, 'stink': 8497, 'textcomp': 8498, 'follows': 8499, 'subsequent': 8500, 'charged150pmsg2': 8501, '84128custcare': 8502, 'upcharge': 8503, '8hr': 8504, 'guai': 8505, 'astrology': 8506, 'ryans': 8507, 'slacking': 8508, 'officestill': 8509, 'formsdon': 8510, 'mentor': 8511, 'percent': 8512, '09095350301': 8513, 'erotic': 8514, 'ecstacy': 8515, 'dept': 8516, '13404': 8517, '08717507382': 8518, 'datingi': 8519, 'coincidence': 8520, 'sane': 8521, 'helping': 8522, 'leading': 8523, '151': 8524, 'pause': 8525, 'gr8prizes': 8526, '8800': 8527, 'psp£250': 8528, 'wktxt': 8529, 'httpwwwgr8prizescom': 8530, 'spacebucks': 8531, '02070836089': 8532, 'squeezed': 8533, 'meremove': 8534, 'maintaining': 8535, '5iåõm': 8536, 'dreading': 8537, 'thou': 8538, 'forgt': 8539, 'ajith': 8540, 'ooooooh': 8541, 'yoville': 8542, 'asda': 8543, 'officer': 8544, 'respectful': 8545, 'bffs': 8546, 'carly': 8547, 'someonethat': 8548, 'seperated': 8549, 'brolly': 8550, 'franxx': 8551, 'welli': 8552, 'prometazine': 8553, 'syrup': 8554, '5mls': 8555, 'feed': 8556, 'singapore': 8557, 'victoria': 8558, 'pocay': 8559, 'wocay': 8560, '2morrowxxxx': 8561, 'broth': 8562, 'ramen': 8563, 'fowler': 8564, 'ksry': 8565, 'sivatats': 8566, 'flew': 8567, '09058094583': 8568, '1526': 8569, 'pubcafe': 8570, 'attention': 8571, 'tix': 8572, 'biolas': 8573, 'fne': 8574, 'youdoing': 8575, 'worc': 8576, 'foregate': 8577, 'shrub': 8578, 'get4an18th': 8579, '32000': 8580, 'legitimat': 8581, 'efreefone': 8582, 'shopthe': 8583, 'pendent': 8584, 'toilet': 8585, 'stolen': 8586, 'cop': 8587, 'navigate': 8588, 'choosing': 8589, 'require': 8590, 'guidance': 8591, 'chick': 8592, 'boob': 8593, 'revealing': 8594, 'sparkling': 8595, '0121': 8596, '2025050': 8597, 'wwwshortbreaksorguk': 8598, 'gyno': 8599, 'belong': 8600, 'wwwgambtv': 8601, 'treasure': 8602, 'wmlid820554ad0a1705572711firsttrueåác': 8603, 'ringtoneåá': 8604, '09050000332': 8605, 'positive': 8606, 'negative': 8607, 'hmmmm': 8608, 'dhoni': 8609, 'titleso': 8610, 'command': 8611, 'stressful': 8612, 'holby': 8613, '09064017295': 8614, 'lecturer': 8615, 'repeating': 8616, 'yeovil': 8617, 'motor': 8618, 'max': 8619, 'rhode': 8620, 'bong': 8621, 'ofcourse': 8622, '08448350055': 8623, 'planettalkinstantcom': 8624, 'loti': 8625, 'marvel': 8626, 'ultimate': 8627, 'spiderman': 8628, 'game£450': 8629, 'spider': 8630, '83338': 8631, '8ball': 8632, 'tamilnaduthen': 8633, '07808247860': 8634, '08719899229': 8635, '40411': 8636, '061104': 8637, 'apo': 8638, 'identification': 8639, 'boundary': 8640, 'endless': 8641, 'reassuring': 8642, 'lorwe': 8643, 'young': 8644, 'referin': 8645, 'liaoso': 8646, 'saibaba': 8647, 'colany': 8648, 'chic': 8649, 'declare': 8650, '49557': 8651, '261104': 8652, 'disappointment': 8653, 'irritation': 8654, 'tantrum': 8655, 'compliment': 8656, 'adventuring': 8657, 'chief': 8658, 'gsex': 8659, '2667': 8660, 'wc1n': 8661, '3xx': 8662, '3mobile': 8663, 'chatlines': 8664, 'inclu': 8665, 'servs': 8666, 'l8er': 8667, 'bailiff': 8668, 'days£250': 8669, 'want£800': 8670, 'mouse': 8671, 'desk': 8672, 'childporn': 8673, 'jumper': 8674, 'hat': 8675, 'belt': 8676, 'cribbs': 8677, 'spiritual': 8678, 'barring': 8679, 'sudden': 8680, 'influx': 8681, 'kane': 8682, 'shud': 8683, 'pshewmissing': 8684, 'unit': 8685, 'accent': 8686, '4years': 8687, 'dental': 8688, 'nmde': 8689, 'dump': 8690, 'heap': 8691, 'lowes': 8692, 'salesman': 8693, 'the£750': 8694, '087187272008': 8695, 'now1': 8696, 'pity': 8697, 'soany': 8698, 'bitching': 8699}\n"
          ],
          "name": "stdout"
        }
      ]
    },
    {
      "cell_type": "code",
      "metadata": {
        "colab": {
          "base_uri": "https://localhost:8080/"
        },
        "id": "XNx7dh6vuDEF",
        "outputId": "984262e7-1cbe-4e92-e88f-4f48d852b5fe"
      },
      "source": [
        "X_data=encoded\r\n",
        "X_data_2=encoded\r\n",
        "print(max(len(l) for l in X_data))"
      ],
      "execution_count": 17,
      "outputs": [
        {
          "output_type": "stream",
          "text": [
            "80\n"
          ],
          "name": "stdout"
        }
      ]
    },
    {
      "cell_type": "markdown",
      "metadata": {
        "id": "H-koKZUHIquQ"
      },
      "source": [
        "8) 원 핫 인코딩(one-hot-encoding)"
      ]
    },
    {
      "cell_type": "code",
      "metadata": {
        "id": "sT0vhvlxTooS"
      },
      "source": [
        "# for i in range(len(X_data)):\r\n",
        "#   temp=np.zeros(cat_num)\r\n",
        "#   for j in range(len(X_data[i])):\r\n",
        "#     idx=encoded[i][j]\r\n",
        "#     temp[idx]=1\r\n",
        "#   X_data[i]=temp\r\n",
        "# X_data"
      ],
      "execution_count": 18,
      "outputs": []
    },
    {
      "cell_type": "markdown",
      "metadata": {
        "id": "zDrnFeTq3amr"
      },
      "source": [
        "9) 정수 인코딩 값 그대로 사용하고 패딩"
      ]
    },
    {
      "cell_type": "code",
      "metadata": {
        "id": "Km9IgByfuQBy"
      },
      "source": [
        "from tensorflow.keras.preprocessing.sequence import pad_sequences\r\n",
        "max_len=80\r\n",
        "X_data_2=pad_sequences(X_data_2, maxlen=max_len)"
      ],
      "execution_count": 19,
      "outputs": []
    },
    {
      "cell_type": "code",
      "metadata": {
        "id": "KuVmlEa3u68Y"
      },
      "source": [
        "from keras.layers import SimpleRNN, Embedding, Dense, LSTM\r\n",
        "from keras.models import Sequential\r\n",
        "y_data=data['v1']\r\n",
        "X_test = X_data_2[4400:]\r\n",
        "y_test = y_data[4400:]\r\n",
        "X_train = X_data[:4400]\r\n",
        "y_train = y_data[:4400]\r\n",
        "X_train_2=X_data_2[:4400]\r\n",
        "y_train_2=y_data[:4400]"
      ],
      "execution_count": 21,
      "outputs": []
    },
    {
      "cell_type": "markdown",
      "metadata": {
        "id": "OdSbsHTr4kaq"
      },
      "source": [
        "10) RNN 이용 학습-원 핫 인코딩 데이터 사용"
      ]
    },
    {
      "cell_type": "code",
      "metadata": {
        "id": "iWYFC2SVwD-Q"
      },
      "source": [
        "X_train=np.array(X_train) #원 핫 인코딩 당시 list이기 때문에 학습 위해서 array로 변경"
      ],
      "execution_count": null,
      "outputs": []
    },
    {
      "cell_type": "code",
      "metadata": {
        "id": "DOC9wzw2vz-9"
      },
      "source": [
        "# model = Sequential()\r\n",
        "# model.add(Embedding(cat_num, 32))\r\n",
        "# # 임베딩 벡터의 차원은 32\r\n",
        "# model.add(SimpleRNN(32))\r\n",
        "# model.add(Dense(1, activation='sigmoid'))\r\n",
        "# model.compile(optimizer='rmsprop', loss='binary_crossentropy', metrics=['acc'])\r\n",
        "# history = model.fit(X_train, y_train, epochs=4, batch_size=60,\r\n",
        "#                    validation_split=0.2)"
      ],
      "execution_count": null,
      "outputs": []
    },
    {
      "cell_type": "code",
      "metadata": {
        "id": "eGErNBnywq6V"
      },
      "source": [
        "# print(\"\\n 테스트 정확도 : %.4f\" % (model.evaluate(X_test, y_test)[1]))"
      ],
      "execution_count": null,
      "outputs": []
    },
    {
      "cell_type": "markdown",
      "metadata": {
        "id": "a3CJQIov4x1D"
      },
      "source": [
        "11) RNN 이용 학습-정수 인코딩 & 패딩 데이터 사용"
      ]
    },
    {
      "cell_type": "code",
      "metadata": {
        "id": "8B-ldrKE4LUX",
        "outputId": "1d7ae46f-676e-4fde-bfc3-b42e840d4dd6",
        "colab": {
          "base_uri": "https://localhost:8080/"
        }
      },
      "source": [
        "model2 = Sequential()\r\n",
        "model2.add(Embedding(cat_num, 32))\r\n",
        "# 임베딩 벡터의 차원은 32\r\n",
        "model2.add(SimpleRNN(32))\r\n",
        "model2.add(Dense(1, activation='sigmoid'))\r\n",
        "model2.compile(optimizer='rmsprop', loss='binary_crossentropy', metrics=['acc'])\r\n",
        "history = model2.fit(X_train_2, y_train_2, epochs=4, batch_size=60,\r\n",
        "                   validation_split=0.2)"
      ],
      "execution_count": 22,
      "outputs": [
        {
          "output_type": "stream",
          "text": [
            "Epoch 1/4\n",
            "59/59 [==============================] - 5s 67ms/step - loss: 0.4515 - acc: 0.7887 - val_loss: 0.1857 - val_acc: 0.9375\n",
            "Epoch 2/4\n",
            "59/59 [==============================] - 4s 63ms/step - loss: 0.1269 - acc: 0.9696 - val_loss: 0.1005 - val_acc: 0.9739\n",
            "Epoch 3/4\n",
            "59/59 [==============================] - 4s 65ms/step - loss: 0.0590 - acc: 0.9861 - val_loss: 0.0715 - val_acc: 0.9739\n",
            "Epoch 4/4\n",
            "59/59 [==============================] - 4s 62ms/step - loss: 0.0583 - acc: 0.9850 - val_loss: 0.0718 - val_acc: 0.9795\n"
          ],
          "name": "stdout"
        }
      ]
    },
    {
      "cell_type": "code",
      "metadata": {
        "id": "s5c8F2ca4R44",
        "outputId": "a277e947-ee31-44fd-df16-3c6627542f2b",
        "colab": {
          "base_uri": "https://localhost:8080/"
        }
      },
      "source": [
        "print(\"\\n 테스트 정확도 : %.4f\" % (model2.evaluate(X_test, y_test)[1]))"
      ],
      "execution_count": 23,
      "outputs": [
        {
          "output_type": "stream",
          "text": [
            "37/37 [==============================] - 0s 7ms/step - loss: 0.0666 - acc: 0.9838\n",
            "\n",
            " 테스트 정확도 : 0.9838\n"
          ],
          "name": "stdout"
        }
      ]
    },
    {
      "cell_type": "markdown",
      "metadata": {
        "id": "3kON4fEkiVVE"
      },
      "source": [
        "12) 랜덤 포레스트 이용 학습"
      ]
    },
    {
      "cell_type": "code",
      "metadata": {
        "id": "-bTY6c0KiXXA"
      },
      "source": [
        "from sklearn.ensemble import RandomForestClassifier\r\n",
        "clf=RandomForestClassifier(n_estimators=100)\r\n",
        "clf.fit(X_train_2, y_train_2)"
      ],
      "execution_count": null,
      "outputs": []
    },
    {
      "cell_type": "markdown",
      "metadata": {
        "id": "hxQZJin-4YpV"
      },
      "source": [
        "원 핫 인코딩 하기 보단 정수 인코딩 후 패딩만 해줘도 학습 가능<br>\r\n",
        "->단어들을 정수로 인코딩 시켜주기만 하면 된다<br>\r\n",
        "->원 핫 인코딩의 경우 문장이 많으면 데이터가 너무 많아 학습 시간도 상당히 오래 걸림<br>\r\n",
        "->원 핫 인코딩 방법 다시 점검 및 수정 필요"
      ]
    }
  ]
}