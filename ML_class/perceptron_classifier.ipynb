{
 "cells": [
  {
   "cell_type": "markdown",
   "id": "naval-growing",
   "metadata": {},
   "source": [
    "# 연습문제\n",
    "\n",
    "\n",
    "## numpy\n",
    "\n",
    "python에서 array등을 다루는 수학/과학 컴퓨팅을 하기 위한 패키지\n",
    "\n",
    "## matplotlib\n",
    "\n",
    "python에서 matlab과 유사한 그래프 표시를 가능하게 하는 패키지"
   ]
  },
  {
   "cell_type": "code",
   "execution_count": 1,
   "id": "unknown-shell",
   "metadata": {},
   "outputs": [
    {
     "name": "stdout",
     "output_type": "stream",
     "text": [
      "Requirement already satisfied: numpy in c:\\users\\ko woo jun\\appdata\\local\\programs\\python\\python38\\lib\\site-packages (1.20.1)\n",
      "Requirement already satisfied: matplotlib in c:\\users\\ko woo jun\\appdata\\local\\programs\\python\\python38\\lib\\site-packages (3.4.0)\n",
      "Requirement already satisfied: pillow>=6.2.0 in c:\\users\\ko woo jun\\appdata\\local\\programs\\python\\python38\\lib\\site-packages (from matplotlib) (8.1.0)\n",
      "Requirement already satisfied: cycler>=0.10 in c:\\users\\ko woo jun\\appdata\\local\\programs\\python\\python38\\lib\\site-packages (from matplotlib) (0.10.0)\n",
      "Requirement already satisfied: kiwisolver>=1.0.1 in c:\\users\\ko woo jun\\appdata\\local\\programs\\python\\python38\\lib\\site-packages (from matplotlib) (1.3.1)\n",
      "Requirement already satisfied: pyparsing>=2.2.1 in c:\\users\\ko woo jun\\appdata\\local\\programs\\python\\python38\\lib\\site-packages (from matplotlib) (2.4.7)\n",
      "Requirement already satisfied: python-dateutil>=2.7 in c:\\users\\ko woo jun\\appdata\\local\\programs\\python\\python38\\lib\\site-packages (from matplotlib) (2.8.1)\n",
      "Requirement already satisfied: numpy>=1.16 in c:\\users\\ko woo jun\\appdata\\local\\programs\\python\\python38\\lib\\site-packages (from matplotlib) (1.20.1)\n",
      "Requirement already satisfied: six in c:\\users\\ko woo jun\\appdata\\local\\programs\\python\\python38\\lib\\site-packages (from cycler>=0.10->matplotlib) (1.15.0)\n"
     ]
    }
   ],
   "source": [
    "# Cell 클릭 후 Shift+Enter로 실행 (Comment는 #으로 시작)\n",
    "\n",
    "# Install necessary packages\n",
    "!pip install numpy\n",
    "!pip install matplotlib"
   ]
  },
  {
   "cell_type": "markdown",
   "id": "supposed-partnership",
   "metadata": {},
   "source": [
    "## numpy\n",
    "(본 cell은 markdown 형식으로, 더블클릭/Enter로 들어가고 Shift+Enter로 나갈 수 있다. 주석 용으로 사용.)  \n",
    "\n",
    "python에서 과학 컴퓨팅을 하기 위해 사용하는 패키지로 python 라이브러리로 Import 하여 사용."
   ]
  },
  {
   "cell_type": "code",
   "execution_count": 2,
   "id": "sticky-shower",
   "metadata": {},
   "outputs": [],
   "source": [
    "# 패키지 사용을 위한 약자 지정\n",
    "\n",
    "import numpy as np\n",
    "import matplotlib.pyplot as plt\n",
    "\n",
    "%matplotlib inline"
   ]
  },
  {
   "cell_type": "markdown",
   "id": "motivated-blocking",
   "metadata": {},
   "source": [
    "# Lab_1: Perceptron\n",
    "---\n",
    "Perceptron 알고리즘 구현하기\n",
    "아래 이름, 학번을 작성하세요."
   ]
  },
  {
   "cell_type": "code",
   "execution_count": 3,
   "id": "improving-reunion",
   "metadata": {},
   "outputs": [],
   "source": [
    "lab1_student_id = '20151519'\n",
    "lab1_student_name = '고우준'"
   ]
  },
  {
   "cell_type": "markdown",
   "id": "aggressive-grade",
   "metadata": {},
   "source": [
    "## Practice 1\n",
    "\n",
    "아래의 train_perceptron 알고리즘을 구현하시오."
   ]
  },
  {
   "cell_type": "markdown",
   "id": "proper-creativity",
   "metadata": {},
   "source": [
    "```np.random.seed``` \n",
    "\n",
    "random number(난수) 발생을 위한 조건 설정. 괄호 안의 숫자에 따라 난수 생성 방식이 다르게 고정됨\n",
    "\n",
    "(https://docs.scipy.org/doc/numpy-1.15.0/reference/generated/numpy.random.seed.html)\n",
    "\n"
   ]
  },
  {
   "cell_type": "code",
   "execution_count": 4,
   "id": "improving-insurance",
   "metadata": {},
   "outputs": [],
   "source": [
    "# Do not change\n",
    "np.random.seed(5)"
   ]
  },
  {
   "cell_type": "markdown",
   "id": "indie-letter",
   "metadata": {},
   "source": [
    "```np.random.multivariate_normal```\n",
    "\n",
    "multivariate normal distribution 으로부터 random sample 을 추출\n",
    "\n",
    "https://numpy.org/doc/stable/reference/random/generated/numpy.random.multivariate_normal.html"
   ]
  },
  {
   "cell_type": "code",
   "execution_count": 5,
   "id": "false-substance",
   "metadata": {},
   "outputs": [
    {
     "name": "stdout",
     "output_type": "stream",
     "text": [
      "class_zeros: \n",
      "[[-3.83362070e-01 -4.87992399e-01]\n",
      " [-2.36033497e+00 -2.44005350e+00]\n",
      " [-3.58443281e-01  1.41981188e-01]\n",
      " [ 9.91341033e-01  8.04249095e-01]\n",
      " [-1.33086323e-01 -2.37400363e-01]\n",
      " [ 1.21015451e+00  1.14536687e+00]\n",
      " [ 2.58897957e-01  4.49732434e-01]\n",
      " [ 1.75455499e+00  1.53313893e+00]\n",
      " [-1.43057734e+00 -8.43237710e-01]\n",
      " [ 1.39021091e+00  1.59412960e+00]\n",
      " [ 1.10375308e+00  8.32792324e-01]\n",
      " [ 9.27716082e-01  7.94107344e-01]\n",
      " [-1.09654919e+00 -8.71261800e-01]\n",
      " [-9.55767122e-04 -1.15844755e-01]\n",
      " [ 1.35016013e-02 -1.99965457e-02]\n",
      " [-6.83217166e-01 -8.82937652e-01]\n",
      " [ 2.20971746e-02 -9.86321054e-03]\n",
      " [ 1.22453888e-02  9.10549322e-02]\n",
      " [-4.06231793e-01  1.58843897e-02]\n",
      " [-1.61117147e-01  3.32682722e-01]] \n",
      "class_ones: \n",
      "[[ 1.42499215  5.16332788]\n",
      " [ 0.80577228  5.00045395]\n",
      " [ 0.38687635  5.09451383]\n",
      " [-0.23119307  4.03962309]\n",
      " [ 1.35103223  5.29592348]\n",
      " [-0.41995562  3.70123025]\n",
      " [ 2.44950645  6.07181602]\n",
      " [ 1.23989017  5.87097871]\n",
      " [ 0.48411129  5.72202275]\n",
      " [ 0.33430386  4.40266337]\n",
      " [ 1.15280434  5.68528888]\n",
      " [ 1.45720407  5.00581306]\n",
      " [ 0.45009344  4.45708146]\n",
      " [-0.12344763  3.83624365]\n",
      " [ 3.53418292  7.96653671]\n",
      " [ 2.38454763  7.22735908]\n",
      " [-0.63478515  3.13132013]\n",
      " [ 2.50277891  5.73756995]\n",
      " [ 0.21606     4.10535532]\n",
      " [ 1.64214739  5.50882093]]\n"
     ]
    }
   ],
   "source": [
    "num_data = 20\n",
    "\n",
    "# feature dataset\n",
    "\n",
    "class_zeros = np.random.multivariate_normal(mean=[0, 0], cov=[[1., .95],[.95, 1.]], size=num_data)\n",
    "class_ones = np.random.multivariate_normal(mean=[1, 5], cov=[[1., .85],[.85, 1.]], size=num_data)\n",
    "\n",
    "print(f'class_zeros: \\n{class_zeros} \\nclass_ones: \\n{class_ones}')"
   ]
  },
  {
   "cell_type": "markdown",
   "id": "diagnostic-antarctica",
   "metadata": {},
   "source": [
    "```np.vstack, np.hstack```\n",
    "\n",
    "배열을 각각 vertically, horizontally stacking 함\n",
    "\n",
    "\n",
    "https://numpy.org/doc/stable/reference/generated/numpy.vstack.html?highlight=vstack#numpy.vstack\n",
    "\n",
    "https://numpy.org/doc/stable/reference/generated/numpy.hstack.html?highlight=hstack#numpy.hstack"
   ]
  },
  {
   "cell_type": "code",
   "execution_count": 6,
   "id": "crucial-board",
   "metadata": {},
   "outputs": [
    {
     "name": "stdout",
     "output_type": "stream",
     "text": [
      "biases: \n",
      "[[1.]\n",
      " [1.]\n",
      " [1.]\n",
      " [1.]\n",
      " [1.]\n",
      " [1.]\n",
      " [1.]\n",
      " [1.]\n",
      " [1.]\n",
      " [1.]\n",
      " [1.]\n",
      " [1.]\n",
      " [1.]\n",
      " [1.]\n",
      " [1.]\n",
      " [1.]\n",
      " [1.]\n",
      " [1.]\n",
      " [1.]\n",
      " [1.]\n",
      " [1.]\n",
      " [1.]\n",
      " [1.]\n",
      " [1.]\n",
      " [1.]\n",
      " [1.]\n",
      " [1.]\n",
      " [1.]\n",
      " [1.]\n",
      " [1.]\n",
      " [1.]\n",
      " [1.]\n",
      " [1.]\n",
      " [1.]\n",
      " [1.]\n",
      " [1.]\n",
      " [1.]\n",
      " [1.]\n",
      " [1.]\n",
      " [1.]] \n",
      "class_data: \n",
      "[[-3.8336208e-01 -4.8799241e-01]\n",
      " [-2.3603349e+00 -2.4400535e+00]\n",
      " [-3.5844329e-01  1.4198118e-01]\n",
      " [ 9.9134105e-01  8.0424911e-01]\n",
      " [-1.3308632e-01 -2.3740037e-01]\n",
      " [ 1.2101545e+00  1.1453669e+00]\n",
      " [ 2.5889796e-01  4.4973242e-01]\n",
      " [ 1.7545550e+00  1.5331390e+00]\n",
      " [-1.4305774e+00 -8.4323770e-01]\n",
      " [ 1.3902109e+00  1.5941296e+00]\n",
      " [ 1.1037531e+00  8.3279234e-01]\n",
      " [ 9.2771608e-01  7.9410732e-01]\n",
      " [-1.0965492e+00 -8.7126178e-01]\n",
      " [-9.5576711e-04 -1.1584476e-01]\n",
      " [ 1.3501601e-02 -1.9996546e-02]\n",
      " [-6.8321717e-01 -8.8293767e-01]\n",
      " [ 2.2097174e-02 -9.8632108e-03]\n",
      " [ 1.2245389e-02  9.1054931e-02]\n",
      " [-4.0623179e-01  1.5884390e-02]\n",
      " [-1.6111715e-01  3.3268273e-01]\n",
      " [ 1.4249922e+00  5.1633277e+00]\n",
      " [ 8.0577230e-01  5.0004539e+00]\n",
      " [ 3.8687634e-01  5.0945139e+00]\n",
      " [-2.3119307e-01  4.0396233e+00]\n",
      " [ 1.3510323e+00  5.2959237e+00]\n",
      " [-4.1995561e-01  3.7012303e+00]\n",
      " [ 2.4495065e+00  6.0718160e+00]\n",
      " [ 1.2398902e+00  5.8709788e+00]\n",
      " [ 4.8411128e-01  5.7220225e+00]\n",
      " [ 3.3430386e-01  4.4026632e+00]\n",
      " [ 1.1528044e+00  5.6852889e+00]\n",
      " [ 1.4572041e+00  5.0058131e+00]\n",
      " [ 4.5009345e-01  4.4570813e+00]\n",
      " [-1.2344763e-01  3.8362436e+00]\n",
      " [ 3.5341830e+00  7.9665365e+00]\n",
      " [ 2.3845477e+00  7.2273593e+00]\n",
      " [-6.3478518e-01  3.1313202e+00]\n",
      " [ 2.5027790e+00  5.7375698e+00]\n",
      " [ 2.1606000e-01  4.1053553e+00]\n",
      " [ 1.6421474e+00  5.5088210e+00]] \n",
      "features: \n",
      "[[ 1.00000000e+00 -3.83362085e-01 -4.87992406e-01]\n",
      " [ 1.00000000e+00 -2.36033487e+00 -2.44005346e+00]\n",
      " [ 1.00000000e+00 -3.58443290e-01  1.41981184e-01]\n",
      " [ 1.00000000e+00  9.91341054e-01  8.04249108e-01]\n",
      " [ 1.00000000e+00 -1.33086324e-01 -2.37400368e-01]\n",
      " [ 1.00000000e+00  1.21015453e+00  1.14536691e+00]\n",
      " [ 1.00000000e+00  2.58897960e-01  4.49732423e-01]\n",
      " [ 1.00000000e+00  1.75455499e+00  1.53313899e+00]\n",
      " [ 1.00000000e+00 -1.43057740e+00 -8.43237698e-01]\n",
      " [ 1.00000000e+00  1.39021087e+00  1.59412956e+00]\n",
      " [ 1.00000000e+00  1.10375309e+00  8.32792342e-01]\n",
      " [ 1.00000000e+00  9.27716076e-01  7.94107318e-01]\n",
      " [ 1.00000000e+00 -1.09654915e+00 -8.71261775e-01]\n",
      " [ 1.00000000e+00 -9.55767115e-04 -1.15844756e-01]\n",
      " [ 1.00000000e+00  1.35016013e-02 -1.99965462e-02]\n",
      " [ 1.00000000e+00 -6.83217168e-01 -8.82937670e-01]\n",
      " [ 1.00000000e+00  2.20971741e-02 -9.86321084e-03]\n",
      " [ 1.00000000e+00  1.22453887e-02  9.10549313e-02]\n",
      " [ 1.00000000e+00 -4.06231791e-01  1.58843901e-02]\n",
      " [ 1.00000000e+00 -1.61117151e-01  3.32682729e-01]\n",
      " [ 1.00000000e+00  1.42499220e+00  5.16332769e+00]\n",
      " [ 1.00000000e+00  8.05772305e-01  5.00045395e+00]\n",
      " [ 1.00000000e+00  3.86876345e-01  5.09451389e+00]\n",
      " [ 1.00000000e+00 -2.31193066e-01  4.03962326e+00]\n",
      " [ 1.00000000e+00  1.35103226e+00  5.29592371e+00]\n",
      " [ 1.00000000e+00 -4.19955611e-01  3.70123029e+00]\n",
      " [ 1.00000000e+00  2.44950652e+00  6.07181597e+00]\n",
      " [ 1.00000000e+00  1.23989022e+00  5.87097883e+00]\n",
      " [ 1.00000000e+00  4.84111279e-01  5.72202253e+00]\n",
      " [ 1.00000000e+00  3.34303856e-01  4.40266323e+00]\n",
      " [ 1.00000000e+00  1.15280437e+00  5.68528891e+00]\n",
      " [ 1.00000000e+00  1.45720410e+00  5.00581312e+00]\n",
      " [ 1.00000000e+00  4.50093448e-01  4.45708132e+00]\n",
      " [ 1.00000000e+00 -1.23447627e-01  3.83624363e+00]\n",
      " [ 1.00000000e+00  3.53418303e+00  7.96653652e+00]\n",
      " [ 1.00000000e+00  2.38454771e+00  7.22735929e+00]\n",
      " [ 1.00000000e+00 -6.34785175e-01  3.13132024e+00]\n",
      " [ 1.00000000e+00  2.50277901e+00  5.73756981e+00]\n",
      " [ 1.00000000e+00  2.16059998e-01  4.10535526e+00]\n",
      " [ 1.00000000e+00  1.64214742e+00  5.50882101e+00]]\n",
      "biases.shape: \n",
      "(40, 1) \n",
      "class_data.shape: \n",
      "(40, 2) \n",
      "features.shape: \n",
      "(40, 3)\n"
     ]
    }
   ],
   "source": [
    "biases = np.ones((2 * num_data, 1))\n",
    "\n",
    "class_data = np.vstack((class_zeros, class_ones)).astype(np.float32)\n",
    "\n",
    "features = np.hstack((biases, class_data))\n",
    "\n",
    "print(f'biases: \\n{biases} \\nclass_data: \\n{class_data} \\nfeatures: \\n{features}')\n",
    "print(f'biases.shape: \\n{biases.shape} \\nclass_data.shape: \\n{class_data.shape} \\\n",
    "\\nfeatures.shape: \\n{features.shape}')"
   ]
  },
  {
   "cell_type": "code",
   "execution_count": 7,
   "id": "adapted-element",
   "metadata": {},
   "outputs": [
    {
     "name": "stdout",
     "output_type": "stream",
     "text": [
      "labels: \n",
      "[[0.]\n",
      " [0.]\n",
      " [0.]\n",
      " [0.]\n",
      " [0.]\n",
      " [0.]\n",
      " [0.]\n",
      " [0.]\n",
      " [0.]\n",
      " [0.]\n",
      " [0.]\n",
      " [0.]\n",
      " [0.]\n",
      " [0.]\n",
      " [0.]\n",
      " [0.]\n",
      " [0.]\n",
      " [0.]\n",
      " [0.]\n",
      " [0.]\n",
      " [1.]\n",
      " [1.]\n",
      " [1.]\n",
      " [1.]\n",
      " [1.]\n",
      " [1.]\n",
      " [1.]\n",
      " [1.]\n",
      " [1.]\n",
      " [1.]\n",
      " [1.]\n",
      " [1.]\n",
      " [1.]\n",
      " [1.]\n",
      " [1.]\n",
      " [1.]\n",
      " [1.]\n",
      " [1.]\n",
      " [1.]\n",
      " [1.]] \n",
      "dataset: \n",
      "[[ 1.00000000e+00 -3.83362085e-01 -4.87992406e-01  0.00000000e+00]\n",
      " [ 1.00000000e+00 -2.36033487e+00 -2.44005346e+00  0.00000000e+00]\n",
      " [ 1.00000000e+00 -3.58443290e-01  1.41981184e-01  0.00000000e+00]\n",
      " [ 1.00000000e+00  9.91341054e-01  8.04249108e-01  0.00000000e+00]\n",
      " [ 1.00000000e+00 -1.33086324e-01 -2.37400368e-01  0.00000000e+00]\n",
      " [ 1.00000000e+00  1.21015453e+00  1.14536691e+00  0.00000000e+00]\n",
      " [ 1.00000000e+00  2.58897960e-01  4.49732423e-01  0.00000000e+00]\n",
      " [ 1.00000000e+00  1.75455499e+00  1.53313899e+00  0.00000000e+00]\n",
      " [ 1.00000000e+00 -1.43057740e+00 -8.43237698e-01  0.00000000e+00]\n",
      " [ 1.00000000e+00  1.39021087e+00  1.59412956e+00  0.00000000e+00]\n",
      " [ 1.00000000e+00  1.10375309e+00  8.32792342e-01  0.00000000e+00]\n",
      " [ 1.00000000e+00  9.27716076e-01  7.94107318e-01  0.00000000e+00]\n",
      " [ 1.00000000e+00 -1.09654915e+00 -8.71261775e-01  0.00000000e+00]\n",
      " [ 1.00000000e+00 -9.55767115e-04 -1.15844756e-01  0.00000000e+00]\n",
      " [ 1.00000000e+00  1.35016013e-02 -1.99965462e-02  0.00000000e+00]\n",
      " [ 1.00000000e+00 -6.83217168e-01 -8.82937670e-01  0.00000000e+00]\n",
      " [ 1.00000000e+00  2.20971741e-02 -9.86321084e-03  0.00000000e+00]\n",
      " [ 1.00000000e+00  1.22453887e-02  9.10549313e-02  0.00000000e+00]\n",
      " [ 1.00000000e+00 -4.06231791e-01  1.58843901e-02  0.00000000e+00]\n",
      " [ 1.00000000e+00 -1.61117151e-01  3.32682729e-01  0.00000000e+00]\n",
      " [ 1.00000000e+00  1.42499220e+00  5.16332769e+00  1.00000000e+00]\n",
      " [ 1.00000000e+00  8.05772305e-01  5.00045395e+00  1.00000000e+00]\n",
      " [ 1.00000000e+00  3.86876345e-01  5.09451389e+00  1.00000000e+00]\n",
      " [ 1.00000000e+00 -2.31193066e-01  4.03962326e+00  1.00000000e+00]\n",
      " [ 1.00000000e+00  1.35103226e+00  5.29592371e+00  1.00000000e+00]\n",
      " [ 1.00000000e+00 -4.19955611e-01  3.70123029e+00  1.00000000e+00]\n",
      " [ 1.00000000e+00  2.44950652e+00  6.07181597e+00  1.00000000e+00]\n",
      " [ 1.00000000e+00  1.23989022e+00  5.87097883e+00  1.00000000e+00]\n",
      " [ 1.00000000e+00  4.84111279e-01  5.72202253e+00  1.00000000e+00]\n",
      " [ 1.00000000e+00  3.34303856e-01  4.40266323e+00  1.00000000e+00]\n",
      " [ 1.00000000e+00  1.15280437e+00  5.68528891e+00  1.00000000e+00]\n",
      " [ 1.00000000e+00  1.45720410e+00  5.00581312e+00  1.00000000e+00]\n",
      " [ 1.00000000e+00  4.50093448e-01  4.45708132e+00  1.00000000e+00]\n",
      " [ 1.00000000e+00 -1.23447627e-01  3.83624363e+00  1.00000000e+00]\n",
      " [ 1.00000000e+00  3.53418303e+00  7.96653652e+00  1.00000000e+00]\n",
      " [ 1.00000000e+00  2.38454771e+00  7.22735929e+00  1.00000000e+00]\n",
      " [ 1.00000000e+00 -6.34785175e-01  3.13132024e+00  1.00000000e+00]\n",
      " [ 1.00000000e+00  2.50277901e+00  5.73756981e+00  1.00000000e+00]\n",
      " [ 1.00000000e+00  2.16059998e-01  4.10535526e+00  1.00000000e+00]\n",
      " [ 1.00000000e+00  1.64214742e+00  5.50882101e+00  1.00000000e+00]]\n"
     ]
    }
   ],
   "source": [
    "# Label dataset\n",
    "\n",
    "label_zeros = np.zeros((num_data, 1))\n",
    "label_ones = np.ones((num_data, 1))\n",
    "\n",
    "labels = np.vstack((label_zeros, label_ones))\n",
    "dataset = np.hstack((features,labels))\n",
    "\n",
    "print(f'labels: \\n{labels} \\ndataset: \\n{dataset}')"
   ]
  },
  {
   "cell_type": "code",
   "execution_count": 8,
   "id": "arbitrary-mechanics",
   "metadata": {},
   "outputs": [
    {
     "data": {
      "image/png": "[encoded data removed]",
      "text/plain": [
       "<Figure size 432x288 with 1 Axes>"
      ]
     },
     "metadata": {
      "needs_background": "light"
     },
     "output_type": "display_data"
    }
   ],
   "source": [
    "plt.scatter(features[:, 1][:num_data], features[:, 2][:num_data], c = 'r', label='0')\n",
    "plt.scatter(features[:, 1][num_data:], features[:, 2][num_data:], c = 'b', label='1')\n",
    "\n",
    "plt.legend()\n",
    "plt.show()"
   ]
  },
  {
   "cell_type": "code",
   "execution_count": 9,
   "id": "adult-testimony",
   "metadata": {},
   "outputs": [
    {
     "name": "stdout",
     "output_type": "stream",
     "text": [
      "(28, 4) (12, 4)\n"
     ]
    }
   ],
   "source": [
    "# dataset shuffling\n",
    "np.random.shuffle(dataset)\n",
    "\n",
    "split_ratio = 0.7\n",
    "\n",
    "# splitting dataset\n",
    "train = dataset[0:int(split_ratio * (num_data * 2))]\n",
    "test = dataset[int(split_ratio * (num_data * 2)):(num_data * 2)]\n",
    "\n",
    "print(train.shape, test.shape)"
   ]
  },
  {
   "cell_type": "code",
   "execution_count": 10,
   "id": "packed-batch",
   "metadata": {},
   "outputs": [
    {
     "name": "stdout",
     "output_type": "stream",
     "text": [
      "(28, 3) (28,)\n",
      "(12, 3) (12,)\n"
     ]
    }
   ],
   "source": [
    "# reshaping data\n",
    "x_train = train[:, 0:3]\n",
    "y_train = train[:, 3]\n",
    "\n",
    "x_test = test[:, 0:3]\n",
    "y_test = test[:, 3]\n",
    "\n",
    "print(x_train.shape, y_train.shape)\n",
    "print(x_test.shape, y_test.shape)"
   ]
  },
  {
   "cell_type": "code",
   "execution_count": 11,
   "id": "domestic-conservative",
   "metadata": {},
   "outputs": [
    {
     "name": "stdout",
     "output_type": "stream",
     "text": [
      "[ 1.         -0.12344763  3.83624363]\n",
      "1.0\n"
     ]
    }
   ],
   "source": [
    "print(x_train[0])\n",
    "print(y_train[0])"
   ]
  },
  {
   "cell_type": "code",
   "execution_count": 12,
   "id": "suspected-yacht",
   "metadata": {},
   "outputs": [],
   "source": [
    "# Todo: practice 1\n",
    "def train_perceptron(w, x, y, epoch=30):#w는 weight, x는 x_train, y는 y_train으로 label 값\n",
    "    for i in range(epoch):#epoch는 한번 모든 x_train에 대해서 Error 여부를 확인하는 training step\n",
    "        idx=0#y_train을 위한 index parameter\n",
    "        misclassified_sum=np.zeros(len(x[0]))#misclassified된 데이터에 대해서 xy값을 저장하기 위한 parameter\n",
    "        for sample in x:#sample은 각각의 x 데이터\n",
    "            if y[idx]==0:#y[idx]은 현재 x_train에 대한 label값으로 0의 경우 -1로 간주\n",
    "                wxy=-sample.dot(w.T)#y=-1일때 wxy값을 계산\n",
    "                #y=1 if wx>=0\n",
    "                #y=-1 if wx<0\n",
    "                #합쳐서 wxy>=0이 된다\n",
    "                if wxy<0:#위에서 wxy>=0라고 했는데 wxy<0의 경우 잘못된 경우라서 제대로 분류되지 않은 경우\n",
    "                    misclassified_sum+=(-sample)\n",
    "                    #Error=-misclassified_sum(wxy)인데 이 식을 weight에 대해서 편미분하면 -misclassified_sum(xy)\n",
    "                    #weight를 update할 때 weight=weight-Error의 변화량=weight+misclassified_sum(xy)\n",
    "                    #sample은 x이기 때문에 y=-1인 경우 sample에 -1을 곱해서 xy를 계산한 후 misclassified_sum에 더한다\n",
    "            else:#label값이 1인 경우\n",
    "                wxy=sample.dot(w.T)#y=1일때 wxy값을 계산\n",
    "                if wxy<0:#제대로 분류되지 않은 경우\n",
    "                    misclassified_sum+=sample#y=1인 경우이므로 xy는 그대로 x자체라서 sample을 그대로 misclassified_sum에 더한다\n",
    "            idx+=1#다음 y_train\n",
    "        w+=misclassified_sum\n",
    "        #모든 데이터에 대해서 이번 epoch 때의 misclassified_sum을 구했으면 weight=weight+misclassified_sum(xy) 식을 통해 weight update\n",
    "    \n",
    "    return w"
   ]
  },
  {
   "cell_type": "code",
   "execution_count": 13,
   "id": "peaceful-function",
   "metadata": {},
   "outputs": [],
   "source": [
    "# w 와 x1 을 이용해 x2 값을 구함\n",
    "\n",
    "def x2(x1, w):\n",
    "    w0 = w[0]\n",
    "    w1 = w[1]\n",
    "    w2 = w[2]\n",
    "    x2 = []\n",
    "    for i in range(len(x1 - 1)):\n",
    "        x2_temp = (-w0 -w1 * x1[i]) / w2\n",
    "        x2.append(x2_temp)\n",
    "    return x2\n",
    "\n",
    "# visualizaing decision boundary\n",
    "\n",
    "def show_plt(w, class_data, labels):\n",
    "#   w and class_data are 2-element with no bias, and 3-element with bias\n",
    "    len_w = len(w)\n",
    "    sh_data = class_data.shape\n",
    "    if len_w != sh_data[1]:\n",
    "        print('error: w and data dimension does not match')\n",
    "        return\n",
    "    \n",
    "    if len_w == 3:\n",
    "        class_data = class_data[:,1:]\n",
    "        \n",
    "    min = np.min(class_data[:, 0])\n",
    "    max = np.max(class_data[:, 0])\n",
    "    \n",
    "    x1 = np.linspace(min, max, 100)\n",
    "    x1 = x1.reshape(len(x1),1)\n",
    "    x_2 = np.asarray(x2(x1, w))\n",
    "    \n",
    "    data_zeros = class_data[labels == 0]\n",
    "    data_ones = class_data[labels == 1]\n",
    "    \n",
    "    plt.scatter(data_zeros[:, 0], data_zeros[:, 1], c = 'r', label='0')\n",
    "    plt.scatter(data_ones[:, 0], data_ones[:, 1], c = 'b', label='1')\n",
    "    plt.plot(x1, x_2)\n",
    "\n",
    "    plt.legend()\n",
    "    plt.show()\n",
    "    "
   ]
  },
  {
   "cell_type": "code",
   "execution_count": 14,
   "id": "noble-condition",
   "metadata": {},
   "outputs": [
    {
     "data": {
      "image/png": "[encoded data removed]",
      "text/plain": [
       "<Figure size 432x288 with 1 Axes>"
      ]
     },
     "metadata": {
      "needs_background": "light"
     },
     "output_type": "display_data"
    }
   ],
   "source": [
    "w = np.random.rand(len(x_train[0]))\n",
    "\n",
    "\n",
    "show_plt(w, x_train, y_train)"
   ]
  },
  {
   "cell_type": "code",
   "execution_count": 15,
   "id": "southwest-norman",
   "metadata": {},
   "outputs": [
    {
     "name": "stdout",
     "output_type": "stream",
     "text": [
      "The weights are: [-29.17999874 -18.31183293  38.29983915]\n"
     ]
    }
   ],
   "source": [
    "w = train_perceptron(w, x_train, y_train)\n",
    "\n",
    "print(\"The weights are:\", w)\n",
    "\n",
    "# Do not change\n",
    "lab1_student_answer_w = w"
   ]
  },
  {
   "cell_type": "code",
   "execution_count": 16,
   "id": "applied-reputation",
   "metadata": {},
   "outputs": [
    {
     "data": {
      "image/png": "[encoded data removed]",
      "text/plain": [
       "<Figure size 432x288 with 1 Axes>"
      ]
     },
     "metadata": {
      "needs_background": "light"
     },
     "output_type": "display_data"
    }
   ],
   "source": [
    "show_plt(w, x_train, y_train)"
   ]
  },
  {
   "cell_type": "code",
   "execution_count": 17,
   "id": "strong-louisville",
   "metadata": {},
   "outputs": [
    {
     "data": {
      "image/png": "[encoded data removed]",
      "text/plain": [
       "<Figure size 432x288 with 1 Axes>"
      ]
     },
     "metadata": {
      "needs_background": "light"
     },
     "output_type": "display_data"
    }
   ],
   "source": [
    "show_plt(w, x_test, y_test)"
   ]
  },
  {
   "cell_type": "markdown",
   "id": "heated-retrieval",
   "metadata": {},
   "source": [
    "## Practice 2\n",
    "\n",
    "hyperplane이 구해지는 최소 epoch를 출력할 수 있도록 train_perceptron 코드를 수정하시오."
   ]
  },
  {
   "cell_type": "code",
   "execution_count": 18,
   "id": "harmful-blackjack",
   "metadata": {},
   "outputs": [
    {
     "data": {
      "image/png": "[encoded data removed]",
      "text/plain": [
       "<Figure size 432x288 with 1 Axes>"
      ]
     },
     "metadata": {
      "needs_background": "light"
     },
     "output_type": "display_data"
    }
   ],
   "source": [
    "num_data = 1000\n",
    "\n",
    "class_zeros = np.random.multivariate_normal(mean=[0,0], cov=[[1.,.95],[.95,1.]], size=num_data)\n",
    "class_ones = np.random.multivariate_normal(mean=[1,5], cov=[[1.,.85],[.85,1.]], size=num_data)\n",
    "\n",
    "biases = np.ones((2 * num_data, 1))\n",
    "\n",
    "class_data = np.vstack((class_zeros, class_ones)).astype(np.float32)\n",
    "\n",
    "features = np.hstack((biases, class_data))\n",
    "\n",
    "label_zeros = np.zeros((num_data, 1))\n",
    "label_ones = np.ones((num_data, 1))\n",
    "\n",
    "labels = np.vstack((label_zeros, label_ones))\n",
    "dataset = np.hstack((features,labels))\n",
    "\n",
    "plt.scatter(features[:, 1][:num_data], features[:, 2][:num_data], c = 'r', label='0')\n",
    "plt.scatter(features[:, 1][num_data:], features[:, 2][num_data:], c = 'b', label='1')\n",
    "\n",
    "plt.legend()\n",
    "plt.show()"
   ]
  },
  {
   "cell_type": "code",
   "execution_count": 19,
   "id": "established-regular",
   "metadata": {},
   "outputs": [],
   "source": [
    "np.random.shuffle(dataset)\n",
    "\n",
    "split_ratio = 0.7\n",
    "\n",
    "train = dataset[0:int(split_ratio * (num_data * 2))]\n",
    "test = dataset[int(split_ratio * (num_data * 2)):(num_data * 2)]\n",
    "\n",
    "x_train = train[:, 0:3]\n",
    "y_train = train[:, 3]\n",
    "\n",
    "x_test = test[:, 0:3]\n",
    "y_test = test[:, 3]\n",
    "\n",
    "\n",
    "# Todo: practice 2\n",
    "def train_perceptron(w, x, y, epoch=30):#w는 weight, x는 x_train, y는 y_train으로 label 값\n",
    "    #min_epoch, epoch_update_flag, stopflag 사용 빼고는 practice 1과 같은 코드\n",
    "    min_epoch = epoch#min_epoch는 weight update가 끝나는 최소 epoch\n",
    "    epoch_update_flag=0#weight가 더이상 update 안되고 min_epoch를 이미 구한 상황을 알기 위한 parameter\n",
    "    #epoch_update_flag=0이면 아직 min_epoch 안구해진 상황\n",
    "    #epoch_update_flag=1이면 min_epoch 구해진 상황\n",
    "    for i in range(epoch):\n",
    "        stopflag=1#매번 epoch마다 1로 초기화, 만약 데이터 하나라도 제대로 분류되지 않으면 stopflag는 0\n",
    "        idx=0#y_train을 위한 index parameter\n",
    "        misclassified_sum=np.zeros(len(x[0]))#misclassified된 데이터에 대해서 xy 저장하기 위한 parameter\n",
    "        for sample in x:\n",
    "            if y[idx]==0:#y=-1\n",
    "                wxy=-sample.dot(w.T)\n",
    "                if wxy<0:#제대로 분류되지 않은 데이터\n",
    "                    stopflag=0#만약 제대로 분류되지 않은 데이터가 하나라도 있는 경우 stopflag=0\n",
    "                    misclassified_sum+=(-sample)\n",
    "            else:#y=1\n",
    "                wxy=sample.dot(w.T)\n",
    "                if wxy<0:#제대로 분류되지 않은 데이터\n",
    "                    stopflag=0#만약 제대로 분류되지 않은 데이터가 하나라도 있는 경우 stopflag=0\n",
    "                    misclassified_sum+=sample\n",
    "            idx+=1\n",
    "        w+=misclassified_sum\n",
    "        if stopflag==1 and epoch_update_flag==0:\n",
    "            #stopflag==1이라는 것은 misclassified된 데이터가 없는 경우\n",
    "            #epoch_update_flag==0이라는 것은 아직 min_epoch가 구해지지 않은 상황\n",
    "            #epoch_update_flag의 경우 min_epoch가 구해진 이후 stopflag는 계속 1인데 그럴때마다\n",
    "            #min_epoch가 바뀌는 것을 방지하기 위한 flag\n",
    "            min_epoch=i#현재 epoch 바로 전까지 weight update가 이루어졌기 때문에 min_epoch=i(i는 0부터 시작)\n",
    "            epoch_update_flag=1#min_epoch가 구해졌기 때문에 epoch_update_flag=1\n",
    "    if epoch_update_flag==0:#epoch 30까지 했는데 epoch_update_flag가 0이라는 것은 아직 weight update가 완료되지 않은 상황\n",
    "        tmp_w=w.copy()\n",
    "        #weight는 epoch(30)까지만 update하고 min_epoch는 구하라고 되어 있으므로 \n",
    "        #기존 weight update 안시키기 위해서 tmp_w로 copy하고 tmp_w로 대신 update\n",
    "        while(True):#언제 끝날지 모르기 때문에 while(True) 사용\n",
    "            min_epoch+=1#epoch가 30이 넘어갔기 때문에 update 끝나는 시점이 min_epoch\n",
    "            #이외의 코드는 위의 코드와 동일\n",
    "            stopflag=1\n",
    "            idx=0\n",
    "            misclassified_sum=np.zeros(len(x[0]))\n",
    "            for sample in x:\n",
    "                if y[idx]==0:\n",
    "                    wxy=-sample.dot(tmp_w.T)\n",
    "                    if wxy<0:\n",
    "                        stopflag=0\n",
    "                        misclassified_sum+=(-sample)\n",
    "                else:\n",
    "                    wxy=sample.dot(tmp_w.T)\n",
    "                    if wxy<0:\n",
    "                        stopflag=0\n",
    "                        misclassified_sum+=sample\n",
    "                idx+=1\n",
    "            tmp_w+=misclassified_sum#tmp_w를 update\n",
    "            if stopflag==1 and epoch_update_flag==0:#더이상 update되지 않고 min_epoch 구해진 상황이므로 while문 break\n",
    "                break\n",
    "    return w, min_epoch"
   ]
  },
  {
   "cell_type": "code",
   "execution_count": 20,
   "id": "solid-judge",
   "metadata": {},
   "outputs": [
    {
     "data": {
      "image/png": "[encoded data removed]",
      "text/plain": [
       "<Figure size 432x288 with 1 Axes>"
      ]
     },
     "metadata": {
      "needs_background": "light"
     },
     "output_type": "display_data"
    }
   ],
   "source": [
    "w = np.random.rand(len(x_train[0]))\n",
    "\n",
    "show_plt(w, x_train, y_train)"
   ]
  },
  {
   "cell_type": "code",
   "execution_count": 21,
   "id": "coordinate-bleeding",
   "metadata": {},
   "outputs": [
    {
     "name": "stdout",
     "output_type": "stream",
     "text": [
      "The weights are: [-1571.62826666 -1105.33492813  1474.79667778]\n"
     ]
    },
    {
     "data": {
      "image/png": "[encoded data removed]",
      "text/plain": [
       "<Figure size 432x288 with 1 Axes>"
      ]
     },
     "metadata": {
      "needs_background": "light"
     },
     "output_type": "display_data"
    }
   ],
   "source": [
    "w, min_epoch = train_perceptron(w, x_train, y_train)\n",
    "\n",
    "print(\"The weights are:\", w)\n",
    "\n",
    "# Do not change -->\n",
    "lab1_student_answer_w2 = w\n",
    "lab1_stduent_answer_min_epoch = min_epoch\n",
    "# <--\n",
    "show_plt(w, x_train, y_train)"
   ]
  },
  {
   "cell_type": "code",
   "execution_count": 22,
   "id": "ethical-courage",
   "metadata": {},
   "outputs": [
    {
     "data": {
      "image/png": "[encoded data removed]",
      "text/plain": [
       "<Figure size 432x288 with 1 Axes>"
      ]
     },
     "metadata": {
      "needs_background": "light"
     },
     "output_type": "display_data"
    }
   ],
   "source": [
    "show_plt(w, x_test, y_test)"
   ]
  },
  {
   "cell_type": "markdown",
   "id": "everyday-concern",
   "metadata": {},
   "source": [
    "## Practice 3\n",
    "\n",
    "hyperplane이 구해지는 최소 epoch를 줄일 수 있도록 train_perceptron 코드를 수정하시오."
   ]
  },
  {
   "cell_type": "code",
   "execution_count": 23,
   "id": "herbal-attention",
   "metadata": {},
   "outputs": [],
   "source": [
    "# Todo: practice 3\n",
    "def train_perceptron(w, x, y, epoch=30):#w는 weight, x는 x_train, y는 y_train으로 label 값\n",
    "    #learning_rate 사용 빼고 practice2와 같은 코드\n",
    "    min_epoch = epoch#weight update 끝나는 최소 epoch\n",
    "    epoch_update_flag=0#min_epoch 이미 구한 상황 알기 위한 parameter\n",
    "    learning_rate=0.1\n",
    "    #learning_rate는 학습률로써 초기값은 보통 0에서 1사이의 숫자를 선택\n",
    "    #learning_rate를 weight에 대한 Error 변화율에 곱해서 weight를 update 시킨다\n",
    "    #본 코드에서는 0.1로 설정하여 초기에는 작게 설정\n",
    "    before_pos_cnt=-1#이전 epoch에서 제대로 분류되지 않은 y=1인 데이터의 개수 저장을 위한 parameter\n",
    "    before_neg_cnt=-1#이전 epoch에서 제대로 분류되지 않은 y=-1인 데이터의 개수 저장을 위한 parameter\n",
    "    for i in range(epoch):\n",
    "        stopflag=1\n",
    "        idx=0\n",
    "        pos_cnt=0#현재 epoch에서 제대로 분류되지 않은 y=1인 데이터의 개수 저장 위한 parameter\n",
    "        neg_cnt=0#현재 epoch에서 제대로 분류되지 않은 y=-1인 데이터의 개수 저장 위한 parameter\n",
    "        misclassified_sum=np.zeros(len(x[0]))\n",
    "        for sample in x:\n",
    "            if y[idx]==0:\n",
    "                wxy=-sample.dot(w.T)\n",
    "                if wxy<0:#y=-1일때 제대로 분류되지 않은 경우\n",
    "                    stopflag=0\n",
    "                    misclassified_sum+=(-sample)\n",
    "                    neg_cnt+=1#y=-1일때 제대로 분류되지 않은 경우의 개수를 증가\n",
    "            else:\n",
    "                wxy=sample.dot(w.T)\n",
    "                if wxy<0:#y=1일때 제대로 분류되지 않은 경우\n",
    "                    stopflag=0\n",
    "                    misclassified_sum+=sample\n",
    "                    pos_cnt+=1#y=1일때 제대로 분류되지 않은 경우의 개수를 증가\n",
    "            idx+=1\n",
    "        w+=learning_rate*misclassified_sum\n",
    "        #practice2까지는 w+=misclassified_sum의 코드였지만 여기서는 learning_rate를 곱한 코드로 변경\n",
    "        #learning_rate를 통해서 misclassified_sum, 즉, weight에 대한 Error의 변화율의 속도를 조절\n",
    "        #weight는 decision boundary와 수직 관계로 있는데 이 weight를 이용하여 decision boundary를 조절하는 것이다\n",
    "        #그런데 초기 상태에서는 학습되지 않은 weight를 사용하기 때문에 분류되지 않은 데이터가 많을 수도 있고 \n",
    "        #안좋은 경우 decision boundary의 기울기의 절댓값이 커서 한쪽 class는 하나도 분류가 되지 않는 경우가 발생할 수 있다\n",
    "        #따라서, misclassified_sum의 절댓값이 너무 커져서 weight update가 극단적으로 되는 경우가 발생할 수 있기 때문에\n",
    "        #0과 1사이의 수를 learning_rate로 지정하여 misclassified_sum 값을 조정하여 weight를 update하게 된다.\n",
    "        #이런 점을 이용하여 learning_rate를 misclassified_sum에 곱하는 코드를 작성\n",
    "        if stopflag==1 and epoch_update_flag==0:\n",
    "            min_epoch=i\n",
    "            epoch_update_flag=1\n",
    "        if stopflag==0:\n",
    "            #생성되는 데이터의 형태를 보면 np.random.multivariate_normal를 사용하여 \n",
    "            #y값이 0인 경우 (0,0)을 중심으로 하는 공분산, 1인 경우 (1, 5)를 중심으로 하는 공분산으로 지정되어 있다\n",
    "            #따라서 매번 랜덤하게 생성되는 데이터는 비슷한 형태로 모여있게 된다.\n",
    "            #그렇기 때문에 weight update가 진행되다가 한쪽 class만 완전히 분류가 되는 경우가 발생하게 되는데 \n",
    "            #이런 경우 완전히 분류된 class 쪽으로 기울기를 기울이게 되면 분류가 마무리되는데 이때 learning_rate를 증가시켜서\n",
    "            #학습되는 폭을 증가함으로써 weight update되는 속도를 증가시키게 된다.\n",
    "            #또한, 단순히 한쪽 class만 완전히 분류되는 경우를 넘어서 이전에 분류되지 않은 개수보다 적어지는 경우까지 추가했다.\n",
    "            #또한, 두 class 모두 일부가 분류되지 않은 경우에도 이전보다 분류되지 않은 데이터 수가 적어졌다면 그 방향이 맞다는 전제하에\n",
    "            #learning_rate를 증가시켰다.\n",
    "            #단, learning_rate가 너무 커지게 되면 진동을 하거나 overshooting이 발생할 수 있기 때문에 최대 0.8로 제한한다.\n",
    "            if i!=0:\n",
    "                #before_pos_cnt+before_neg_cnt>pos_cnt+neg_cnt: 이전에 분류되지 않은 개수보다 적어지는 경우\n",
    "                #neg_cnt==0 and before_pos_cnt>pos_cnt: y=-1인 부분은 다 분류되고 y=1부분만 분류되지 않았을 때 이전 분류되지 않은 개수보다 적어지는 경우\n",
    "                #pos_cnt==0 and before_neg_cnt>neg_cnt: y=1인 부분은 다 분류되고 y=-1부분만 분류되지 않았을 때 이전 분류되지 않은 개수보다 적어지는 경우\n",
    "                if (before_pos_cnt+before_neg_cnt>pos_cnt+neg_cnt) or (neg_cnt==0 and before_pos_cnt>pos_cnt) or (pos_cnt==0 and before_neg_cnt>neg_cnt):\n",
    "                    #또한, 매 epoch마다 증가시킬 경우와 2epoch마다 증가시키는 경우를 비교하여 더 성능이 좋은 경우를 채택했다\n",
    "                    if i%2==0:\n",
    "                        learning_rate=learning_rate*2\n",
    "                    if learning_rate>0.8:\n",
    "                        learning_rate=0.8\n",
    "                before_pos_cnt=pos_cnt\n",
    "                before_neg_cnt=neg_cnt\n",
    "    if epoch_update_flag==0:#epoch 30까지 했는데 아직 분류되지 않은 데이터가 남은 경우\n",
    "        #이 코드 역시 practice 2와 learning_rate 사용 여부만 빼고 같음\n",
    "        tmp_w=w.copy()\n",
    "        while(True):\n",
    "            min_epoch+=1\n",
    "            stopflag=1\n",
    "            idx=0\n",
    "            neg_cnt=0\n",
    "            pos_cnt=0\n",
    "            misclassified_sum=np.zeros(len(x[0]))\n",
    "            #이 코드 역시 똑같이 weight를 update하고 learning_rate를 적용하는 코드이기 때문에 위의 코드와 동일\n",
    "            for sample in x:\n",
    "                if y[idx]==0:\n",
    "                    wxy=-sample.dot(tmp_w.T)\n",
    "                    if wxy<0:\n",
    "                        stopflag=0\n",
    "                        misclassified_sum+=(-sample)\n",
    "                else:\n",
    "                    wxy=sample.dot(tmp_w.T)\n",
    "                    if wxy<0:\n",
    "                        stopflag=0\n",
    "                        misclassified_sum+=sample\n",
    "                idx+=1\n",
    "            tmp_w+=learning_rate*misclassified_sum\n",
    "            if stopflag==1 and epoch_update_flag==0:\n",
    "                break\n",
    "            #단, 여기서는 learning_rate의 최댓값을 2로 지정, epoch 30안에 weight update가 완료되지 못했다는 것은\n",
    "            #학습 정도가 작을 수도 있기 때문에 이 경우에는 방향성이 맞다면 learning_rate를 조금 더 크게 설정하여\n",
    "            #학습이 조금 더 빨리 되도록 설정\n",
    "            if stopflag==0:\n",
    "                if (before_pos_cnt+before_neg_cnt>pos_cnt+neg_cnt) or (neg_cnt==0 and before_pos_cnt>pos_cnt) or (pos_cnt==0 and before_neg_cnt>neg_cnt):\n",
    "                    if min_epoch%2==0:\n",
    "                        learning_rate=learning_rate*2\n",
    "                    if learning_rate>2:\n",
    "                        learning_rate=2\n",
    "\n",
    "    return w, min_epoch"
   ]
  },
  {
   "cell_type": "code",
   "execution_count": 24,
   "id": "congressional-nature",
   "metadata": {},
   "outputs": [
    {
     "data": {
      "image/png": "[encoded data removed]",
      "text/plain": [
       "<Figure size 432x288 with 1 Axes>"
      ]
     },
     "metadata": {
      "needs_background": "light"
     },
     "output_type": "display_data"
    }
   ],
   "source": [
    "w = np.random.rand(len(x_train[0]))\n",
    "\n",
    "show_plt(w, x_train, y_train)"
   ]
  },
  {
   "cell_type": "code",
   "execution_count": 25,
   "id": "pressing-sense",
   "metadata": {},
   "outputs": [
    {
     "name": "stdout",
     "output_type": "stream",
     "text": [
      "The weights are: [-182.84346953 -127.51735893  129.01976971]\n"
     ]
    },
    {
     "data": {
      "image/png": "[encoded data removed]",
      "text/plain": [
       "<Figure size 432x288 with 1 Axes>"
      ]
     },
     "metadata": {
      "needs_background": "light"
     },
     "output_type": "display_data"
    }
   ],
   "source": [
    "w, min_epoch = train_perceptron(w, x_train, y_train)\n",
    "\n",
    "print(\"The weights are:\", w)\n",
    "\n",
    "# Do not change -->\n",
    "lab1_student_answer_w3 = w\n",
    "lab1_stduent_answer_min_epoch3 = min_epoch\n",
    "# <--\n",
    "show_plt(w, x_train, y_train)"
   ]
  },
  {
   "cell_type": "code",
   "execution_count": 26,
   "id": "concerned-sport",
   "metadata": {},
   "outputs": [
    {
     "data": {
      "image/png": "[encoded data removed]",
      "text/plain": [
       "<Figure size 432x288 with 1 Axes>"
      ]
     },
     "metadata": {
      "needs_background": "light"
     },
     "output_type": "display_data"
    }
   ],
   "source": [
    "show_plt(w, x_test, y_test)"
   ]
  },
  {
   "cell_type": "markdown",
   "id": "material-amber",
   "metadata": {},
   "source": [
    "수고하셨습니다. \n",
    "\n",
    "조교메일: cvipsj@sogang.ac.kr"
   ]
  },
  {
   "cell_type": "markdown",
   "id": "connected-member",
   "metadata": {},
   "source": [
    "# 정답 확인용\n",
    "\n",
    "수정금지 - 조교"
   ]
  },
  {
   "cell_type": "code",
   "execution_count": 27,
   "id": "mechanical-platinum",
   "metadata": {},
   "outputs": [
    {
     "name": "stdout",
     "output_type": "stream",
     "text": [
      "학번: 20151519\n",
      "이름: 고우준\n"
     ]
    }
   ],
   "source": [
    "print(f'학번: {lab1_student_id}')\n",
    "print(f'이름: {lab1_student_name}')"
   ]
  },
  {
   "cell_type": "code",
   "execution_count": 28,
   "id": "heard-destruction",
   "metadata": {},
   "outputs": [
    {
     "name": "stdout",
     "output_type": "stream",
     "text": [
      "Answer of practice 1: False\n"
     ]
    }
   ],
   "source": [
    "print(f'Answer of practice 1: {abs(sum(lab1_student_answer_w - [-4.179, -2.512, 3.055])) < 0.01}')"
   ]
  },
  {
   "cell_type": "code",
   "execution_count": 29,
   "id": "breathing-optics",
   "metadata": {},
   "outputs": [
    {
     "name": "stdout",
     "output_type": "stream",
     "text": [
      "Answer of practice 2: False\n",
      "Min epochs at practice 2: 22\n"
     ]
    }
   ],
   "source": [
    "print(f'Answer of practice 2: {abs(sum(lab1_student_answer_w2 - [-6.628, -4.476, 5.423])) < 0.01}')\n",
    "print(f'Min epochs at practice 2: {lab1_stduent_answer_min_epoch}')"
   ]
  },
  {
   "cell_type": "code",
   "execution_count": 30,
   "id": "solid-billion",
   "metadata": {},
   "outputs": [
    {
     "name": "stdout",
     "output_type": "stream",
     "text": [
      "Answer of practice 2: [-182.84346953 -127.51735893  129.01976971]\n",
      "Min epochs at practice 2: 6\n"
     ]
    }
   ],
   "source": [
    "print(f'Answer of practice 2: {lab1_student_answer_w3}')\n",
    "print(f'Min epochs at practice 2: {lab1_stduent_answer_min_epoch3}')"
   ]
  }
 ],
 "metadata": {
  "kernelspec": {
   "display_name": "Python 3",
   "language": "python",
   "name": "python3"
  },
  "language_info": {
   "codemirror_mode": {
    "name": "ipython",
    "version": 3
   },
   "file_extension": ".py",
   "mimetype": "text/x-python",
   "name": "python",
   "nbconvert_exporter": "python",
   "pygments_lexer": "ipython3",
   "version": "3.8.7"
  }
 },
 "nbformat": 4,
 "nbformat_minor": 5
}
